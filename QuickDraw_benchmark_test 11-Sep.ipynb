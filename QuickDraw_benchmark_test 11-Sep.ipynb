{
 "cells": [
  {
   "cell_type": "markdown",
   "metadata": {
    "id": "jBHLGA-lKNga"
   },
   "source": [
    "## Setup"
   ]
  },
  {
   "cell_type": "code",
   "execution_count": 1,
   "metadata": {
    "execution": {
     "iopub.execute_input": "2025-09-11T04:00:44.285566Z",
     "iopub.status.busy": "2025-09-11T04:00:44.285306Z",
     "iopub.status.idle": "2025-09-11T04:00:51.590243Z",
     "shell.execute_reply": "2025-09-11T04:00:51.589507Z",
     "shell.execute_reply.started": "2025-09-11T04:00:44.285546Z"
    },
    "id": "SH5wWKyOKrVR"
   },
   "outputs": [],
   "source": [
    "from tqdm.notebook import tqdm # Import tqdm\n",
    "import requests # Added for downloading\n",
    "import urllib.parse # Added for URL encoding category names\n",
    "import torch\n",
    "import torchvision.models as models\n",
    "import torchvision.transforms as T\n",
    "from torch.utils.data import Dataset, DataLoader, Subset, ConcatDataset\n",
    "import numpy as np\n",
    "from sklearn.linear_model import LogisticRegression\n",
    "from sklearn.preprocessing import StandardScaler\n",
    "from sklearn.pipeline import make_pipeline\n",
    "import time\n",
    "import struct # For unpacking binary data\n",
    "from struct import unpack\n",
    "import os\n",
    "import collections\n",
    "import logging\n",
    "from datetime import datetime\n",
    "import csv\n",
    "import json\n",
    "import gzip\n",
    "import pickle\n",
    "import random\n",
    "from torch import nn\n",
    "# import urllib.request # Removed: No longer downloading\n",
    "from PIL import Image, ImageDraw\n",
    "try:\n",
    "    import git\n",
    "    GIT_AVAILABLE = True\n",
    "except ImportError:\n",
    "    GIT_AVAILABLE = False\n",
    "    print(\"gitpython not installed. Using default versioning.\")\n"
   ]
  },
  {
   "cell_type": "markdown",
   "metadata": {
    "id": "AVDYQqPwKRnU"
   },
   "source": [
    "### Google Authentication for Multimodal Embeddings"
   ]
  },
  {
   "cell_type": "code",
   "execution_count": 2,
   "metadata": {
    "execution": {
     "iopub.execute_input": "2025-09-11T04:00:51.593727Z",
     "iopub.status.busy": "2025-09-11T04:00:51.593516Z",
     "iopub.status.idle": "2025-09-11T04:00:51.599235Z",
     "shell.execute_reply": "2025-09-11T04:00:51.598461Z",
     "shell.execute_reply.started": "2025-09-11T04:00:51.593708Z"
    },
    "id": "sxr0nHd2KRQi"
   },
   "outputs": [],
   "source": [
    "# from google.colab import auth\n",
    "# from google.cloud import aiplatform\n",
    "# # Corrected import: Image and MultiModalEmbeddingModel are directly under google.cloud.aiplatform.types\n",
    "# from vertexai.vision_models import Image as AiPlatformImage, MultiModalEmbeddingModel\n",
    "\n",
    "# # --- ⚠️ ACTION REQUIRED ⚠️ ---\n",
    "# # Authenticate your Google Cloud account.\n",
    "# # This will open a pop-up window for you to log in.\n",
    "# auth.authenticate_user()\n",
    "\n",
    "# # --- ⚠️ ACTION REQUIRED ⚠️ ---\n",
    "# # Please enter your Google Cloud Project ID and the region.\n",
    "# PROJECT_ID = \"gen-lang-client-0897829271\"  # @param {type:\"string\"}\n",
    "# LOCATION = \"asia-south1\"        # @param {type:\"string\"}\n",
    "\n",
    "# # Initialize the Vertex AI SDK\n",
    "# aiplatform.init(project=PROJECT_ID, location=LOCATION)\n",
    "\n",
    "# print(\"✅ Setup and authentication complete.\")"
   ]
  },
  {
   "cell_type": "code",
   "execution_count": 3,
   "metadata": {
    "execution": {
     "iopub.execute_input": "2025-09-11T04:00:51.600445Z",
     "iopub.status.busy": "2025-09-11T04:00:51.600193Z",
     "iopub.status.idle": "2025-09-11T04:00:51.965102Z",
     "shell.execute_reply": "2025-09-11T04:00:51.964103Z",
     "shell.execute_reply.started": "2025-09-11T04:00:51.600426Z"
    },
    "id": "_l7QgiPQ3emv"
   },
   "outputs": [],
   "source": [
    "# Remove stale data\n",
    "!rm -rf results sample_ensemble_predictions models\n",
    "!mkdir results models"
   ]
  },
  {
   "cell_type": "code",
   "execution_count": 4,
   "metadata": {
    "colab": {
     "base_uri": "https://localhost:8080/"
    },
    "execution": {
     "iopub.execute_input": "2025-09-11T04:02:46.547971Z",
     "iopub.status.busy": "2025-09-11T04:02:46.547598Z",
     "iopub.status.idle": "2025-09-11T04:02:46.584417Z",
     "shell.execute_reply": "2025-09-11T04:02:46.583594Z",
     "shell.execute_reply.started": "2025-09-11T04:02:46.547925Z"
    },
    "id": "izcGuyb9MLLc",
    "outputId": "9b13abf3-0b3e-414b-c930-89f8b4fd3588"
   },
   "outputs": [
    {
     "name": "stderr",
     "output_type": "stream",
     "text": [
      "2025-09-11 04:02:46,572 - INFO - 3241630434 - Logging initialized. Logs will be saved to ./logs/quickdraw_benchmark_20250911_040246_cpu.log\n"
     ]
    }
   ],
   "source": [
    "# Configuration\n",
    "QUICKDRAW_CATEGORIES = [\n",
    "        'The Eiffel Tower', 'The Great Wall of China', 'airplane', 'alarm clock',\n",
    "'ambulance', 'angel', 'animal migration', 'ant', 'anvil', 'apple', 'arm', 'axe',\n",
    "'backpack', 'banana', 'bandage', 'baseball', 'basket', 'basketball', 'bat',\n",
    "'bathtub', 'beach', 'bear', 'beard', 'bed', 'bee', 'belt', 'bench', 'bicycle', 'binoculars',\n",
    "'bird', 'birthday cake', 'blackberry', 'blueberry', 'book', 'boomerang', 'bottlecap', 'bowtie',\n",
    "'bracelet', 'brain', 'bread', 'bridge', 'broccoli', 'broom', 'bucket', 'bulldozer', 'bus', 'bush',\n",
    "'butterfly', 'cactus', 'cake', 'calculator', 'calendar', 'camel', 'camera', 'campfire',\n",
    "'candle', 'cannon', 'canoe', 'car', 'carrot', 'castle', 'cat', 'ceiling fan', 'cell phone', 'cello',\n",
    "'chair', 'chandelier', 'church', 'circle', 'clock', 'cloud', 'coffee cup', 'compass',\n",
    "'computer', 'cookie', 'cooler', 'couch', 'cow', 'crab', 'crayon', 'crocodile', 'crown', 'cruise ship',\n",
    "'cup', 'diamond', 'diving board', 'dog', 'dolphin', 'donut', 'door', 'dragon', 'dresser',\n",
    "'drill', 'drums', 'duck', 'dumbbell', 'ear', 'elbow', 'elephant', 'envelope', 'eraser', 'eye',\n",
    "'eyeglasses', 'face', 'fan', 'feather', 'fence', 'finger', 'fire hydrant', 'fireplace', 'firetruck',\n",
    "'fish', 'flamingo', 'flashlight', 'flip flops', 'floor lamp', 'flower', 'flying saucer', 'foot',\n",
    "'fork', 'frog', 'frying pan', 'garden hose', 'garden', 'giraffe', 'golf club', 'grapes',\n",
    "'grass', 'guitar', 'hamburger', 'hammer', 'hand', 'harp', 'hat', 'headphones', 'helicopter',\n",
    "'helmet', 'hexagon', 'hockey puck', 'hockey stick', 'horse', 'hospital', 'hot air balloon', 'hot dog',\n",
    "'hot tub', 'hourglass', 'house plant', 'house', 'ice cream', 'jacket', 'jail', 'kangaroo',\n",
    "'key', 'keyboard', 'knee', 'knife', 'ladder', 'lantern'\n",
    "'necklace', 'nose', 'ocean', 'octagon', 'octopus', 'onion', 'oven', 'owl', 'paint can', 'paintbrush',\n",
    "'palm tree', 'panda', 'pants', 'paper clip', 'parachute', 'parrot', 'passport', 'peanut', 'pear', 'peas',\n",
    "'pencil', 'penguin', 'piano', 'pickup truck', 'picture frame', 'pig', 'pillow', 'pineapple', 'pizza', 'pliers',\n",
    "'police car', 'pond', 'pool', 'postcard', 'potato', 'power outlet', 'purse', 'rabbit', 'raccoon',\n",
    "'radio', 'rain', 'rainbow', 'rake', 'remote control', 'rhinoceros', 'rifle', 'river', 'roller coaster', 'rollerskates',\n",
    "'sailboat', 'sandwich', 'saw', 'saxophone', 'school bus', 'scissors', 'scorpion', 'screwdriver', 'sea turtle', 'see saw', 'shark', 'sheep', 'shoe', 'shorts', 'shovel', 'sink', 'skateboard', 'skull', 'skyscraper',\n",
    "'smiley face', 'snail', 'snake', 'snowflake', 'snowman', 'soccer ball', 'sock', 'speedboat', 'spider',\n",
    "'spoon', 'square', 'squirrel', 'stairs', 'star', 'steak', 'stereo', 'stethoscope',\n",
    "'stitches', 'stop sign', 'stove', 'strawberry', 'streetlight', 'submarine', 'suitcase', 'sun', 'swan',\n",
    "'sweater', 'swing set', 'sword', 'syringe', 't-shirt', 'table', 'teapot', 'teddy-bear', 'telephone', 'television',\n",
    "'tennis racquet', 'tent', 'tiger', 'toaster', 'toe', 'toilet', 'tooth', 'toothbrush', 'toothpaste', 'tornado',\n",
    "'tractor', 'traffic light', 'train', 'tree', 'triangle', 'truck', 'trumpet', 'umbrella', 'underwear',\n",
    "'van', 'vase', 'violin', 'washing machine', 'watermelon', 'waterslide', 'whale', 'wheel', 'windmill',\n",
    "'wine glass', 'wristwatch', 'yoga', 'zebra', 'zigzag'\n",
    "]\n",
    "\n",
    "\n",
    "# NUM_TRAIN_SAMPLES_PER_CATEGORY = 7000\n",
    "NUM_TRAIN_SAMPLES_PER_CATEGORY = 100\n",
    "# NUM_TEST_SAMPLES_PER_CATEGORY = 2000\n",
    "NUM_TEST_SAMPLES_PER_CATEGORY = 20\n",
    "QUICKDRAW_CACHE_SIZE=50000  # Increased from 20000 to reduce cache misses with larger datasets\n",
    "IMAGE_SIZE = (224, 224)\n",
    "LINE_WIDTH = 2\n",
    "DEVICE = torch.device(\"cuda\" if torch.cuda.is_available() else \"cpu\")\n",
    "BINARY_DATA_ROOT = './data' # MODIFIED: Point to local data directory\n",
    "\n",
    "# Configuration section - add dynamic batch size scaling\n",
    "BATCH_SIZE = 128  # Increase base batch size for smaller datasets\n",
    "# Add adaptive batch size based on dataset size\n",
    "MAX_BATCH_SIZE = 128  # Increased for ml.g4dn.xlarge (16GB GPU)\n",
    "MIN_BATCH_SIZE = 16   # Reduced from 32 to prevent OOM errors with large datasets\n",
    "\n",
    "# Add a function to calculate appropriate batch size\n",
    "def get_adaptive_batch_size(num_samples_per_category, num_categories):\n",
    "    \"\"\"Calculate appropriate batch size based on dataset size to prevent OOM errors\"\"\"\n",
    "    total_samples = num_samples_per_category * num_categories\n",
    "\n",
    "    if total_samples < 10000:  # Small dataset\n",
    "        return MAX_BATCH_SIZE\n",
    "    elif total_samples < 50000:  # Medium dataset\n",
    "        return 64  # Increased from 32\n",
    "    elif total_samples < 200000:  # Large dataset\n",
    "        return 32  # Increased from 16\n",
    "    else:  # Very large dataset (10000 samples x 50+ categories)\n",
    "        return MIN_BATCH_SIZE\n",
    "\n",
    "# Fine-tuning hyperparameters - updated for better training\n",
    "NUM_FINETUNE_EPOCHS = 2               # Set to 20 as specified\n",
    "FINETUNE_LEARNING_RATE = 5e-4          # Slightly increased from 1e-4\n",
    "FINETUNE_WEIGHT_DECAY = 1e-5           # Added weight decay for regularization\n",
    "MODEL_SAVE_PATH = './models'           # Directory to save fine-tuned models\n",
    "VALIDATION_SPLIT = 0.1                 # Percentage of training data to use for validation\n",
    "USE_GRADUAL_UNFREEZING = True          # Whether to use gradual unfreezing\n",
    "USE_DATA_AUGMENTATION = True           # Whether to use data augmentation\n",
    "GRADIENT_ACCUMULATION_STEPS = 1        # Default: update weights after every batch\n",
    "USE_GRADIENT_CHECKPOINTING = True      # Enable gradient checkpointing to save memory\n",
    "CHECKPOINT_INTERVAL = 5                # Save checkpoints every N epochs\n",
    "RESUME_FROM_CHECKPOINT = True          # Whether to resume from checkpoint if available\n",
    "\n",
    "\n",
    "# --- Model Definitions and Feature Extractors (Unchanged) ---\n",
    "MODELS_TO_TEST = {\n",
    "    \"MobileNetV3-Small\": {\n",
    "        \"weights\": models.MobileNet_V3_Small_Weights.IMAGENET1K_V1,\n",
    "        \"model_fn\": models.mobilenet_v3_small,\n",
    "    },\n",
    "\n",
    "    # \"EfficientNet-B0\": {\n",
    "    #     \"weights\": models.EfficientNet_B0_Weights.IMAGENET1K_V1,\n",
    "    #     \"model_fn\": models.efficientnet_b0,\n",
    "    #\n",
    "    # }\n",
    "}\n",
    "\n",
    "# --- Logging Configuration ---\n",
    "# Set to logging.DEBUG for verbose development output, logging.INFO for less\n",
    "LOG_LEVEL = logging.INFO\n",
    "\n",
    "# Create a logs directory if it doesn't exist\n",
    "LOGS_DIR = './logs'\n",
    "if not os.path.exists(LOGS_DIR):\n",
    "    os.makedirs(LOGS_DIR, exist_ok=True)\n",
    "\n",
    "# Generate a log file name based on the notebook file name, datetime, and environment\n",
    "notebook_name = 'quickdraw_benchmark'\n",
    "timestamp = datetime.now().strftime('%Y%m%d_%H%M%S')\n",
    "device_type = 'cuda' if torch.cuda.is_available() else 'cpu'\n",
    "log_file_name = f\"{notebook_name}_{timestamp}_{device_type}.log\"\n",
    "log_file_path = os.path.join(LOGS_DIR, log_file_name)\n",
    "\n",
    "# Get the root logger (or a specific logger, __name__ is fine)\n",
    "# Avoid using basicConfig if you need fine-grained handler control after creation\n",
    "# basicConfig configures the root logger, but we can get it and clear handlers\n",
    "# or just create our own logger from scratch. Let's create our own logger explicitly.\n",
    "logger = logging.getLogger(__name__)\n",
    "logger.setLevel(LOG_LEVEL) # Set the level for *this* logger\n",
    "\n",
    "# Prevent duplicate handlers if the cell is run multiple times\n",
    "if logger.hasHandlers():\n",
    "    logger.handlers.clear()\n",
    "\n",
    "# Create handlers manually\n",
    "# File Handler: Use buffering=1 for line buffering (most common for text) or 0 for no buffering\n",
    "# For binary data like the .bin files are processed from, default buffering applies.\n",
    "# However, the FileHandler *itself* writes text logs, so we can try line buffering.\n",
    "# If that's not sufficient, we could force flush periodically.\n",
    "try:\n",
    "    # Using buffering=1 for line buffering in text mode ('w') is standard,\n",
    "    # but FileHandler uses 'a' by default. Let's try 'a' with a smaller buffer if possible,\n",
    "    # or just force flushing. Manual flushing is more reliable for immediate write.\n",
    "    file_handler = logging.FileHandler(log_file_path, mode='w') # Use 'w' to overwrite each run or 'a' to append\n",
    "    file_handler.setLevel(LOG_LEVEL)\n",
    "    formatter = logging.Formatter('%(asctime)s - %(levelname)s - %(module)s - %(message)s')\n",
    "    file_handler.setFormatter(formatter)\n",
    "    logger.addHandler(file_handler)\n",
    "\n",
    "    # Stream Handler for console output\n",
    "    stream_handler = logging.StreamHandler()\n",
    "    stream_handler.setLevel(LOG_LEVEL)\n",
    "    stream_handler.setFormatter(formatter) # Use the same formatter\n",
    "    logger.addHandler(stream_handler)\n",
    "\n",
    "    logger.info(f\"Logging initialized. Logs will be saved to {log_file_path}\")\n",
    "\n",
    "except Exception as e:\n",
    "    # Fallback: logger.info an error if logging setup fails\n",
    "    logger.info(f\"Error setting up logging handlers: {e}\", flush=True)\n",
    "    # Revert to basicConfig just for console output if file logging failed\n",
    "    logging.basicConfig(level=LOG_LEVEL, format='%(asctime)s - %(levelname)s - %(module)s - %(message)s')\n",
    "    logger = logging.getLogger(__name__) # Get the root logger now configured by basicConfig\n",
    "    logger.warning(\"File logging setup failed, falling back to console-only logging.\")\n",
    "    logger.info(f\"Logging initialized (console only). Failed to save to {log_file_path}\")\n",
    "\n",
    "\n",
    "\n",
    "\n",
    "# Create a folder to download dataset if it does not exists\n",
    "if not os.path.exists(BINARY_DATA_ROOT):\n",
    "    os.makedirs(BINARY_DATA_ROOT, exist_ok=True)\n",
    "    logger.warning(f\"Warning: Data directory '{BINARY_DATA_ROOT}' was not found and has been created.\")\n",
    "    logger.info(f\"Please ensure QuickDraw .bin files (e.g., full_binary_apple.bin) for categories {QUICKDRAW_CATEGORIES} are placed there.\")\n",
    "\n",
    "# Create directory for saving models if it doesn't exist\n",
    "if not os.path.exists(MODEL_SAVE_PATH):\n",
    "    os.makedirs(MODEL_SAVE_PATH, exist_ok=True)\n",
    "    logger.info(f\"Created directory for saving models: {MODEL_SAVE_PATH}\")\n",
    "\n",
    "def clear_gpu_memory():\n",
    "    \"\"\"Clear GPU cache to free memory\"\"\"\n",
    "    if torch.cuda.is_available():\n",
    "        torch.cuda.empty_cache()\n",
    "\n",
    "\n",
    "def get_git_info():\n",
    "    \"\"\"Get the current git commit hash and message\"\"\"\n",
    "    if not GIT_AVAILABLE:\n",
    "        return {\"available\": False, \"commit\": \"no_git\", \"message\": \"no_git\"}\n",
    "\n",
    "    try:\n",
    "        repo = git.Repo(search_parent_directories=True)\n",
    "        commit_hash = repo.head.commit.hexsha[:8]  # Short hash\n",
    "        commit_message = repo.head.commit.message.strip().split('\\n')[0]  # First line only\n",
    "        # Replace spaces and special chars for filename safety\n",
    "        safe_message = commit_message.replace(' ', '_').replace('/', '-').replace(':', '-')[:30]\n",
    "        return {\n",
    "            \"available\": True,\n",
    "            \"commit\": commit_hash,\n",
    "            \"message\": safe_message\n",
    "        }\n",
    "    except (git.InvalidGitRepositoryError, git.NoSuchPathError):\n",
    "        return {\"available\": False, \"commit\": \"no_git\", \"message\": \"no_git\"}\n",
    "\n",
    "# Create parameter string for filename\n",
    "params_str = f\"samples{NUM_TRAIN_SAMPLES_PER_CATEGORY}_epochs{NUM_FINETUNE_EPOCHS}_classes{len(QUICKDRAW_CATEGORIES)}\"\n",
    "git_info = get_git_info()\n",
    "if git_info[\"available\"]:\n",
    "    git_str = f\"_{git_info['message'][:10]}...\"\n",
    "else:\n",
    "    git_str = \"\"\n",
    "\n",
    "# Save latest epoch checkpoint (always overwriting previous)\n",
    "LATEST_PATH = f'_{git_str}_{params_str}'\n"
   ]
  },
  {
   "cell_type": "code",
   "execution_count": 5,
   "metadata": {
    "execution": {
     "iopub.execute_input": "2025-09-11T04:02:47.089118Z",
     "iopub.status.busy": "2025-09-11T04:02:47.088848Z",
     "iopub.status.idle": "2025-09-11T04:02:47.092487Z",
     "shell.execute_reply": "2025-09-11T04:02:47.091777Z",
     "shell.execute_reply.started": "2025-09-11T04:02:47.089097Z"
    },
    "id": "Jk8CHkuNOZ9h",
    "scrolled": true
   },
   "outputs": [],
   "source": [
    "# Generate text embeddings for the QUICKDRAW_CATEGORIES_DETAILED\n",
    "\n",
    "# # Load the multimodal embedding model\n",
    "# model = MultiModalEmbeddingModel.from_pretrained(\"multimodalembedding@001\")\n",
    "# text_embeddings = []\n",
    "\n",
    "# # Generate an embedding for each object's name\n",
    "# for item in QUICKDRAW_CATEGORIES_DETAILED:\n",
    "#     # The context_text is optional but can improve quality for ambiguous terms\n",
    "#     embeddings = model.get_embeddings(\n",
    "#         contextual_text=item[\"name\"],\n",
    "#         dimension=1408 # A required, fixed dimension size for this model\n",
    "#     )\n",
    "#     text_embeddings.append(embeddings.text_embedding)\n",
    "#     print(f\"Generated embedding for: '{item['name']}'\")\n",
    "\n",
    "# print(f\"\\n✅ Successfully generated {len(text_embeddings)} text embeddings.\")\n",
    "# # An embedding is just a list of numbers\n",
    "# print(f\"   Each embedding has {len(text_embeddings[0])} dimensions.\")"
   ]
  },
  {
   "cell_type": "code",
   "execution_count": 6,
   "metadata": {
    "colab": {
     "base_uri": "https://localhost:8080/",
     "height": 522,
     "referenced_widgets": [
      "10926a61cb8141a282a64879f6b55804",
      "b302ebe939b14b86a4530260881ad914",
      "5c901d08e3924eec8a0b76ef6183f511",
      "c469cb560ee74c3bb7a61306ac5185c8",
      "d0522324bf8f450d9cfa9dd4af8a0ec9",
      "3da8695d6f46482da08c617dc52623c7",
      "96ffdf9476ed478a9cd32b78e8b34ccf",
      "f222ef43b02d46bda59804aceadd57d5",
      "5c52448afa2c4cb3a82a8a4d79651b89",
      "cc69a7c41b9748a5b829b1a3b88db45c",
      "2fb413ed93564c77a556e20605ee508a",
      "176a27e1739643f2be8346eb21ba043c",
      "7c3101e22d8649c387279c8ce5e631f3",
      "5c81373d5230489387fd6dc8df6752ff",
      "f56ffcb81e074bb8ada95655343996a6",
      "300b55dd7d234a41b707c05509c4683f",
      "7a1c0eed94534d70b556dd167e1073f8",
      "e222066063d5415aa792ee22043adc52",
      "0d296cc43d0b4c04895f8dc8ee8f7f66",
      "32cc7bb4c9a44ed5b2b57c3a808ca076",
      "17b9fdeb951d42cb894f37cbe5c4605a",
      "9ce4b93cdcaf4147a44d559b705bda3d",
      "c9a011e71ab644a792e6b5f568db6ee7",
      "b94ef9ff695b4653af36ee17a42aef53",
      "79472472e5ca489992fcf224f06b6d74",
      "1c3976b2bdf54e36a96dc7eedf62b8f5",
      "58233189cfc847afa26c9371c9064450",
      "a64e1243864c416baa3fe1aca24a20d1",
      "d440091446e14fd4bd053e06ec3ced7c",
      "064f4f5080c24de0939937074568bd53",
      "8891a91edba54e2eb391e9ac8454c8c5",
      "4ce231ed6e7e409eb540eb0364c398c3",
      "2b741319a0fb4f0b85e00d197cc5cb7c",
      "afb77946767443deb252d71eb08bdf04",
      "685b7d1433324b5594a881f941c5a23a",
      "5cb503dbc9aa48ad94a4a44f1979d436",
      "d26a556829db4ffc91ff869bf41cf6fa",
      "2f5535a9128043c7be9448fbbae01264",
      "5733c5b4af604bc594287505e5cbb453",
      "f2793f0831d64c06a288b4c5bef1e1a6",
      "1303f86074c1430084e9af39489b7b6e",
      "c9978377b74240d6923581074a7a3f75",
      "38b23a94eded4b77b5769398fb01cb31",
      "3c4088491a7d49478dc431ff5526a151"
     ]
    },
    "execution": {
     "iopub.execute_input": "2025-09-11T04:02:48.359581Z",
     "iopub.status.busy": "2025-09-11T04:02:48.359320Z",
     "iopub.status.idle": "2025-09-11T04:19:45.032709Z",
     "shell.execute_reply": "2025-09-11T04:19:45.031834Z",
     "shell.execute_reply.started": "2025-09-11T04:02:48.359563Z"
    },
    "id": "u10lekpFKXAr",
    "outputId": "c7f61444-ba53-4b69-8fb7-008d6fb3747b",
    "scrolled": true
   },
   "outputs": [
    {
     "name": "stderr",
     "output_type": "stream",
     "text": [
      "2025-09-11 04:02:48,364 - INFO - 2291996958 - Starting download process for 294 categories into './data'...\n",
      "2025-09-11 04:02:48,367 - INFO - 2291996958 - Downloading 'The Eiffel Tower' from https://storage.googleapis.com/quickdraw_dataset/full/binary/The%20Eiffel%20Tower.bin to ./data/full_binary_The_Eiffel_Tower.bin...\n"
     ]
    },
    {
     "data": {
      "application/vnd.jupyter.widget-view+json": {
       "model_id": "db8610bd24b14981a0b0425e4e0a9ab2",
       "version_major": 2,
       "version_minor": 0
      },
      "text/plain": [
       "The Eiffel Tower:   0%|          | 0.00/10.7M [00:00<?, ?iB/s]"
      ]
     },
     "metadata": {},
     "output_type": "display_data"
    },
    {
     "name": "stderr",
     "output_type": "stream",
     "text": [
      "2025-09-11 04:02:51,328 - INFO - 2291996958 - Successfully downloaded 'The Eiffel Tower'.\n",
      "2025-09-11 04:02:51,332 - INFO - 2291996958 - Downloading 'The Great Wall of China' from https://storage.googleapis.com/quickdraw_dataset/full/binary/The%20Great%20Wall%20of%20China.bin to ./data/full_binary_The_Great_Wall_of_China.bin...\n"
     ]
    },
    {
     "data": {
      "application/vnd.jupyter.widget-view+json": {
       "model_id": "cce4a55569cf4e2493a2a29c587a17de",
       "version_major": 2,
       "version_minor": 0
      },
      "text/plain": [
       "The Great Wall of China:   0%|          | 0.00/20.2M [00:00<?, ?iB/s]"
      ]
     },
     "metadata": {},
     "output_type": "display_data"
    },
    {
     "name": "stderr",
     "output_type": "stream",
     "text": [
      "2025-09-11 04:02:55,032 - INFO - 2291996958 - Successfully downloaded 'The Great Wall of China'.\n",
      "2025-09-11 04:02:55,034 - INFO - 2291996958 - Downloading 'airplane' from https://storage.googleapis.com/quickdraw_dataset/full/binary/airplane.bin to ./data/full_binary_airplane.bin...\n"
     ]
    },
    {
     "data": {
      "application/vnd.jupyter.widget-view+json": {
       "model_id": "581ae57a14ee46f18d9e92589f72e916",
       "version_major": 2,
       "version_minor": 0
      },
      "text/plain": [
       "airplane:   0%|          | 0.00/15.0M [00:00<?, ?iB/s]"
      ]
     },
     "metadata": {},
     "output_type": "display_data"
    },
    {
     "name": "stderr",
     "output_type": "stream",
     "text": [
      "2025-09-11 04:02:58,403 - INFO - 2291996958 - Successfully downloaded 'airplane'.\n",
      "2025-09-11 04:02:58,404 - INFO - 2291996958 - Downloading 'alarm clock' from https://storage.googleapis.com/quickdraw_dataset/full/binary/alarm%20clock.bin to ./data/full_binary_alarm_clock.bin...\n"
     ]
    },
    {
     "data": {
      "application/vnd.jupyter.widget-view+json": {
       "model_id": "50e4c80f5e3c4f6398e5ae245bcee3a3",
       "version_major": 2,
       "version_minor": 0
      },
      "text/plain": [
       "alarm clock:   0%|          | 0.00/18.0M [00:00<?, ?iB/s]"
      ]
     },
     "metadata": {},
     "output_type": "display_data"
    },
    {
     "name": "stderr",
     "output_type": "stream",
     "text": [
      "2025-09-11 04:03:01,782 - INFO - 2291996958 - Successfully downloaded 'alarm clock'.\n",
      "2025-09-11 04:03:01,785 - INFO - 2291996958 - Downloading 'ambulance' from https://storage.googleapis.com/quickdraw_dataset/full/binary/ambulance.bin to ./data/full_binary_ambulance.bin...\n"
     ]
    },
    {
     "data": {
      "application/vnd.jupyter.widget-view+json": {
       "model_id": "fea87c2e05a04761bee0d64ada8df2a9",
       "version_major": 2,
       "version_minor": 0
      },
      "text/plain": [
       "ambulance:   0%|          | 0.00/21.7M [00:00<?, ?iB/s]"
      ]
     },
     "metadata": {},
     "output_type": "display_data"
    },
    {
     "name": "stderr",
     "output_type": "stream",
     "text": [
      "2025-09-11 04:03:05,655 - INFO - 2291996958 - Successfully downloaded 'ambulance'.\n",
      "2025-09-11 04:03:05,658 - INFO - 2291996958 - Downloading 'angel' from https://storage.googleapis.com/quickdraw_dataset/full/binary/angel.bin to ./data/full_binary_angel.bin...\n"
     ]
    },
    {
     "data": {
      "application/vnd.jupyter.widget-view+json": {
       "model_id": "0b6b2beb2cb34a9196c55c99aca5fa5b",
       "version_major": 2,
       "version_minor": 0
      },
      "text/plain": [
       "angel:   0%|          | 0.00/24.3M [00:00<?, ?iB/s]"
      ]
     },
     "metadata": {},
     "output_type": "display_data"
    },
    {
     "name": "stderr",
     "output_type": "stream",
     "text": [
      "2025-09-11 04:03:09,627 - INFO - 2291996958 - Successfully downloaded 'angel'.\n",
      "2025-09-11 04:03:09,628 - INFO - 2291996958 - Downloading 'animal migration' from https://storage.googleapis.com/quickdraw_dataset/full/binary/animal%20migration.bin to ./data/full_binary_animal_migration.bin...\n"
     ]
    },
    {
     "data": {
      "application/vnd.jupyter.widget-view+json": {
       "model_id": "2f70a4d11ec04548a4bb791ac7eba18c",
       "version_major": 2,
       "version_minor": 0
      },
      "text/plain": [
       "animal migration:   0%|          | 0.00/16.7M [00:00<?, ?iB/s]"
      ]
     },
     "metadata": {},
     "output_type": "display_data"
    },
    {
     "name": "stderr",
     "output_type": "stream",
     "text": [
      "2025-09-11 04:03:13,120 - INFO - 2291996958 - Successfully downloaded 'animal migration'.\n",
      "2025-09-11 04:03:13,121 - INFO - 2291996958 - Downloading 'ant' from https://storage.googleapis.com/quickdraw_dataset/full/binary/ant.bin to ./data/full_binary_ant.bin...\n"
     ]
    },
    {
     "data": {
      "application/vnd.jupyter.widget-view+json": {
       "model_id": "638c3b3fa4834e5b8642a67329699955",
       "version_major": 2,
       "version_minor": 0
      },
      "text/plain": [
       "ant:   0%|          | 0.00/17.7M [00:00<?, ?iB/s]"
      ]
     },
     "metadata": {},
     "output_type": "display_data"
    },
    {
     "name": "stderr",
     "output_type": "stream",
     "text": [
      "2025-09-11 04:03:16,777 - INFO - 2291996958 - Successfully downloaded 'ant'.\n",
      "2025-09-11 04:03:16,778 - INFO - 2291996958 - Downloading 'anvil' from https://storage.googleapis.com/quickdraw_dataset/full/binary/anvil.bin to ./data/full_binary_anvil.bin...\n"
     ]
    },
    {
     "data": {
      "application/vnd.jupyter.widget-view+json": {
       "model_id": "32062705ec8c47a6b070a7933f090245",
       "version_major": 2,
       "version_minor": 0
      },
      "text/plain": [
       "anvil:   0%|          | 0.00/10.2M [00:00<?, ?iB/s]"
      ]
     },
     "metadata": {},
     "output_type": "display_data"
    },
    {
     "name": "stderr",
     "output_type": "stream",
     "text": [
      "2025-09-11 04:03:19,947 - INFO - 2291996958 - Successfully downloaded 'anvil'.\n",
      "2025-09-11 04:03:19,948 - INFO - 2291996958 - Downloading 'apple' from https://storage.googleapis.com/quickdraw_dataset/full/binary/apple.bin to ./data/full_binary_apple.bin...\n"
     ]
    },
    {
     "data": {
      "application/vnd.jupyter.widget-view+json": {
       "model_id": "11908755321244e09d38806aa0458964",
       "version_major": 2,
       "version_minor": 0
      },
      "text/plain": [
       "apple:   0%|          | 0.00/13.2M [00:00<?, ?iB/s]"
      ]
     },
     "metadata": {},
     "output_type": "display_data"
    },
    {
     "name": "stderr",
     "output_type": "stream",
     "text": [
      "2025-09-11 04:03:23,104 - INFO - 2291996958 - Successfully downloaded 'apple'.\n",
      "2025-09-11 04:03:23,108 - INFO - 2291996958 - Downloading 'arm' from https://storage.googleapis.com/quickdraw_dataset/full/binary/arm.bin to ./data/full_binary_arm.bin...\n"
     ]
    },
    {
     "data": {
      "application/vnd.jupyter.widget-view+json": {
       "model_id": "00156207d4f7489080a07c29f911fbc5",
       "version_major": 2,
       "version_minor": 0
      },
      "text/plain": [
       "arm:   0%|          | 0.00/10.7M [00:00<?, ?iB/s]"
      ]
     },
     "metadata": {},
     "output_type": "display_data"
    },
    {
     "name": "stderr",
     "output_type": "stream",
     "text": [
      "2025-09-11 04:03:24,735 - INFO - 2291996958 - Successfully downloaded 'arm'.\n",
      "2025-09-11 04:03:24,737 - INFO - 2291996958 - Downloading 'axe' from https://storage.googleapis.com/quickdraw_dataset/full/binary/axe.bin to ./data/full_binary_axe.bin...\n"
     ]
    },
    {
     "data": {
      "application/vnd.jupyter.widget-view+json": {
       "model_id": "59495441731f48619258538d569fe280",
       "version_major": 2,
       "version_minor": 0
      },
      "text/plain": [
       "axe:   0%|          | 0.00/9.06M [00:00<?, ?iB/s]"
      ]
     },
     "metadata": {},
     "output_type": "display_data"
    },
    {
     "name": "stderr",
     "output_type": "stream",
     "text": [
      "2025-09-11 04:03:27,815 - INFO - 2291996958 - Successfully downloaded 'axe'.\n",
      "2025-09-11 04:03:27,817 - INFO - 2291996958 - Downloading 'backpack' from https://storage.googleapis.com/quickdraw_dataset/full/binary/backpack.bin to ./data/full_binary_backpack.bin...\n"
     ]
    },
    {
     "data": {
      "application/vnd.jupyter.widget-view+json": {
       "model_id": "4ee0b2824a1c484d8345e41631dc4855",
       "version_major": 2,
       "version_minor": 0
      },
      "text/plain": [
       "backpack:   0%|          | 0.00/15.8M [00:00<?, ?iB/s]"
      ]
     },
     "metadata": {},
     "output_type": "display_data"
    },
    {
     "name": "stderr",
     "output_type": "stream",
     "text": [
      "2025-09-11 04:03:31,256 - INFO - 2291996958 - Successfully downloaded 'backpack'.\n",
      "2025-09-11 04:03:31,257 - INFO - 2291996958 - Downloading 'banana' from https://storage.googleapis.com/quickdraw_dataset/full/binary/banana.bin to ./data/full_binary_banana.bin...\n"
     ]
    },
    {
     "data": {
      "application/vnd.jupyter.widget-view+json": {
       "model_id": "1bfa81d551bf407f88d701ec694b7e42",
       "version_major": 2,
       "version_minor": 0
      },
      "text/plain": [
       "banana:   0%|          | 0.00/23.9M [00:00<?, ?iB/s]"
      ]
     },
     "metadata": {},
     "output_type": "display_data"
    },
    {
     "name": "stderr",
     "output_type": "stream",
     "text": [
      "2025-09-11 04:03:35,164 - INFO - 2291996958 - Successfully downloaded 'banana'.\n",
      "2025-09-11 04:03:35,165 - INFO - 2291996958 - Downloading 'bandage' from https://storage.googleapis.com/quickdraw_dataset/full/binary/bandage.bin to ./data/full_binary_bandage.bin...\n"
     ]
    },
    {
     "data": {
      "application/vnd.jupyter.widget-view+json": {
       "model_id": "adce42d38296427499d28fac39e8394b",
       "version_major": 2,
       "version_minor": 0
      },
      "text/plain": [
       "bandage:   0%|          | 0.00/15.5M [00:00<?, ?iB/s]"
      ]
     },
     "metadata": {},
     "output_type": "display_data"
    },
    {
     "name": "stderr",
     "output_type": "stream",
     "text": [
      "2025-09-11 04:03:38,591 - INFO - 2291996958 - Successfully downloaded 'bandage'.\n",
      "2025-09-11 04:03:38,593 - INFO - 2291996958 - Downloading 'baseball' from https://storage.googleapis.com/quickdraw_dataset/full/binary/baseball.bin to ./data/full_binary_baseball.bin...\n"
     ]
    },
    {
     "data": {
      "application/vnd.jupyter.widget-view+json": {
       "model_id": "f689ede3aa014c19b122dcf72c9ff963",
       "version_major": 2,
       "version_minor": 0
      },
      "text/plain": [
       "baseball:   0%|          | 0.00/15.0M [00:00<?, ?iB/s]"
      ]
     },
     "metadata": {},
     "output_type": "display_data"
    },
    {
     "name": "stderr",
     "output_type": "stream",
     "text": [
      "2025-09-11 04:03:41,930 - INFO - 2291996958 - Successfully downloaded 'baseball'.\n",
      "2025-09-11 04:03:41,931 - INFO - 2291996958 - Downloading 'basket' from https://storage.googleapis.com/quickdraw_dataset/full/binary/basket.bin to ./data/full_binary_basket.bin...\n"
     ]
    },
    {
     "data": {
      "application/vnd.jupyter.widget-view+json": {
       "model_id": "8423b196c376495e99aea0ce05f2be46",
       "version_major": 2,
       "version_minor": 0
      },
      "text/plain": [
       "basket:   0%|          | 0.00/15.7M [00:00<?, ?iB/s]"
      ]
     },
     "metadata": {},
     "output_type": "display_data"
    },
    {
     "name": "stderr",
     "output_type": "stream",
     "text": [
      "2025-09-11 04:03:45,324 - INFO - 2291996958 - Successfully downloaded 'basket'.\n",
      "2025-09-11 04:03:45,326 - INFO - 2291996958 - Downloading 'basketball' from https://storage.googleapis.com/quickdraw_dataset/full/binary/basketball.bin to ./data/full_binary_basketball.bin...\n"
     ]
    },
    {
     "data": {
      "application/vnd.jupyter.widget-view+json": {
       "model_id": "77dfc431cc8a4cd78a909de0a7e3072a",
       "version_major": 2,
       "version_minor": 0
      },
      "text/plain": [
       "basketball:   0%|          | 0.00/16.5M [00:00<?, ?iB/s]"
      ]
     },
     "metadata": {},
     "output_type": "display_data"
    },
    {
     "name": "stderr",
     "output_type": "stream",
     "text": [
      "2025-09-11 04:03:49,014 - INFO - 2291996958 - Successfully downloaded 'basketball'.\n",
      "2025-09-11 04:03:49,015 - INFO - 2291996958 - Downloading 'bat' from https://storage.googleapis.com/quickdraw_dataset/full/binary/bat.bin to ./data/full_binary_bat.bin...\n"
     ]
    },
    {
     "data": {
      "application/vnd.jupyter.widget-view+json": {
       "model_id": "d465fe9527cf4aec946a5c4be9f9205c",
       "version_major": 2,
       "version_minor": 0
      },
      "text/plain": [
       "bat:   0%|          | 0.00/14.6M [00:00<?, ?iB/s]"
      ]
     },
     "metadata": {},
     "output_type": "display_data"
    },
    {
     "name": "stderr",
     "output_type": "stream",
     "text": [
      "2025-09-11 04:03:52,339 - INFO - 2291996958 - Successfully downloaded 'bat'.\n",
      "2025-09-11 04:03:52,341 - INFO - 2291996958 - Downloading 'bathtub' from https://storage.googleapis.com/quickdraw_dataset/full/binary/bathtub.bin to ./data/full_binary_bathtub.bin...\n"
     ]
    },
    {
     "data": {
      "application/vnd.jupyter.widget-view+json": {
       "model_id": "59769bfe80bb47d5b1a6465408026ca7",
       "version_major": 2,
       "version_minor": 0
      },
      "text/plain": [
       "bathtub:   0%|          | 0.00/17.7M [00:00<?, ?iB/s]"
      ]
     },
     "metadata": {},
     "output_type": "display_data"
    },
    {
     "name": "stderr",
     "output_type": "stream",
     "text": [
      "2025-09-11 04:03:55,819 - INFO - 2291996958 - Successfully downloaded 'bathtub'.\n",
      "2025-09-11 04:03:55,820 - INFO - 2291996958 - Downloading 'beach' from https://storage.googleapis.com/quickdraw_dataset/full/binary/beach.bin to ./data/full_binary_beach.bin...\n"
     ]
    },
    {
     "data": {
      "application/vnd.jupyter.widget-view+json": {
       "model_id": "b81637a5d38c46c7b1d5f0b093712b76",
       "version_major": 2,
       "version_minor": 0
      },
      "text/plain": [
       "beach:   0%|          | 0.00/14.3M [00:00<?, ?iB/s]"
      ]
     },
     "metadata": {},
     "output_type": "display_data"
    },
    {
     "name": "stderr",
     "output_type": "stream",
     "text": [
      "2025-09-11 04:03:59,166 - INFO - 2291996958 - Successfully downloaded 'beach'.\n",
      "2025-09-11 04:03:59,168 - INFO - 2291996958 - Downloading 'bear' from https://storage.googleapis.com/quickdraw_dataset/full/binary/bear.bin to ./data/full_binary_bear.bin...\n"
     ]
    },
    {
     "data": {
      "application/vnd.jupyter.widget-view+json": {
       "model_id": "2c2448b8806543a088ba70d5028244e3",
       "version_major": 2,
       "version_minor": 0
      },
      "text/plain": [
       "bear:   0%|          | 0.00/20.0M [00:00<?, ?iB/s]"
      ]
     },
     "metadata": {},
     "output_type": "display_data"
    },
    {
     "name": "stderr",
     "output_type": "stream",
     "text": [
      "2025-09-11 04:04:02,812 - INFO - 2291996958 - Successfully downloaded 'bear'.\n",
      "2025-09-11 04:04:02,814 - INFO - 2291996958 - Downloading 'beard' from https://storage.googleapis.com/quickdraw_dataset/full/binary/beard.bin to ./data/full_binary_beard.bin...\n"
     ]
    },
    {
     "data": {
      "application/vnd.jupyter.widget-view+json": {
       "model_id": "be6cb15fe62b489f8619800911833aae",
       "version_major": 2,
       "version_minor": 0
      },
      "text/plain": [
       "beard:   0%|          | 0.00/32.2M [00:00<?, ?iB/s]"
      ]
     },
     "metadata": {},
     "output_type": "display_data"
    },
    {
     "name": "stderr",
     "output_type": "stream",
     "text": [
      "2025-09-11 04:04:07,305 - INFO - 2291996958 - Successfully downloaded 'beard'.\n",
      "2025-09-11 04:04:07,307 - INFO - 2291996958 - Downloading 'bed' from https://storage.googleapis.com/quickdraw_dataset/full/binary/bed.bin to ./data/full_binary_bed.bin...\n"
     ]
    },
    {
     "data": {
      "application/vnd.jupyter.widget-view+json": {
       "model_id": "85d283ac5f2b462d8a4e97f4715d7f4f",
       "version_major": 2,
       "version_minor": 0
      },
      "text/plain": [
       "bed:   0%|          | 0.00/10.5M [00:00<?, ?iB/s]"
      ]
     },
     "metadata": {},
     "output_type": "display_data"
    },
    {
     "name": "stderr",
     "output_type": "stream",
     "text": [
      "2025-09-11 04:04:10,336 - INFO - 2291996958 - Successfully downloaded 'bed'.\n",
      "2025-09-11 04:04:10,337 - INFO - 2291996958 - Downloading 'bee' from https://storage.googleapis.com/quickdraw_dataset/full/binary/bee.bin to ./data/full_binary_bee.bin...\n"
     ]
    },
    {
     "data": {
      "application/vnd.jupyter.widget-view+json": {
       "model_id": "3a72c3bb5ed044d9b4639da34c76cdea",
       "version_major": 2,
       "version_minor": 0
      },
      "text/plain": [
       "bee:   0%|          | 0.00/19.6M [00:00<?, ?iB/s]"
      ]
     },
     "metadata": {},
     "output_type": "display_data"
    },
    {
     "name": "stderr",
     "output_type": "stream",
     "text": [
      "2025-09-11 04:04:14,026 - INFO - 2291996958 - Successfully downloaded 'bee'.\n",
      "2025-09-11 04:04:14,027 - INFO - 2291996958 - Downloading 'belt' from https://storage.googleapis.com/quickdraw_dataset/full/binary/belt.bin to ./data/full_binary_belt.bin...\n"
     ]
    },
    {
     "data": {
      "application/vnd.jupyter.widget-view+json": {
       "model_id": "4a1b19a3ebb642baaddc6c131ecc7e89",
       "version_major": 2,
       "version_minor": 0
      },
      "text/plain": [
       "belt:   0%|          | 0.00/18.6M [00:00<?, ?iB/s]"
      ]
     },
     "metadata": {},
     "output_type": "display_data"
    },
    {
     "name": "stderr",
     "output_type": "stream",
     "text": [
      "2025-09-11 04:04:17,654 - INFO - 2291996958 - Successfully downloaded 'belt'.\n",
      "2025-09-11 04:04:17,656 - INFO - 2291996958 - Downloading 'bench' from https://storage.googleapis.com/quickdraw_dataset/full/binary/bench.bin to ./data/full_binary_bench.bin...\n"
     ]
    },
    {
     "data": {
      "application/vnd.jupyter.widget-view+json": {
       "model_id": "8b1b2ddf64704aa2acaca71f45a766f8",
       "version_major": 2,
       "version_minor": 0
      },
      "text/plain": [
       "bench:   0%|          | 0.00/9.14M [00:00<?, ?iB/s]"
      ]
     },
     "metadata": {},
     "output_type": "display_data"
    },
    {
     "name": "stderr",
     "output_type": "stream",
     "text": [
      "2025-09-11 04:04:19,241 - INFO - 2291996958 - Successfully downloaded 'bench'.\n",
      "2025-09-11 04:04:19,242 - INFO - 2291996958 - Downloading 'bicycle' from https://storage.googleapis.com/quickdraw_dataset/full/binary/bicycle.bin to ./data/full_binary_bicycle.bin...\n"
     ]
    },
    {
     "data": {
      "application/vnd.jupyter.widget-view+json": {
       "model_id": "ad702cd5088d4ebd9ea366b81d7c74e3",
       "version_major": 2,
       "version_minor": 0
      },
      "text/plain": [
       "bicycle:   0%|          | 0.00/17.6M [00:00<?, ?iB/s]"
      ]
     },
     "metadata": {},
     "output_type": "display_data"
    },
    {
     "name": "stderr",
     "output_type": "stream",
     "text": [
      "2025-09-11 04:04:22,725 - INFO - 2291996958 - Successfully downloaded 'bicycle'.\n",
      "2025-09-11 04:04:22,726 - INFO - 2291996958 - Downloading 'binoculars' from https://storage.googleapis.com/quickdraw_dataset/full/binary/binoculars.bin to ./data/full_binary_binoculars.bin...\n"
     ]
    },
    {
     "data": {
      "application/vnd.jupyter.widget-view+json": {
       "model_id": "34e8b2549fc44a32bff4780b1d820653",
       "version_major": 2,
       "version_minor": 0
      },
      "text/plain": [
       "binoculars:   0%|          | 0.00/17.0M [00:00<?, ?iB/s]"
      ]
     },
     "metadata": {},
     "output_type": "display_data"
    },
    {
     "name": "stderr",
     "output_type": "stream",
     "text": [
      "2025-09-11 04:04:26,171 - INFO - 2291996958 - Successfully downloaded 'binoculars'.\n",
      "2025-09-11 04:04:26,173 - INFO - 2291996958 - Downloading 'bird' from https://storage.googleapis.com/quickdraw_dataset/full/binary/bird.bin to ./data/full_binary_bird.bin...\n"
     ]
    },
    {
     "data": {
      "application/vnd.jupyter.widget-view+json": {
       "model_id": "ce54765d9e0248298de49b28741391af",
       "version_major": 2,
       "version_minor": 0
      },
      "text/plain": [
       "bird:   0%|          | 0.00/16.4M [00:00<?, ?iB/s]"
      ]
     },
     "metadata": {},
     "output_type": "display_data"
    },
    {
     "name": "stderr",
     "output_type": "stream",
     "text": [
      "2025-09-11 04:04:29,658 - INFO - 2291996958 - Successfully downloaded 'bird'.\n",
      "2025-09-11 04:04:29,659 - INFO - 2291996958 - Downloading 'birthday cake' from https://storage.googleapis.com/quickdraw_dataset/full/binary/birthday%20cake.bin to ./data/full_binary_birthday_cake.bin...\n"
     ]
    },
    {
     "data": {
      "application/vnd.jupyter.widget-view+json": {
       "model_id": "c49e69d03b23408f99a5ddb0fe49b41a",
       "version_major": 2,
       "version_minor": 0
      },
      "text/plain": [
       "birthday cake:   0%|          | 0.00/16.6M [00:00<?, ?iB/s]"
      ]
     },
     "metadata": {},
     "output_type": "display_data"
    },
    {
     "name": "stderr",
     "output_type": "stream",
     "text": [
      "2025-09-11 04:04:33,047 - INFO - 2291996958 - Successfully downloaded 'birthday cake'.\n",
      "2025-09-11 04:04:33,048 - INFO - 2291996958 - Downloading 'blackberry' from https://storage.googleapis.com/quickdraw_dataset/full/binary/blackberry.bin to ./data/full_binary_blackberry.bin...\n"
     ]
    },
    {
     "data": {
      "application/vnd.jupyter.widget-view+json": {
       "model_id": "944655b817a2416b81adc1c753bb046f",
       "version_major": 2,
       "version_minor": 0
      },
      "text/plain": [
       "blackberry:   0%|          | 0.00/34.3M [00:00<?, ?iB/s]"
      ]
     },
     "metadata": {},
     "output_type": "display_data"
    },
    {
     "name": "stderr",
     "output_type": "stream",
     "text": [
      "2025-09-11 04:04:37,961 - INFO - 2291996958 - Successfully downloaded 'blackberry'.\n",
      "2025-09-11 04:04:37,968 - INFO - 2291996958 - Downloading 'blueberry' from https://storage.googleapis.com/quickdraw_dataset/full/binary/blueberry.bin to ./data/full_binary_blueberry.bin...\n"
     ]
    },
    {
     "data": {
      "application/vnd.jupyter.widget-view+json": {
       "model_id": "4fe243bd8aee42d6857c3a110e7f51e1",
       "version_major": 2,
       "version_minor": 0
      },
      "text/plain": [
       "blueberry:   0%|          | 0.00/16.8M [00:00<?, ?iB/s]"
      ]
     },
     "metadata": {},
     "output_type": "display_data"
    },
    {
     "name": "stderr",
     "output_type": "stream",
     "text": [
      "2025-09-11 04:04:41,338 - INFO - 2291996958 - Successfully downloaded 'blueberry'.\n",
      "2025-09-11 04:04:41,340 - INFO - 2291996958 - Downloading 'book' from https://storage.googleapis.com/quickdraw_dataset/full/binary/book.bin to ./data/full_binary_book.bin...\n"
     ]
    },
    {
     "data": {
      "application/vnd.jupyter.widget-view+json": {
       "model_id": "b5f2f4059738425d9b9beeff80255583",
       "version_major": 2,
       "version_minor": 0
      },
      "text/plain": [
       "book:   0%|          | 0.00/13.5M [00:00<?, ?iB/s]"
      ]
     },
     "metadata": {},
     "output_type": "display_data"
    },
    {
     "name": "stderr",
     "output_type": "stream",
     "text": [
      "2025-09-11 04:04:44,864 - INFO - 2291996958 - Successfully downloaded 'book'.\n",
      "2025-09-11 04:04:44,867 - INFO - 2291996958 - Downloading 'boomerang' from https://storage.googleapis.com/quickdraw_dataset/full/binary/boomerang.bin to ./data/full_binary_boomerang.bin...\n"
     ]
    },
    {
     "data": {
      "application/vnd.jupyter.widget-view+json": {
       "model_id": "2d10750c8a2c4032bac39e9f1bb98e91",
       "version_major": 2,
       "version_minor": 0
      },
      "text/plain": [
       "boomerang:   0%|          | 0.00/10.3M [00:00<?, ?iB/s]"
      ]
     },
     "metadata": {},
     "output_type": "display_data"
    },
    {
     "name": "stderr",
     "output_type": "stream",
     "text": [
      "2025-09-11 04:04:47,984 - INFO - 2291996958 - Successfully downloaded 'boomerang'.\n",
      "2025-09-11 04:04:47,985 - INFO - 2291996958 - Downloading 'bottlecap' from https://storage.googleapis.com/quickdraw_dataset/full/binary/bottlecap.bin to ./data/full_binary_bottlecap.bin...\n"
     ]
    },
    {
     "data": {
      "application/vnd.jupyter.widget-view+json": {
       "model_id": "fef84f48838349bcbb60f64ed2f91359",
       "version_major": 2,
       "version_minor": 0
      },
      "text/plain": [
       "bottlecap:   0%|          | 0.00/17.1M [00:00<?, ?iB/s]"
      ]
     },
     "metadata": {},
     "output_type": "display_data"
    },
    {
     "name": "stderr",
     "output_type": "stream",
     "text": [
      "2025-09-11 04:04:51,603 - INFO - 2291996958 - Successfully downloaded 'bottlecap'.\n",
      "2025-09-11 04:04:51,604 - INFO - 2291996958 - Downloading 'bowtie' from https://storage.googleapis.com/quickdraw_dataset/full/binary/bowtie.bin to ./data/full_binary_bowtie.bin...\n"
     ]
    },
    {
     "data": {
      "application/vnd.jupyter.widget-view+json": {
       "model_id": "de91c636efa9458a9099d7d5c04ff9d9",
       "version_major": 2,
       "version_minor": 0
      },
      "text/plain": [
       "bowtie:   0%|          | 0.00/11.8M [00:00<?, ?iB/s]"
      ]
     },
     "metadata": {},
     "output_type": "display_data"
    },
    {
     "name": "stderr",
     "output_type": "stream",
     "text": [
      "2025-09-11 04:04:54,740 - INFO - 2291996958 - Successfully downloaded 'bowtie'.\n",
      "2025-09-11 04:04:54,741 - INFO - 2291996958 - Downloading 'bracelet' from https://storage.googleapis.com/quickdraw_dataset/full/binary/bracelet.bin to ./data/full_binary_bracelet.bin...\n"
     ]
    },
    {
     "data": {
      "application/vnd.jupyter.widget-view+json": {
       "model_id": "e9532ede17624fde9b46d0c379090505",
       "version_major": 2,
       "version_minor": 0
      },
      "text/plain": [
       "bracelet:   0%|          | 0.00/20.2M [00:00<?, ?iB/s]"
      ]
     },
     "metadata": {},
     "output_type": "display_data"
    },
    {
     "name": "stderr",
     "output_type": "stream",
     "text": [
      "2025-09-11 04:04:58,660 - INFO - 2291996958 - Successfully downloaded 'bracelet'.\n",
      "2025-09-11 04:04:58,661 - INFO - 2291996958 - Downloading 'brain' from https://storage.googleapis.com/quickdraw_dataset/full/binary/brain.bin to ./data/full_binary_brain.bin...\n"
     ]
    },
    {
     "data": {
      "application/vnd.jupyter.widget-view+json": {
       "model_id": "860dea54554148149703eea3b1baccea",
       "version_major": 2,
       "version_minor": 0
      },
      "text/plain": [
       "brain:   0%|          | 0.00/27.8M [00:00<?, ?iB/s]"
      ]
     },
     "metadata": {},
     "output_type": "display_data"
    },
    {
     "name": "stderr",
     "output_type": "stream",
     "text": [
      "2025-09-11 04:05:03,268 - INFO - 2291996958 - Successfully downloaded 'brain'.\n",
      "2025-09-11 04:05:03,269 - INFO - 2291996958 - Downloading 'bread' from https://storage.googleapis.com/quickdraw_dataset/full/binary/bread.bin to ./data/full_binary_bread.bin...\n"
     ]
    },
    {
     "data": {
      "application/vnd.jupyter.widget-view+json": {
       "model_id": "8a9a22437aaa48d39cc9c775b0ff11eb",
       "version_major": 2,
       "version_minor": 0
      },
      "text/plain": [
       "bread:   0%|          | 0.00/9.28M [00:00<?, ?iB/s]"
      ]
     },
     "metadata": {},
     "output_type": "display_data"
    },
    {
     "name": "stderr",
     "output_type": "stream",
     "text": [
      "2025-09-11 04:05:06,150 - INFO - 2291996958 - Successfully downloaded 'bread'.\n",
      "2025-09-11 04:05:06,151 - INFO - 2291996958 - Downloading 'bridge' from https://storage.googleapis.com/quickdraw_dataset/full/binary/bridge.bin to ./data/full_binary_bridge.bin...\n"
     ]
    },
    {
     "data": {
      "application/vnd.jupyter.widget-view+json": {
       "model_id": "3ba165f1c2cb4b43970ae49417a8a3be",
       "version_major": 2,
       "version_minor": 0
      },
      "text/plain": [
       "bridge:   0%|          | 0.00/12.2M [00:00<?, ?iB/s]"
      ]
     },
     "metadata": {},
     "output_type": "display_data"
    },
    {
     "name": "stderr",
     "output_type": "stream",
     "text": [
      "2025-09-11 04:05:10,497 - INFO - 2291996958 - Successfully downloaded 'bridge'.\n",
      "2025-09-11 04:05:10,498 - INFO - 2291996958 - Downloading 'broccoli' from https://storage.googleapis.com/quickdraw_dataset/full/binary/broccoli.bin to ./data/full_binary_broccoli.bin...\n"
     ]
    },
    {
     "data": {
      "application/vnd.jupyter.widget-view+json": {
       "model_id": "2fc0c06103b44dc48c7b46f7673daa13",
       "version_major": 2,
       "version_minor": 0
      },
      "text/plain": [
       "broccoli:   0%|          | 0.00/24.3M [00:00<?, ?iB/s]"
      ]
     },
     "metadata": {},
     "output_type": "display_data"
    },
    {
     "name": "stderr",
     "output_type": "stream",
     "text": [
      "2025-09-11 04:05:14,720 - INFO - 2291996958 - Successfully downloaded 'broccoli'.\n",
      "2025-09-11 04:05:14,723 - INFO - 2291996958 - Downloading 'broom' from https://storage.googleapis.com/quickdraw_dataset/full/binary/broom.bin to ./data/full_binary_broom.bin...\n"
     ]
    },
    {
     "data": {
      "application/vnd.jupyter.widget-view+json": {
       "model_id": "28282591daa84f91a7d473b972eaac00",
       "version_major": 2,
       "version_minor": 0
      },
      "text/plain": [
       "broom:   0%|          | 0.00/11.3M [00:00<?, ?iB/s]"
      ]
     },
     "metadata": {},
     "output_type": "display_data"
    },
    {
     "name": "stderr",
     "output_type": "stream",
     "text": [
      "2025-09-11 04:05:17,612 - INFO - 2291996958 - Successfully downloaded 'broom'.\n",
      "2025-09-11 04:05:17,613 - INFO - 2291996958 - Downloading 'bucket' from https://storage.googleapis.com/quickdraw_dataset/full/binary/bucket.bin to ./data/full_binary_bucket.bin...\n"
     ]
    },
    {
     "data": {
      "application/vnd.jupyter.widget-view+json": {
       "model_id": "772a613418fd4c7fb4cf8844ea51aa0b",
       "version_major": 2,
       "version_minor": 0
      },
      "text/plain": [
       "bucket:   0%|          | 0.00/10.9M [00:00<?, ?iB/s]"
      ]
     },
     "metadata": {},
     "output_type": "display_data"
    },
    {
     "name": "stderr",
     "output_type": "stream",
     "text": [
      "2025-09-11 04:05:20,700 - INFO - 2291996958 - Successfully downloaded 'bucket'.\n",
      "2025-09-11 04:05:20,702 - INFO - 2291996958 - Downloading 'bulldozer' from https://storage.googleapis.com/quickdraw_dataset/full/binary/bulldozer.bin to ./data/full_binary_bulldozer.bin...\n"
     ]
    },
    {
     "data": {
      "application/vnd.jupyter.widget-view+json": {
       "model_id": "4d20f5ede928482cbcf6f90815043f6b",
       "version_major": 2,
       "version_minor": 0
      },
      "text/plain": [
       "bulldozer:   0%|          | 0.00/27.3M [00:00<?, ?iB/s]"
      ]
     },
     "metadata": {},
     "output_type": "display_data"
    },
    {
     "name": "stderr",
     "output_type": "stream",
     "text": [
      "2025-09-11 04:05:25,054 - INFO - 2291996958 - Successfully downloaded 'bulldozer'.\n",
      "2025-09-11 04:05:25,055 - INFO - 2291996958 - Downloading 'bus' from https://storage.googleapis.com/quickdraw_dataset/full/binary/bus.bin to ./data/full_binary_bus.bin...\n"
     ]
    },
    {
     "data": {
      "application/vnd.jupyter.widget-view+json": {
       "model_id": "15e7c33478e4486f9c8df099523ae833",
       "version_major": 2,
       "version_minor": 0
      },
      "text/plain": [
       "bus:   0%|          | 0.00/24.1M [00:00<?, ?iB/s]"
      ]
     },
     "metadata": {},
     "output_type": "display_data"
    },
    {
     "name": "stderr",
     "output_type": "stream",
     "text": [
      "2025-09-11 04:05:29,157 - INFO - 2291996958 - Successfully downloaded 'bus'.\n",
      "2025-09-11 04:05:29,158 - INFO - 2291996958 - Downloading 'bush' from https://storage.googleapis.com/quickdraw_dataset/full/binary/bush.bin to ./data/full_binary_bush.bin...\n"
     ]
    },
    {
     "data": {
      "application/vnd.jupyter.widget-view+json": {
       "model_id": "77704e155e3e4b06a8226a954ab2e63d",
       "version_major": 2,
       "version_minor": 0
      },
      "text/plain": [
       "bush:   0%|          | 0.00/17.6M [00:00<?, ?iB/s]"
      ]
     },
     "metadata": {},
     "output_type": "display_data"
    },
    {
     "name": "stderr",
     "output_type": "stream",
     "text": [
      "2025-09-11 04:05:33,202 - INFO - 2291996958 - Successfully downloaded 'bush'.\n",
      "2025-09-11 04:05:33,206 - INFO - 2291996958 - Downloading 'butterfly' from https://storage.googleapis.com/quickdraw_dataset/full/binary/butterfly.bin to ./data/full_binary_butterfly.bin...\n"
     ]
    },
    {
     "data": {
      "application/vnd.jupyter.widget-view+json": {
       "model_id": "2d15334d2f6243c0b9846c05f8fb88c1",
       "version_major": 2,
       "version_minor": 0
      },
      "text/plain": [
       "butterfly:   0%|          | 0.00/15.6M [00:00<?, ?iB/s]"
      ]
     },
     "metadata": {},
     "output_type": "display_data"
    },
    {
     "name": "stderr",
     "output_type": "stream",
     "text": [
      "2025-09-11 04:05:36,718 - INFO - 2291996958 - Successfully downloaded 'butterfly'.\n",
      "2025-09-11 04:05:36,719 - INFO - 2291996958 - Downloading 'cactus' from https://storage.googleapis.com/quickdraw_dataset/full/binary/cactus.bin to ./data/full_binary_cactus.bin...\n"
     ]
    },
    {
     "data": {
      "application/vnd.jupyter.widget-view+json": {
       "model_id": "5acacb33395741c3abeda1481722e407",
       "version_major": 2,
       "version_minor": 0
      },
      "text/plain": [
       "cactus:   0%|          | 0.00/14.5M [00:00<?, ?iB/s]"
      ]
     },
     "metadata": {},
     "output_type": "display_data"
    },
    {
     "name": "stderr",
     "output_type": "stream",
     "text": [
      "2025-09-11 04:05:38,534 - INFO - 2291996958 - Successfully downloaded 'cactus'.\n",
      "2025-09-11 04:05:38,535 - INFO - 2291996958 - Downloading 'cake' from https://storage.googleapis.com/quickdraw_dataset/full/binary/cake.bin to ./data/full_binary_cake.bin...\n"
     ]
    },
    {
     "data": {
      "application/vnd.jupyter.widget-view+json": {
       "model_id": "1fd7ddaa68fa451091371bb38989f2a8",
       "version_major": 2,
       "version_minor": 0
      },
      "text/plain": [
       "cake:   0%|          | 0.00/17.0M [00:00<?, ?iB/s]"
      ]
     },
     "metadata": {},
     "output_type": "display_data"
    },
    {
     "name": "stderr",
     "output_type": "stream",
     "text": [
      "2025-09-11 04:05:42,262 - INFO - 2291996958 - Successfully downloaded 'cake'.\n",
      "2025-09-11 04:05:42,263 - INFO - 2291996958 - Downloading 'calculator' from https://storage.googleapis.com/quickdraw_dataset/full/binary/calculator.bin to ./data/full_binary_calculator.bin...\n"
     ]
    },
    {
     "data": {
      "application/vnd.jupyter.widget-view+json": {
       "model_id": "ec0e057145604cbf92118f12f38dbee5",
       "version_major": 2,
       "version_minor": 0
      },
      "text/plain": [
       "calculator:   0%|          | 0.00/17.0M [00:00<?, ?iB/s]"
      ]
     },
     "metadata": {},
     "output_type": "display_data"
    },
    {
     "name": "stderr",
     "output_type": "stream",
     "text": [
      "2025-09-11 04:05:45,739 - INFO - 2291996958 - Successfully downloaded 'calculator'.\n",
      "2025-09-11 04:05:45,742 - INFO - 2291996958 - Downloading 'calendar' from https://storage.googleapis.com/quickdraw_dataset/full/binary/calendar.bin to ./data/full_binary_calendar.bin...\n"
     ]
    },
    {
     "data": {
      "application/vnd.jupyter.widget-view+json": {
       "model_id": "f95a073597d14ee88b5ebc08bb5da63d",
       "version_major": 2,
       "version_minor": 0
      },
      "text/plain": [
       "calendar:   0%|          | 0.00/45.0M [00:00<?, ?iB/s]"
      ]
     },
     "metadata": {},
     "output_type": "display_data"
    },
    {
     "name": "stderr",
     "output_type": "stream",
     "text": [
      "2025-09-11 04:05:51,091 - INFO - 2291996958 - Successfully downloaded 'calendar'.\n",
      "2025-09-11 04:05:51,092 - INFO - 2291996958 - Downloading 'camel' from https://storage.googleapis.com/quickdraw_dataset/full/binary/camel.bin to ./data/full_binary_camel.bin...\n"
     ]
    },
    {
     "data": {
      "application/vnd.jupyter.widget-view+json": {
       "model_id": "9924039beb2f468dafb9153c435ec3ad",
       "version_major": 2,
       "version_minor": 0
      },
      "text/plain": [
       "camel:   0%|          | 0.00/13.3M [00:00<?, ?iB/s]"
      ]
     },
     "metadata": {},
     "output_type": "display_data"
    },
    {
     "name": "stderr",
     "output_type": "stream",
     "text": [
      "2025-09-11 04:05:54,362 - INFO - 2291996958 - Successfully downloaded 'camel'.\n",
      "2025-09-11 04:05:54,365 - INFO - 2291996958 - Downloading 'camera' from https://storage.googleapis.com/quickdraw_dataset/full/binary/camera.bin to ./data/full_binary_camera.bin...\n"
     ]
    },
    {
     "data": {
      "application/vnd.jupyter.widget-view+json": {
       "model_id": "116b36e47caa46378461a44ba07efc76",
       "version_major": 2,
       "version_minor": 0
      },
      "text/plain": [
       "camera:   0%|          | 0.00/13.0M [00:00<?, ?iB/s]"
      ]
     },
     "metadata": {},
     "output_type": "display_data"
    },
    {
     "name": "stderr",
     "output_type": "stream",
     "text": [
      "2025-09-11 04:05:57,447 - INFO - 2291996958 - Successfully downloaded 'camera'.\n",
      "2025-09-11 04:05:57,448 - INFO - 2291996958 - Downloading 'campfire' from https://storage.googleapis.com/quickdraw_dataset/full/binary/campfire.bin to ./data/full_binary_campfire.bin...\n"
     ]
    },
    {
     "data": {
      "application/vnd.jupyter.widget-view+json": {
       "model_id": "a40e4b4454b84e7c9e3bcac9dd6db55d",
       "version_major": 2,
       "version_minor": 0
      },
      "text/plain": [
       "campfire:   0%|          | 0.00/20.2M [00:00<?, ?iB/s]"
      ]
     },
     "metadata": {},
     "output_type": "display_data"
    },
    {
     "name": "stderr",
     "output_type": "stream",
     "text": [
      "2025-09-11 04:06:01,267 - INFO - 2291996958 - Successfully downloaded 'campfire'.\n",
      "2025-09-11 04:06:01,269 - INFO - 2291996958 - Downloading 'candle' from https://storage.googleapis.com/quickdraw_dataset/full/binary/candle.bin to ./data/full_binary_candle.bin...\n"
     ]
    },
    {
     "data": {
      "application/vnd.jupyter.widget-view+json": {
       "model_id": "a9072541deb7494093b517c2dcafbc4d",
       "version_major": 2,
       "version_minor": 0
      },
      "text/plain": [
       "candle:   0%|          | 0.00/11.2M [00:00<?, ?iB/s]"
      ]
     },
     "metadata": {},
     "output_type": "display_data"
    },
    {
     "name": "stderr",
     "output_type": "stream",
     "text": [
      "2025-09-11 04:06:04,454 - INFO - 2291996958 - Successfully downloaded 'candle'.\n",
      "2025-09-11 04:06:04,455 - INFO - 2291996958 - Downloading 'cannon' from https://storage.googleapis.com/quickdraw_dataset/full/binary/cannon.bin to ./data/full_binary_cannon.bin...\n"
     ]
    },
    {
     "data": {
      "application/vnd.jupyter.widget-view+json": {
       "model_id": "4647d20c59ac42aba7cf29c470a357a9",
       "version_major": 2,
       "version_minor": 0
      },
      "text/plain": [
       "cannon:   0%|          | 0.00/17.8M [00:00<?, ?iB/s]"
      ]
     },
     "metadata": {},
     "output_type": "display_data"
    },
    {
     "name": "stderr",
     "output_type": "stream",
     "text": [
      "2025-09-11 04:06:07,900 - INFO - 2291996958 - Successfully downloaded 'cannon'.\n",
      "2025-09-11 04:06:07,901 - INFO - 2291996958 - Downloading 'canoe' from https://storage.googleapis.com/quickdraw_dataset/full/binary/canoe.bin to ./data/full_binary_canoe.bin...\n"
     ]
    },
    {
     "data": {
      "application/vnd.jupyter.widget-view+json": {
       "model_id": "6f40e05c3a0845da8b8c01fdc39fefe9",
       "version_major": 2,
       "version_minor": 0
      },
      "text/plain": [
       "canoe:   0%|          | 0.00/7.67M [00:00<?, ?iB/s]"
      ]
     },
     "metadata": {},
     "output_type": "display_data"
    },
    {
     "name": "stderr",
     "output_type": "stream",
     "text": [
      "2025-09-11 04:06:10,251 - INFO - 2291996958 - Successfully downloaded 'canoe'.\n",
      "2025-09-11 04:06:10,253 - INFO - 2291996958 - Downloading 'car' from https://storage.googleapis.com/quickdraw_dataset/full/binary/car.bin to ./data/full_binary_car.bin...\n"
     ]
    },
    {
     "data": {
      "application/vnd.jupyter.widget-view+json": {
       "model_id": "6469dfc936ef441094ad595aaffc5c6f",
       "version_major": 2,
       "version_minor": 0
      },
      "text/plain": [
       "car:   0%|          | 0.00/23.3M [00:00<?, ?iB/s]"
      ]
     },
     "metadata": {},
     "output_type": "display_data"
    },
    {
     "name": "stderr",
     "output_type": "stream",
     "text": [
      "2025-09-11 04:06:14,222 - INFO - 2291996958 - Successfully downloaded 'car'.\n",
      "2025-09-11 04:06:14,224 - INFO - 2291996958 - Downloading 'carrot' from https://storage.googleapis.com/quickdraw_dataset/full/binary/carrot.bin to ./data/full_binary_carrot.bin...\n"
     ]
    },
    {
     "data": {
      "application/vnd.jupyter.widget-view+json": {
       "model_id": "3d1818e97b504fd4b9bf84cb174f5d96",
       "version_major": 2,
       "version_minor": 0
      },
      "text/plain": [
       "carrot:   0%|          | 0.00/13.5M [00:00<?, ?iB/s]"
      ]
     },
     "metadata": {},
     "output_type": "display_data"
    },
    {
     "name": "stderr",
     "output_type": "stream",
     "text": [
      "2025-09-11 04:06:17,519 - INFO - 2291996958 - Successfully downloaded 'carrot'.\n",
      "2025-09-11 04:06:17,521 - INFO - 2291996958 - Downloading 'castle' from https://storage.googleapis.com/quickdraw_dataset/full/binary/castle.bin to ./data/full_binary_castle.bin...\n"
     ]
    },
    {
     "data": {
      "application/vnd.jupyter.widget-view+json": {
       "model_id": "7f35b0cf80734ea6882298ef4b888430",
       "version_major": 2,
       "version_minor": 0
      },
      "text/plain": [
       "castle:   0%|          | 0.00/11.7M [00:00<?, ?iB/s]"
      ]
     },
     "metadata": {},
     "output_type": "display_data"
    },
    {
     "name": "stderr",
     "output_type": "stream",
     "text": [
      "2025-09-11 04:06:20,740 - INFO - 2291996958 - Successfully downloaded 'castle'.\n",
      "2025-09-11 04:06:20,741 - INFO - 2291996958 - Downloading 'cat' from https://storage.googleapis.com/quickdraw_dataset/full/binary/cat.bin to ./data/full_binary_cat.bin...\n"
     ]
    },
    {
     "data": {
      "application/vnd.jupyter.widget-view+json": {
       "model_id": "b411c77efe504997a2dcfa0ce934e7fc",
       "version_major": 2,
       "version_minor": 0
      },
      "text/plain": [
       "cat:   0%|          | 0.00/18.7M [00:00<?, ?iB/s]"
      ]
     },
     "metadata": {},
     "output_type": "display_data"
    },
    {
     "name": "stderr",
     "output_type": "stream",
     "text": [
      "2025-09-11 04:06:24,350 - INFO - 2291996958 - Successfully downloaded 'cat'.\n",
      "2025-09-11 04:06:24,351 - INFO - 2291996958 - Downloading 'ceiling fan' from https://storage.googleapis.com/quickdraw_dataset/full/binary/ceiling%20fan.bin to ./data/full_binary_ceiling_fan.bin...\n"
     ]
    },
    {
     "data": {
      "application/vnd.jupyter.widget-view+json": {
       "model_id": "8a3dd20823ef4de1bb51dbc437b36995",
       "version_major": 2,
       "version_minor": 0
      },
      "text/plain": [
       "ceiling fan:   0%|          | 0.00/13.9M [00:00<?, ?iB/s]"
      ]
     },
     "metadata": {},
     "output_type": "display_data"
    },
    {
     "name": "stderr",
     "output_type": "stream",
     "text": [
      "2025-09-11 04:06:27,739 - INFO - 2291996958 - Successfully downloaded 'ceiling fan'.\n",
      "2025-09-11 04:06:27,741 - INFO - 2291996958 - Downloading 'cell phone' from https://storage.googleapis.com/quickdraw_dataset/full/binary/cell%20phone.bin to ./data/full_binary_cell_phone.bin...\n"
     ]
    },
    {
     "data": {
      "application/vnd.jupyter.widget-view+json": {
       "model_id": "6c2246ff9a724481b09b75acf8b834f4",
       "version_major": 2,
       "version_minor": 0
      },
      "text/plain": [
       "cell phone:   0%|          | 0.00/13.1M [00:00<?, ?iB/s]"
      ]
     },
     "metadata": {},
     "output_type": "display_data"
    },
    {
     "name": "stderr",
     "output_type": "stream",
     "text": [
      "2025-09-11 04:06:30,959 - INFO - 2291996958 - Successfully downloaded 'cell phone'.\n",
      "2025-09-11 04:06:30,960 - INFO - 2291996958 - Downloading 'cello' from https://storage.googleapis.com/quickdraw_dataset/full/binary/cello.bin to ./data/full_binary_cello.bin...\n"
     ]
    },
    {
     "data": {
      "application/vnd.jupyter.widget-view+json": {
       "model_id": "af3e917ab4354e3781cec691e07a727e",
       "version_major": 2,
       "version_minor": 0
      },
      "text/plain": [
       "cello:   0%|          | 0.00/19.2M [00:00<?, ?iB/s]"
      ]
     },
     "metadata": {},
     "output_type": "display_data"
    },
    {
     "name": "stderr",
     "output_type": "stream",
     "text": [
      "2025-09-11 04:06:34,561 - INFO - 2291996958 - Successfully downloaded 'cello'.\n",
      "2025-09-11 04:06:34,563 - INFO - 2291996958 - Downloading 'chair' from https://storage.googleapis.com/quickdraw_dataset/full/binary/chair.bin to ./data/full_binary_chair.bin...\n"
     ]
    },
    {
     "data": {
      "application/vnd.jupyter.widget-view+json": {
       "model_id": "e9b24df1536e41708e3aea51ccb5ebcc",
       "version_major": 2,
       "version_minor": 0
      },
      "text/plain": [
       "chair:   0%|          | 0.00/16.8M [00:00<?, ?iB/s]"
      ]
     },
     "metadata": {},
     "output_type": "display_data"
    },
    {
     "name": "stderr",
     "output_type": "stream",
     "text": [
      "2025-09-11 04:06:37,997 - INFO - 2291996958 - Successfully downloaded 'chair'.\n",
      "2025-09-11 04:06:37,999 - INFO - 2291996958 - Downloading 'chandelier' from https://storage.googleapis.com/quickdraw_dataset/full/binary/chandelier.bin to ./data/full_binary_chandelier.bin...\n"
     ]
    },
    {
     "data": {
      "application/vnd.jupyter.widget-view+json": {
       "model_id": "240c197a9d5e444aba97a12b6df64e80",
       "version_major": 2,
       "version_minor": 0
      },
      "text/plain": [
       "chandelier:   0%|          | 0.00/21.1M [00:00<?, ?iB/s]"
      ]
     },
     "metadata": {},
     "output_type": "display_data"
    },
    {
     "name": "stderr",
     "output_type": "stream",
     "text": [
      "2025-09-11 04:06:41,741 - INFO - 2291996958 - Successfully downloaded 'chandelier'.\n",
      "2025-09-11 04:06:41,745 - INFO - 2291996958 - Downloading 'church' from https://storage.googleapis.com/quickdraw_dataset/full/binary/church.bin to ./data/full_binary_church.bin...\n"
     ]
    },
    {
     "data": {
      "application/vnd.jupyter.widget-view+json": {
       "model_id": "24dc841540654ee48890aa9cb27fdb28",
       "version_major": 2,
       "version_minor": 0
      },
      "text/plain": [
       "church:   0%|          | 0.00/15.1M [00:00<?, ?iB/s]"
      ]
     },
     "metadata": {},
     "output_type": "display_data"
    },
    {
     "name": "stderr",
     "output_type": "stream",
     "text": [
      "2025-09-11 04:06:45,052 - INFO - 2291996958 - Successfully downloaded 'church'.\n",
      "2025-09-11 04:06:45,055 - INFO - 2291996958 - Downloading 'circle' from https://storage.googleapis.com/quickdraw_dataset/full/binary/circle.bin to ./data/full_binary_circle.bin...\n"
     ]
    },
    {
     "data": {
      "application/vnd.jupyter.widget-view+json": {
       "model_id": "d48c5aeed0164f67b9310bb87dc0d517",
       "version_major": 2,
       "version_minor": 0
      },
      "text/plain": [
       "circle:   0%|          | 0.00/8.56M [00:00<?, ?iB/s]"
      ]
     },
     "metadata": {},
     "output_type": "display_data"
    },
    {
     "name": "stderr",
     "output_type": "stream",
     "text": [
      "2025-09-11 04:06:47,944 - INFO - 2291996958 - Successfully downloaded 'circle'.\n",
      "2025-09-11 04:06:47,948 - INFO - 2291996958 - Downloading 'clock' from https://storage.googleapis.com/quickdraw_dataset/full/binary/clock.bin to ./data/full_binary_clock.bin...\n"
     ]
    },
    {
     "data": {
      "application/vnd.jupyter.widget-view+json": {
       "model_id": "fd9bd7f6bd4c41338e83dbb7aa6a66df",
       "version_major": 2,
       "version_minor": 0
      },
      "text/plain": [
       "clock:   0%|          | 0.00/12.3M [00:00<?, ?iB/s]"
      ]
     },
     "metadata": {},
     "output_type": "display_data"
    },
    {
     "name": "stderr",
     "output_type": "stream",
     "text": [
      "2025-09-11 04:06:51,419 - INFO - 2291996958 - Successfully downloaded 'clock'.\n",
      "2025-09-11 04:06:51,422 - INFO - 2291996958 - Downloading 'cloud' from https://storage.googleapis.com/quickdraw_dataset/full/binary/cloud.bin to ./data/full_binary_cloud.bin...\n"
     ]
    },
    {
     "data": {
      "application/vnd.jupyter.widget-view+json": {
       "model_id": "cb6b047301084196842288e8cda3647f",
       "version_major": 2,
       "version_minor": 0
      },
      "text/plain": [
       "cloud:   0%|          | 0.00/12.7M [00:00<?, ?iB/s]"
      ]
     },
     "metadata": {},
     "output_type": "display_data"
    },
    {
     "name": "stderr",
     "output_type": "stream",
     "text": [
      "2025-09-11 04:06:54,729 - INFO - 2291996958 - Successfully downloaded 'cloud'.\n",
      "2025-09-11 04:06:54,734 - INFO - 2291996958 - Downloading 'coffee cup' from https://storage.googleapis.com/quickdraw_dataset/full/binary/coffee%20cup.bin to ./data/full_binary_coffee_cup.bin...\n"
     ]
    },
    {
     "data": {
      "application/vnd.jupyter.widget-view+json": {
       "model_id": "dee9fc0f28244290a9fb1123642bc0cf",
       "version_major": 2,
       "version_minor": 0
      },
      "text/plain": [
       "coffee cup:   0%|          | 0.00/21.0M [00:00<?, ?iB/s]"
      ]
     },
     "metadata": {},
     "output_type": "display_data"
    },
    {
     "name": "stderr",
     "output_type": "stream",
     "text": [
      "2025-09-11 04:06:58,417 - INFO - 2291996958 - Successfully downloaded 'coffee cup'.\n",
      "2025-09-11 04:06:58,422 - INFO - 2291996958 - Downloading 'compass' from https://storage.googleapis.com/quickdraw_dataset/full/binary/compass.bin to ./data/full_binary_compass.bin...\n"
     ]
    },
    {
     "data": {
      "application/vnd.jupyter.widget-view+json": {
       "model_id": "52f558475ac94b67a8c0f50065fe1992",
       "version_major": 2,
       "version_minor": 0
      },
      "text/plain": [
       "compass:   0%|          | 0.00/15.6M [00:00<?, ?iB/s]"
      ]
     },
     "metadata": {},
     "output_type": "display_data"
    },
    {
     "name": "stderr",
     "output_type": "stream",
     "text": [
      "2025-09-11 04:07:01,772 - INFO - 2291996958 - Successfully downloaded 'compass'.\n",
      "2025-09-11 04:07:01,781 - INFO - 2291996958 - Downloading 'computer' from https://storage.googleapis.com/quickdraw_dataset/full/binary/computer.bin to ./data/full_binary_computer.bin...\n"
     ]
    },
    {
     "data": {
      "application/vnd.jupyter.widget-view+json": {
       "model_id": "6152c84204a746e7af31d8022ed51c64",
       "version_major": 2,
       "version_minor": 0
      },
      "text/plain": [
       "computer:   0%|          | 0.00/13.6M [00:00<?, ?iB/s]"
      ]
     },
     "metadata": {},
     "output_type": "display_data"
    },
    {
     "name": "stderr",
     "output_type": "stream",
     "text": [
      "2025-09-11 04:07:06,223 - INFO - 2291996958 - Successfully downloaded 'computer'.\n",
      "2025-09-11 04:07:06,225 - INFO - 2291996958 - Downloading 'cookie' from https://storage.googleapis.com/quickdraw_dataset/full/binary/cookie.bin to ./data/full_binary_cookie.bin...\n"
     ]
    },
    {
     "data": {
      "application/vnd.jupyter.widget-view+json": {
       "model_id": "aaaaf410576d434d970f286d01d7be4f",
       "version_major": 2,
       "version_minor": 0
      },
      "text/plain": [
       "cookie:   0%|          | 0.00/19.7M [00:00<?, ?iB/s]"
      ]
     },
     "metadata": {},
     "output_type": "display_data"
    },
    {
     "name": "stderr",
     "output_type": "stream",
     "text": [
      "2025-09-11 04:07:10,581 - INFO - 2291996958 - Successfully downloaded 'cookie'.\n",
      "2025-09-11 04:07:10,584 - INFO - 2291996958 - Downloading 'cooler' from https://storage.googleapis.com/quickdraw_dataset/full/binary/cooler.bin to ./data/full_binary_cooler.bin...\n"
     ]
    },
    {
     "data": {
      "application/vnd.jupyter.widget-view+json": {
       "model_id": "cfaeac1348fc40e1818b3b31fd3d8546",
       "version_major": 2,
       "version_minor": 0
      },
      "text/plain": [
       "cooler:   0%|          | 0.00/28.7M [00:00<?, ?iB/s]"
      ]
     },
     "metadata": {},
     "output_type": "display_data"
    },
    {
     "name": "stderr",
     "output_type": "stream",
     "text": [
      "2025-09-11 04:07:14,725 - INFO - 2291996958 - Successfully downloaded 'cooler'.\n",
      "2025-09-11 04:07:14,727 - INFO - 2291996958 - Downloading 'couch' from https://storage.googleapis.com/quickdraw_dataset/full/binary/couch.bin to ./data/full_binary_couch.bin...\n"
     ]
    },
    {
     "data": {
      "application/vnd.jupyter.widget-view+json": {
       "model_id": "04861858cd704abca47935f46e051c01",
       "version_major": 2,
       "version_minor": 0
      },
      "text/plain": [
       "couch:   0%|          | 0.00/13.3M [00:00<?, ?iB/s]"
      ]
     },
     "metadata": {},
     "output_type": "display_data"
    },
    {
     "name": "stderr",
     "output_type": "stream",
     "text": [
      "2025-09-11 04:07:16,895 - INFO - 2291996958 - Successfully downloaded 'couch'.\n",
      "2025-09-11 04:07:16,897 - INFO - 2291996958 - Downloading 'cow' from https://storage.googleapis.com/quickdraw_dataset/full/binary/cow.bin to ./data/full_binary_cow.bin...\n"
     ]
    },
    {
     "data": {
      "application/vnd.jupyter.widget-view+json": {
       "model_id": "4fff1365d3484d258d0f0ec0c0e9f0b9",
       "version_major": 2,
       "version_minor": 0
      },
      "text/plain": [
       "cow:   0%|          | 0.00/24.4M [00:00<?, ?iB/s]"
      ]
     },
     "metadata": {},
     "output_type": "display_data"
    },
    {
     "name": "stderr",
     "output_type": "stream",
     "text": [
      "2025-09-11 04:07:20,824 - INFO - 2291996958 - Successfully downloaded 'cow'.\n",
      "2025-09-11 04:07:20,826 - INFO - 2291996958 - Downloading 'crab' from https://storage.googleapis.com/quickdraw_dataset/full/binary/crab.bin to ./data/full_binary_crab.bin...\n"
     ]
    },
    {
     "data": {
      "application/vnd.jupyter.widget-view+json": {
       "model_id": "c8b1dff42cc74e45865de7bd3bd135be",
       "version_major": 2,
       "version_minor": 0
      },
      "text/plain": [
       "crab:   0%|          | 0.00/19.9M [00:00<?, ?iB/s]"
      ]
     },
     "metadata": {},
     "output_type": "display_data"
    },
    {
     "name": "stderr",
     "output_type": "stream",
     "text": [
      "2025-09-11 04:07:24,431 - INFO - 2291996958 - Successfully downloaded 'crab'.\n",
      "2025-09-11 04:07:24,432 - INFO - 2291996958 - Downloading 'crayon' from https://storage.googleapis.com/quickdraw_dataset/full/binary/crayon.bin to ./data/full_binary_crayon.bin...\n"
     ]
    },
    {
     "data": {
      "application/vnd.jupyter.widget-view+json": {
       "model_id": "acca87712dc74cb29d321a0a1ca3abf0",
       "version_major": 2,
       "version_minor": 0
      },
      "text/plain": [
       "crayon:   0%|          | 0.00/10.8M [00:00<?, ?iB/s]"
      ]
     },
     "metadata": {},
     "output_type": "display_data"
    },
    {
     "name": "stderr",
     "output_type": "stream",
     "text": [
      "2025-09-11 04:07:27,445 - INFO - 2291996958 - Successfully downloaded 'crayon'.\n",
      "2025-09-11 04:07:27,447 - INFO - 2291996958 - Downloading 'crocodile' from https://storage.googleapis.com/quickdraw_dataset/full/binary/crocodile.bin to ./data/full_binary_crocodile.bin...\n"
     ]
    },
    {
     "data": {
      "application/vnd.jupyter.widget-view+json": {
       "model_id": "d2a0fcf795a3405f9af6b024035d1510",
       "version_major": 2,
       "version_minor": 0
      },
      "text/plain": [
       "crocodile:   0%|          | 0.00/14.4M [00:00<?, ?iB/s]"
      ]
     },
     "metadata": {},
     "output_type": "display_data"
    },
    {
     "name": "stderr",
     "output_type": "stream",
     "text": [
      "2025-09-11 04:07:30,753 - INFO - 2291996958 - Successfully downloaded 'crocodile'.\n",
      "2025-09-11 04:07:30,754 - INFO - 2291996958 - Downloading 'crown' from https://storage.googleapis.com/quickdraw_dataset/full/binary/crown.bin to ./data/full_binary_crown.bin...\n"
     ]
    },
    {
     "data": {
      "application/vnd.jupyter.widget-view+json": {
       "model_id": "b3ae350fdbb6437ea7c4e74374ba0e9d",
       "version_major": 2,
       "version_minor": 0
      },
      "text/plain": [
       "crown:   0%|          | 0.00/11.1M [00:00<?, ?iB/s]"
      ]
     },
     "metadata": {},
     "output_type": "display_data"
    },
    {
     "name": "stderr",
     "output_type": "stream",
     "text": [
      "2025-09-11 04:07:34,019 - INFO - 2291996958 - Successfully downloaded 'crown'.\n",
      "2025-09-11 04:07:34,020 - INFO - 2291996958 - Downloading 'cruise ship' from https://storage.googleapis.com/quickdraw_dataset/full/binary/cruise%20ship.bin to ./data/full_binary_cruise_ship.bin...\n"
     ]
    },
    {
     "data": {
      "application/vnd.jupyter.widget-view+json": {
       "model_id": "69cf5e1036064fa689b13ba8013e901c",
       "version_major": 2,
       "version_minor": 0
      },
      "text/plain": [
       "cruise ship:   0%|          | 0.00/12.3M [00:00<?, ?iB/s]"
      ]
     },
     "metadata": {},
     "output_type": "display_data"
    },
    {
     "name": "stderr",
     "output_type": "stream",
     "text": [
      "2025-09-11 04:07:37,263 - INFO - 2291996958 - Successfully downloaded 'cruise ship'.\n",
      "2025-09-11 04:07:37,264 - INFO - 2291996958 - Downloading 'cup' from https://storage.googleapis.com/quickdraw_dataset/full/binary/cup.bin to ./data/full_binary_cup.bin...\n"
     ]
    },
    {
     "data": {
      "application/vnd.jupyter.widget-view+json": {
       "model_id": "96ade9bde8f94bdf8a0bdb1a88ff76d5",
       "version_major": 2,
       "version_minor": 0
      },
      "text/plain": [
       "cup:   0%|          | 0.00/12.1M [00:00<?, ?iB/s]"
      ]
     },
     "metadata": {},
     "output_type": "display_data"
    },
    {
     "name": "stderr",
     "output_type": "stream",
     "text": [
      "2025-09-11 04:07:40,494 - INFO - 2291996958 - Successfully downloaded 'cup'.\n",
      "2025-09-11 04:07:40,495 - INFO - 2291996958 - Downloading 'diamond' from https://storage.googleapis.com/quickdraw_dataset/full/binary/diamond.bin to ./data/full_binary_diamond.bin...\n"
     ]
    },
    {
     "data": {
      "application/vnd.jupyter.widget-view+json": {
       "model_id": "e7d271688bf64166b1b96db459e9883c",
       "version_major": 2,
       "version_minor": 0
      },
      "text/plain": [
       "diamond:   0%|          | 0.00/9.37M [00:00<?, ?iB/s]"
      ]
     },
     "metadata": {},
     "output_type": "display_data"
    },
    {
     "name": "stderr",
     "output_type": "stream",
     "text": [
      "2025-09-11 04:07:43,466 - INFO - 2291996958 - Successfully downloaded 'diamond'.\n",
      "2025-09-11 04:07:43,470 - INFO - 2291996958 - Downloading 'diving board' from https://storage.googleapis.com/quickdraw_dataset/full/binary/diving%20board.bin to ./data/full_binary_diving_board.bin...\n"
     ]
    },
    {
     "data": {
      "application/vnd.jupyter.widget-view+json": {
       "model_id": "71d40ff09a0548b7a3b2ca3ab6ebb799",
       "version_major": 2,
       "version_minor": 0
      },
      "text/plain": [
       "diving board:   0%|          | 0.00/22.6M [00:00<?, ?iB/s]"
      ]
     },
     "metadata": {},
     "output_type": "display_data"
    },
    {
     "name": "stderr",
     "output_type": "stream",
     "text": [
      "2025-09-11 04:07:47,373 - INFO - 2291996958 - Successfully downloaded 'diving board'.\n",
      "2025-09-11 04:07:47,375 - INFO - 2291996958 - Downloading 'dog' from https://storage.googleapis.com/quickdraw_dataset/full/binary/dog.bin to ./data/full_binary_dog.bin...\n"
     ]
    },
    {
     "data": {
      "application/vnd.jupyter.widget-view+json": {
       "model_id": "46a1458ff29044afac0ea3d00a5a8bf5",
       "version_major": 2,
       "version_minor": 0
      },
      "text/plain": [
       "dog:   0%|          | 0.00/22.4M [00:00<?, ?iB/s]"
      ]
     },
     "metadata": {},
     "output_type": "display_data"
    },
    {
     "name": "stderr",
     "output_type": "stream",
     "text": [
      "2025-09-11 04:07:51,499 - INFO - 2291996958 - Successfully downloaded 'dog'.\n",
      "2025-09-11 04:07:51,500 - INFO - 2291996958 - Downloading 'dolphin' from https://storage.googleapis.com/quickdraw_dataset/full/binary/dolphin.bin to ./data/full_binary_dolphin.bin...\n"
     ]
    },
    {
     "data": {
      "application/vnd.jupyter.widget-view+json": {
       "model_id": "78a179eecec245f3b3f10951bdd1d771",
       "version_major": 2,
       "version_minor": 0
      },
      "text/plain": [
       "dolphin:   0%|          | 0.00/11.0M [00:00<?, ?iB/s]"
      ]
     },
     "metadata": {},
     "output_type": "display_data"
    },
    {
     "name": "stderr",
     "output_type": "stream",
     "text": [
      "2025-09-11 04:07:55,695 - INFO - 2291996958 - Successfully downloaded 'dolphin'.\n",
      "2025-09-11 04:07:55,696 - INFO - 2291996958 - Downloading 'donut' from https://storage.googleapis.com/quickdraw_dataset/full/binary/donut.bin to ./data/full_binary_donut.bin...\n"
     ]
    },
    {
     "data": {
      "application/vnd.jupyter.widget-view+json": {
       "model_id": "e05ed8f5854f490a97259285c45b2969",
       "version_major": 2,
       "version_minor": 0
      },
      "text/plain": [
       "donut:   0%|          | 0.00/16.1M [00:00<?, ?iB/s]"
      ]
     },
     "metadata": {},
     "output_type": "display_data"
    },
    {
     "name": "stderr",
     "output_type": "stream",
     "text": [
      "2025-09-11 04:08:00,161 - INFO - 2291996958 - Successfully downloaded 'donut'.\n",
      "2025-09-11 04:08:00,163 - INFO - 2291996958 - Downloading 'door' from https://storage.googleapis.com/quickdraw_dataset/full/binary/door.bin to ./data/full_binary_door.bin...\n"
     ]
    },
    {
     "data": {
      "application/vnd.jupyter.widget-view+json": {
       "model_id": "b0a92ab25d8a42cd8a5343b3928790a5",
       "version_major": 2,
       "version_minor": 0
      },
      "text/plain": [
       "door:   0%|          | 0.00/8.15M [00:00<?, ?iB/s]"
      ]
     },
     "metadata": {},
     "output_type": "display_data"
    },
    {
     "name": "stderr",
     "output_type": "stream",
     "text": [
      "2025-09-11 04:08:03,044 - INFO - 2291996958 - Successfully downloaded 'door'.\n",
      "2025-09-11 04:08:03,045 - INFO - 2291996958 - Downloading 'dragon' from https://storage.googleapis.com/quickdraw_dataset/full/binary/dragon.bin to ./data/full_binary_dragon.bin...\n"
     ]
    },
    {
     "data": {
      "application/vnd.jupyter.widget-view+json": {
       "model_id": "35229e71c55249719f1972dd5cd7c860",
       "version_major": 2,
       "version_minor": 0
      },
      "text/plain": [
       "dragon:   0%|          | 0.00/18.7M [00:00<?, ?iB/s]"
      ]
     },
     "metadata": {},
     "output_type": "display_data"
    },
    {
     "name": "stderr",
     "output_type": "stream",
     "text": [
      "2025-09-11 04:08:06,912 - INFO - 2291996958 - Successfully downloaded 'dragon'.\n",
      "2025-09-11 04:08:06,913 - INFO - 2291996958 - Downloading 'dresser' from https://storage.googleapis.com/quickdraw_dataset/full/binary/dresser.bin to ./data/full_binary_dresser.bin...\n"
     ]
    },
    {
     "data": {
      "application/vnd.jupyter.widget-view+json": {
       "model_id": "caae14355846468a9fad5cb09b6ce4ba",
       "version_major": 2,
       "version_minor": 0
      },
      "text/plain": [
       "dresser:   0%|          | 0.00/14.4M [00:00<?, ?iB/s]"
      ]
     },
     "metadata": {},
     "output_type": "display_data"
    },
    {
     "name": "stderr",
     "output_type": "stream",
     "text": [
      "2025-09-11 04:08:10,299 - INFO - 2291996958 - Successfully downloaded 'dresser'.\n",
      "2025-09-11 04:08:10,300 - INFO - 2291996958 - Downloading 'drill' from https://storage.googleapis.com/quickdraw_dataset/full/binary/drill.bin to ./data/full_binary_drill.bin...\n"
     ]
    },
    {
     "data": {
      "application/vnd.jupyter.widget-view+json": {
       "model_id": "f36416bbce3742febf5a304f5fcf4554",
       "version_major": 2,
       "version_minor": 0
      },
      "text/plain": [
       "drill:   0%|          | 0.00/13.0M [00:00<?, ?iB/s]"
      ]
     },
     "metadata": {},
     "output_type": "display_data"
    },
    {
     "name": "stderr",
     "output_type": "stream",
     "text": [
      "2025-09-11 04:08:13,575 - INFO - 2291996958 - Successfully downloaded 'drill'.\n",
      "2025-09-11 04:08:13,578 - INFO - 2291996958 - Downloading 'drums' from https://storage.googleapis.com/quickdraw_dataset/full/binary/drums.bin to ./data/full_binary_drums.bin...\n"
     ]
    },
    {
     "data": {
      "application/vnd.jupyter.widget-view+json": {
       "model_id": "a202c25402b643b9ac449f2086e083ea",
       "version_major": 2,
       "version_minor": 0
      },
      "text/plain": [
       "drums:   0%|          | 0.00/18.8M [00:00<?, ?iB/s]"
      ]
     },
     "metadata": {},
     "output_type": "display_data"
    },
    {
     "name": "stderr",
     "output_type": "stream",
     "text": [
      "2025-09-11 04:08:17,236 - INFO - 2291996958 - Successfully downloaded 'drums'.\n",
      "2025-09-11 04:08:17,238 - INFO - 2291996958 - Downloading 'duck' from https://storage.googleapis.com/quickdraw_dataset/full/binary/duck.bin to ./data/full_binary_duck.bin...\n"
     ]
    },
    {
     "data": {
      "application/vnd.jupyter.widget-view+json": {
       "model_id": "900f35ae84c04221ba1fa735257ba2fc",
       "version_major": 2,
       "version_minor": 0
      },
      "text/plain": [
       "duck:   0%|          | 0.00/17.0M [00:00<?, ?iB/s]"
      ]
     },
     "metadata": {},
     "output_type": "display_data"
    },
    {
     "name": "stderr",
     "output_type": "stream",
     "text": [
      "2025-09-11 04:08:20,601 - INFO - 2291996958 - Successfully downloaded 'duck'.\n",
      "2025-09-11 04:08:20,602 - INFO - 2291996958 - Downloading 'dumbbell' from https://storage.googleapis.com/quickdraw_dataset/full/binary/dumbbell.bin to ./data/full_binary_dumbbell.bin...\n"
     ]
    },
    {
     "data": {
      "application/vnd.jupyter.widget-view+json": {
       "model_id": "8def2c942e7049d0a0e5f08b63ea28d5",
       "version_major": 2,
       "version_minor": 0
      },
      "text/plain": [
       "dumbbell:   0%|          | 0.00/15.6M [00:00<?, ?iB/s]"
      ]
     },
     "metadata": {},
     "output_type": "display_data"
    },
    {
     "name": "stderr",
     "output_type": "stream",
     "text": [
      "2025-09-11 04:08:23,962 - INFO - 2291996958 - Successfully downloaded 'dumbbell'.\n",
      "2025-09-11 04:08:23,963 - INFO - 2291996958 - Downloading 'ear' from https://storage.googleapis.com/quickdraw_dataset/full/binary/ear.bin to ./data/full_binary_ear.bin...\n"
     ]
    },
    {
     "data": {
      "application/vnd.jupyter.widget-view+json": {
       "model_id": "2c1705f3f6e24ba581fb3c22cf6ce536",
       "version_major": 2,
       "version_minor": 0
      },
      "text/plain": [
       "ear:   0%|          | 0.00/9.70M [00:00<?, ?iB/s]"
      ]
     },
     "metadata": {},
     "output_type": "display_data"
    },
    {
     "name": "stderr",
     "output_type": "stream",
     "text": [
      "2025-09-11 04:08:26,984 - INFO - 2291996958 - Successfully downloaded 'ear'.\n",
      "2025-09-11 04:08:26,985 - INFO - 2291996958 - Downloading 'elbow' from https://storage.googleapis.com/quickdraw_dataset/full/binary/elbow.bin to ./data/full_binary_elbow.bin...\n"
     ]
    },
    {
     "data": {
      "application/vnd.jupyter.widget-view+json": {
       "model_id": "13ce257e44d041fe9d8afbe0296bce8a",
       "version_major": 2,
       "version_minor": 0
      },
      "text/plain": [
       "elbow:   0%|          | 0.00/9.12M [00:00<?, ?iB/s]"
      ]
     },
     "metadata": {},
     "output_type": "display_data"
    },
    {
     "name": "stderr",
     "output_type": "stream",
     "text": [
      "2025-09-11 04:08:29,955 - INFO - 2291996958 - Successfully downloaded 'elbow'.\n",
      "2025-09-11 04:08:29,956 - INFO - 2291996958 - Downloading 'elephant' from https://storage.googleapis.com/quickdraw_dataset/full/binary/elephant.bin to ./data/full_binary_elephant.bin...\n"
     ]
    },
    {
     "data": {
      "application/vnd.jupyter.widget-view+json": {
       "model_id": "1da6e02cf7934496900f67359393889c",
       "version_major": 2,
       "version_minor": 0
      },
      "text/plain": [
       "elephant:   0%|          | 0.00/17.9M [00:00<?, ?iB/s]"
      ]
     },
     "metadata": {},
     "output_type": "display_data"
    },
    {
     "name": "stderr",
     "output_type": "stream",
     "text": [
      "2025-09-11 04:08:33,526 - INFO - 2291996958 - Successfully downloaded 'elephant'.\n",
      "2025-09-11 04:08:33,528 - INFO - 2291996958 - Downloading 'envelope' from https://storage.googleapis.com/quickdraw_dataset/full/binary/envelope.bin to ./data/full_binary_envelope.bin...\n"
     ]
    },
    {
     "data": {
      "application/vnd.jupyter.widget-view+json": {
       "model_id": "8e61011ed0874c279b95329617854e14",
       "version_major": 2,
       "version_minor": 0
      },
      "text/plain": [
       "envelope:   0%|          | 0.00/9.39M [00:00<?, ?iB/s]"
      ]
     },
     "metadata": {},
     "output_type": "display_data"
    },
    {
     "name": "stderr",
     "output_type": "stream",
     "text": [
      "2025-09-11 04:08:36,556 - INFO - 2291996958 - Successfully downloaded 'envelope'.\n",
      "2025-09-11 04:08:36,557 - INFO - 2291996958 - Downloading 'eraser' from https://storage.googleapis.com/quickdraw_dataset/full/binary/eraser.bin to ./data/full_binary_eraser.bin...\n"
     ]
    },
    {
     "data": {
      "application/vnd.jupyter.widget-view+json": {
       "model_id": "cc339c30faeb4ebcb29f81673393c270",
       "version_major": 2,
       "version_minor": 0
      },
      "text/plain": [
       "eraser:   0%|          | 0.00/10.4M [00:00<?, ?iB/s]"
      ]
     },
     "metadata": {},
     "output_type": "display_data"
    },
    {
     "name": "stderr",
     "output_type": "stream",
     "text": [
      "2025-09-11 04:08:39,640 - INFO - 2291996958 - Successfully downloaded 'eraser'.\n",
      "2025-09-11 04:08:39,641 - INFO - 2291996958 - Downloading 'eye' from https://storage.googleapis.com/quickdraw_dataset/full/binary/eye.bin to ./data/full_binary_eye.bin...\n"
     ]
    },
    {
     "data": {
      "application/vnd.jupyter.widget-view+json": {
       "model_id": "000cb2871c51463d97d5db1d0aca0e9b",
       "version_major": 2,
       "version_minor": 0
      },
      "text/plain": [
       "eye:   0%|          | 0.00/16.1M [00:00<?, ?iB/s]"
      ]
     },
     "metadata": {},
     "output_type": "display_data"
    },
    {
     "name": "stderr",
     "output_type": "stream",
     "text": [
      "2025-09-11 04:08:41,632 - INFO - 2291996958 - Successfully downloaded 'eye'.\n",
      "2025-09-11 04:08:41,633 - INFO - 2291996958 - Downloading 'eyeglasses' from https://storage.googleapis.com/quickdraw_dataset/full/binary/eyeglasses.bin to ./data/full_binary_eyeglasses.bin...\n"
     ]
    },
    {
     "data": {
      "application/vnd.jupyter.widget-view+json": {
       "model_id": "c2a28b5a63ab430996135f1a0acdf051",
       "version_major": 2,
       "version_minor": 0
      },
      "text/plain": [
       "eyeglasses:   0%|          | 0.00/22.3M [00:00<?, ?iB/s]"
      ]
     },
     "metadata": {},
     "output_type": "display_data"
    },
    {
     "name": "stderr",
     "output_type": "stream",
     "text": [
      "2025-09-11 04:08:45,547 - INFO - 2291996958 - Successfully downloaded 'eyeglasses'.\n",
      "2025-09-11 04:08:45,549 - INFO - 2291996958 - Downloading 'face' from https://storage.googleapis.com/quickdraw_dataset/full/binary/face.bin to ./data/full_binary_face.bin...\n"
     ]
    },
    {
     "data": {
      "application/vnd.jupyter.widget-view+json": {
       "model_id": "dbe5536acdbf438090465226b1d19181",
       "version_major": 2,
       "version_minor": 0
      },
      "text/plain": [
       "face:   0%|          | 0.00/22.7M [00:00<?, ?iB/s]"
      ]
     },
     "metadata": {},
     "output_type": "display_data"
    },
    {
     "name": "stderr",
     "output_type": "stream",
     "text": [
      "2025-09-11 04:08:49,431 - INFO - 2291996958 - Successfully downloaded 'face'.\n",
      "2025-09-11 04:08:49,432 - INFO - 2291996958 - Downloading 'fan' from https://storage.googleapis.com/quickdraw_dataset/full/binary/fan.bin to ./data/full_binary_fan.bin...\n"
     ]
    },
    {
     "data": {
      "application/vnd.jupyter.widget-view+json": {
       "model_id": "cf481d402f5344f5873e19dfa3192c08",
       "version_major": 2,
       "version_minor": 0
      },
      "text/plain": [
       "fan:   0%|          | 0.00/22.7M [00:00<?, ?iB/s]"
      ]
     },
     "metadata": {},
     "output_type": "display_data"
    },
    {
     "name": "stderr",
     "output_type": "stream",
     "text": [
      "2025-09-11 04:08:53,257 - INFO - 2291996958 - Successfully downloaded 'fan'.\n",
      "2025-09-11 04:08:53,258 - INFO - 2291996958 - Downloading 'feather' from https://storage.googleapis.com/quickdraw_dataset/full/binary/feather.bin to ./data/full_binary_feather.bin...\n"
     ]
    },
    {
     "data": {
      "application/vnd.jupyter.widget-view+json": {
       "model_id": "51c61d35c35748efb86f8759d43e76f7",
       "version_major": 2,
       "version_minor": 0
      },
      "text/plain": [
       "feather:   0%|          | 0.00/11.3M [00:00<?, ?iB/s]"
      ]
     },
     "metadata": {},
     "output_type": "display_data"
    },
    {
     "name": "stderr",
     "output_type": "stream",
     "text": [
      "2025-09-11 04:08:56,405 - INFO - 2291996958 - Successfully downloaded 'feather'.\n",
      "2025-09-11 04:08:56,406 - INFO - 2291996958 - Downloading 'fence' from https://storage.googleapis.com/quickdraw_dataset/full/binary/fence.bin to ./data/full_binary_fence.bin...\n"
     ]
    },
    {
     "data": {
      "application/vnd.jupyter.widget-view+json": {
       "model_id": "dea6d63dced449f58adf2ba529a97948",
       "version_major": 2,
       "version_minor": 0
      },
      "text/plain": [
       "fence:   0%|          | 0.00/11.5M [00:00<?, ?iB/s]"
      ]
     },
     "metadata": {},
     "output_type": "display_data"
    },
    {
     "name": "stderr",
     "output_type": "stream",
     "text": [
      "2025-09-11 04:08:59,482 - INFO - 2291996958 - Successfully downloaded 'fence'.\n",
      "2025-09-11 04:08:59,483 - INFO - 2291996958 - Downloading 'finger' from https://storage.googleapis.com/quickdraw_dataset/full/binary/finger.bin to ./data/full_binary_finger.bin...\n"
     ]
    },
    {
     "data": {
      "application/vnd.jupyter.widget-view+json": {
       "model_id": "1d685fa080e546ecaef02266d33ce9fb",
       "version_major": 2,
       "version_minor": 0
      },
      "text/plain": [
       "finger:   0%|          | 0.00/11.5M [00:00<?, ?iB/s]"
      ]
     },
     "metadata": {},
     "output_type": "display_data"
    },
    {
     "name": "stderr",
     "output_type": "stream",
     "text": [
      "2025-09-11 04:09:02,611 - INFO - 2291996958 - Successfully downloaded 'finger'.\n",
      "2025-09-11 04:09:02,613 - INFO - 2291996958 - Downloading 'fire hydrant' from https://storage.googleapis.com/quickdraw_dataset/full/binary/fire%20hydrant.bin to ./data/full_binary_fire_hydrant.bin...\n"
     ]
    },
    {
     "data": {
      "application/vnd.jupyter.widget-view+json": {
       "model_id": "930f56eeccfe4e8f94bb175c46014c93",
       "version_major": 2,
       "version_minor": 0
      },
      "text/plain": [
       "fire hydrant:   0%|          | 0.00/16.1M [00:00<?, ?iB/s]"
      ]
     },
     "metadata": {},
     "output_type": "display_data"
    },
    {
     "name": "stderr",
     "output_type": "stream",
     "text": [
      "2025-09-11 04:09:05,982 - INFO - 2291996958 - Successfully downloaded 'fire hydrant'.\n",
      "2025-09-11 04:09:05,984 - INFO - 2291996958 - Downloading 'fireplace' from https://storage.googleapis.com/quickdraw_dataset/full/binary/fireplace.bin to ./data/full_binary_fireplace.bin...\n"
     ]
    },
    {
     "data": {
      "application/vnd.jupyter.widget-view+json": {
       "model_id": "c4fbcec959404d61ad9be555bb2064a7",
       "version_major": 2,
       "version_minor": 0
      },
      "text/plain": [
       "fireplace:   0%|          | 0.00/22.0M [00:00<?, ?iB/s]"
      ]
     },
     "metadata": {},
     "output_type": "display_data"
    },
    {
     "name": "stderr",
     "output_type": "stream",
     "text": [
      "2025-09-11 04:09:09,837 - INFO - 2291996958 - Successfully downloaded 'fireplace'.\n",
      "2025-09-11 04:09:09,841 - INFO - 2291996958 - Downloading 'firetruck' from https://storage.googleapis.com/quickdraw_dataset/full/binary/firetruck.bin to ./data/full_binary_firetruck.bin...\n"
     ]
    },
    {
     "data": {
      "application/vnd.jupyter.widget-view+json": {
       "model_id": "97635fe4538d45dc98e094fe4d14872f",
       "version_major": 2,
       "version_minor": 0
      },
      "text/plain": [
       "firetruck:   0%|          | 0.00/31.9M [00:00<?, ?iB/s]"
      ]
     },
     "metadata": {},
     "output_type": "display_data"
    },
    {
     "name": "stderr",
     "output_type": "stream",
     "text": [
      "2025-09-11 04:09:14,243 - INFO - 2291996958 - Successfully downloaded 'firetruck'.\n",
      "2025-09-11 04:09:14,244 - INFO - 2291996958 - Downloading 'fish' from https://storage.googleapis.com/quickdraw_dataset/full/binary/fish.bin to ./data/full_binary_fish.bin...\n"
     ]
    },
    {
     "data": {
      "application/vnd.jupyter.widget-view+json": {
       "model_id": "63a6c59907084cfb87c3116824e24051",
       "version_major": 2,
       "version_minor": 0
      },
      "text/plain": [
       "fish:   0%|          | 0.00/11.6M [00:00<?, ?iB/s]"
      ]
     },
     "metadata": {},
     "output_type": "display_data"
    },
    {
     "name": "stderr",
     "output_type": "stream",
     "text": [
      "2025-09-11 04:09:17,385 - INFO - 2291996958 - Successfully downloaded 'fish'.\n",
      "2025-09-11 04:09:17,387 - INFO - 2291996958 - Downloading 'flamingo' from https://storage.googleapis.com/quickdraw_dataset/full/binary/flamingo.bin to ./data/full_binary_flamingo.bin...\n"
     ]
    },
    {
     "data": {
      "application/vnd.jupyter.widget-view+json": {
       "model_id": "c4464d0eb022405987c9b1b4d0617cdf",
       "version_major": 2,
       "version_minor": 0
      },
      "text/plain": [
       "flamingo:   0%|          | 0.00/13.3M [00:00<?, ?iB/s]"
      ]
     },
     "metadata": {},
     "output_type": "display_data"
    },
    {
     "name": "stderr",
     "output_type": "stream",
     "text": [
      "2025-09-11 04:09:20,452 - INFO - 2291996958 - Successfully downloaded 'flamingo'.\n",
      "2025-09-11 04:09:20,454 - INFO - 2291996958 - Downloading 'flashlight' from https://storage.googleapis.com/quickdraw_dataset/full/binary/flashlight.bin to ./data/full_binary_flashlight.bin...\n"
     ]
    },
    {
     "data": {
      "application/vnd.jupyter.widget-view+json": {
       "model_id": "50510bee699c45d4bd68d39f04239786",
       "version_major": 2,
       "version_minor": 0
      },
      "text/plain": [
       "flashlight:   0%|          | 0.00/24.2M [00:00<?, ?iB/s]"
      ]
     },
     "metadata": {},
     "output_type": "display_data"
    },
    {
     "name": "stderr",
     "output_type": "stream",
     "text": [
      "2025-09-11 04:09:24,588 - INFO - 2291996958 - Successfully downloaded 'flashlight'.\n",
      "2025-09-11 04:09:24,589 - INFO - 2291996958 - Downloading 'flip flops' from https://storage.googleapis.com/quickdraw_dataset/full/binary/flip%20flops.bin to ./data/full_binary_flip_flops.bin...\n"
     ]
    },
    {
     "data": {
      "application/vnd.jupyter.widget-view+json": {
       "model_id": "9d3a8973a425449fa3861c5c74625352",
       "version_major": 2,
       "version_minor": 0
      },
      "text/plain": [
       "flip flops:   0%|          | 0.00/12.6M [00:00<?, ?iB/s]"
      ]
     },
     "metadata": {},
     "output_type": "display_data"
    },
    {
     "name": "stderr",
     "output_type": "stream",
     "text": [
      "2025-09-11 04:09:27,884 - INFO - 2291996958 - Successfully downloaded 'flip flops'.\n",
      "2025-09-11 04:09:27,888 - INFO - 2291996958 - Downloading 'floor lamp' from https://storage.googleapis.com/quickdraw_dataset/full/binary/floor%20lamp.bin to ./data/full_binary_floor_lamp.bin...\n"
     ]
    },
    {
     "data": {
      "application/vnd.jupyter.widget-view+json": {
       "model_id": "c59f3612b0e34aa9ba8ef2a84d897230",
       "version_major": 2,
       "version_minor": 0
      },
      "text/plain": [
       "floor lamp:   0%|          | 0.00/13.9M [00:00<?, ?iB/s]"
      ]
     },
     "metadata": {},
     "output_type": "display_data"
    },
    {
     "name": "stderr",
     "output_type": "stream",
     "text": [
      "2025-09-11 04:09:31,166 - INFO - 2291996958 - Successfully downloaded 'floor lamp'.\n",
      "2025-09-11 04:09:31,168 - INFO - 2291996958 - Downloading 'flower' from https://storage.googleapis.com/quickdraw_dataset/full/binary/flower.bin to ./data/full_binary_flower.bin...\n"
     ]
    },
    {
     "data": {
      "application/vnd.jupyter.widget-view+json": {
       "model_id": "c5357e91dfe0497eb3c619d7b524b749",
       "version_major": 2,
       "version_minor": 0
      },
      "text/plain": [
       "flower:   0%|          | 0.00/20.5M [00:00<?, ?iB/s]"
      ]
     },
     "metadata": {},
     "output_type": "display_data"
    },
    {
     "name": "stderr",
     "output_type": "stream",
     "text": [
      "2025-09-11 04:09:34,771 - INFO - 2291996958 - Successfully downloaded 'flower'.\n",
      "2025-09-11 04:09:34,772 - INFO - 2291996958 - Downloading 'flying saucer' from https://storage.googleapis.com/quickdraw_dataset/full/binary/flying%20saucer.bin to ./data/full_binary_flying_saucer.bin...\n"
     ]
    },
    {
     "data": {
      "application/vnd.jupyter.widget-view+json": {
       "model_id": "877402f2f68d4d999cf0ed29fb280cc6",
       "version_major": 2,
       "version_minor": 0
      },
      "text/plain": [
       "flying saucer:   0%|          | 0.00/16.0M [00:00<?, ?iB/s]"
      ]
     },
     "metadata": {},
     "output_type": "display_data"
    },
    {
     "name": "stderr",
     "output_type": "stream",
     "text": [
      "2025-09-11 04:09:38,249 - INFO - 2291996958 - Successfully downloaded 'flying saucer'.\n",
      "2025-09-11 04:09:38,252 - INFO - 2291996958 - Downloading 'foot' from https://storage.googleapis.com/quickdraw_dataset/full/binary/foot.bin to ./data/full_binary_foot.bin...\n"
     ]
    },
    {
     "data": {
      "application/vnd.jupyter.widget-view+json": {
       "model_id": "40b7c7ec26594967986f025e2e62c8a9",
       "version_major": 2,
       "version_minor": 0
      },
      "text/plain": [
       "foot:   0%|          | 0.00/16.8M [00:00<?, ?iB/s]"
      ]
     },
     "metadata": {},
     "output_type": "display_data"
    },
    {
     "name": "stderr",
     "output_type": "stream",
     "text": [
      "2025-09-11 04:09:41,717 - INFO - 2291996958 - Successfully downloaded 'foot'.\n",
      "2025-09-11 04:09:41,720 - INFO - 2291996958 - Downloading 'fork' from https://storage.googleapis.com/quickdraw_dataset/full/binary/fork.bin to ./data/full_binary_fork.bin...\n"
     ]
    },
    {
     "data": {
      "application/vnd.jupyter.widget-view+json": {
       "model_id": "a9d2decda33442b7bdb9a579084311b5",
       "version_major": 2,
       "version_minor": 0
      },
      "text/plain": [
       "fork:   0%|          | 0.00/8.78M [00:00<?, ?iB/s]"
      ]
     },
     "metadata": {},
     "output_type": "display_data"
    },
    {
     "name": "stderr",
     "output_type": "stream",
     "text": [
      "2025-09-11 04:09:44,750 - INFO - 2291996958 - Successfully downloaded 'fork'.\n",
      "2025-09-11 04:09:44,751 - INFO - 2291996958 - Downloading 'frog' from https://storage.googleapis.com/quickdraw_dataset/full/binary/frog.bin to ./data/full_binary_frog.bin...\n"
     ]
    },
    {
     "data": {
      "application/vnd.jupyter.widget-view+json": {
       "model_id": "90dc0900bd09462ab83870380aecfabb",
       "version_major": 2,
       "version_minor": 0
      },
      "text/plain": [
       "frog:   0%|          | 0.00/23.6M [00:00<?, ?iB/s]"
      ]
     },
     "metadata": {},
     "output_type": "display_data"
    },
    {
     "name": "stderr",
     "output_type": "stream",
     "text": [
      "2025-09-11 04:09:48,650 - INFO - 2291996958 - Successfully downloaded 'frog'.\n",
      "2025-09-11 04:09:48,652 - INFO - 2291996958 - Downloading 'frying pan' from https://storage.googleapis.com/quickdraw_dataset/full/binary/frying%20pan.bin to ./data/full_binary_frying_pan.bin...\n"
     ]
    },
    {
     "data": {
      "application/vnd.jupyter.widget-view+json": {
       "model_id": "2049e332b4614a57a9484a0c68b48f6a",
       "version_major": 2,
       "version_minor": 0
      },
      "text/plain": [
       "frying pan:   0%|          | 0.00/11.0M [00:00<?, ?iB/s]"
      ]
     },
     "metadata": {},
     "output_type": "display_data"
    },
    {
     "name": "stderr",
     "output_type": "stream",
     "text": [
      "2025-09-11 04:09:51,673 - INFO - 2291996958 - Successfully downloaded 'frying pan'.\n",
      "2025-09-11 04:09:51,674 - INFO - 2291996958 - Downloading 'garden hose' from https://storage.googleapis.com/quickdraw_dataset/full/binary/garden%20hose.bin to ./data/full_binary_garden_hose.bin...\n"
     ]
    },
    {
     "data": {
      "application/vnd.jupyter.widget-view+json": {
       "model_id": "8ebcea55c0c84755ba3fb9a4330279f1",
       "version_major": 2,
       "version_minor": 0
      },
      "text/plain": [
       "garden hose:   0%|          | 0.00/12.4M [00:00<?, ?iB/s]"
      ]
     },
     "metadata": {},
     "output_type": "display_data"
    },
    {
     "name": "stderr",
     "output_type": "stream",
     "text": [
      "2025-09-11 04:09:54,939 - INFO - 2291996958 - Successfully downloaded 'garden hose'.\n",
      "2025-09-11 04:09:54,940 - INFO - 2291996958 - Downloading 'garden' from https://storage.googleapis.com/quickdraw_dataset/full/binary/garden.bin to ./data/full_binary_garden.bin...\n"
     ]
    },
    {
     "data": {
      "application/vnd.jupyter.widget-view+json": {
       "model_id": "47189c6176f34b72aaaab9de2ace8080",
       "version_major": 2,
       "version_minor": 0
      },
      "text/plain": [
       "garden:   0%|          | 0.00/25.8M [00:00<?, ?iB/s]"
      ]
     },
     "metadata": {},
     "output_type": "display_data"
    },
    {
     "name": "stderr",
     "output_type": "stream",
     "text": [
      "2025-09-11 04:09:59,065 - INFO - 2291996958 - Successfully downloaded 'garden'.\n",
      "2025-09-11 04:09:59,066 - INFO - 2291996958 - Downloading 'giraffe' from https://storage.googleapis.com/quickdraw_dataset/full/binary/giraffe.bin to ./data/full_binary_giraffe.bin...\n"
     ]
    },
    {
     "data": {
      "application/vnd.jupyter.widget-view+json": {
       "model_id": "49a38c810928405c808b7a0c2de64fb9",
       "version_major": 2,
       "version_minor": 0
      },
      "text/plain": [
       "giraffe:   0%|          | 0.00/14.1M [00:00<?, ?iB/s]"
      ]
     },
     "metadata": {},
     "output_type": "display_data"
    },
    {
     "name": "stderr",
     "output_type": "stream",
     "text": [
      "2025-09-11 04:10:02,314 - INFO - 2291996958 - Successfully downloaded 'giraffe'.\n",
      "2025-09-11 04:10:02,316 - INFO - 2291996958 - Downloading 'golf club' from https://storage.googleapis.com/quickdraw_dataset/full/binary/golf%20club.bin to ./data/full_binary_golf_club.bin...\n"
     ]
    },
    {
     "data": {
      "application/vnd.jupyter.widget-view+json": {
       "model_id": "d16487b539c24a8e914812a01e5a6449",
       "version_major": 2,
       "version_minor": 0
      },
      "text/plain": [
       "golf club:   0%|          | 0.00/13.3M [00:00<?, ?iB/s]"
      ]
     },
     "metadata": {},
     "output_type": "display_data"
    },
    {
     "name": "stderr",
     "output_type": "stream",
     "text": [
      "2025-09-11 04:10:05,634 - INFO - 2291996958 - Successfully downloaded 'golf club'.\n",
      "2025-09-11 04:10:05,636 - INFO - 2291996958 - Downloading 'grapes' from https://storage.googleapis.com/quickdraw_dataset/full/binary/grapes.bin to ./data/full_binary_grapes.bin...\n"
     ]
    },
    {
     "data": {
      "application/vnd.jupyter.widget-view+json": {
       "model_id": "9966b985f83d4761b10e83e2ff946a04",
       "version_major": 2,
       "version_minor": 0
      },
      "text/plain": [
       "grapes:   0%|          | 0.00/31.4M [00:00<?, ?iB/s]"
      ]
     },
     "metadata": {},
     "output_type": "display_data"
    },
    {
     "name": "stderr",
     "output_type": "stream",
     "text": [
      "2025-09-11 04:10:10,328 - INFO - 2291996958 - Successfully downloaded 'grapes'.\n",
      "2025-09-11 04:10:10,330 - INFO - 2291996958 - Downloading 'grass' from https://storage.googleapis.com/quickdraw_dataset/full/binary/grass.bin to ./data/full_binary_grass.bin...\n"
     ]
    },
    {
     "data": {
      "application/vnd.jupyter.widget-view+json": {
       "model_id": "e6d0e13ac33443eb98cfab020ac1ae42",
       "version_major": 2,
       "version_minor": 0
      },
      "text/plain": [
       "grass:   0%|          | 0.00/11.3M [00:00<?, ?iB/s]"
      ]
     },
     "metadata": {},
     "output_type": "display_data"
    },
    {
     "name": "stderr",
     "output_type": "stream",
     "text": [
      "2025-09-11 04:10:13,497 - INFO - 2291996958 - Successfully downloaded 'grass'.\n",
      "2025-09-11 04:10:13,499 - INFO - 2291996958 - Downloading 'guitar' from https://storage.googleapis.com/quickdraw_dataset/full/binary/guitar.bin to ./data/full_binary_guitar.bin...\n"
     ]
    },
    {
     "data": {
      "application/vnd.jupyter.widget-view+json": {
       "model_id": "29a9201f7b6a481faf079b051165d85e",
       "version_major": 2,
       "version_minor": 0
      },
      "text/plain": [
       "guitar:   0%|          | 0.00/16.0M [00:00<?, ?iB/s]"
      ]
     },
     "metadata": {},
     "output_type": "display_data"
    },
    {
     "name": "stderr",
     "output_type": "stream",
     "text": [
      "2025-09-11 04:10:16,975 - INFO - 2291996958 - Successfully downloaded 'guitar'.\n",
      "2025-09-11 04:10:16,976 - INFO - 2291996958 - Downloading 'hamburger' from https://storage.googleapis.com/quickdraw_dataset/full/binary/hamburger.bin to ./data/full_binary_hamburger.bin...\n"
     ]
    },
    {
     "data": {
      "application/vnd.jupyter.widget-view+json": {
       "model_id": "27cf418f9bc94fd0af01f44769c14ab3",
       "version_major": 2,
       "version_minor": 0
      },
      "text/plain": [
       "hamburger:   0%|          | 0.00/15.9M [00:00<?, ?iB/s]"
      ]
     },
     "metadata": {},
     "output_type": "display_data"
    },
    {
     "name": "stderr",
     "output_type": "stream",
     "text": [
      "2025-09-11 04:10:20,432 - INFO - 2291996958 - Successfully downloaded 'hamburger'.\n",
      "2025-09-11 04:10:20,435 - INFO - 2291996958 - Downloading 'hammer' from https://storage.googleapis.com/quickdraw_dataset/full/binary/hammer.bin to ./data/full_binary_hammer.bin...\n"
     ]
    },
    {
     "data": {
      "application/vnd.jupyter.widget-view+json": {
       "model_id": "b14aa07e8af94427b48aa5b7fc850a50",
       "version_major": 2,
       "version_minor": 0
      },
      "text/plain": [
       "hammer:   0%|          | 0.00/10.4M [00:00<?, ?iB/s]"
      ]
     },
     "metadata": {},
     "output_type": "display_data"
    },
    {
     "name": "stderr",
     "output_type": "stream",
     "text": [
      "2025-09-11 04:10:23,437 - INFO - 2291996958 - Successfully downloaded 'hammer'.\n",
      "2025-09-11 04:10:23,438 - INFO - 2291996958 - Downloading 'hand' from https://storage.googleapis.com/quickdraw_dataset/full/binary/hand.bin to ./data/full_binary_hand.bin...\n"
     ]
    },
    {
     "data": {
      "application/vnd.jupyter.widget-view+json": {
       "model_id": "37e72be063644486b75efe0445cce479",
       "version_major": 2,
       "version_minor": 0
      },
      "text/plain": [
       "hand:   0%|          | 0.00/29.7M [00:00<?, ?iB/s]"
      ]
     },
     "metadata": {},
     "output_type": "display_data"
    },
    {
     "name": "stderr",
     "output_type": "stream",
     "text": [
      "2025-09-11 04:10:28,056 - INFO - 2291996958 - Successfully downloaded 'hand'.\n",
      "2025-09-11 04:10:28,060 - INFO - 2291996958 - Downloading 'harp' from https://storage.googleapis.com/quickdraw_dataset/full/binary/harp.bin to ./data/full_binary_harp.bin...\n"
     ]
    },
    {
     "data": {
      "application/vnd.jupyter.widget-view+json": {
       "model_id": "f86a34cd116c4e088eb44ed7153692b3",
       "version_major": 2,
       "version_minor": 0
      },
      "text/plain": [
       "harp:   0%|          | 0.00/31.1M [00:00<?, ?iB/s]"
      ]
     },
     "metadata": {},
     "output_type": "display_data"
    },
    {
     "name": "stderr",
     "output_type": "stream",
     "text": [
      "2025-09-11 04:10:32,505 - INFO - 2291996958 - Successfully downloaded 'harp'.\n",
      "2025-09-11 04:10:32,506 - INFO - 2291996958 - Downloading 'hat' from https://storage.googleapis.com/quickdraw_dataset/full/binary/hat.bin to ./data/full_binary_hat.bin...\n"
     ]
    },
    {
     "data": {
      "application/vnd.jupyter.widget-view+json": {
       "model_id": "1199794218334dff93c861248c9ea860",
       "version_major": 2,
       "version_minor": 0
      },
      "text/plain": [
       "hat:   0%|          | 0.00/16.9M [00:00<?, ?iB/s]"
      ]
     },
     "metadata": {},
     "output_type": "display_data"
    },
    {
     "name": "stderr",
     "output_type": "stream",
     "text": [
      "2025-09-11 04:10:36,078 - INFO - 2291996958 - Successfully downloaded 'hat'.\n",
      "2025-09-11 04:10:36,080 - INFO - 2291996958 - Downloading 'headphones' from https://storage.googleapis.com/quickdraw_dataset/full/binary/headphones.bin to ./data/full_binary_headphones.bin...\n"
     ]
    },
    {
     "data": {
      "application/vnd.jupyter.widget-view+json": {
       "model_id": "5b0ff0a4aa7644db842db279e3b3f7b2",
       "version_major": 2,
       "version_minor": 0
      },
      "text/plain": [
       "headphones:   0%|          | 0.00/12.8M [00:00<?, ?iB/s]"
      ]
     },
     "metadata": {},
     "output_type": "display_data"
    },
    {
     "name": "stderr",
     "output_type": "stream",
     "text": [
      "2025-09-11 04:10:39,308 - INFO - 2291996958 - Successfully downloaded 'headphones'.\n",
      "2025-09-11 04:10:39,309 - INFO - 2291996958 - Downloading 'helicopter' from https://storage.googleapis.com/quickdraw_dataset/full/binary/helicopter.bin to ./data/full_binary_helicopter.bin...\n"
     ]
    },
    {
     "data": {
      "application/vnd.jupyter.widget-view+json": {
       "model_id": "9cd88a35d69041f59cc85141a82dc219",
       "version_major": 2,
       "version_minor": 0
      },
      "text/plain": [
       "helicopter:   0%|          | 0.00/21.5M [00:00<?, ?iB/s]"
      ]
     },
     "metadata": {},
     "output_type": "display_data"
    },
    {
     "name": "stderr",
     "output_type": "stream",
     "text": [
      "2025-09-11 04:10:42,990 - INFO - 2291996958 - Successfully downloaded 'helicopter'.\n",
      "2025-09-11 04:10:42,992 - INFO - 2291996958 - Downloading 'helmet' from https://storage.googleapis.com/quickdraw_dataset/full/binary/helmet.bin to ./data/full_binary_helmet.bin...\n"
     ]
    },
    {
     "data": {
      "application/vnd.jupyter.widget-view+json": {
       "model_id": "1c29e7aa28b145799a377ca1c63a86dc",
       "version_major": 2,
       "version_minor": 0
      },
      "text/plain": [
       "helmet:   0%|          | 0.00/11.9M [00:00<?, ?iB/s]"
      ]
     },
     "metadata": {},
     "output_type": "display_data"
    },
    {
     "name": "stderr",
     "output_type": "stream",
     "text": [
      "2025-09-11 04:10:46,091 - INFO - 2291996958 - Successfully downloaded 'helmet'.\n",
      "2025-09-11 04:10:46,093 - INFO - 2291996958 - Downloading 'hexagon' from https://storage.googleapis.com/quickdraw_dataset/full/binary/hexagon.bin to ./data/full_binary_hexagon.bin...\n"
     ]
    },
    {
     "data": {
      "application/vnd.jupyter.widget-view+json": {
       "model_id": "be25a64df91d41cf809b7ef44b0d2394",
       "version_major": 2,
       "version_minor": 0
      },
      "text/plain": [
       "hexagon:   0%|          | 0.00/8.06M [00:00<?, ?iB/s]"
      ]
     },
     "metadata": {},
     "output_type": "display_data"
    },
    {
     "name": "stderr",
     "output_type": "stream",
     "text": [
      "2025-09-11 04:10:48,926 - INFO - 2291996958 - Successfully downloaded 'hexagon'.\n",
      "2025-09-11 04:10:48,927 - INFO - 2291996958 - Downloading 'hockey puck' from https://storage.googleapis.com/quickdraw_dataset/full/binary/hockey%20puck.bin to ./data/full_binary_hockey_puck.bin...\n"
     ]
    },
    {
     "data": {
      "application/vnd.jupyter.widget-view+json": {
       "model_id": "2dbe7e9ea3e94f758dc813553d8b5cdc",
       "version_major": 2,
       "version_minor": 0
      },
      "text/plain": [
       "hockey puck:   0%|          | 0.00/23.2M [00:00<?, ?iB/s]"
      ]
     },
     "metadata": {},
     "output_type": "display_data"
    },
    {
     "name": "stderr",
     "output_type": "stream",
     "text": [
      "2025-09-11 04:10:52,894 - INFO - 2291996958 - Successfully downloaded 'hockey puck'.\n",
      "2025-09-11 04:10:52,896 - INFO - 2291996958 - Downloading 'hockey stick' from https://storage.googleapis.com/quickdraw_dataset/full/binary/hockey%20stick.bin to ./data/full_binary_hockey_stick.bin...\n"
     ]
    },
    {
     "data": {
      "application/vnd.jupyter.widget-view+json": {
       "model_id": "c6ade8e7e4894c8f8c168d7635f81060",
       "version_major": 2,
       "version_minor": 0
      },
      "text/plain": [
       "hockey stick:   0%|          | 0.00/8.34M [00:00<?, ?iB/s]"
      ]
     },
     "metadata": {},
     "output_type": "display_data"
    },
    {
     "name": "stderr",
     "output_type": "stream",
     "text": [
      "2025-09-11 04:10:55,851 - INFO - 2291996958 - Successfully downloaded 'hockey stick'.\n",
      "2025-09-11 04:10:55,854 - INFO - 2291996958 - Downloading 'horse' from https://storage.googleapis.com/quickdraw_dataset/full/binary/horse.bin to ./data/full_binary_horse.bin...\n"
     ]
    },
    {
     "data": {
      "application/vnd.jupyter.widget-view+json": {
       "model_id": "1a26d072a09d4bb982c4a60da2828ef3",
       "version_major": 2,
       "version_minor": 0
      },
      "text/plain": [
       "horse:   0%|          | 0.00/25.5M [00:00<?, ?iB/s]"
      ]
     },
     "metadata": {},
     "output_type": "display_data"
    },
    {
     "name": "stderr",
     "output_type": "stream",
     "text": [
      "2025-09-11 04:11:00,110 - INFO - 2291996958 - Successfully downloaded 'horse'.\n",
      "2025-09-11 04:11:00,112 - INFO - 2291996958 - Downloading 'hospital' from https://storage.googleapis.com/quickdraw_dataset/full/binary/hospital.bin to ./data/full_binary_hospital.bin...\n"
     ]
    },
    {
     "data": {
      "application/vnd.jupyter.widget-view+json": {
       "model_id": "b1e70c3ed8d84d21a252c9ff98033f6e",
       "version_major": 2,
       "version_minor": 0
      },
      "text/plain": [
       "hospital:   0%|          | 0.00/18.6M [00:00<?, ?iB/s]"
      ]
     },
     "metadata": {},
     "output_type": "display_data"
    },
    {
     "name": "stderr",
     "output_type": "stream",
     "text": [
      "2025-09-11 04:11:03,817 - INFO - 2291996958 - Successfully downloaded 'hospital'.\n",
      "2025-09-11 04:11:03,818 - INFO - 2291996958 - Downloading 'hot air balloon' from https://storage.googleapis.com/quickdraw_dataset/full/binary/hot%20air%20balloon.bin to ./data/full_binary_hot_air_balloon.bin...\n"
     ]
    },
    {
     "data": {
      "application/vnd.jupyter.widget-view+json": {
       "model_id": "994d9e689aac4aa3adb3466ba232b619",
       "version_major": 2,
       "version_minor": 0
      },
      "text/plain": [
       "hot air balloon:   0%|          | 0.00/12.6M [00:00<?, ?iB/s]"
      ]
     },
     "metadata": {},
     "output_type": "display_data"
    },
    {
     "name": "stderr",
     "output_type": "stream",
     "text": [
      "2025-09-11 04:11:07,080 - INFO - 2291996958 - Successfully downloaded 'hot air balloon'.\n",
      "2025-09-11 04:11:07,081 - INFO - 2291996958 - Downloading 'hot dog' from https://storage.googleapis.com/quickdraw_dataset/full/binary/hot%20dog.bin to ./data/full_binary_hot_dog.bin...\n"
     ]
    },
    {
     "data": {
      "application/vnd.jupyter.widget-view+json": {
       "model_id": "78d0f436d2874c7992f7ca03ddc66a9c",
       "version_major": 2,
       "version_minor": 0
      },
      "text/plain": [
       "hot dog:   0%|          | 0.00/18.7M [00:00<?, ?iB/s]"
      ]
     },
     "metadata": {},
     "output_type": "display_data"
    },
    {
     "name": "stderr",
     "output_type": "stream",
     "text": [
      "2025-09-11 04:11:10,614 - INFO - 2291996958 - Successfully downloaded 'hot dog'.\n",
      "2025-09-11 04:11:10,616 - INFO - 2291996958 - Downloading 'hot tub' from https://storage.googleapis.com/quickdraw_dataset/full/binary/hot%20tub.bin to ./data/full_binary_hot_tub.bin...\n"
     ]
    },
    {
     "data": {
      "application/vnd.jupyter.widget-view+json": {
       "model_id": "28fbcbe4777741a8a4cb61f86fc480ff",
       "version_major": 2,
       "version_minor": 0
      },
      "text/plain": [
       "hot tub:   0%|          | 0.00/16.6M [00:00<?, ?iB/s]"
      ]
     },
     "metadata": {},
     "output_type": "display_data"
    },
    {
     "name": "stderr",
     "output_type": "stream",
     "text": [
      "2025-09-11 04:11:13,959 - INFO - 2291996958 - Successfully downloaded 'hot tub'.\n",
      "2025-09-11 04:11:13,960 - INFO - 2291996958 - Downloading 'hourglass' from https://storage.googleapis.com/quickdraw_dataset/full/binary/hourglass.bin to ./data/full_binary_hourglass.bin...\n"
     ]
    },
    {
     "data": {
      "application/vnd.jupyter.widget-view+json": {
       "model_id": "5ccf70b144854d429d1591afaf7e3628",
       "version_major": 2,
       "version_minor": 0
      },
      "text/plain": [
       "hourglass:   0%|          | 0.00/11.4M [00:00<?, ?iB/s]"
      ]
     },
     "metadata": {},
     "output_type": "display_data"
    },
    {
     "name": "stderr",
     "output_type": "stream",
     "text": [
      "2025-09-11 04:11:17,144 - INFO - 2291996958 - Successfully downloaded 'hourglass'.\n",
      "2025-09-11 04:11:17,145 - INFO - 2291996958 - Downloading 'house plant' from https://storage.googleapis.com/quickdraw_dataset/full/binary/house%20plant.bin to ./data/full_binary_house_plant.bin...\n"
     ]
    },
    {
     "data": {
      "application/vnd.jupyter.widget-view+json": {
       "model_id": "0fa83944c6804595abe5f7e4e35e8619",
       "version_major": 2,
       "version_minor": 0
      },
      "text/plain": [
       "house plant:   0%|          | 0.00/15.3M [00:00<?, ?iB/s]"
      ]
     },
     "metadata": {},
     "output_type": "display_data"
    },
    {
     "name": "stderr",
     "output_type": "stream",
     "text": [
      "2025-09-11 04:11:20,460 - INFO - 2291996958 - Successfully downloaded 'house plant'.\n",
      "2025-09-11 04:11:20,461 - INFO - 2291996958 - Downloading 'house' from https://storage.googleapis.com/quickdraw_dataset/full/binary/house.bin to ./data/full_binary_house.bin...\n"
     ]
    },
    {
     "data": {
      "application/vnd.jupyter.widget-view+json": {
       "model_id": "1a1f8a08fb5948b0b9bf16893e2591ae",
       "version_major": 2,
       "version_minor": 0
      },
      "text/plain": [
       "house:   0%|          | 0.00/10.4M [00:00<?, ?iB/s]"
      ]
     },
     "metadata": {},
     "output_type": "display_data"
    },
    {
     "name": "stderr",
     "output_type": "stream",
     "text": [
      "2025-09-11 04:11:23,574 - INFO - 2291996958 - Successfully downloaded 'house'.\n",
      "2025-09-11 04:11:23,576 - INFO - 2291996958 - Downloading 'ice cream' from https://storage.googleapis.com/quickdraw_dataset/full/binary/ice%20cream.bin to ./data/full_binary_ice_cream.bin...\n"
     ]
    },
    {
     "data": {
      "application/vnd.jupyter.widget-view+json": {
       "model_id": "930f5eae4a984ffdb6e70337d29c3c4a",
       "version_major": 2,
       "version_minor": 0
      },
      "text/plain": [
       "ice cream:   0%|          | 0.00/11.3M [00:00<?, ?iB/s]"
      ]
     },
     "metadata": {},
     "output_type": "display_data"
    },
    {
     "name": "stderr",
     "output_type": "stream",
     "text": [
      "2025-09-11 04:11:26,797 - INFO - 2291996958 - Successfully downloaded 'ice cream'.\n",
      "2025-09-11 04:11:26,798 - INFO - 2291996958 - Downloading 'jacket' from https://storage.googleapis.com/quickdraw_dataset/full/binary/jacket.bin to ./data/full_binary_jacket.bin...\n"
     ]
    },
    {
     "data": {
      "application/vnd.jupyter.widget-view+json": {
       "model_id": "0d0a5f3aa6a7404297a4312326bee703",
       "version_major": 2,
       "version_minor": 0
      },
      "text/plain": [
       "jacket:   0%|          | 0.00/21.6M [00:00<?, ?iB/s]"
      ]
     },
     "metadata": {},
     "output_type": "display_data"
    },
    {
     "name": "stderr",
     "output_type": "stream",
     "text": [
      "2025-09-11 04:11:30,656 - INFO - 2291996958 - Successfully downloaded 'jacket'.\n",
      "2025-09-11 04:11:30,657 - INFO - 2291996958 - Downloading 'jail' from https://storage.googleapis.com/quickdraw_dataset/full/binary/jail.bin to ./data/full_binary_jail.bin...\n"
     ]
    },
    {
     "data": {
      "application/vnd.jupyter.widget-view+json": {
       "model_id": "af3a208edd9742779c821ac66444f340",
       "version_major": 2,
       "version_minor": 0
      },
      "text/plain": [
       "jail:   0%|          | 0.00/11.0M [00:00<?, ?iB/s]"
      ]
     },
     "metadata": {},
     "output_type": "display_data"
    },
    {
     "name": "stderr",
     "output_type": "stream",
     "text": [
      "2025-09-11 04:11:33,774 - INFO - 2291996958 - Successfully downloaded 'jail'.\n",
      "2025-09-11 04:11:33,776 - INFO - 2291996958 - Downloading 'kangaroo' from https://storage.googleapis.com/quickdraw_dataset/full/binary/kangaroo.bin to ./data/full_binary_kangaroo.bin...\n"
     ]
    },
    {
     "data": {
      "application/vnd.jupyter.widget-view+json": {
       "model_id": "b936b2e3ea9748f08ec4cc93a8796dfe",
       "version_major": 2,
       "version_minor": 0
      },
      "text/plain": [
       "kangaroo:   0%|          | 0.00/24.0M [00:00<?, ?iB/s]"
      ]
     },
     "metadata": {},
     "output_type": "display_data"
    },
    {
     "name": "stderr",
     "output_type": "stream",
     "text": [
      "2025-09-11 04:11:37,682 - INFO - 2291996958 - Successfully downloaded 'kangaroo'.\n",
      "2025-09-11 04:11:37,686 - INFO - 2291996958 - Downloading 'key' from https://storage.googleapis.com/quickdraw_dataset/full/binary/key.bin to ./data/full_binary_key.bin...\n"
     ]
    },
    {
     "data": {
      "application/vnd.jupyter.widget-view+json": {
       "model_id": "2df9c9bbfdea4a859f9c5d880f4942b9",
       "version_major": 2,
       "version_minor": 0
      },
      "text/plain": [
       "key:   0%|          | 0.00/16.1M [00:00<?, ?iB/s]"
      ]
     },
     "metadata": {},
     "output_type": "display_data"
    },
    {
     "name": "stderr",
     "output_type": "stream",
     "text": [
      "2025-09-11 04:11:41,291 - INFO - 2291996958 - Successfully downloaded 'key'.\n",
      "2025-09-11 04:11:41,292 - INFO - 2291996958 - Downloading 'keyboard' from https://storage.googleapis.com/quickdraw_dataset/full/binary/keyboard.bin to ./data/full_binary_keyboard.bin...\n"
     ]
    },
    {
     "data": {
      "application/vnd.jupyter.widget-view+json": {
       "model_id": "48293c2e01e74ac389905c12ab68701e",
       "version_major": 2,
       "version_minor": 0
      },
      "text/plain": [
       "keyboard:   0%|          | 0.00/14.3M [00:00<?, ?iB/s]"
      ]
     },
     "metadata": {},
     "output_type": "display_data"
    },
    {
     "name": "stderr",
     "output_type": "stream",
     "text": [
      "2025-09-11 04:11:44,605 - INFO - 2291996958 - Successfully downloaded 'keyboard'.\n",
      "2025-09-11 04:11:44,607 - INFO - 2291996958 - Downloading 'knee' from https://storage.googleapis.com/quickdraw_dataset/full/binary/knee.bin to ./data/full_binary_knee.bin...\n"
     ]
    },
    {
     "data": {
      "application/vnd.jupyter.widget-view+json": {
       "model_id": "f5c223b9accd4c61a181d1af3869ee82",
       "version_major": 2,
       "version_minor": 0
      },
      "text/plain": [
       "knee:   0%|          | 0.00/17.0M [00:00<?, ?iB/s]"
      ]
     },
     "metadata": {},
     "output_type": "display_data"
    },
    {
     "name": "stderr",
     "output_type": "stream",
     "text": [
      "2025-09-11 04:11:48,095 - INFO - 2291996958 - Successfully downloaded 'knee'.\n",
      "2025-09-11 04:11:48,096 - INFO - 2291996958 - Downloading 'knife' from https://storage.googleapis.com/quickdraw_dataset/full/binary/knife.bin to ./data/full_binary_knife.bin...\n"
     ]
    },
    {
     "data": {
      "application/vnd.jupyter.widget-view+json": {
       "model_id": "94f70d4313204441a01af4fdc694dafa",
       "version_major": 2,
       "version_minor": 0
      },
      "text/plain": [
       "knife:   0%|          | 0.00/12.0M [00:00<?, ?iB/s]"
      ]
     },
     "metadata": {},
     "output_type": "display_data"
    },
    {
     "name": "stderr",
     "output_type": "stream",
     "text": [
      "2025-09-11 04:11:51,065 - INFO - 2291996958 - Successfully downloaded 'knife'.\n",
      "2025-09-11 04:11:51,066 - INFO - 2291996958 - Downloading 'ladder' from https://storage.googleapis.com/quickdraw_dataset/full/binary/ladder.bin to ./data/full_binary_ladder.bin...\n"
     ]
    },
    {
     "data": {
      "application/vnd.jupyter.widget-view+json": {
       "model_id": "60e46c32d11d496fa9c0a04708c18f38",
       "version_major": 2,
       "version_minor": 0
      },
      "text/plain": [
       "ladder:   0%|          | 0.00/8.61M [00:00<?, ?iB/s]"
      ]
     },
     "metadata": {},
     "output_type": "display_data"
    },
    {
     "name": "stderr",
     "output_type": "stream",
     "text": [
      "2025-09-11 04:11:54,020 - INFO - 2291996958 - Successfully downloaded 'ladder'.\n",
      "2025-09-11 04:11:54,022 - INFO - 2291996958 - Downloading 'lanternnecklace' from https://storage.googleapis.com/quickdraw_dataset/full/binary/lanternnecklace.bin to ./data/full_binary_lanternnecklace.bin...\n",
      "2025-09-11 04:11:54,310 - INFO - 2291996958 - Error downloading 'lanternnecklace': 404 Client Error: Not Found for url: https://storage.googleapis.com/quickdraw_dataset/full/binary/lanternnecklace.bin\n",
      "2025-09-11 04:11:54,312 - INFO - 2291996958 - Downloading 'nose' from https://storage.googleapis.com/quickdraw_dataset/full/binary/nose.bin to ./data/full_binary_nose.bin...\n"
     ]
    },
    {
     "data": {
      "application/vnd.jupyter.widget-view+json": {
       "model_id": "464dc384a6c942f5ad6a8bf03fb1f063",
       "version_major": 2,
       "version_minor": 0
      },
      "text/plain": [
       "nose:   0%|          | 0.00/13.2M [00:00<?, ?iB/s]"
      ]
     },
     "metadata": {},
     "output_type": "display_data"
    },
    {
     "name": "stderr",
     "output_type": "stream",
     "text": [
      "2025-09-11 04:11:57,482 - INFO - 2291996958 - Successfully downloaded 'nose'.\n",
      "2025-09-11 04:11:57,484 - INFO - 2291996958 - Downloading 'ocean' from https://storage.googleapis.com/quickdraw_dataset/full/binary/ocean.bin to ./data/full_binary_ocean.bin...\n"
     ]
    },
    {
     "data": {
      "application/vnd.jupyter.widget-view+json": {
       "model_id": "1a8757d0733a40daa5bd5e3a289a6c30",
       "version_major": 2,
       "version_minor": 0
      },
      "text/plain": [
       "ocean:   0%|          | 0.00/9.54M [00:00<?, ?iB/s]"
      ]
     },
     "metadata": {},
     "output_type": "display_data"
    },
    {
     "name": "stderr",
     "output_type": "stream",
     "text": [
      "2025-09-11 04:12:00,437 - INFO - 2291996958 - Successfully downloaded 'ocean'.\n",
      "2025-09-11 04:12:00,439 - INFO - 2291996958 - Downloading 'octagon' from https://storage.googleapis.com/quickdraw_dataset/full/binary/octagon.bin to ./data/full_binary_octagon.bin...\n"
     ]
    },
    {
     "data": {
      "application/vnd.jupyter.widget-view+json": {
       "model_id": "0d576c81fc344da58dd9f74c991a962d",
       "version_major": 2,
       "version_minor": 0
      },
      "text/plain": [
       "octagon:   0%|          | 0.00/10.4M [00:00<?, ?iB/s]"
      ]
     },
     "metadata": {},
     "output_type": "display_data"
    },
    {
     "name": "stderr",
     "output_type": "stream",
     "text": [
      "2025-09-11 04:12:04,168 - INFO - 2291996958 - Successfully downloaded 'octagon'.\n",
      "2025-09-11 04:12:04,170 - INFO - 2291996958 - Downloading 'octopus' from https://storage.googleapis.com/quickdraw_dataset/full/binary/octopus.bin to ./data/full_binary_octopus.bin...\n"
     ]
    },
    {
     "data": {
      "application/vnd.jupyter.widget-view+json": {
       "model_id": "30db893056dd4cd7a712dfaeec2d56cb",
       "version_major": 2,
       "version_minor": 0
      },
      "text/plain": [
       "octopus:   0%|          | 0.00/19.3M [00:00<?, ?iB/s]"
      ]
     },
     "metadata": {},
     "output_type": "display_data"
    },
    {
     "name": "stderr",
     "output_type": "stream",
     "text": [
      "2025-09-11 04:12:07,821 - INFO - 2291996958 - Successfully downloaded 'octopus'.\n",
      "2025-09-11 04:12:07,822 - INFO - 2291996958 - Downloading 'onion' from https://storage.googleapis.com/quickdraw_dataset/full/binary/onion.bin to ./data/full_binary_onion.bin...\n"
     ]
    },
    {
     "data": {
      "application/vnd.jupyter.widget-view+json": {
       "model_id": "ec7671a26c834791a97405f8f02337a8",
       "version_major": 2,
       "version_minor": 0
      },
      "text/plain": [
       "onion:   0%|          | 0.00/17.8M [00:00<?, ?iB/s]"
      ]
     },
     "metadata": {},
     "output_type": "display_data"
    },
    {
     "name": "stderr",
     "output_type": "stream",
     "text": [
      "2025-09-11 04:12:11,429 - INFO - 2291996958 - Successfully downloaded 'onion'.\n",
      "2025-09-11 04:12:11,431 - INFO - 2291996958 - Downloading 'oven' from https://storage.googleapis.com/quickdraw_dataset/full/binary/oven.bin to ./data/full_binary_oven.bin...\n"
     ]
    },
    {
     "data": {
      "application/vnd.jupyter.widget-view+json": {
       "model_id": "7a6ee25550ef4e6b8b4a1078589f6204",
       "version_major": 2,
       "version_minor": 0
      },
      "text/plain": [
       "oven:   0%|          | 0.00/22.5M [00:00<?, ?iB/s]"
      ]
     },
     "metadata": {},
     "output_type": "display_data"
    },
    {
     "name": "stderr",
     "output_type": "stream",
     "text": [
      "2025-09-11 04:12:16,330 - INFO - 2291996958 - Successfully downloaded 'oven'.\n",
      "2025-09-11 04:12:16,331 - INFO - 2291996958 - Downloading 'owl' from https://storage.googleapis.com/quickdraw_dataset/full/binary/owl.bin to ./data/full_binary_owl.bin...\n"
     ]
    },
    {
     "data": {
      "application/vnd.jupyter.widget-view+json": {
       "model_id": "838f0ea353c54977ba9b3a28a863b947",
       "version_major": 2,
       "version_minor": 0
      },
      "text/plain": [
       "owl:   0%|          | 0.00/28.5M [00:00<?, ?iB/s]"
      ]
     },
     "metadata": {},
     "output_type": "display_data"
    },
    {
     "name": "stderr",
     "output_type": "stream",
     "text": [
      "2025-09-11 04:12:20,490 - INFO - 2291996958 - Successfully downloaded 'owl'.\n",
      "2025-09-11 04:12:20,491 - INFO - 2291996958 - Downloading 'paint can' from https://storage.googleapis.com/quickdraw_dataset/full/binary/paint%20can.bin to ./data/full_binary_paint_can.bin...\n"
     ]
    },
    {
     "data": {
      "application/vnd.jupyter.widget-view+json": {
       "model_id": "8dc5b001346f4186a30adfab08b47007",
       "version_major": 2,
       "version_minor": 0
      },
      "text/plain": [
       "paint can:   0%|          | 0.00/14.0M [00:00<?, ?iB/s]"
      ]
     },
     "metadata": {},
     "output_type": "display_data"
    },
    {
     "name": "stderr",
     "output_type": "stream",
     "text": [
      "2025-09-11 04:12:23,807 - INFO - 2291996958 - Successfully downloaded 'paint can'.\n",
      "2025-09-11 04:12:23,809 - INFO - 2291996958 - Downloading 'paintbrush' from https://storage.googleapis.com/quickdraw_dataset/full/binary/paintbrush.bin to ./data/full_binary_paintbrush.bin...\n"
     ]
    },
    {
     "data": {
      "application/vnd.jupyter.widget-view+json": {
       "model_id": "0264b9ce11b24b3ea7c25858860a7cf2",
       "version_major": 2,
       "version_minor": 0
      },
      "text/plain": [
       "paintbrush:   0%|          | 0.00/24.7M [00:00<?, ?iB/s]"
      ]
     },
     "metadata": {},
     "output_type": "display_data"
    },
    {
     "name": "stderr",
     "output_type": "stream",
     "text": [
      "2025-09-11 04:12:27,772 - INFO - 2291996958 - Successfully downloaded 'paintbrush'.\n",
      "2025-09-11 04:12:27,773 - INFO - 2291996958 - Downloading 'palm tree' from https://storage.googleapis.com/quickdraw_dataset/full/binary/palm%20tree.bin to ./data/full_binary_palm_tree.bin...\n"
     ]
    },
    {
     "data": {
      "application/vnd.jupyter.widget-view+json": {
       "model_id": "14df35abaf9d4b0cab7b90b174afa8a0",
       "version_major": 2,
       "version_minor": 0
      },
      "text/plain": [
       "palm tree:   0%|          | 0.00/14.6M [00:00<?, ?iB/s]"
      ]
     },
     "metadata": {},
     "output_type": "display_data"
    },
    {
     "name": "stderr",
     "output_type": "stream",
     "text": [
      "2025-09-11 04:12:31,320 - INFO - 2291996958 - Successfully downloaded 'palm tree'.\n",
      "2025-09-11 04:12:31,321 - INFO - 2291996958 - Downloading 'panda' from https://storage.googleapis.com/quickdraw_dataset/full/binary/panda.bin to ./data/full_binary_panda.bin...\n"
     ]
    },
    {
     "data": {
      "application/vnd.jupyter.widget-view+json": {
       "model_id": "b14436ca35f6474c8443126eda866066",
       "version_major": 2,
       "version_minor": 0
      },
      "text/plain": [
       "panda:   0%|          | 0.00/25.9M [00:00<?, ?iB/s]"
      ]
     },
     "metadata": {},
     "output_type": "display_data"
    },
    {
     "name": "stderr",
     "output_type": "stream",
     "text": [
      "2025-09-11 04:12:35,338 - INFO - 2291996958 - Successfully downloaded 'panda'.\n",
      "2025-09-11 04:12:35,341 - INFO - 2291996958 - Downloading 'pants' from https://storage.googleapis.com/quickdraw_dataset/full/binary/pants.bin to ./data/full_binary_pants.bin...\n"
     ]
    },
    {
     "data": {
      "application/vnd.jupyter.widget-view+json": {
       "model_id": "2266184872344bffbd04e5be045b6474",
       "version_major": 2,
       "version_minor": 0
      },
      "text/plain": [
       "pants:   0%|          | 0.00/10.2M [00:00<?, ?iB/s]"
      ]
     },
     "metadata": {},
     "output_type": "display_data"
    },
    {
     "name": "stderr",
     "output_type": "stream",
     "text": [
      "2025-09-11 04:12:38,468 - INFO - 2291996958 - Successfully downloaded 'pants'.\n",
      "2025-09-11 04:12:38,469 - INFO - 2291996958 - Downloading 'paper clip' from https://storage.googleapis.com/quickdraw_dataset/full/binary/paper%20clip.bin to ./data/full_binary_paper_clip.bin...\n"
     ]
    },
    {
     "data": {
      "application/vnd.jupyter.widget-view+json": {
       "model_id": "374d328be860458e8e11e662d34ecc39",
       "version_major": 2,
       "version_minor": 0
      },
      "text/plain": [
       "paper clip:   0%|          | 0.00/9.45M [00:00<?, ?iB/s]"
      ]
     },
     "metadata": {},
     "output_type": "display_data"
    },
    {
     "name": "stderr",
     "output_type": "stream",
     "text": [
      "2025-09-11 04:12:41,484 - INFO - 2291996958 - Successfully downloaded 'paper clip'.\n",
      "2025-09-11 04:12:41,486 - INFO - 2291996958 - Downloading 'parachute' from https://storage.googleapis.com/quickdraw_dataset/full/binary/parachute.bin to ./data/full_binary_parachute.bin...\n"
     ]
    },
    {
     "data": {
      "application/vnd.jupyter.widget-view+json": {
       "model_id": "51e7d56829b044aab3ba084c861f8e44",
       "version_major": 2,
       "version_minor": 0
      },
      "text/plain": [
       "parachute:   0%|          | 0.00/14.5M [00:00<?, ?iB/s]"
      ]
     },
     "metadata": {},
     "output_type": "display_data"
    },
    {
     "name": "stderr",
     "output_type": "stream",
     "text": [
      "2025-09-11 04:12:44,768 - INFO - 2291996958 - Successfully downloaded 'parachute'.\n",
      "2025-09-11 04:12:44,772 - INFO - 2291996958 - Downloading 'parrot' from https://storage.googleapis.com/quickdraw_dataset/full/binary/parrot.bin to ./data/full_binary_parrot.bin...\n"
     ]
    },
    {
     "data": {
      "application/vnd.jupyter.widget-view+json": {
       "model_id": "f6dd871653894aa29588e22b021b19a8",
       "version_major": 2,
       "version_minor": 0
      },
      "text/plain": [
       "parrot:   0%|          | 0.00/24.2M [00:00<?, ?iB/s]"
      ]
     },
     "metadata": {},
     "output_type": "display_data"
    },
    {
     "name": "stderr",
     "output_type": "stream",
     "text": [
      "2025-09-11 04:12:48,795 - INFO - 2291996958 - Successfully downloaded 'parrot'.\n",
      "2025-09-11 04:12:48,796 - INFO - 2291996958 - Downloading 'passport' from https://storage.googleapis.com/quickdraw_dataset/full/binary/passport.bin to ./data/full_binary_passport.bin...\n"
     ]
    },
    {
     "data": {
      "application/vnd.jupyter.widget-view+json": {
       "model_id": "47b79f191a6f4b94a381a53767b48e91",
       "version_major": 2,
       "version_minor": 0
      },
      "text/plain": [
       "passport:   0%|          | 0.00/18.7M [00:00<?, ?iB/s]"
      ]
     },
     "metadata": {},
     "output_type": "display_data"
    },
    {
     "name": "stderr",
     "output_type": "stream",
     "text": [
      "2025-09-11 04:12:52,442 - INFO - 2291996958 - Successfully downloaded 'passport'.\n",
      "2025-09-11 04:12:52,443 - INFO - 2291996958 - Downloading 'peanut' from https://storage.googleapis.com/quickdraw_dataset/full/binary/peanut.bin to ./data/full_binary_peanut.bin...\n"
     ]
    },
    {
     "data": {
      "application/vnd.jupyter.widget-view+json": {
       "model_id": "ae8f22ab54b449059964c4680861f6f2",
       "version_major": 2,
       "version_minor": 0
      },
      "text/plain": [
       "peanut:   0%|          | 0.00/10.7M [00:00<?, ?iB/s]"
      ]
     },
     "metadata": {},
     "output_type": "display_data"
    },
    {
     "name": "stderr",
     "output_type": "stream",
     "text": [
      "2025-09-11 04:12:55,611 - INFO - 2291996958 - Successfully downloaded 'peanut'.\n",
      "2025-09-11 04:12:55,612 - INFO - 2291996958 - Downloading 'pear' from https://storage.googleapis.com/quickdraw_dataset/full/binary/pear.bin to ./data/full_binary_pear.bin...\n"
     ]
    },
    {
     "data": {
      "application/vnd.jupyter.widget-view+json": {
       "model_id": "bd6559d20aa2492caf75fadb80fbb6c3",
       "version_major": 2,
       "version_minor": 0
      },
      "text/plain": [
       "pear:   0%|          | 0.00/8.82M [00:00<?, ?iB/s]"
      ]
     },
     "metadata": {},
     "output_type": "display_data"
    },
    {
     "name": "stderr",
     "output_type": "stream",
     "text": [
      "2025-09-11 04:12:58,540 - INFO - 2291996958 - Successfully downloaded 'pear'.\n",
      "2025-09-11 04:12:58,541 - INFO - 2291996958 - Downloading 'peas' from https://storage.googleapis.com/quickdraw_dataset/full/binary/peas.bin to ./data/full_binary_peas.bin...\n"
     ]
    },
    {
     "data": {
      "application/vnd.jupyter.widget-view+json": {
       "model_id": "092e162ce31943249d134e8b297c70c5",
       "version_major": 2,
       "version_minor": 0
      },
      "text/plain": [
       "peas:   0%|          | 0.00/27.0M [00:00<?, ?iB/s]"
      ]
     },
     "metadata": {},
     "output_type": "display_data"
    },
    {
     "name": "stderr",
     "output_type": "stream",
     "text": [
      "2025-09-11 04:13:02,809 - INFO - 2291996958 - Successfully downloaded 'peas'.\n",
      "2025-09-11 04:13:02,811 - INFO - 2291996958 - Downloading 'pencil' from https://storage.googleapis.com/quickdraw_dataset/full/binary/pencil.bin to ./data/full_binary_pencil.bin...\n"
     ]
    },
    {
     "data": {
      "application/vnd.jupyter.widget-view+json": {
       "model_id": "89e9363431f84c38ad06029045bf05fc",
       "version_major": 2,
       "version_minor": 0
      },
      "text/plain": [
       "pencil:   0%|          | 0.00/9.62M [00:00<?, ?iB/s]"
      ]
     },
     "metadata": {},
     "output_type": "display_data"
    },
    {
     "name": "stderr",
     "output_type": "stream",
     "text": [
      "2025-09-11 04:13:05,864 - INFO - 2291996958 - Successfully downloaded 'pencil'.\n",
      "2025-09-11 04:13:05,865 - INFO - 2291996958 - Downloading 'penguin' from https://storage.googleapis.com/quickdraw_dataset/full/binary/penguin.bin to ./data/full_binary_penguin.bin...\n"
     ]
    },
    {
     "data": {
      "application/vnd.jupyter.widget-view+json": {
       "model_id": "0572daa8f0804d7eab710637cdd92fd4",
       "version_major": 2,
       "version_minor": 0
      },
      "text/plain": [
       "penguin:   0%|          | 0.00/34.9M [00:00<?, ?iB/s]"
      ]
     },
     "metadata": {},
     "output_type": "display_data"
    },
    {
     "name": "stderr",
     "output_type": "stream",
     "text": [
      "2025-09-11 04:13:10,773 - INFO - 2291996958 - Successfully downloaded 'penguin'.\n",
      "2025-09-11 04:13:10,774 - INFO - 2291996958 - Downloading 'piano' from https://storage.googleapis.com/quickdraw_dataset/full/binary/piano.bin to ./data/full_binary_piano.bin...\n"
     ]
    },
    {
     "data": {
      "application/vnd.jupyter.widget-view+json": {
       "model_id": "6e0cc065a83e422992a8fed2a4683659",
       "version_major": 2,
       "version_minor": 0
      },
      "text/plain": [
       "piano:   0%|          | 0.00/13.0M [00:00<?, ?iB/s]"
      ]
     },
     "metadata": {},
     "output_type": "display_data"
    },
    {
     "name": "stderr",
     "output_type": "stream",
     "text": [
      "2025-09-11 04:13:14,245 - INFO - 2291996958 - Successfully downloaded 'piano'.\n",
      "2025-09-11 04:13:14,247 - INFO - 2291996958 - Downloading 'pickup truck' from https://storage.googleapis.com/quickdraw_dataset/full/binary/pickup%20truck.bin to ./data/full_binary_pickup_truck.bin...\n"
     ]
    },
    {
     "data": {
      "application/vnd.jupyter.widget-view+json": {
       "model_id": "58ee672d684f4d25a89d20a74c3cfeb0",
       "version_major": 2,
       "version_minor": 0
      },
      "text/plain": [
       "pickup truck:   0%|          | 0.00/15.2M [00:00<?, ?iB/s]"
      ]
     },
     "metadata": {},
     "output_type": "display_data"
    },
    {
     "name": "stderr",
     "output_type": "stream",
     "text": [
      "2025-09-11 04:13:17,618 - INFO - 2291996958 - Successfully downloaded 'pickup truck'.\n",
      "2025-09-11 04:13:17,620 - INFO - 2291996958 - Downloading 'picture frame' from https://storage.googleapis.com/quickdraw_dataset/full/binary/picture%20frame.bin to ./data/full_binary_picture_frame.bin...\n"
     ]
    },
    {
     "data": {
      "application/vnd.jupyter.widget-view+json": {
       "model_id": "1698f17bae1a4580b67dd84102a0dd86",
       "version_major": 2,
       "version_minor": 0
      },
      "text/plain": [
       "picture frame:   0%|          | 0.00/11.8M [00:00<?, ?iB/s]"
      ]
     },
     "metadata": {},
     "output_type": "display_data"
    },
    {
     "name": "stderr",
     "output_type": "stream",
     "text": [
      "2025-09-11 04:13:21,323 - INFO - 2291996958 - Successfully downloaded 'picture frame'.\n",
      "2025-09-11 04:13:21,325 - INFO - 2291996958 - Downloading 'pig' from https://storage.googleapis.com/quickdraw_dataset/full/binary/pig.bin to ./data/full_binary_pig.bin...\n"
     ]
    },
    {
     "data": {
      "application/vnd.jupyter.widget-view+json": {
       "model_id": "6e62027851fc4731bb897ea591200a65",
       "version_major": 2,
       "version_minor": 0
      },
      "text/plain": [
       "pig:   0%|          | 0.00/32.5M [00:00<?, ?iB/s]"
      ]
     },
     "metadata": {},
     "output_type": "display_data"
    },
    {
     "name": "stderr",
     "output_type": "stream",
     "text": [
      "2025-09-11 04:13:25,931 - INFO - 2291996958 - Successfully downloaded 'pig'.\n",
      "2025-09-11 04:13:25,933 - INFO - 2291996958 - Downloading 'pillow' from https://storage.googleapis.com/quickdraw_dataset/full/binary/pillow.bin to ./data/full_binary_pillow.bin...\n"
     ]
    },
    {
     "data": {
      "application/vnd.jupyter.widget-view+json": {
       "model_id": "de91aacfb7f04721ac90df3bece02c97",
       "version_major": 2,
       "version_minor": 0
      },
      "text/plain": [
       "pillow:   0%|          | 0.00/8.26M [00:00<?, ?iB/s]"
      ]
     },
     "metadata": {},
     "output_type": "display_data"
    },
    {
     "name": "stderr",
     "output_type": "stream",
     "text": [
      "2025-09-11 04:13:29,781 - INFO - 2291996958 - Successfully downloaded 'pillow'.\n",
      "2025-09-11 04:13:29,782 - INFO - 2291996958 - Downloading 'pineapple' from https://storage.googleapis.com/quickdraw_dataset/full/binary/pineapple.bin to ./data/full_binary_pineapple.bin...\n"
     ]
    },
    {
     "data": {
      "application/vnd.jupyter.widget-view+json": {
       "model_id": "6360943d3f894468996863a70722761b",
       "version_major": 2,
       "version_minor": 0
      },
      "text/plain": [
       "pineapple:   0%|          | 0.00/16.0M [00:00<?, ?iB/s]"
      ]
     },
     "metadata": {},
     "output_type": "display_data"
    },
    {
     "name": "stderr",
     "output_type": "stream",
     "text": [
      "2025-09-11 04:13:31,929 - INFO - 2291996958 - Successfully downloaded 'pineapple'.\n",
      "2025-09-11 04:13:31,930 - INFO - 2291996958 - Downloading 'pizza' from https://storage.googleapis.com/quickdraw_dataset/full/binary/pizza.bin to ./data/full_binary_pizza.bin...\n"
     ]
    },
    {
     "data": {
      "application/vnd.jupyter.widget-view+json": {
       "model_id": "79f9f14bc05645f48f9151f2a769b476",
       "version_major": 2,
       "version_minor": 0
      },
      "text/plain": [
       "pizza:   0%|          | 0.00/20.9M [00:00<?, ?iB/s]"
      ]
     },
     "metadata": {},
     "output_type": "display_data"
    },
    {
     "name": "stderr",
     "output_type": "stream",
     "text": [
      "2025-09-11 04:13:35,713 - INFO - 2291996958 - Successfully downloaded 'pizza'.\n",
      "2025-09-11 04:13:35,716 - INFO - 2291996958 - Downloading 'pliers' from https://storage.googleapis.com/quickdraw_dataset/full/binary/pliers.bin to ./data/full_binary_pliers.bin...\n"
     ]
    },
    {
     "data": {
      "application/vnd.jupyter.widget-view+json": {
       "model_id": "953bf4df264c4ede82cec206234998ac",
       "version_major": 2,
       "version_minor": 0
      },
      "text/plain": [
       "pliers:   0%|          | 0.00/17.5M [00:00<?, ?iB/s]"
      ]
     },
     "metadata": {},
     "output_type": "display_data"
    },
    {
     "name": "stderr",
     "output_type": "stream",
     "text": [
      "2025-09-11 04:13:39,321 - INFO - 2291996958 - Successfully downloaded 'pliers'.\n",
      "2025-09-11 04:13:39,323 - INFO - 2291996958 - Downloading 'police car' from https://storage.googleapis.com/quickdraw_dataset/full/binary/police%20car.bin to ./data/full_binary_police_car.bin...\n"
     ]
    },
    {
     "data": {
      "application/vnd.jupyter.widget-view+json": {
       "model_id": "15456150c3d44e13bddfe8cb9f50bad3",
       "version_major": 2,
       "version_minor": 0
      },
      "text/plain": [
       "police car:   0%|          | 0.00/16.6M [00:00<?, ?iB/s]"
      ]
     },
     "metadata": {},
     "output_type": "display_data"
    },
    {
     "name": "stderr",
     "output_type": "stream",
     "text": [
      "2025-09-11 04:13:42,899 - INFO - 2291996958 - Successfully downloaded 'police car'.\n",
      "2025-09-11 04:13:42,900 - INFO - 2291996958 - Downloading 'pond' from https://storage.googleapis.com/quickdraw_dataset/full/binary/pond.bin to ./data/full_binary_pond.bin...\n"
     ]
    },
    {
     "data": {
      "application/vnd.jupyter.widget-view+json": {
       "model_id": "fb56446c938245a9b7de74877f9634d3",
       "version_major": 2,
       "version_minor": 0
      },
      "text/plain": [
       "pond:   0%|          | 0.00/11.9M [00:00<?, ?iB/s]"
      ]
     },
     "metadata": {},
     "output_type": "display_data"
    },
    {
     "name": "stderr",
     "output_type": "stream",
     "text": [
      "2025-09-11 04:13:47,004 - INFO - 2291996958 - Successfully downloaded 'pond'.\n",
      "2025-09-11 04:13:47,006 - INFO - 2291996958 - Downloading 'pool' from https://storage.googleapis.com/quickdraw_dataset/full/binary/pool.bin to ./data/full_binary_pool.bin...\n"
     ]
    },
    {
     "data": {
      "application/vnd.jupyter.widget-view+json": {
       "model_id": "2a7eb05fb8ce487aba0390fdc29260b2",
       "version_major": 2,
       "version_minor": 0
      },
      "text/plain": [
       "pool:   0%|          | 0.00/14.0M [00:00<?, ?iB/s]"
      ]
     },
     "metadata": {},
     "output_type": "display_data"
    },
    {
     "name": "stderr",
     "output_type": "stream",
     "text": [
      "2025-09-11 04:13:50,307 - INFO - 2291996958 - Successfully downloaded 'pool'.\n",
      "2025-09-11 04:13:50,308 - INFO - 2291996958 - Downloading 'postcard' from https://storage.googleapis.com/quickdraw_dataset/full/binary/postcard.bin to ./data/full_binary_postcard.bin...\n"
     ]
    },
    {
     "data": {
      "application/vnd.jupyter.widget-view+json": {
       "model_id": "d054f0804ebe4f10b3bf04e1d4894139",
       "version_major": 2,
       "version_minor": 0
      },
      "text/plain": [
       "postcard:   0%|          | 0.00/10.7M [00:00<?, ?iB/s]"
      ]
     },
     "metadata": {},
     "output_type": "display_data"
    },
    {
     "name": "stderr",
     "output_type": "stream",
     "text": [
      "2025-09-11 04:13:53,296 - INFO - 2291996958 - Successfully downloaded 'postcard'.\n",
      "2025-09-11 04:13:53,297 - INFO - 2291996958 - Downloading 'potato' from https://storage.googleapis.com/quickdraw_dataset/full/binary/potato.bin to ./data/full_binary_potato.bin...\n"
     ]
    },
    {
     "data": {
      "application/vnd.jupyter.widget-view+json": {
       "model_id": "f867ae38a93045fb94a1cb247adcfaa5",
       "version_major": 2,
       "version_minor": 0
      },
      "text/plain": [
       "potato:   0%|          | 0.00/28.6M [00:00<?, ?iB/s]"
      ]
     },
     "metadata": {},
     "output_type": "display_data"
    },
    {
     "name": "stderr",
     "output_type": "stream",
     "text": [
      "2025-09-11 04:13:57,581 - INFO - 2291996958 - Successfully downloaded 'potato'.\n",
      "2025-09-11 04:13:57,582 - INFO - 2291996958 - Downloading 'power outlet' from https://storage.googleapis.com/quickdraw_dataset/full/binary/power%20outlet.bin to ./data/full_binary_power_outlet.bin...\n"
     ]
    },
    {
     "data": {
      "application/vnd.jupyter.widget-view+json": {
       "model_id": "f4ada7ef2ef9482fa0089bb2b6f9287d",
       "version_major": 2,
       "version_minor": 0
      },
      "text/plain": [
       "power outlet:   0%|          | 0.00/19.7M [00:00<?, ?iB/s]"
      ]
     },
     "metadata": {},
     "output_type": "display_data"
    },
    {
     "name": "stderr",
     "output_type": "stream",
     "text": [
      "2025-09-11 04:14:01,285 - INFO - 2291996958 - Successfully downloaded 'power outlet'.\n",
      "2025-09-11 04:14:01,295 - INFO - 2291996958 - Downloading 'purse' from https://storage.googleapis.com/quickdraw_dataset/full/binary/purse.bin to ./data/full_binary_purse.bin...\n"
     ]
    },
    {
     "data": {
      "application/vnd.jupyter.widget-view+json": {
       "model_id": "238eab9912684343947385b47d6f9b74",
       "version_major": 2,
       "version_minor": 0
      },
      "text/plain": [
       "purse:   0%|          | 0.00/12.2M [00:00<?, ?iB/s]"
      ]
     },
     "metadata": {},
     "output_type": "display_data"
    },
    {
     "name": "stderr",
     "output_type": "stream",
     "text": [
      "2025-09-11 04:14:04,577 - INFO - 2291996958 - Successfully downloaded 'purse'.\n",
      "2025-09-11 04:14:04,581 - INFO - 2291996958 - Downloading 'rabbit' from https://storage.googleapis.com/quickdraw_dataset/full/binary/rabbit.bin to ./data/full_binary_rabbit.bin...\n"
     ]
    },
    {
     "data": {
      "application/vnd.jupyter.widget-view+json": {
       "model_id": "c1f44fce184f41768acf7fb496b26266",
       "version_major": 2,
       "version_minor": 0
      },
      "text/plain": [
       "rabbit:   0%|          | 0.00/24.1M [00:00<?, ?iB/s]"
      ]
     },
     "metadata": {},
     "output_type": "display_data"
    },
    {
     "name": "stderr",
     "output_type": "stream",
     "text": [
      "2025-09-11 04:14:08,612 - INFO - 2291996958 - Successfully downloaded 'rabbit'.\n",
      "2025-09-11 04:14:08,614 - INFO - 2291996958 - Downloading 'raccoon' from https://storage.googleapis.com/quickdraw_dataset/full/binary/raccoon.bin to ./data/full_binary_raccoon.bin...\n"
     ]
    },
    {
     "data": {
      "application/vnd.jupyter.widget-view+json": {
       "model_id": "a08329ffb97f44029de7c9b307defb06",
       "version_major": 2,
       "version_minor": 0
      },
      "text/plain": [
       "raccoon:   0%|          | 0.00/23.5M [00:00<?, ?iB/s]"
      ]
     },
     "metadata": {},
     "output_type": "display_data"
    },
    {
     "name": "stderr",
     "output_type": "stream",
     "text": [
      "2025-09-11 04:14:12,539 - INFO - 2291996958 - Successfully downloaded 'raccoon'.\n",
      "2025-09-11 04:14:12,540 - INFO - 2291996958 - Downloading 'radio' from https://storage.googleapis.com/quickdraw_dataset/full/binary/radio.bin to ./data/full_binary_radio.bin...\n"
     ]
    },
    {
     "data": {
      "application/vnd.jupyter.widget-view+json": {
       "model_id": "265032677e3d4965a490f5e8c4799db3",
       "version_major": 2,
       "version_minor": 0
      },
      "text/plain": [
       "radio:   0%|          | 0.00/16.9M [00:00<?, ?iB/s]"
      ]
     },
     "metadata": {},
     "output_type": "display_data"
    },
    {
     "name": "stderr",
     "output_type": "stream",
     "text": [
      "2025-09-11 04:14:16,037 - INFO - 2291996958 - Successfully downloaded 'radio'.\n",
      "2025-09-11 04:14:16,040 - INFO - 2291996958 - Downloading 'rain' from https://storage.googleapis.com/quickdraw_dataset/full/binary/rain.bin to ./data/full_binary_rain.bin...\n"
     ]
    },
    {
     "data": {
      "application/vnd.jupyter.widget-view+json": {
       "model_id": "0cebc61980224936abfa846dc212efd7",
       "version_major": 2,
       "version_minor": 0
      },
      "text/plain": [
       "rain:   0%|          | 0.00/15.9M [00:00<?, ?iB/s]"
      ]
     },
     "metadata": {},
     "output_type": "display_data"
    },
    {
     "name": "stderr",
     "output_type": "stream",
     "text": [
      "2025-09-11 04:14:20,541 - INFO - 2291996958 - Successfully downloaded 'rain'.\n",
      "2025-09-11 04:14:20,543 - INFO - 2291996958 - Downloading 'rainbow' from https://storage.googleapis.com/quickdraw_dataset/full/binary/rainbow.bin to ./data/full_binary_rainbow.bin...\n"
     ]
    },
    {
     "data": {
      "application/vnd.jupyter.widget-view+json": {
       "model_id": "7361e7ecf6cb47e2b81b0b03c059ba47",
       "version_major": 2,
       "version_minor": 0
      },
      "text/plain": [
       "rainbow:   0%|          | 0.00/9.36M [00:00<?, ?iB/s]"
      ]
     },
     "metadata": {},
     "output_type": "display_data"
    },
    {
     "name": "stderr",
     "output_type": "stream",
     "text": [
      "2025-09-11 04:14:23,522 - INFO - 2291996958 - Successfully downloaded 'rainbow'.\n",
      "2025-09-11 04:14:23,525 - INFO - 2291996958 - Downloading 'rake' from https://storage.googleapis.com/quickdraw_dataset/full/binary/rake.bin to ./data/full_binary_rake.bin...\n"
     ]
    },
    {
     "data": {
      "application/vnd.jupyter.widget-view+json": {
       "model_id": "4ac6a06b2f2043a0a47656dc4bebc689",
       "version_major": 2,
       "version_minor": 0
      },
      "text/plain": [
       "rake:   0%|          | 0.00/13.4M [00:00<?, ?iB/s]"
      ]
     },
     "metadata": {},
     "output_type": "display_data"
    },
    {
     "name": "stderr",
     "output_type": "stream",
     "text": [
      "2025-09-11 04:14:26,826 - INFO - 2291996958 - Successfully downloaded 'rake'.\n",
      "2025-09-11 04:14:26,827 - INFO - 2291996958 - Downloading 'remote control' from https://storage.googleapis.com/quickdraw_dataset/full/binary/remote%20control.bin to ./data/full_binary_remote_control.bin...\n"
     ]
    },
    {
     "data": {
      "application/vnd.jupyter.widget-view+json": {
       "model_id": "7510b7f5198943a08d8150b4511ba413",
       "version_major": 2,
       "version_minor": 0
      },
      "text/plain": [
       "remote control:   0%|          | 0.00/13.5M [00:00<?, ?iB/s]"
      ]
     },
     "metadata": {},
     "output_type": "display_data"
    },
    {
     "name": "stderr",
     "output_type": "stream",
     "text": [
      "2025-09-11 04:14:30,204 - INFO - 2291996958 - Successfully downloaded 'remote control'.\n",
      "2025-09-11 04:14:30,205 - INFO - 2291996958 - Downloading 'rhinoceros' from https://storage.googleapis.com/quickdraw_dataset/full/binary/rhinoceros.bin to ./data/full_binary_rhinoceros.bin...\n"
     ]
    },
    {
     "data": {
      "application/vnd.jupyter.widget-view+json": {
       "model_id": "34a3b8dfb9074a298bc0a729f15a2dc1",
       "version_major": 2,
       "version_minor": 0
      },
      "text/plain": [
       "rhinoceros:   0%|          | 0.00/22.8M [00:00<?, ?iB/s]"
      ]
     },
     "metadata": {},
     "output_type": "display_data"
    },
    {
     "name": "stderr",
     "output_type": "stream",
     "text": [
      "2025-09-11 04:14:34,129 - INFO - 2291996958 - Successfully downloaded 'rhinoceros'.\n",
      "2025-09-11 04:14:34,131 - INFO - 2291996958 - Downloading 'rifle' from https://storage.googleapis.com/quickdraw_dataset/full/binary/rifle.bin to ./data/full_binary_rifle.bin...\n"
     ]
    },
    {
     "data": {
      "application/vnd.jupyter.widget-view+json": {
       "model_id": "ff1539f0c4cb4189a2b576fb81ea7dcd",
       "version_major": 2,
       "version_minor": 0
      },
      "text/plain": [
       "rifle:   0%|          | 0.00/12.0M [00:00<?, ?iB/s]"
      ]
     },
     "metadata": {},
     "output_type": "display_data"
    },
    {
     "name": "stderr",
     "output_type": "stream",
     "text": [
      "2025-09-11 04:14:37,265 - INFO - 2291996958 - Successfully downloaded 'rifle'.\n",
      "2025-09-11 04:14:37,266 - INFO - 2291996958 - Downloading 'river' from https://storage.googleapis.com/quickdraw_dataset/full/binary/river.bin to ./data/full_binary_river.bin...\n"
     ]
    },
    {
     "data": {
      "application/vnd.jupyter.widget-view+json": {
       "model_id": "d58245b7cfef4f93ae695131a4e997d6",
       "version_major": 2,
       "version_minor": 0
      },
      "text/plain": [
       "river:   0%|          | 0.00/10.3M [00:00<?, ?iB/s]"
      ]
     },
     "metadata": {},
     "output_type": "display_data"
    },
    {
     "name": "stderr",
     "output_type": "stream",
     "text": [
      "2025-09-11 04:14:39,568 - INFO - 2291996958 - Successfully downloaded 'river'.\n",
      "2025-09-11 04:14:39,569 - INFO - 2291996958 - Downloading 'roller coaster' from https://storage.googleapis.com/quickdraw_dataset/full/binary/roller%20coaster.bin to ./data/full_binary_roller_coaster.bin...\n"
     ]
    },
    {
     "data": {
      "application/vnd.jupyter.widget-view+json": {
       "model_id": "097a14dcf89e4e29a8e88b5ea4c775c4",
       "version_major": 2,
       "version_minor": 0
      },
      "text/plain": [
       "roller coaster:   0%|          | 0.00/16.0M [00:00<?, ?iB/s]"
      ]
     },
     "metadata": {},
     "output_type": "display_data"
    },
    {
     "name": "stderr",
     "output_type": "stream",
     "text": [
      "2025-09-11 04:14:43,013 - INFO - 2291996958 - Successfully downloaded 'roller coaster'.\n",
      "2025-09-11 04:14:43,015 - INFO - 2291996958 - Downloading 'rollerskates' from https://storage.googleapis.com/quickdraw_dataset/full/binary/rollerskates.bin to ./data/full_binary_rollerskates.bin...\n"
     ]
    },
    {
     "data": {
      "application/vnd.jupyter.widget-view+json": {
       "model_id": "215d5182b8a7406da20617f4f48eaf75",
       "version_major": 2,
       "version_minor": 0
      },
      "text/plain": [
       "rollerskates:   0%|          | 0.00/15.9M [00:00<?, ?iB/s]"
      ]
     },
     "metadata": {},
     "output_type": "display_data"
    },
    {
     "name": "stderr",
     "output_type": "stream",
     "text": [
      "2025-09-11 04:14:46,356 - INFO - 2291996958 - Successfully downloaded 'rollerskates'.\n",
      "2025-09-11 04:14:46,357 - INFO - 2291996958 - Downloading 'sailboat' from https://storage.googleapis.com/quickdraw_dataset/full/binary/sailboat.bin to ./data/full_binary_sailboat.bin...\n"
     ]
    },
    {
     "data": {
      "application/vnd.jupyter.widget-view+json": {
       "model_id": "8e8ca35609714e638a290cdea8df0967",
       "version_major": 2,
       "version_minor": 0
      },
      "text/plain": [
       "sailboat:   0%|          | 0.00/10.6M [00:00<?, ?iB/s]"
      ]
     },
     "metadata": {},
     "output_type": "display_data"
    },
    {
     "name": "stderr",
     "output_type": "stream",
     "text": [
      "2025-09-11 04:14:49,342 - INFO - 2291996958 - Successfully downloaded 'sailboat'.\n",
      "2025-09-11 04:14:49,343 - INFO - 2291996958 - Downloading 'sandwich' from https://storage.googleapis.com/quickdraw_dataset/full/binary/sandwich.bin to ./data/full_binary_sandwich.bin...\n"
     ]
    },
    {
     "data": {
      "application/vnd.jupyter.widget-view+json": {
       "model_id": "17e2e493c33a4031a566a8f750b204b2",
       "version_major": 2,
       "version_minor": 0
      },
      "text/plain": [
       "sandwich:   0%|          | 0.00/16.7M [00:00<?, ?iB/s]"
      ]
     },
     "metadata": {},
     "output_type": "display_data"
    },
    {
     "name": "stderr",
     "output_type": "stream",
     "text": [
      "2025-09-11 04:14:52,936 - INFO - 2291996958 - Successfully downloaded 'sandwich'.\n",
      "2025-09-11 04:14:52,937 - INFO - 2291996958 - Downloading 'saw' from https://storage.googleapis.com/quickdraw_dataset/full/binary/saw.bin to ./data/full_binary_saw.bin...\n"
     ]
    },
    {
     "data": {
      "application/vnd.jupyter.widget-view+json": {
       "model_id": "5decd5f8d1104e10af894db902925f7b",
       "version_major": 2,
       "version_minor": 0
      },
      "text/plain": [
       "saw:   0%|          | 0.00/11.5M [00:00<?, ?iB/s]"
      ]
     },
     "metadata": {},
     "output_type": "display_data"
    },
    {
     "name": "stderr",
     "output_type": "stream",
     "text": [
      "2025-09-11 04:14:56,060 - INFO - 2291996958 - Successfully downloaded 'saw'.\n",
      "2025-09-11 04:14:56,061 - INFO - 2291996958 - Downloading 'saxophone' from https://storage.googleapis.com/quickdraw_dataset/full/binary/saxophone.bin to ./data/full_binary_saxophone.bin...\n"
     ]
    },
    {
     "data": {
      "application/vnd.jupyter.widget-view+json": {
       "model_id": "18a82ff92a804d87b0ee73b8167b7334",
       "version_major": 2,
       "version_minor": 0
      },
      "text/plain": [
       "saxophone:   0%|          | 0.00/12.6M [00:00<?, ?iB/s]"
      ]
     },
     "metadata": {},
     "output_type": "display_data"
    },
    {
     "name": "stderr",
     "output_type": "stream",
     "text": [
      "2025-09-11 04:14:59,256 - INFO - 2291996958 - Successfully downloaded 'saxophone'.\n",
      "2025-09-11 04:14:59,258 - INFO - 2291996958 - Downloading 'school bus' from https://storage.googleapis.com/quickdraw_dataset/full/binary/school%20bus.bin to ./data/full_binary_school_bus.bin...\n"
     ]
    },
    {
     "data": {
      "application/vnd.jupyter.widget-view+json": {
       "model_id": "903799718a204687979bb201aba39e87",
       "version_major": 2,
       "version_minor": 0
      },
      "text/plain": [
       "school bus:   0%|          | 0.00/18.7M [00:00<?, ?iB/s]"
      ]
     },
     "metadata": {},
     "output_type": "display_data"
    },
    {
     "name": "stderr",
     "output_type": "stream",
     "text": [
      "2025-09-11 04:15:02,862 - INFO - 2291996958 - Successfully downloaded 'school bus'.\n",
      "2025-09-11 04:15:02,864 - INFO - 2291996958 - Downloading 'scissors' from https://storage.googleapis.com/quickdraw_dataset/full/binary/scissors.bin to ./data/full_binary_scissors.bin...\n"
     ]
    },
    {
     "data": {
      "application/vnd.jupyter.widget-view+json": {
       "model_id": "2e8bec60e5d24b17bcc3aed5c51ff020",
       "version_major": 2,
       "version_minor": 0
      },
      "text/plain": [
       "scissors:   0%|          | 0.00/14.6M [00:00<?, ?iB/s]"
      ]
     },
     "metadata": {},
     "output_type": "display_data"
    },
    {
     "name": "stderr",
     "output_type": "stream",
     "text": [
      "2025-09-11 04:15:05,977 - INFO - 2291996958 - Successfully downloaded 'scissors'.\n",
      "2025-09-11 04:15:05,979 - INFO - 2291996958 - Downloading 'scorpion' from https://storage.googleapis.com/quickdraw_dataset/full/binary/scorpion.bin to ./data/full_binary_scorpion.bin...\n"
     ]
    },
    {
     "data": {
      "application/vnd.jupyter.widget-view+json": {
       "model_id": "f360ffddedd642edaf99de3970b47088",
       "version_major": 2,
       "version_minor": 0
      },
      "text/plain": [
       "scorpion:   0%|          | 0.00/26.4M [00:00<?, ?iB/s]"
      ]
     },
     "metadata": {},
     "output_type": "display_data"
    },
    {
     "name": "stderr",
     "output_type": "stream",
     "text": [
      "2025-09-11 04:15:09,862 - INFO - 2291996958 - Successfully downloaded 'scorpion'.\n",
      "2025-09-11 04:15:09,864 - INFO - 2291996958 - Downloading 'screwdriver' from https://storage.googleapis.com/quickdraw_dataset/full/binary/screwdriver.bin to ./data/full_binary_screwdriver.bin...\n"
     ]
    },
    {
     "data": {
      "application/vnd.jupyter.widget-view+json": {
       "model_id": "c59541d003a94a3a9752501b603094f6",
       "version_major": 2,
       "version_minor": 0
      },
      "text/plain": [
       "screwdriver:   0%|          | 0.00/9.76M [00:00<?, ?iB/s]"
      ]
     },
     "metadata": {},
     "output_type": "display_data"
    },
    {
     "name": "stderr",
     "output_type": "stream",
     "text": [
      "2025-09-11 04:15:12,824 - INFO - 2291996958 - Successfully downloaded 'screwdriver'.\n",
      "2025-09-11 04:15:12,825 - INFO - 2291996958 - Downloading 'sea turtle' from https://storage.googleapis.com/quickdraw_dataset/full/binary/sea%20turtle.bin to ./data/full_binary_sea_turtle.bin...\n"
     ]
    },
    {
     "data": {
      "application/vnd.jupyter.widget-view+json": {
       "model_id": "92d6c02d2c09436c949e8bb42b768b9b",
       "version_major": 2,
       "version_minor": 0
      },
      "text/plain": [
       "sea turtle:   0%|          | 0.00/17.9M [00:00<?, ?iB/s]"
      ]
     },
     "metadata": {},
     "output_type": "display_data"
    },
    {
     "name": "stderr",
     "output_type": "stream",
     "text": [
      "2025-09-11 04:15:16,405 - INFO - 2291996958 - Successfully downloaded 'sea turtle'.\n",
      "2025-09-11 04:15:16,406 - INFO - 2291996958 - Downloading 'see saw' from https://storage.googleapis.com/quickdraw_dataset/full/binary/see%20saw.bin to ./data/full_binary_see_saw.bin...\n"
     ]
    },
    {
     "data": {
      "application/vnd.jupyter.widget-view+json": {
       "model_id": "ba2cc5d5277b4d67ad7a45d54b34d00b",
       "version_major": 2,
       "version_minor": 0
      },
      "text/plain": [
       "see saw:   0%|          | 0.00/9.42M [00:00<?, ?iB/s]"
      ]
     },
     "metadata": {},
     "output_type": "display_data"
    },
    {
     "name": "stderr",
     "output_type": "stream",
     "text": [
      "2025-09-11 04:15:19,387 - INFO - 2291996958 - Successfully downloaded 'see saw'.\n",
      "2025-09-11 04:15:19,389 - INFO - 2291996958 - Downloading 'shark' from https://storage.googleapis.com/quickdraw_dataset/full/binary/shark.bin to ./data/full_binary_shark.bin...\n"
     ]
    },
    {
     "data": {
      "application/vnd.jupyter.widget-view+json": {
       "model_id": "e3b653f4c75a42718c6f4437ca4a72db",
       "version_major": 2,
       "version_minor": 0
      },
      "text/plain": [
       "shark:   0%|          | 0.00/11.7M [00:00<?, ?iB/s]"
      ]
     },
     "metadata": {},
     "output_type": "display_data"
    },
    {
     "name": "stderr",
     "output_type": "stream",
     "text": [
      "2025-09-11 04:15:22,582 - INFO - 2291996958 - Successfully downloaded 'shark'.\n",
      "2025-09-11 04:15:22,584 - INFO - 2291996958 - Downloading 'sheep' from https://storage.googleapis.com/quickdraw_dataset/full/binary/sheep.bin to ./data/full_binary_sheep.bin...\n"
     ]
    },
    {
     "data": {
      "application/vnd.jupyter.widget-view+json": {
       "model_id": "55b0571036e44a0b9cf06b31571616d1",
       "version_major": 2,
       "version_minor": 0
      },
      "text/plain": [
       "sheep:   0%|          | 0.00/21.0M [00:00<?, ?iB/s]"
      ]
     },
     "metadata": {},
     "output_type": "display_data"
    },
    {
     "name": "stderr",
     "output_type": "stream",
     "text": [
      "2025-09-11 04:15:26,324 - INFO - 2291996958 - Successfully downloaded 'sheep'.\n",
      "2025-09-11 04:15:26,325 - INFO - 2291996958 - Downloading 'shoe' from https://storage.googleapis.com/quickdraw_dataset/full/binary/shoe.bin to ./data/full_binary_shoe.bin...\n"
     ]
    },
    {
     "data": {
      "application/vnd.jupyter.widget-view+json": {
       "model_id": "1cc4dd8e4fec4cf4b505eb09b9cb4617",
       "version_major": 2,
       "version_minor": 0
      },
      "text/plain": [
       "shoe:   0%|          | 0.00/9.76M [00:00<?, ?iB/s]"
      ]
     },
     "metadata": {},
     "output_type": "display_data"
    },
    {
     "name": "stderr",
     "output_type": "stream",
     "text": [
      "2025-09-11 04:15:29,323 - INFO - 2291996958 - Successfully downloaded 'shoe'.\n",
      "2025-09-11 04:15:29,324 - INFO - 2291996958 - Downloading 'shorts' from https://storage.googleapis.com/quickdraw_dataset/full/binary/shorts.bin to ./data/full_binary_shorts.bin...\n"
     ]
    },
    {
     "data": {
      "application/vnd.jupyter.widget-view+json": {
       "model_id": "fdb6da2344ad45f1a8e1f4b5cfbe43c5",
       "version_major": 2,
       "version_minor": 0
      },
      "text/plain": [
       "shorts:   0%|          | 0.00/9.17M [00:00<?, ?iB/s]"
      ]
     },
     "metadata": {},
     "output_type": "display_data"
    },
    {
     "name": "stderr",
     "output_type": "stream",
     "text": [
      "2025-09-11 04:15:32,364 - INFO - 2291996958 - Successfully downloaded 'shorts'.\n",
      "2025-09-11 04:15:32,365 - INFO - 2291996958 - Downloading 'shovel' from https://storage.googleapis.com/quickdraw_dataset/full/binary/shovel.bin to ./data/full_binary_shovel.bin...\n"
     ]
    },
    {
     "data": {
      "application/vnd.jupyter.widget-view+json": {
       "model_id": "04cfec1c64e049c2a10b55fc5d85a1c6",
       "version_major": 2,
       "version_minor": 0
      },
      "text/plain": [
       "shovel:   0%|          | 0.00/8.82M [00:00<?, ?iB/s]"
      ]
     },
     "metadata": {},
     "output_type": "display_data"
    },
    {
     "name": "stderr",
     "output_type": "stream",
     "text": [
      "2025-09-11 04:15:35,415 - INFO - 2291996958 - Successfully downloaded 'shovel'.\n",
      "2025-09-11 04:15:35,416 - INFO - 2291996958 - Downloading 'sink' from https://storage.googleapis.com/quickdraw_dataset/full/binary/sink.bin to ./data/full_binary_sink.bin...\n"
     ]
    },
    {
     "data": {
      "application/vnd.jupyter.widget-view+json": {
       "model_id": "aa99ac021c4e45ecae30f99327471e60",
       "version_major": 2,
       "version_minor": 0
      },
      "text/plain": [
       "sink:   0%|          | 0.00/28.2M [00:00<?, ?iB/s]"
      ]
     },
     "metadata": {},
     "output_type": "display_data"
    },
    {
     "name": "stderr",
     "output_type": "stream",
     "text": [
      "2025-09-11 04:15:39,568 - INFO - 2291996958 - Successfully downloaded 'sink'.\n",
      "2025-09-11 04:15:39,569 - INFO - 2291996958 - Downloading 'skateboard' from https://storage.googleapis.com/quickdraw_dataset/full/binary/skateboard.bin to ./data/full_binary_skateboard.bin...\n"
     ]
    },
    {
     "data": {
      "application/vnd.jupyter.widget-view+json": {
       "model_id": "726163b3547c42bd84cf89c46512f925",
       "version_major": 2,
       "version_minor": 0
      },
      "text/plain": [
       "skateboard:   0%|          | 0.00/12.0M [00:00<?, ?iB/s]"
      ]
     },
     "metadata": {},
     "output_type": "display_data"
    },
    {
     "name": "stderr",
     "output_type": "stream",
     "text": [
      "2025-09-11 04:15:41,938 - INFO - 2291996958 - Successfully downloaded 'skateboard'.\n",
      "2025-09-11 04:15:41,939 - INFO - 2291996958 - Downloading 'skull' from https://storage.googleapis.com/quickdraw_dataset/full/binary/skull.bin to ./data/full_binary_skull.bin...\n"
     ]
    },
    {
     "data": {
      "application/vnd.jupyter.widget-view+json": {
       "model_id": "b98b3147cb4d4340b4404d61448472e6",
       "version_major": 2,
       "version_minor": 0
      },
      "text/plain": [
       "skull:   0%|          | 0.00/18.4M [00:00<?, ?iB/s]"
      ]
     },
     "metadata": {},
     "output_type": "display_data"
    },
    {
     "name": "stderr",
     "output_type": "stream",
     "text": [
      "2025-09-11 04:15:45,553 - INFO - 2291996958 - Successfully downloaded 'skull'.\n",
      "2025-09-11 04:15:45,554 - INFO - 2291996958 - Downloading 'skyscraper' from https://storage.googleapis.com/quickdraw_dataset/full/binary/skyscraper.bin to ./data/full_binary_skyscraper.bin...\n"
     ]
    },
    {
     "data": {
      "application/vnd.jupyter.widget-view+json": {
       "model_id": "8b7bbc170a66469f90c58665328b4efe",
       "version_major": 2,
       "version_minor": 0
      },
      "text/plain": [
       "skyscraper:   0%|          | 0.00/12.7M [00:00<?, ?iB/s]"
      ]
     },
     "metadata": {},
     "output_type": "display_data"
    },
    {
     "name": "stderr",
     "output_type": "stream",
     "text": [
      "2025-09-11 04:15:48,863 - INFO - 2291996958 - Successfully downloaded 'skyscraper'.\n",
      "2025-09-11 04:15:48,864 - INFO - 2291996958 - Downloading 'smiley face' from https://storage.googleapis.com/quickdraw_dataset/full/binary/smiley%20face.bin to ./data/full_binary_smiley_face.bin...\n"
     ]
    },
    {
     "data": {
      "application/vnd.jupyter.widget-view+json": {
       "model_id": "be8604bb9e09486a89b22377ea50fd82",
       "version_major": 2,
       "version_minor": 0
      },
      "text/plain": [
       "smiley face:   0%|          | 0.00/13.3M [00:00<?, ?iB/s]"
      ]
     },
     "metadata": {},
     "output_type": "display_data"
    },
    {
     "name": "stderr",
     "output_type": "stream",
     "text": [
      "2025-09-11 04:15:52,141 - INFO - 2291996958 - Successfully downloaded 'smiley face'.\n",
      "2025-09-11 04:15:52,142 - INFO - 2291996958 - Downloading 'snail' from https://storage.googleapis.com/quickdraw_dataset/full/binary/snail.bin to ./data/full_binary_snail.bin...\n"
     ]
    },
    {
     "data": {
      "application/vnd.jupyter.widget-view+json": {
       "model_id": "e8b80b0984c74ca993619b627b4dd734",
       "version_major": 2,
       "version_minor": 0
      },
      "text/plain": [
       "snail:   0%|          | 0.00/17.4M [00:00<?, ?iB/s]"
      ]
     },
     "metadata": {},
     "output_type": "display_data"
    },
    {
     "name": "stderr",
     "output_type": "stream",
     "text": [
      "2025-09-11 04:15:55,701 - INFO - 2291996958 - Successfully downloaded 'snail'.\n",
      "2025-09-11 04:15:55,702 - INFO - 2291996958 - Downloading 'snake' from https://storage.googleapis.com/quickdraw_dataset/full/binary/snake.bin to ./data/full_binary_snake.bin...\n"
     ]
    },
    {
     "data": {
      "application/vnd.jupyter.widget-view+json": {
       "model_id": "6f2ec0fdcbf04e108222f12f0e62819d",
       "version_major": 2,
       "version_minor": 0
      },
      "text/plain": [
       "snake:   0%|          | 0.00/10.6M [00:00<?, ?iB/s]"
      ]
     },
     "metadata": {},
     "output_type": "display_data"
    },
    {
     "name": "stderr",
     "output_type": "stream",
     "text": [
      "2025-09-11 04:15:58,762 - INFO - 2291996958 - Successfully downloaded 'snake'.\n",
      "2025-09-11 04:15:58,764 - INFO - 2291996958 - Downloading 'snowflake' from https://storage.googleapis.com/quickdraw_dataset/full/binary/snowflake.bin to ./data/full_binary_snowflake.bin...\n"
     ]
    },
    {
     "data": {
      "application/vnd.jupyter.widget-view+json": {
       "model_id": "53bd12a5bd3b42ce94f9dbf80f94c163",
       "version_major": 2,
       "version_minor": 0
      },
      "text/plain": [
       "snowflake:   0%|          | 0.00/10.8M [00:00<?, ?iB/s]"
      ]
     },
     "metadata": {},
     "output_type": "display_data"
    },
    {
     "name": "stderr",
     "output_type": "stream",
     "text": [
      "2025-09-11 04:16:01,837 - INFO - 2291996958 - Successfully downloaded 'snowflake'.\n",
      "2025-09-11 04:16:01,840 - INFO - 2291996958 - Downloading 'snowman' from https://storage.googleapis.com/quickdraw_dataset/full/binary/snowman.bin to ./data/full_binary_snowman.bin...\n"
     ]
    },
    {
     "data": {
      "application/vnd.jupyter.widget-view+json": {
       "model_id": "eb174a0703ee481595f71e600a2e6863",
       "version_major": 2,
       "version_minor": 0
      },
      "text/plain": [
       "snowman:   0%|          | 0.00/38.8M [00:00<?, ?iB/s]"
      ]
     },
     "metadata": {},
     "output_type": "display_data"
    },
    {
     "name": "stderr",
     "output_type": "stream",
     "text": [
      "2025-09-11 04:16:06,604 - INFO - 2291996958 - Successfully downloaded 'snowman'.\n",
      "2025-09-11 04:16:06,606 - INFO - 2291996958 - Downloading 'soccer ball' from https://storage.googleapis.com/quickdraw_dataset/full/binary/soccer%20ball.bin to ./data/full_binary_soccer_ball.bin...\n"
     ]
    },
    {
     "data": {
      "application/vnd.jupyter.widget-view+json": {
       "model_id": "bcbd3f62f1854b38b5b51cc8cf488932",
       "version_major": 2,
       "version_minor": 0
      },
      "text/plain": [
       "soccer ball:   0%|          | 0.00/22.8M [00:00<?, ?iB/s]"
      ]
     },
     "metadata": {},
     "output_type": "display_data"
    },
    {
     "name": "stderr",
     "output_type": "stream",
     "text": [
      "2025-09-11 04:16:10,357 - INFO - 2291996958 - Successfully downloaded 'soccer ball'.\n",
      "2025-09-11 04:16:10,361 - INFO - 2291996958 - Downloading 'sock' from https://storage.googleapis.com/quickdraw_dataset/full/binary/sock.bin to ./data/full_binary_sock.bin...\n"
     ]
    },
    {
     "data": {
      "application/vnd.jupyter.widget-view+json": {
       "model_id": "9177fdd14a404f3db0477980bf30ff43",
       "version_major": 2,
       "version_minor": 0
      },
      "text/plain": [
       "sock:   0%|          | 0.00/16.5M [00:00<?, ?iB/s]"
      ]
     },
     "metadata": {},
     "output_type": "display_data"
    },
    {
     "name": "stderr",
     "output_type": "stream",
     "text": [
      "2025-09-11 04:16:13,988 - INFO - 2291996958 - Successfully downloaded 'sock'.\n",
      "2025-09-11 04:16:13,990 - INFO - 2291996958 - Downloading 'speedboat' from https://storage.googleapis.com/quickdraw_dataset/full/binary/speedboat.bin to ./data/full_binary_speedboat.bin...\n"
     ]
    },
    {
     "data": {
      "application/vnd.jupyter.widget-view+json": {
       "model_id": "1a4437b6e9254c69b7da06d3634e3311",
       "version_major": 2,
       "version_minor": 0
      },
      "text/plain": [
       "speedboat:   0%|          | 0.00/19.7M [00:00<?, ?iB/s]"
      ]
     },
     "metadata": {},
     "output_type": "display_data"
    },
    {
     "name": "stderr",
     "output_type": "stream",
     "text": [
      "2025-09-11 04:16:17,690 - INFO - 2291996958 - Successfully downloaded 'speedboat'.\n",
      "2025-09-11 04:16:17,691 - INFO - 2291996958 - Downloading 'spider' from https://storage.googleapis.com/quickdraw_dataset/full/binary/spider.bin to ./data/full_binary_spider.bin...\n"
     ]
    },
    {
     "data": {
      "application/vnd.jupyter.widget-view+json": {
       "model_id": "dc675171d1ba4e4987007f9d9bf8e902",
       "version_major": 2,
       "version_minor": 0
      },
      "text/plain": [
       "spider:   0%|          | 0.00/29.3M [00:00<?, ?iB/s]"
      ]
     },
     "metadata": {},
     "output_type": "display_data"
    },
    {
     "name": "stderr",
     "output_type": "stream",
     "text": [
      "2025-09-11 04:16:21,881 - INFO - 2291996958 - Successfully downloaded 'spider'.\n",
      "2025-09-11 04:16:21,882 - INFO - 2291996958 - Downloading 'spoon' from https://storage.googleapis.com/quickdraw_dataset/full/binary/spoon.bin to ./data/full_binary_spoon.bin...\n"
     ]
    },
    {
     "data": {
      "application/vnd.jupyter.widget-view+json": {
       "model_id": "e95a21af8ff24a23ab39c2adb4c29bfb",
       "version_major": 2,
       "version_minor": 0
      },
      "text/plain": [
       "spoon:   0%|          | 0.00/8.53M [00:00<?, ?iB/s]"
      ]
     },
     "metadata": {},
     "output_type": "display_data"
    },
    {
     "name": "stderr",
     "output_type": "stream",
     "text": [
      "2025-09-11 04:16:24,767 - INFO - 2291996958 - Successfully downloaded 'spoon'.\n",
      "2025-09-11 04:16:24,768 - INFO - 2291996958 - Downloading 'square' from https://storage.googleapis.com/quickdraw_dataset/full/binary/square.bin to ./data/full_binary_square.bin...\n"
     ]
    },
    {
     "data": {
      "application/vnd.jupyter.widget-view+json": {
       "model_id": "00e476c2659341448e78bbac45ba5c3c",
       "version_major": 2,
       "version_minor": 0
      },
      "text/plain": [
       "square:   0%|          | 0.00/6.69M [00:00<?, ?iB/s]"
      ]
     },
     "metadata": {},
     "output_type": "display_data"
    },
    {
     "name": "stderr",
     "output_type": "stream",
     "text": [
      "2025-09-11 04:16:26,162 - INFO - 2291996958 - Successfully downloaded 'square'.\n",
      "2025-09-11 04:16:26,163 - INFO - 2291996958 - Downloading 'squirrel' from https://storage.googleapis.com/quickdraw_dataset/full/binary/squirrel.bin to ./data/full_binary_squirrel.bin...\n"
     ]
    },
    {
     "data": {
      "application/vnd.jupyter.widget-view+json": {
       "model_id": "346220fee241455b96f91835572c2fcb",
       "version_major": 2,
       "version_minor": 0
      },
      "text/plain": [
       "squirrel:   0%|          | 0.00/25.8M [00:00<?, ?iB/s]"
      ]
     },
     "metadata": {},
     "output_type": "display_data"
    },
    {
     "name": "stderr",
     "output_type": "stream",
     "text": [
      "2025-09-11 04:16:30,346 - INFO - 2291996958 - Successfully downloaded 'squirrel'.\n",
      "2025-09-11 04:16:30,347 - INFO - 2291996958 - Downloading 'stairs' from https://storage.googleapis.com/quickdraw_dataset/full/binary/stairs.bin to ./data/full_binary_stairs.bin...\n"
     ]
    },
    {
     "data": {
      "application/vnd.jupyter.widget-view+json": {
       "model_id": "a172a4a825c44d2a97abbccfb4b897bd",
       "version_major": 2,
       "version_minor": 0
      },
      "text/plain": [
       "stairs:   0%|          | 0.00/6.66M [00:00<?, ?iB/s]"
      ]
     },
     "metadata": {},
     "output_type": "display_data"
    },
    {
     "name": "stderr",
     "output_type": "stream",
     "text": [
      "2025-09-11 04:16:33,269 - INFO - 2291996958 - Successfully downloaded 'stairs'.\n",
      "2025-09-11 04:16:33,270 - INFO - 2291996958 - Downloading 'star' from https://storage.googleapis.com/quickdraw_dataset/full/binary/star.bin to ./data/full_binary_star.bin...\n"
     ]
    },
    {
     "data": {
      "application/vnd.jupyter.widget-view+json": {
       "model_id": "fd7069b2b6264d00a07a6fde52ab86c0",
       "version_major": 2,
       "version_minor": 0
      },
      "text/plain": [
       "star:   0%|          | 0.00/9.40M [00:00<?, ?iB/s]"
      ]
     },
     "metadata": {},
     "output_type": "display_data"
    },
    {
     "name": "stderr",
     "output_type": "stream",
     "text": [
      "2025-09-11 04:16:36,169 - INFO - 2291996958 - Successfully downloaded 'star'.\n",
      "2025-09-11 04:16:36,170 - INFO - 2291996958 - Downloading 'steak' from https://storage.googleapis.com/quickdraw_dataset/full/binary/steak.bin to ./data/full_binary_steak.bin...\n"
     ]
    },
    {
     "data": {
      "application/vnd.jupyter.widget-view+json": {
       "model_id": "15831d6608fb4c4e95c80cf3224a197d",
       "version_major": 2,
       "version_minor": 0
      },
      "text/plain": [
       "steak:   0%|          | 0.00/13.5M [00:00<?, ?iB/s]"
      ]
     },
     "metadata": {},
     "output_type": "display_data"
    },
    {
     "name": "stderr",
     "output_type": "stream",
     "text": [
      "2025-09-11 04:16:39,538 - INFO - 2291996958 - Successfully downloaded 'steak'.\n",
      "2025-09-11 04:16:39,541 - INFO - 2291996958 - Downloading 'stereo' from https://storage.googleapis.com/quickdraw_dataset/full/binary/stereo.bin to ./data/full_binary_stereo.bin...\n"
     ]
    },
    {
     "data": {
      "application/vnd.jupyter.widget-view+json": {
       "model_id": "021ac4ac2b7c40aba2d8fcaa29c45762",
       "version_major": 2,
       "version_minor": 0
      },
      "text/plain": [
       "stereo:   0%|          | 0.00/16.9M [00:00<?, ?iB/s]"
      ]
     },
     "metadata": {},
     "output_type": "display_data"
    },
    {
     "name": "stderr",
     "output_type": "stream",
     "text": [
      "2025-09-11 04:16:42,903 - INFO - 2291996958 - Successfully downloaded 'stereo'.\n",
      "2025-09-11 04:16:42,904 - INFO - 2291996958 - Downloading 'stethoscope' from https://storage.googleapis.com/quickdraw_dataset/full/binary/stethoscope.bin to ./data/full_binary_stethoscope.bin...\n"
     ]
    },
    {
     "data": {
      "application/vnd.jupyter.widget-view+json": {
       "model_id": "e4fca08a87a2485692a31e9c5efafa75",
       "version_major": 2,
       "version_minor": 0
      },
      "text/plain": [
       "stethoscope:   0%|          | 0.00/17.2M [00:00<?, ?iB/s]"
      ]
     },
     "metadata": {},
     "output_type": "display_data"
    },
    {
     "name": "stderr",
     "output_type": "stream",
     "text": [
      "2025-09-11 04:16:46,461 - INFO - 2291996958 - Successfully downloaded 'stethoscope'.\n",
      "2025-09-11 04:16:46,462 - INFO - 2291996958 - Downloading 'stitches' from https://storage.googleapis.com/quickdraw_dataset/full/binary/stitches.bin to ./data/full_binary_stitches.bin...\n"
     ]
    },
    {
     "data": {
      "application/vnd.jupyter.widget-view+json": {
       "model_id": "e68907f66146430f9cfc7a2ee8334952",
       "version_major": 2,
       "version_minor": 0
      },
      "text/plain": [
       "stitches:   0%|          | 0.00/10.0M [00:00<?, ?iB/s]"
      ]
     },
     "metadata": {},
     "output_type": "display_data"
    },
    {
     "name": "stderr",
     "output_type": "stream",
     "text": [
      "2025-09-11 04:16:49,369 - INFO - 2291996958 - Successfully downloaded 'stitches'.\n",
      "2025-09-11 04:16:49,371 - INFO - 2291996958 - Downloading 'stop sign' from https://storage.googleapis.com/quickdraw_dataset/full/binary/stop%20sign.bin to ./data/full_binary_stop_sign.bin...\n"
     ]
    },
    {
     "data": {
      "application/vnd.jupyter.widget-view+json": {
       "model_id": "f72f7146e23b4f91813131f0a89d065e",
       "version_major": 2,
       "version_minor": 0
      },
      "text/plain": [
       "stop sign:   0%|          | 0.00/14.2M [00:00<?, ?iB/s]"
      ]
     },
     "metadata": {},
     "output_type": "display_data"
    },
    {
     "name": "stderr",
     "output_type": "stream",
     "text": [
      "2025-09-11 04:16:52,678 - INFO - 2291996958 - Successfully downloaded 'stop sign'.\n",
      "2025-09-11 04:16:52,681 - INFO - 2291996958 - Downloading 'stove' from https://storage.googleapis.com/quickdraw_dataset/full/binary/stove.bin to ./data/full_binary_stove.bin...\n"
     ]
    },
    {
     "data": {
      "application/vnd.jupyter.widget-view+json": {
       "model_id": "2e7b7741560c49aeaf8dccb88f93ed2d",
       "version_major": 2,
       "version_minor": 0
      },
      "text/plain": [
       "stove:   0%|          | 0.00/20.5M [00:00<?, ?iB/s]"
      ]
     },
     "metadata": {},
     "output_type": "display_data"
    },
    {
     "name": "stderr",
     "output_type": "stream",
     "text": [
      "2025-09-11 04:16:56,400 - INFO - 2291996958 - Successfully downloaded 'stove'.\n",
      "2025-09-11 04:16:56,401 - INFO - 2291996958 - Downloading 'strawberry' from https://storage.googleapis.com/quickdraw_dataset/full/binary/strawberry.bin to ./data/full_binary_strawberry.bin...\n"
     ]
    },
    {
     "data": {
      "application/vnd.jupyter.widget-view+json": {
       "model_id": "3385ca718e214f709623a6aca646d3b0",
       "version_major": 2,
       "version_minor": 0
      },
      "text/plain": [
       "strawberry:   0%|          | 0.00/16.3M [00:00<?, ?iB/s]"
      ]
     },
     "metadata": {},
     "output_type": "display_data"
    },
    {
     "name": "stderr",
     "output_type": "stream",
     "text": [
      "2025-09-11 04:16:59,881 - INFO - 2291996958 - Successfully downloaded 'strawberry'.\n",
      "2025-09-11 04:16:59,882 - INFO - 2291996958 - Downloading 'streetlight' from https://storage.googleapis.com/quickdraw_dataset/full/binary/streetlight.bin to ./data/full_binary_streetlight.bin...\n"
     ]
    },
    {
     "data": {
      "application/vnd.jupyter.widget-view+json": {
       "model_id": "0d4b513e447e4838a7f0ca8c106c84c9",
       "version_major": 2,
       "version_minor": 0
      },
      "text/plain": [
       "streetlight:   0%|          | 0.00/9.02M [00:00<?, ?iB/s]"
      ]
     },
     "metadata": {},
     "output_type": "display_data"
    },
    {
     "name": "stderr",
     "output_type": "stream",
     "text": [
      "2025-09-11 04:17:02,985 - INFO - 2291996958 - Successfully downloaded 'streetlight'.\n",
      "2025-09-11 04:17:02,989 - INFO - 2291996958 - Downloading 'submarine' from https://storage.googleapis.com/quickdraw_dataset/full/binary/submarine.bin to ./data/full_binary_submarine.bin...\n"
     ]
    },
    {
     "data": {
      "application/vnd.jupyter.widget-view+json": {
       "model_id": "d74edcd18ce84752bedb8c94c3c6d265",
       "version_major": 2,
       "version_minor": 0
      },
      "text/plain": [
       "submarine:   0%|          | 0.00/12.8M [00:00<?, ?iB/s]"
      ]
     },
     "metadata": {},
     "output_type": "display_data"
    },
    {
     "name": "stderr",
     "output_type": "stream",
     "text": [
      "2025-09-11 04:17:06,276 - INFO - 2291996958 - Successfully downloaded 'submarine'.\n",
      "2025-09-11 04:17:06,277 - INFO - 2291996958 - Downloading 'suitcase' from https://storage.googleapis.com/quickdraw_dataset/full/binary/suitcase.bin to ./data/full_binary_suitcase.bin...\n"
     ]
    },
    {
     "data": {
      "application/vnd.jupyter.widget-view+json": {
       "model_id": "572bc05ee33a44dc8df8025a182c7c6c",
       "version_major": 2,
       "version_minor": 0
      },
      "text/plain": [
       "suitcase:   0%|          | 0.00/8.88M [00:00<?, ?iB/s]"
      ]
     },
     "metadata": {},
     "output_type": "display_data"
    },
    {
     "name": "stderr",
     "output_type": "stream",
     "text": [
      "2025-09-11 04:17:09,117 - INFO - 2291996958 - Successfully downloaded 'suitcase'.\n",
      "2025-09-11 04:17:09,120 - INFO - 2291996958 - Downloading 'sun' from https://storage.googleapis.com/quickdraw_dataset/full/binary/sun.bin to ./data/full_binary_sun.bin...\n"
     ]
    },
    {
     "data": {
      "application/vnd.jupyter.widget-view+json": {
       "model_id": "f6c1757032644300be8ea6fbcf494b34",
       "version_major": 2,
       "version_minor": 0
      },
      "text/plain": [
       "sun:   0%|          | 0.00/15.1M [00:00<?, ?iB/s]"
      ]
     },
     "metadata": {},
     "output_type": "display_data"
    },
    {
     "name": "stderr",
     "output_type": "stream",
     "text": [
      "2025-09-11 04:17:12,536 - INFO - 2291996958 - Successfully downloaded 'sun'.\n",
      "2025-09-11 04:17:12,539 - INFO - 2291996958 - Downloading 'swan' from https://storage.googleapis.com/quickdraw_dataset/full/binary/swan.bin to ./data/full_binary_swan.bin...\n"
     ]
    },
    {
     "data": {
      "application/vnd.jupyter.widget-view+json": {
       "model_id": "d443a917afea430399435c1f0b1da2a6",
       "version_major": 2,
       "version_minor": 0
      },
      "text/plain": [
       "swan:   0%|          | 0.00/16.4M [00:00<?, ?iB/s]"
      ]
     },
     "metadata": {},
     "output_type": "display_data"
    },
    {
     "name": "stderr",
     "output_type": "stream",
     "text": [
      "2025-09-11 04:17:16,136 - INFO - 2291996958 - Successfully downloaded 'swan'.\n",
      "2025-09-11 04:17:16,137 - INFO - 2291996958 - Downloading 'sweater' from https://storage.googleapis.com/quickdraw_dataset/full/binary/sweater.bin to ./data/full_binary_sweater.bin...\n"
     ]
    },
    {
     "data": {
      "application/vnd.jupyter.widget-view+json": {
       "model_id": "8ff220b1a5f84d8c81326359fc5495e9",
       "version_major": 2,
       "version_minor": 0
      },
      "text/plain": [
       "sweater:   0%|          | 0.00/10.3M [00:00<?, ?iB/s]"
      ]
     },
     "metadata": {},
     "output_type": "display_data"
    },
    {
     "name": "stderr",
     "output_type": "stream",
     "text": [
      "2025-09-11 04:17:19,245 - INFO - 2291996958 - Successfully downloaded 'sweater'.\n",
      "2025-09-11 04:17:19,252 - INFO - 2291996958 - Downloading 'swing set' from https://storage.googleapis.com/quickdraw_dataset/full/binary/swing%20set.bin to ./data/full_binary_swing_set.bin...\n"
     ]
    },
    {
     "data": {
      "application/vnd.jupyter.widget-view+json": {
       "model_id": "a84e72e5f85e4911b87bbc44601868ef",
       "version_major": 2,
       "version_minor": 0
      },
      "text/plain": [
       "swing set:   0%|          | 0.00/8.44M [00:00<?, ?iB/s]"
      ]
     },
     "metadata": {},
     "output_type": "display_data"
    },
    {
     "name": "stderr",
     "output_type": "stream",
     "text": [
      "2025-09-11 04:17:23,413 - INFO - 2291996958 - Successfully downloaded 'swing set'.\n",
      "2025-09-11 04:17:23,417 - INFO - 2291996958 - Downloading 'sword' from https://storage.googleapis.com/quickdraw_dataset/full/binary/sword.bin to ./data/full_binary_sword.bin...\n"
     ]
    },
    {
     "data": {
      "application/vnd.jupyter.widget-view+json": {
       "model_id": "ef3f7a1882bf4706b25089fefd5dd0eb",
       "version_major": 2,
       "version_minor": 0
      },
      "text/plain": [
       "sword:   0%|          | 0.00/9.48M [00:00<?, ?iB/s]"
      ]
     },
     "metadata": {},
     "output_type": "display_data"
    },
    {
     "name": "stderr",
     "output_type": "stream",
     "text": [
      "2025-09-11 04:17:27,077 - INFO - 2291996958 - Successfully downloaded 'sword'.\n",
      "2025-09-11 04:17:27,079 - INFO - 2291996958 - Downloading 'syringe' from https://storage.googleapis.com/quickdraw_dataset/full/binary/syringe.bin to ./data/full_binary_syringe.bin...\n"
     ]
    },
    {
     "data": {
      "application/vnd.jupyter.widget-view+json": {
       "model_id": "e0abe50787f545f19db40dc0db72baaa",
       "version_major": 2,
       "version_minor": 0
      },
      "text/plain": [
       "syringe:   0%|          | 0.00/12.7M [00:00<?, ?iB/s]"
      ]
     },
     "metadata": {},
     "output_type": "display_data"
    },
    {
     "name": "stderr",
     "output_type": "stream",
     "text": [
      "2025-09-11 04:17:28,770 - INFO - 2291996958 - Successfully downloaded 'syringe'.\n",
      "2025-09-11 04:17:28,771 - INFO - 2291996958 - Downloading 't-shirt' from https://storage.googleapis.com/quickdraw_dataset/full/binary/t-shirt.bin to ./data/full_binary_t-shirt.bin...\n"
     ]
    },
    {
     "data": {
      "application/vnd.jupyter.widget-view+json": {
       "model_id": "0eba6e93187444b7a98dbf9f436f3794",
       "version_major": 2,
       "version_minor": 0
      },
      "text/plain": [
       "t-shirt:   0%|          | 0.00/9.42M [00:00<?, ?iB/s]"
      ]
     },
     "metadata": {},
     "output_type": "display_data"
    },
    {
     "name": "stderr",
     "output_type": "stream",
     "text": [
      "2025-09-11 04:17:31,808 - INFO - 2291996958 - Successfully downloaded 't-shirt'.\n",
      "2025-09-11 04:17:31,809 - INFO - 2291996958 - Downloading 'table' from https://storage.googleapis.com/quickdraw_dataset/full/binary/table.bin to ./data/full_binary_table.bin...\n"
     ]
    },
    {
     "data": {
      "application/vnd.jupyter.widget-view+json": {
       "model_id": "80fe9369f25846eb9149de553ecae49b",
       "version_major": 2,
       "version_minor": 0
      },
      "text/plain": [
       "table:   0%|          | 0.00/9.30M [00:00<?, ?iB/s]"
      ]
     },
     "metadata": {},
     "output_type": "display_data"
    },
    {
     "name": "stderr",
     "output_type": "stream",
     "text": [
      "2025-09-11 04:17:34,796 - INFO - 2291996958 - Successfully downloaded 'table'.\n",
      "2025-09-11 04:17:34,798 - INFO - 2291996958 - Downloading 'teapot' from https://storage.googleapis.com/quickdraw_dataset/full/binary/teapot.bin to ./data/full_binary_teapot.bin...\n"
     ]
    },
    {
     "data": {
      "application/vnd.jupyter.widget-view+json": {
       "model_id": "3a69c4aab8a64a898a4255b00020da7d",
       "version_major": 2,
       "version_minor": 0
      },
      "text/plain": [
       "teapot:   0%|          | 0.00/14.3M [00:00<?, ?iB/s]"
      ]
     },
     "metadata": {},
     "output_type": "display_data"
    },
    {
     "name": "stderr",
     "output_type": "stream",
     "text": [
      "2025-09-11 04:17:38,114 - INFO - 2291996958 - Successfully downloaded 'teapot'.\n",
      "2025-09-11 04:17:38,115 - INFO - 2291996958 - Downloading 'teddy-bear' from https://storage.googleapis.com/quickdraw_dataset/full/binary/teddy-bear.bin to ./data/full_binary_teddy-bear.bin...\n"
     ]
    },
    {
     "data": {
      "application/vnd.jupyter.widget-view+json": {
       "model_id": "0ae1857b58cf42cd81f2ad3a121cb9cb",
       "version_major": 2,
       "version_minor": 0
      },
      "text/plain": [
       "teddy-bear:   0%|          | 0.00/33.3M [00:00<?, ?iB/s]"
      ]
     },
     "metadata": {},
     "output_type": "display_data"
    },
    {
     "name": "stderr",
     "output_type": "stream",
     "text": [
      "2025-09-11 04:17:42,645 - INFO - 2291996958 - Successfully downloaded 'teddy-bear'.\n",
      "2025-09-11 04:17:42,646 - INFO - 2291996958 - Downloading 'telephone' from https://storage.googleapis.com/quickdraw_dataset/full/binary/telephone.bin to ./data/full_binary_telephone.bin...\n"
     ]
    },
    {
     "data": {
      "application/vnd.jupyter.widget-view+json": {
       "model_id": "c13fabd3727e42afa0c1de61b5a8085f",
       "version_major": 2,
       "version_minor": 0
      },
      "text/plain": [
       "telephone:   0%|          | 0.00/16.0M [00:00<?, ?iB/s]"
      ]
     },
     "metadata": {},
     "output_type": "display_data"
    },
    {
     "name": "stderr",
     "output_type": "stream",
     "text": [
      "2025-09-11 04:17:46,085 - INFO - 2291996958 - Successfully downloaded 'telephone'.\n",
      "2025-09-11 04:17:46,086 - INFO - 2291996958 - Downloading 'television' from https://storage.googleapis.com/quickdraw_dataset/full/binary/television.bin to ./data/full_binary_television.bin...\n"
     ]
    },
    {
     "data": {
      "application/vnd.jupyter.widget-view+json": {
       "model_id": "3191c635b1134f949f7d11c4c92b9c7e",
       "version_major": 2,
       "version_minor": 0
      },
      "text/plain": [
       "television:   0%|          | 0.00/12.7M [00:00<?, ?iB/s]"
      ]
     },
     "metadata": {},
     "output_type": "display_data"
    },
    {
     "name": "stderr",
     "output_type": "stream",
     "text": [
      "2025-09-11 04:17:49,213 - INFO - 2291996958 - Successfully downloaded 'television'.\n",
      "2025-09-11 04:17:49,214 - INFO - 2291996958 - Downloading 'tennis racquet' from https://storage.googleapis.com/quickdraw_dataset/full/binary/tennis%20racquet.bin to ./data/full_binary_tennis_racquet.bin...\n"
     ]
    },
    {
     "data": {
      "application/vnd.jupyter.widget-view+json": {
       "model_id": "31fd40a9851443f0867a89eb312f9ca7",
       "version_major": 2,
       "version_minor": 0
      },
      "text/plain": [
       "tennis racquet:   0%|          | 0.00/30.3M [00:00<?, ?iB/s]"
      ]
     },
     "metadata": {},
     "output_type": "display_data"
    },
    {
     "name": "stderr",
     "output_type": "stream",
     "text": [
      "2025-09-11 04:17:53,730 - INFO - 2291996958 - Successfully downloaded 'tennis racquet'.\n",
      "2025-09-11 04:17:53,732 - INFO - 2291996958 - Downloading 'tent' from https://storage.googleapis.com/quickdraw_dataset/full/binary/tent.bin to ./data/full_binary_tent.bin...\n"
     ]
    },
    {
     "data": {
      "application/vnd.jupyter.widget-view+json": {
       "model_id": "939754fc2bd54c23bf6db2918ce909a1",
       "version_major": 2,
       "version_minor": 0
      },
      "text/plain": [
       "tent:   0%|          | 0.00/8.83M [00:00<?, ?iB/s]"
      ]
     },
     "metadata": {},
     "output_type": "display_data"
    },
    {
     "name": "stderr",
     "output_type": "stream",
     "text": [
      "2025-09-11 04:17:56,691 - INFO - 2291996958 - Successfully downloaded 'tent'.\n",
      "2025-09-11 04:17:56,693 - INFO - 2291996958 - Downloading 'tiger' from https://storage.googleapis.com/quickdraw_dataset/full/binary/tiger.bin to ./data/full_binary_tiger.bin...\n"
     ]
    },
    {
     "data": {
      "application/vnd.jupyter.widget-view+json": {
       "model_id": "9e16b42f482145c69c1879b316c096ab",
       "version_major": 2,
       "version_minor": 0
      },
      "text/plain": [
       "tiger:   0%|          | 0.00/22.8M [00:00<?, ?iB/s]"
      ]
     },
     "metadata": {},
     "output_type": "display_data"
    },
    {
     "name": "stderr",
     "output_type": "stream",
     "text": [
      "2025-09-11 04:18:00,801 - INFO - 2291996958 - Successfully downloaded 'tiger'.\n",
      "2025-09-11 04:18:00,802 - INFO - 2291996958 - Downloading 'toaster' from https://storage.googleapis.com/quickdraw_dataset/full/binary/toaster.bin to ./data/full_binary_toaster.bin...\n"
     ]
    },
    {
     "data": {
      "application/vnd.jupyter.widget-view+json": {
       "model_id": "4c0acf3875cc4d4eb74710dcc1f11e7d",
       "version_major": 2,
       "version_minor": 0
      },
      "text/plain": [
       "toaster:   0%|          | 0.00/13.8M [00:00<?, ?iB/s]"
      ]
     },
     "metadata": {},
     "output_type": "display_data"
    },
    {
     "name": "stderr",
     "output_type": "stream",
     "text": [
      "2025-09-11 04:18:04,240 - INFO - 2291996958 - Successfully downloaded 'toaster'.\n",
      "2025-09-11 04:18:04,242 - INFO - 2291996958 - Downloading 'toe' from https://storage.googleapis.com/quickdraw_dataset/full/binary/toe.bin to ./data/full_binary_toe.bin...\n"
     ]
    },
    {
     "data": {
      "application/vnd.jupyter.widget-view+json": {
       "model_id": "c6cbf7bc6f0040a98d4fa8919f9c5fc7",
       "version_major": 2,
       "version_minor": 0
      },
      "text/plain": [
       "toe:   0%|          | 0.00/14.9M [00:00<?, ?iB/s]"
      ]
     },
     "metadata": {},
     "output_type": "display_data"
    },
    {
     "name": "stderr",
     "output_type": "stream",
     "text": [
      "2025-09-11 04:18:07,568 - INFO - 2291996958 - Successfully downloaded 'toe'.\n",
      "2025-09-11 04:18:07,571 - INFO - 2291996958 - Downloading 'toilet' from https://storage.googleapis.com/quickdraw_dataset/full/binary/toilet.bin to ./data/full_binary_toilet.bin...\n"
     ]
    },
    {
     "data": {
      "application/vnd.jupyter.widget-view+json": {
       "model_id": "c6b27fd7280440ddaf1ee69235ac495b",
       "version_major": 2,
       "version_minor": 0
      },
      "text/plain": [
       "toilet:   0%|          | 0.00/14.2M [00:00<?, ?iB/s]"
      ]
     },
     "metadata": {},
     "output_type": "display_data"
    },
    {
     "name": "stderr",
     "output_type": "stream",
     "text": [
      "2025-09-11 04:18:10,951 - INFO - 2291996958 - Successfully downloaded 'toilet'.\n",
      "2025-09-11 04:18:10,952 - INFO - 2291996958 - Downloading 'tooth' from https://storage.googleapis.com/quickdraw_dataset/full/binary/tooth.bin to ./data/full_binary_tooth.bin...\n"
     ]
    },
    {
     "data": {
      "application/vnd.jupyter.widget-view+json": {
       "model_id": "d84b1ffd5ddc4506a92fc2f3aee02786",
       "version_major": 2,
       "version_minor": 0
      },
      "text/plain": [
       "tooth:   0%|          | 0.00/10.4M [00:00<?, ?iB/s]"
      ]
     },
     "metadata": {},
     "output_type": "display_data"
    },
    {
     "name": "stderr",
     "output_type": "stream",
     "text": [
      "2025-09-11 04:18:13,998 - INFO - 2291996958 - Successfully downloaded 'tooth'.\n",
      "2025-09-11 04:18:13,999 - INFO - 2291996958 - Downloading 'toothbrush' from https://storage.googleapis.com/quickdraw_dataset/full/binary/toothbrush.bin to ./data/full_binary_toothbrush.bin...\n"
     ]
    },
    {
     "data": {
      "application/vnd.jupyter.widget-view+json": {
       "model_id": "47f1a88344ac4b0398aaf774ba0c7516",
       "version_major": 2,
       "version_minor": 0
      },
      "text/plain": [
       "toothbrush:   0%|          | 0.00/11.4M [00:00<?, ?iB/s]"
      ]
     },
     "metadata": {},
     "output_type": "display_data"
    },
    {
     "name": "stderr",
     "output_type": "stream",
     "text": [
      "2025-09-11 04:18:17,597 - INFO - 2291996958 - Successfully downloaded 'toothbrush'.\n",
      "2025-09-11 04:18:17,600 - INFO - 2291996958 - Downloading 'toothpaste' from https://storage.googleapis.com/quickdraw_dataset/full/binary/toothpaste.bin to ./data/full_binary_toothpaste.bin...\n"
     ]
    },
    {
     "data": {
      "application/vnd.jupyter.widget-view+json": {
       "model_id": "166dc894826d47e897932670af7b89bd",
       "version_major": 2,
       "version_minor": 0
      },
      "text/plain": [
       "toothpaste:   0%|          | 0.00/11.4M [00:00<?, ?iB/s]"
      ]
     },
     "metadata": {},
     "output_type": "display_data"
    },
    {
     "name": "stderr",
     "output_type": "stream",
     "text": [
      "2025-09-11 04:18:20,717 - INFO - 2291996958 - Successfully downloaded 'toothpaste'.\n",
      "2025-09-11 04:18:20,721 - INFO - 2291996958 - Downloading 'tornado' from https://storage.googleapis.com/quickdraw_dataset/full/binary/tornado.bin to ./data/full_binary_tornado.bin...\n"
     ]
    },
    {
     "data": {
      "application/vnd.jupyter.widget-view+json": {
       "model_id": "fe78726b70e04cb8b4396638f3b1cd36",
       "version_major": 2,
       "version_minor": 0
      },
      "text/plain": [
       "tornado:   0%|          | 0.00/28.5M [00:00<?, ?iB/s]"
      ]
     },
     "metadata": {},
     "output_type": "display_data"
    },
    {
     "name": "stderr",
     "output_type": "stream",
     "text": [
      "2025-09-11 04:18:25,654 - INFO - 2291996958 - Successfully downloaded 'tornado'.\n",
      "2025-09-11 04:18:25,656 - INFO - 2291996958 - Downloading 'tractor' from https://storage.googleapis.com/quickdraw_dataset/full/binary/tractor.bin to ./data/full_binary_tractor.bin...\n"
     ]
    },
    {
     "data": {
      "application/vnd.jupyter.widget-view+json": {
       "model_id": "3fc57bcddcad48dd9134bbbfc87a48b9",
       "version_major": 2,
       "version_minor": 0
      },
      "text/plain": [
       "tractor:   0%|          | 0.00/16.3M [00:00<?, ?iB/s]"
      ]
     },
     "metadata": {},
     "output_type": "display_data"
    },
    {
     "name": "stderr",
     "output_type": "stream",
     "text": [
      "2025-09-11 04:18:29,059 - INFO - 2291996958 - Successfully downloaded 'tractor'.\n",
      "2025-09-11 04:18:29,061 - INFO - 2291996958 - Downloading 'traffic light' from https://storage.googleapis.com/quickdraw_dataset/full/binary/traffic%20light.bin to ./data/full_binary_traffic_light.bin...\n"
     ]
    },
    {
     "data": {
      "application/vnd.jupyter.widget-view+json": {
       "model_id": "42ebb74669c1423ab77dcc3bc1cc9e3b",
       "version_major": 2,
       "version_minor": 0
      },
      "text/plain": [
       "traffic light:   0%|          | 0.00/14.7M [00:00<?, ?iB/s]"
      ]
     },
     "metadata": {},
     "output_type": "display_data"
    },
    {
     "name": "stderr",
     "output_type": "stream",
     "text": [
      "2025-09-11 04:18:32,378 - INFO - 2291996958 - Successfully downloaded 'traffic light'.\n",
      "2025-09-11 04:18:32,380 - INFO - 2291996958 - Downloading 'train' from https://storage.googleapis.com/quickdraw_dataset/full/binary/train.bin to ./data/full_binary_train.bin...\n"
     ]
    },
    {
     "data": {
      "application/vnd.jupyter.widget-view+json": {
       "model_id": "857dc96954b4418a99ca3eee429d829f",
       "version_major": 2,
       "version_minor": 0
      },
      "text/plain": [
       "train:   0%|          | 0.00/20.9M [00:00<?, ?iB/s]"
      ]
     },
     "metadata": {},
     "output_type": "display_data"
    },
    {
     "name": "stderr",
     "output_type": "stream",
     "text": [
      "2025-09-11 04:18:37,677 - INFO - 2291996958 - Successfully downloaded 'train'.\n",
      "2025-09-11 04:18:37,682 - INFO - 2291996958 - Downloading 'tree' from https://storage.googleapis.com/quickdraw_dataset/full/binary/tree.bin to ./data/full_binary_tree.bin...\n"
     ]
    },
    {
     "data": {
      "application/vnd.jupyter.widget-view+json": {
       "model_id": "7d2023e8633147f1b0a4f61a1d02d5a7",
       "version_major": 2,
       "version_minor": 0
      },
      "text/plain": [
       "tree:   0%|          | 0.00/19.6M [00:00<?, ?iB/s]"
      ]
     },
     "metadata": {},
     "output_type": "display_data"
    },
    {
     "name": "stderr",
     "output_type": "stream",
     "text": [
      "2025-09-11 04:18:42,409 - INFO - 2291996958 - Successfully downloaded 'tree'.\n",
      "2025-09-11 04:18:42,410 - INFO - 2291996958 - Downloading 'triangle' from https://storage.googleapis.com/quickdraw_dataset/full/binary/triangle.bin to ./data/full_binary_triangle.bin...\n"
     ]
    },
    {
     "data": {
      "application/vnd.jupyter.widget-view+json": {
       "model_id": "9264487630e947e9b38bc99c8ef390ca",
       "version_major": 2,
       "version_minor": 0
      },
      "text/plain": [
       "triangle:   0%|          | 0.00/6.07M [00:00<?, ?iB/s]"
      ]
     },
     "metadata": {},
     "output_type": "display_data"
    },
    {
     "name": "stderr",
     "output_type": "stream",
     "text": [
      "2025-09-11 04:18:43,807 - INFO - 2291996958 - Successfully downloaded 'triangle'.\n",
      "2025-09-11 04:18:43,809 - INFO - 2291996958 - Downloading 'truck' from https://storage.googleapis.com/quickdraw_dataset/full/binary/truck.bin to ./data/full_binary_truck.bin...\n"
     ]
    },
    {
     "data": {
      "application/vnd.jupyter.widget-view+json": {
       "model_id": "c13593cb2be1413eaadf2d84455118b6",
       "version_major": 2,
       "version_minor": 0
      },
      "text/plain": [
       "truck:   0%|          | 0.00/16.0M [00:00<?, ?iB/s]"
      ]
     },
     "metadata": {},
     "output_type": "display_data"
    },
    {
     "name": "stderr",
     "output_type": "stream",
     "text": [
      "2025-09-11 04:18:47,280 - INFO - 2291996958 - Successfully downloaded 'truck'.\n",
      "2025-09-11 04:18:47,282 - INFO - 2291996958 - Downloading 'trumpet' from https://storage.googleapis.com/quickdraw_dataset/full/binary/trumpet.bin to ./data/full_binary_trumpet.bin...\n"
     ]
    },
    {
     "data": {
      "application/vnd.jupyter.widget-view+json": {
       "model_id": "c24ff6d89e13455cbdc908dc24bc6bcc",
       "version_major": 2,
       "version_minor": 0
      },
      "text/plain": [
       "trumpet:   0%|          | 0.00/17.7M [00:00<?, ?iB/s]"
      ]
     },
     "metadata": {},
     "output_type": "display_data"
    },
    {
     "name": "stderr",
     "output_type": "stream",
     "text": [
      "2025-09-11 04:18:50,914 - INFO - 2291996958 - Successfully downloaded 'trumpet'.\n",
      "2025-09-11 04:18:50,915 - INFO - 2291996958 - Downloading 'umbrella' from https://storage.googleapis.com/quickdraw_dataset/full/binary/umbrella.bin to ./data/full_binary_umbrella.bin...\n"
     ]
    },
    {
     "data": {
      "application/vnd.jupyter.widget-view+json": {
       "model_id": "7cfcfd95e4cb425599f0279a8b3e60ec",
       "version_major": 2,
       "version_minor": 0
      },
      "text/plain": [
       "umbrella:   0%|          | 0.00/11.0M [00:00<?, ?iB/s]"
      ]
     },
     "metadata": {},
     "output_type": "display_data"
    },
    {
     "name": "stderr",
     "output_type": "stream",
     "text": [
      "2025-09-11 04:18:53,960 - INFO - 2291996958 - Successfully downloaded 'umbrella'.\n",
      "2025-09-11 04:18:53,961 - INFO - 2291996958 - Downloading 'underwear' from https://storage.googleapis.com/quickdraw_dataset/full/binary/underwear.bin to ./data/full_binary_underwear.bin...\n"
     ]
    },
    {
     "data": {
      "application/vnd.jupyter.widget-view+json": {
       "model_id": "5e4c1afe4e6e41ab98af82bc21ae1a78",
       "version_major": 2,
       "version_minor": 0
      },
      "text/plain": [
       "underwear:   0%|          | 0.00/8.88M [00:00<?, ?iB/s]"
      ]
     },
     "metadata": {},
     "output_type": "display_data"
    },
    {
     "name": "stderr",
     "output_type": "stream",
     "text": [
      "2025-09-11 04:18:57,048 - INFO - 2291996958 - Successfully downloaded 'underwear'.\n",
      "2025-09-11 04:18:57,049 - INFO - 2291996958 - Downloading 'van' from https://storage.googleapis.com/quickdraw_dataset/full/binary/van.bin to ./data/full_binary_van.bin...\n"
     ]
    },
    {
     "data": {
      "application/vnd.jupyter.widget-view+json": {
       "model_id": "ae89f1b7c3a34f22a3b6e59edbda991c",
       "version_major": 2,
       "version_minor": 0
      },
      "text/plain": [
       "van:   0%|          | 0.00/20.7M [00:00<?, ?iB/s]"
      ]
     },
     "metadata": {},
     "output_type": "display_data"
    },
    {
     "name": "stderr",
     "output_type": "stream",
     "text": [
      "2025-09-11 04:19:00,621 - INFO - 2291996958 - Successfully downloaded 'van'.\n",
      "2025-09-11 04:19:00,622 - INFO - 2291996958 - Downloading 'vase' from https://storage.googleapis.com/quickdraw_dataset/full/binary/vase.bin to ./data/full_binary_vase.bin...\n"
     ]
    },
    {
     "data": {
      "application/vnd.jupyter.widget-view+json": {
       "model_id": "522d9fcb336341e7980612c98eccca9d",
       "version_major": 2,
       "version_minor": 0
      },
      "text/plain": [
       "vase:   0%|          | 0.00/11.1M [00:00<?, ?iB/s]"
      ]
     },
     "metadata": {},
     "output_type": "display_data"
    },
    {
     "name": "stderr",
     "output_type": "stream",
     "text": [
      "2025-09-11 04:19:03,790 - INFO - 2291996958 - Successfully downloaded 'vase'.\n",
      "2025-09-11 04:19:03,792 - INFO - 2291996958 - Downloading 'violin' from https://storage.googleapis.com/quickdraw_dataset/full/binary/violin.bin to ./data/full_binary_violin.bin...\n"
     ]
    },
    {
     "data": {
      "application/vnd.jupyter.widget-view+json": {
       "model_id": "079f912df2dd43f9ae9578b46bfd852e",
       "version_major": 2,
       "version_minor": 0
      },
      "text/plain": [
       "violin:   0%|          | 0.00/25.3M [00:00<?, ?iB/s]"
      ]
     },
     "metadata": {},
     "output_type": "display_data"
    },
    {
     "name": "stderr",
     "output_type": "stream",
     "text": [
      "2025-09-11 04:19:07,559 - INFO - 2291996958 - Successfully downloaded 'violin'.\n",
      "2025-09-11 04:19:07,560 - INFO - 2291996958 - Downloading 'washing machine' from https://storage.googleapis.com/quickdraw_dataset/full/binary/washing%20machine.bin to ./data/full_binary_washing_machine.bin...\n"
     ]
    },
    {
     "data": {
      "application/vnd.jupyter.widget-view+json": {
       "model_id": "bc4078bcb39b4330afabcd74ef26fc23",
       "version_major": 2,
       "version_minor": 0
      },
      "text/plain": [
       "washing machine:   0%|          | 0.00/14.3M [00:00<?, ?iB/s]"
      ]
     },
     "metadata": {},
     "output_type": "display_data"
    },
    {
     "name": "stderr",
     "output_type": "stream",
     "text": [
      "2025-09-11 04:19:10,990 - INFO - 2291996958 - Successfully downloaded 'washing machine'.\n",
      "2025-09-11 04:19:10,993 - INFO - 2291996958 - Downloading 'watermelon' from https://storage.googleapis.com/quickdraw_dataset/full/binary/watermelon.bin to ./data/full_binary_watermelon.bin...\n"
     ]
    },
    {
     "data": {
      "application/vnd.jupyter.widget-view+json": {
       "model_id": "70d45d2ff2ed4b9b945cfec15319d5e4",
       "version_major": 2,
       "version_minor": 0
      },
      "text/plain": [
       "watermelon:   0%|          | 0.00/15.0M [00:00<?, ?iB/s]"
      ]
     },
     "metadata": {},
     "output_type": "display_data"
    },
    {
     "name": "stderr",
     "output_type": "stream",
     "text": [
      "2025-09-11 04:19:14,769 - INFO - 2291996958 - Successfully downloaded 'watermelon'.\n",
      "2025-09-11 04:19:14,771 - INFO - 2291996958 - Downloading 'waterslide' from https://storage.googleapis.com/quickdraw_dataset/full/binary/waterslide.bin to ./data/full_binary_waterslide.bin...\n"
     ]
    },
    {
     "data": {
      "application/vnd.jupyter.widget-view+json": {
       "model_id": "d63a449b946148aabb2082bd1c146d54",
       "version_major": 2,
       "version_minor": 0
      },
      "text/plain": [
       "waterslide:   0%|          | 0.00/17.7M [00:00<?, ?iB/s]"
      ]
     },
     "metadata": {},
     "output_type": "display_data"
    },
    {
     "name": "stderr",
     "output_type": "stream",
     "text": [
      "2025-09-11 04:19:18,271 - INFO - 2291996958 - Successfully downloaded 'waterslide'.\n",
      "2025-09-11 04:19:18,274 - INFO - 2291996958 - Downloading 'whale' from https://storage.googleapis.com/quickdraw_dataset/full/binary/whale.bin to ./data/full_binary_whale.bin...\n"
     ]
    },
    {
     "data": {
      "application/vnd.jupyter.widget-view+json": {
       "model_id": "b95cd51e157d4d569e1a6e75b8fefb38",
       "version_major": 2,
       "version_minor": 0
      },
      "text/plain": [
       "whale:   0%|          | 0.00/13.4M [00:00<?, ?iB/s]"
      ]
     },
     "metadata": {},
     "output_type": "display_data"
    },
    {
     "name": "stderr",
     "output_type": "stream",
     "text": [
      "2025-09-11 04:19:21,641 - INFO - 2291996958 - Successfully downloaded 'whale'.\n",
      "2025-09-11 04:19:21,642 - INFO - 2291996958 - Downloading 'wheel' from https://storage.googleapis.com/quickdraw_dataset/full/binary/wheel.bin to ./data/full_binary_wheel.bin...\n"
     ]
    },
    {
     "data": {
      "application/vnd.jupyter.widget-view+json": {
       "model_id": "289109f1532c45f7906bae163d6ae699",
       "version_major": 2,
       "version_minor": 0
      },
      "text/plain": [
       "wheel:   0%|          | 0.00/18.7M [00:00<?, ?iB/s]"
      ]
     },
     "metadata": {},
     "output_type": "display_data"
    },
    {
     "name": "stderr",
     "output_type": "stream",
     "text": [
      "2025-09-11 04:19:25,232 - INFO - 2291996958 - Successfully downloaded 'wheel'.\n",
      "2025-09-11 04:19:25,233 - INFO - 2291996958 - Downloading 'windmill' from https://storage.googleapis.com/quickdraw_dataset/full/binary/windmill.bin to ./data/full_binary_windmill.bin...\n"
     ]
    },
    {
     "data": {
      "application/vnd.jupyter.widget-view+json": {
       "model_id": "0b1de84ab23a4f8cbc25fb88b61d1c39",
       "version_major": 2,
       "version_minor": 0
      },
      "text/plain": [
       "windmill:   0%|          | 0.00/14.4M [00:00<?, ?iB/s]"
      ]
     },
     "metadata": {},
     "output_type": "display_data"
    },
    {
     "name": "stderr",
     "output_type": "stream",
     "text": [
      "2025-09-11 04:19:28,452 - INFO - 2291996958 - Successfully downloaded 'windmill'.\n",
      "2025-09-11 04:19:28,454 - INFO - 2291996958 - Downloading 'wine glass' from https://storage.googleapis.com/quickdraw_dataset/full/binary/wine%20glass.bin to ./data/full_binary_wine_glass.bin...\n"
     ]
    },
    {
     "data": {
      "application/vnd.jupyter.widget-view+json": {
       "model_id": "fb546374bab54ff49275c8e65a9a4891",
       "version_major": 2,
       "version_minor": 0
      },
      "text/plain": [
       "wine glass:   0%|          | 0.00/11.2M [00:00<?, ?iB/s]"
      ]
     },
     "metadata": {},
     "output_type": "display_data"
    },
    {
     "name": "stderr",
     "output_type": "stream",
     "text": [
      "2025-09-11 04:19:31,481 - INFO - 2291996958 - Successfully downloaded 'wine glass'.\n",
      "2025-09-11 04:19:31,482 - INFO - 2291996958 - Downloading 'wristwatch' from https://storage.googleapis.com/quickdraw_dataset/full/binary/wristwatch.bin to ./data/full_binary_wristwatch.bin...\n"
     ]
    },
    {
     "data": {
      "application/vnd.jupyter.widget-view+json": {
       "model_id": "fbfeb6e2a6ab4bb5906a08e138fa5740",
       "version_major": 2,
       "version_minor": 0
      },
      "text/plain": [
       "wristwatch:   0%|          | 0.00/19.9M [00:00<?, ?iB/s]"
      ]
     },
     "metadata": {},
     "output_type": "display_data"
    },
    {
     "name": "stderr",
     "output_type": "stream",
     "text": [
      "2025-09-11 04:19:34,993 - INFO - 2291996958 - Successfully downloaded 'wristwatch'.\n",
      "2025-09-11 04:19:34,994 - INFO - 2291996958 - Downloading 'yoga' from https://storage.googleapis.com/quickdraw_dataset/full/binary/yoga.bin to ./data/full_binary_yoga.bin...\n"
     ]
    },
    {
     "data": {
      "application/vnd.jupyter.widget-view+json": {
       "model_id": "a6e7a29ec4fb4dc9937216b2840b855d",
       "version_major": 2,
       "version_minor": 0
      },
      "text/plain": [
       "yoga:   0%|          | 0.00/31.2M [00:00<?, ?iB/s]"
      ]
     },
     "metadata": {},
     "output_type": "display_data"
    },
    {
     "name": "stderr",
     "output_type": "stream",
     "text": [
      "2025-09-11 04:19:38,078 - INFO - 2291996958 - Successfully downloaded 'yoga'.\n",
      "2025-09-11 04:19:38,080 - INFO - 2291996958 - Downloading 'zebra' from https://storage.googleapis.com/quickdraw_dataset/full/binary/zebra.bin to ./data/full_binary_zebra.bin...\n"
     ]
    },
    {
     "data": {
      "application/vnd.jupyter.widget-view+json": {
       "model_id": "40c4c1da12114615a40d016a2a306622",
       "version_major": 2,
       "version_minor": 0
      },
      "text/plain": [
       "zebra:   0%|          | 0.00/23.9M [00:00<?, ?iB/s]"
      ]
     },
     "metadata": {},
     "output_type": "display_data"
    },
    {
     "name": "stderr",
     "output_type": "stream",
     "text": [
      "2025-09-11 04:19:42,230 - INFO - 2291996958 - Successfully downloaded 'zebra'.\n",
      "2025-09-11 04:19:42,232 - INFO - 2291996958 - Downloading 'zigzag' from https://storage.googleapis.com/quickdraw_dataset/full/binary/zigzag.bin to ./data/full_binary_zigzag.bin...\n"
     ]
    },
    {
     "data": {
      "application/vnd.jupyter.widget-view+json": {
       "model_id": "dae46115ebab49b19579a1485b8e8fd1",
       "version_major": 2,
       "version_minor": 0
      },
      "text/plain": [
       "zigzag:   0%|          | 0.00/6.67M [00:00<?, ?iB/s]"
      ]
     },
     "metadata": {},
     "output_type": "display_data"
    },
    {
     "name": "stderr",
     "output_type": "stream",
     "text": [
      "2025-09-11 04:19:45,024 - INFO - 2291996958 - Successfully downloaded 'zigzag'.\n",
      "2025-09-11 04:19:45,025 - INFO - 2291996958 - Download process finished.\n"
     ]
    }
   ],
   "source": [
    "\n",
    "# --- Part 1: Data Download and Preparation ---\n",
    "# %%\n",
    "def download_quickdraw_binary(category_name, download_dir):\n",
    "    \"\"\"\n",
    "    Downloads the .bin file for a given QuickDraw category.\n",
    "    Files are named 'full_binary_{category_name_underscored}.bin'.\n",
    "    \"\"\"\n",
    "    # Sanitize category name for filename (replace spaces with underscores)\n",
    "    filename_category_part = category_name.replace(' ', '_')\n",
    "    local_filename = f\"full_binary_{filename_category_part}.bin\"\n",
    "    local_filepath = os.path.join(download_dir, local_filename)\n",
    "\n",
    "    if os.path.exists(local_filepath):\n",
    "        logger.info(f\"File for '{category_name}' already exists: {local_filepath}\")\n",
    "        return\n",
    "\n",
    "    # URL encode category name for the download URL (e.g., \"ice cream\" -> \"ice%20cream\")\n",
    "    url_category_part = urllib.parse.quote(category_name)\n",
    "    url = f\"https://storage.googleapis.com/quickdraw_dataset/full/binary/{url_category_part}.bin\"\n",
    "\n",
    "    logger.info(f\"Downloading '{category_name}' from {url} to {local_filepath}...\")\n",
    "    try:\n",
    "        response = requests.get(url, stream=True)\n",
    "        response.raise_for_status()  # Raise an exception for HTTP errors\n",
    "\n",
    "        total_size = int(response.headers.get('content-length', 0))\n",
    "\n",
    "        with open(local_filepath, 'wb') as f, tqdm(\n",
    "            desc=category_name,\n",
    "            total=total_size,\n",
    "            unit='iB',\n",
    "            unit_scale=True,\n",
    "            unit_divisor=1024,\n",
    "        ) as bar:\n",
    "            for chunk in response.iter_content(chunk_size=8192):\n",
    "                size = f.write(chunk)\n",
    "                bar.update(size)\n",
    "        logger.info(f\"Successfully downloaded '{category_name}'.\")\n",
    "    except requests.exceptions.RequestException as e:\n",
    "        logger.info(f\"Error downloading '{category_name}': {e}\")\n",
    "        if os.path.exists(local_filepath): # Clean up partial download\n",
    "            os.remove(local_filepath)\n",
    "    except Exception as e:\n",
    "        logger.info(f\"An unexpected error occurred while downloading '{category_name}': {e}\")\n",
    "        if os.path.exists(local_filepath): # Clean up partial download\n",
    "            os.remove(local_filepath)\n",
    "\n",
    "\n",
    "logger.info(f\"Starting download process for {len(QUICKDRAW_CATEGORIES)} categories into '{BINARY_DATA_ROOT}'...\")\n",
    "for category in QUICKDRAW_CATEGORIES:\n",
    "    download_quickdraw_binary(category, BINARY_DATA_ROOT)\n",
    "logger.info(\"Download process finished.\")\n",
    "\n",
    "# Explicitly flush handlers after a significant phase\n",
    "for handler in logger.handlers:\n",
    "    if isinstance(handler, logging.FileHandler):\n",
    "        handler.flush()\n",
    "\n"
   ]
  },
  {
   "cell_type": "code",
   "execution_count": 7,
   "metadata": {
    "execution": {
     "iopub.execute_input": "2025-09-11T04:32:53.787017Z",
     "iopub.status.busy": "2025-09-11T04:32:53.786718Z",
     "iopub.status.idle": "2025-09-11T05:16:01.023497Z",
     "shell.execute_reply": "2025-09-11T05:16:01.021815Z",
     "shell.execute_reply.started": "2025-09-11T04:32:53.786994Z"
    }
   },
   "outputs": [
    {
     "name": "stdout",
     "output_type": "stream",
     "text": [
      "Data folder size: 4.7 GB\n",
      "Estimated compression time: 9.3 minutes\n"
     ]
    },
    {
     "ename": "KeyboardInterrupt",
     "evalue": "",
     "output_type": "error",
     "traceback": [
      "\u001b[0;31m---------------------------------------------------------------------------\u001b[0m",
      "\u001b[0;31mKeyboardInterrupt\u001b[0m                         Traceback (most recent call last)",
      "Cell \u001b[0;32mIn[7], line 20\u001b[0m\n\u001b[1;32m     18\u001b[0m start_time \u001b[38;5;241m=\u001b[39m time\u001b[38;5;241m.\u001b[39mtime()\n\u001b[1;32m     19\u001b[0m \u001b[38;5;28;01mwith\u001b[39;00m tarfile\u001b[38;5;241m.\u001b[39mopen(\u001b[38;5;124m'\u001b[39m\u001b[38;5;124mdata.tar.xz\u001b[39m\u001b[38;5;124m'\u001b[39m, \u001b[38;5;124m'\u001b[39m\u001b[38;5;124mw:xz\u001b[39m\u001b[38;5;124m'\u001b[39m) \u001b[38;5;28;01mas\u001b[39;00m tar:\n\u001b[0;32m---> 20\u001b[0m     \u001b[43mtar\u001b[49m\u001b[38;5;241;43m.\u001b[39;49m\u001b[43madd\u001b[49m\u001b[43m(\u001b[49m\u001b[38;5;124;43m'\u001b[39;49m\u001b[38;5;124;43m./data\u001b[39;49m\u001b[38;5;124;43m'\u001b[39;49m\u001b[43m,\u001b[49m\u001b[43m \u001b[49m\u001b[43marcname\u001b[49m\u001b[38;5;241;43m=\u001b[39;49m\u001b[38;5;124;43m'\u001b[39;49m\u001b[38;5;124;43mdata\u001b[39;49m\u001b[38;5;124;43m'\u001b[39;49m\u001b[43m)\u001b[49m\n\u001b[1;32m     22\u001b[0m elapsed \u001b[38;5;241m=\u001b[39m (time\u001b[38;5;241m.\u001b[39mtime() \u001b[38;5;241m-\u001b[39m start_time) \u001b[38;5;241m/\u001b[39m \u001b[38;5;241m60\u001b[39m\n\u001b[1;32m     23\u001b[0m compressed_size \u001b[38;5;241m=\u001b[39m os\u001b[38;5;241m.\u001b[39mpath\u001b[38;5;241m.\u001b[39mgetsize(\u001b[38;5;124m'\u001b[39m\u001b[38;5;124mdata.tar.xz\u001b[39m\u001b[38;5;124m'\u001b[39m) \u001b[38;5;241m/\u001b[39m (\u001b[38;5;241m1024\u001b[39m\u001b[38;5;241m*\u001b[39m\u001b[38;5;241m*\u001b[39m\u001b[38;5;241m2\u001b[39m)\n",
      "File \u001b[0;32m/opt/conda/lib/python3.11/tarfile.py:2216\u001b[0m, in \u001b[0;36mTarFile.add\u001b[0;34m(self, name, arcname, recursive, filter)\u001b[0m\n\u001b[1;32m   2214\u001b[0m     \u001b[38;5;28;01mif\u001b[39;00m recursive:\n\u001b[1;32m   2215\u001b[0m         \u001b[38;5;28;01mfor\u001b[39;00m f \u001b[38;5;129;01min\u001b[39;00m \u001b[38;5;28msorted\u001b[39m(os\u001b[38;5;241m.\u001b[39mlistdir(name)):\n\u001b[0;32m-> 2216\u001b[0m             \u001b[38;5;28;43mself\u001b[39;49m\u001b[38;5;241;43m.\u001b[39;49m\u001b[43madd\u001b[49m\u001b[43m(\u001b[49m\u001b[43mos\u001b[49m\u001b[38;5;241;43m.\u001b[39;49m\u001b[43mpath\u001b[49m\u001b[38;5;241;43m.\u001b[39;49m\u001b[43mjoin\u001b[49m\u001b[43m(\u001b[49m\u001b[43mname\u001b[49m\u001b[43m,\u001b[49m\u001b[43m \u001b[49m\u001b[43mf\u001b[49m\u001b[43m)\u001b[49m\u001b[43m,\u001b[49m\u001b[43m \u001b[49m\u001b[43mos\u001b[49m\u001b[38;5;241;43m.\u001b[39;49m\u001b[43mpath\u001b[49m\u001b[38;5;241;43m.\u001b[39;49m\u001b[43mjoin\u001b[49m\u001b[43m(\u001b[49m\u001b[43marcname\u001b[49m\u001b[43m,\u001b[49m\u001b[43m \u001b[49m\u001b[43mf\u001b[49m\u001b[43m)\u001b[49m\u001b[43m,\u001b[49m\n\u001b[1;32m   2217\u001b[0m \u001b[43m                    \u001b[49m\u001b[43mrecursive\u001b[49m\u001b[43m,\u001b[49m\u001b[43m \u001b[49m\u001b[38;5;28;43mfilter\u001b[39;49m\u001b[38;5;241;43m=\u001b[39;49m\u001b[38;5;28;43mfilter\u001b[39;49m\u001b[43m)\u001b[49m\n\u001b[1;32m   2219\u001b[0m \u001b[38;5;28;01melse\u001b[39;00m:\n\u001b[1;32m   2220\u001b[0m     \u001b[38;5;28mself\u001b[39m\u001b[38;5;241m.\u001b[39maddfile(tarinfo)\n",
      "File \u001b[0;32m/opt/conda/lib/python3.11/tarfile.py:2210\u001b[0m, in \u001b[0;36mTarFile.add\u001b[0;34m(self, name, arcname, recursive, filter)\u001b[0m\n\u001b[1;32m   2208\u001b[0m \u001b[38;5;28;01mif\u001b[39;00m tarinfo\u001b[38;5;241m.\u001b[39misreg():\n\u001b[1;32m   2209\u001b[0m     \u001b[38;5;28;01mwith\u001b[39;00m bltn_open(name, \u001b[38;5;124m\"\u001b[39m\u001b[38;5;124mrb\u001b[39m\u001b[38;5;124m\"\u001b[39m) \u001b[38;5;28;01mas\u001b[39;00m f:\n\u001b[0;32m-> 2210\u001b[0m         \u001b[38;5;28;43mself\u001b[39;49m\u001b[38;5;241;43m.\u001b[39;49m\u001b[43maddfile\u001b[49m\u001b[43m(\u001b[49m\u001b[43mtarinfo\u001b[49m\u001b[43m,\u001b[49m\u001b[43m \u001b[49m\u001b[43mf\u001b[49m\u001b[43m)\u001b[49m\n\u001b[1;32m   2212\u001b[0m \u001b[38;5;28;01melif\u001b[39;00m tarinfo\u001b[38;5;241m.\u001b[39misdir():\n\u001b[1;32m   2213\u001b[0m     \u001b[38;5;28mself\u001b[39m\u001b[38;5;241m.\u001b[39maddfile(tarinfo)\n",
      "File \u001b[0;32m/opt/conda/lib/python3.11/tarfile.py:2238\u001b[0m, in \u001b[0;36mTarFile.addfile\u001b[0;34m(self, tarinfo, fileobj)\u001b[0m\n\u001b[1;32m   2236\u001b[0m \u001b[38;5;66;03m# If there's data to follow, append it.\u001b[39;00m\n\u001b[1;32m   2237\u001b[0m \u001b[38;5;28;01mif\u001b[39;00m fileobj \u001b[38;5;129;01mis\u001b[39;00m \u001b[38;5;129;01mnot\u001b[39;00m \u001b[38;5;28;01mNone\u001b[39;00m:\n\u001b[0;32m-> 2238\u001b[0m     \u001b[43mcopyfileobj\u001b[49m\u001b[43m(\u001b[49m\u001b[43mfileobj\u001b[49m\u001b[43m,\u001b[49m\u001b[43m \u001b[49m\u001b[38;5;28;43mself\u001b[39;49m\u001b[38;5;241;43m.\u001b[39;49m\u001b[43mfileobj\u001b[49m\u001b[43m,\u001b[49m\u001b[43m \u001b[49m\u001b[43mtarinfo\u001b[49m\u001b[38;5;241;43m.\u001b[39;49m\u001b[43msize\u001b[49m\u001b[43m,\u001b[49m\u001b[43m \u001b[49m\u001b[43mbufsize\u001b[49m\u001b[38;5;241;43m=\u001b[39;49m\u001b[43mbufsize\u001b[49m\u001b[43m)\u001b[49m\n\u001b[1;32m   2239\u001b[0m     blocks, remainder \u001b[38;5;241m=\u001b[39m \u001b[38;5;28mdivmod\u001b[39m(tarinfo\u001b[38;5;241m.\u001b[39msize, BLOCKSIZE)\n\u001b[1;32m   2240\u001b[0m     \u001b[38;5;28;01mif\u001b[39;00m remainder \u001b[38;5;241m>\u001b[39m \u001b[38;5;241m0\u001b[39m:\n",
      "File \u001b[0;32m/opt/conda/lib/python3.11/tarfile.py:255\u001b[0m, in \u001b[0;36mcopyfileobj\u001b[0;34m(src, dst, length, exception, bufsize)\u001b[0m\n\u001b[1;32m    253\u001b[0m     \u001b[38;5;28;01mif\u001b[39;00m \u001b[38;5;28mlen\u001b[39m(buf) \u001b[38;5;241m<\u001b[39m bufsize:\n\u001b[1;32m    254\u001b[0m         \u001b[38;5;28;01mraise\u001b[39;00m exception(\u001b[38;5;124m\"\u001b[39m\u001b[38;5;124munexpected end of data\u001b[39m\u001b[38;5;124m\"\u001b[39m)\n\u001b[0;32m--> 255\u001b[0m     \u001b[43mdst\u001b[49m\u001b[38;5;241;43m.\u001b[39;49m\u001b[43mwrite\u001b[49m\u001b[43m(\u001b[49m\u001b[43mbuf\u001b[49m\u001b[43m)\u001b[49m\n\u001b[1;32m    257\u001b[0m \u001b[38;5;28;01mif\u001b[39;00m remainder \u001b[38;5;241m!=\u001b[39m \u001b[38;5;241m0\u001b[39m:\n\u001b[1;32m    258\u001b[0m     buf \u001b[38;5;241m=\u001b[39m src\u001b[38;5;241m.\u001b[39mread(remainder)\n",
      "File \u001b[0;32m/opt/conda/lib/python3.11/lzma.py:240\u001b[0m, in \u001b[0;36mLZMAFile.write\u001b[0;34m(self, data)\u001b[0m\n\u001b[1;32m    237\u001b[0m     data \u001b[38;5;241m=\u001b[39m \u001b[38;5;28mmemoryview\u001b[39m(data)\n\u001b[1;32m    238\u001b[0m     length \u001b[38;5;241m=\u001b[39m data\u001b[38;5;241m.\u001b[39mnbytes\n\u001b[0;32m--> 240\u001b[0m compressed \u001b[38;5;241m=\u001b[39m \u001b[38;5;28mself\u001b[39m\u001b[38;5;241m.\u001b[39m_compressor\u001b[38;5;241m.\u001b[39mcompress(data)\n\u001b[1;32m    241\u001b[0m \u001b[38;5;28mself\u001b[39m\u001b[38;5;241m.\u001b[39m_fp\u001b[38;5;241m.\u001b[39mwrite(compressed)\n\u001b[1;32m    242\u001b[0m \u001b[38;5;28mself\u001b[39m\u001b[38;5;241m.\u001b[39m_pos \u001b[38;5;241m+\u001b[39m\u001b[38;5;241m=\u001b[39m length\n",
      "\u001b[0;31mKeyboardInterrupt\u001b[0m: "
     ]
    },
    {
     "data": {
      "application/sagemaker-interactive-debugging": {
       "cell_id": "e61ea06d-06bd-40d4-a346-367f1649ee65",
       "debugging_info_folder": "/home/sagemaker-user/shared/.temp_sagemaker_unified_studio_debugging_info/e61ea06d-06bd-40d4-a346-367f1649ee65",
       "instruction_file": "/home/sagemaker-user/shared/.temp_sagemaker_unified_studio_debugging_info/ipython_debugging_sop.txt",
       "magic_command": "no_magic",
       "session_type": "python_3"
      }
     },
     "metadata": {},
     "output_type": "display_data"
    }
   ],
   "source": [
    "import tarfile\n",
    "import os\n",
    "import time\n",
    "from IPython.display import FileLink\n",
    "\n",
    "# Compress data folder with time tracking\n",
    "if os.path.exists('./data'):\n",
    "    # Get folder size for time estimation\n",
    "    total_size = sum(os.path.getsize(os.path.join(dirpath, filename))\n",
    "                    for dirpath, dirnames, filenames in os.walk('./data')\n",
    "                    for filename in filenames) / (1024**3)  # GB\n",
    "    \n",
    "    # Estimate compression time (roughly 1-3 minutes per GB for xz)\n",
    "    estimated_time = total_size * 2  # minutes\n",
    "    print(f\"Data folder size: {total_size:.1f} GB\")\n",
    "    print(f\"Estimated compression time: {estimated_time:.1f} minutes\")\n",
    "    \n",
    "    start_time = time.time()\n",
    "    with tarfile.open('data.tar.xz', 'w:xz') as tar:\n",
    "        tar.add('./data', arcname='data')\n",
    "    \n",
    "    elapsed = (time.time() - start_time) / 60\n",
    "    compressed_size = os.path.getsize('data.tar.xz') / (1024**2)\n",
    "    \n",
    "    print(f\"Compression completed in {elapsed:.1f} minutes\")\n",
    "    print(f\"Compressed size: {compressed_size:.1f} MB\")\n",
    "    print(f\"Compression ratio: {(1 - compressed_size/(total_size*1024))*100:.1f}%\")\n",
    "    \n",
    "    FileLink('data.tar.xz')\n",
    "else:\n",
    "    print('Data folder not found')\n"
   ]
  },
  {
   "cell_type": "markdown",
   "metadata": {
    "id": "U4eaemyKzxMI"
   },
   "source": [
    "# QuickDrawBinaryDataset Loader and Indexer"
   ]
  },
  {
   "cell_type": "code",
   "execution_count": null,
   "metadata": {
    "execution": {
     "iopub.status.busy": "2025-09-11T05:16:01.024024Z",
     "iopub.status.idle": "2025-09-11T05:16:01.024299Z",
     "shell.execute_reply": "2025-09-11T05:16:01.024180Z",
     "shell.execute_reply.started": "2025-09-11T05:16:01.024168Z"
    },
    "id": "5ojVdrValHAi"
   },
   "outputs": [],
   "source": [
    "# --- QuickDraw Binary Data Reading Functions (from user - Unchanged) ---\n",
    "def unpack_drawing(file_handle):\n",
    "    try:\n",
    "        key_id, = unpack('Q', file_handle.read(8))\n",
    "        country_code, = unpack('2s', file_handle.read(2))\n",
    "        recognized, = unpack('b', file_handle.read(1))\n",
    "        timestamp, = unpack('I', file_handle.read(4))\n",
    "        n_strokes, = unpack('H', file_handle.read(2))\n",
    "        image_strokes = []\n",
    "        for _ in range(n_strokes):\n",
    "            n_points, = unpack('H', file_handle.read(2))\n",
    "            fmt = str(n_points) + 'B'\n",
    "            if n_points == 0:\n",
    "                image_strokes.append((tuple(), tuple()))\n",
    "                continue\n",
    "\n",
    "            x_bytes = file_handle.read(n_points)\n",
    "            y_bytes = file_handle.read(n_points)\n",
    "\n",
    "            if len(x_bytes) < n_points or len(y_bytes) < n_points:\n",
    "                logger.error(f\"Insufficient data for stroke points. Expected {n_points}, got {len(x_bytes)} for x, {len(y_bytes)} for y. Skipping drawing.\")\n",
    "                raise struct.error(\"Insufficient data for stroke points, likely corrupted drawing record.\")\n",
    "\n",
    "            x = unpack(fmt, x_bytes)\n",
    "            y = unpack(fmt, y_bytes)\n",
    "            image_strokes.append((x, y))\n",
    "\n",
    "        return {\n",
    "            'key_id': key_id,\n",
    "            'country_code': country_code,\n",
    "            'recognized': recognized,\n",
    "            'timestamp': timestamp,\n",
    "            'image': image_strokes\n",
    "        }\n",
    "    except struct.error as e:\n",
    "        logger.debug(f\"Struct error during unpack_drawing: {e}. File pointer at {file_handle.tell() if hasattr(file_handle, 'tell') else 'N/A'}\")\n",
    "        raise\n",
    "    except Exception as e:\n",
    "        logger.error(f\"Unexpected error in unpack_drawing: {e}\")\n",
    "        raise\n",
    "\n",
    "\n",
    "def unpack_drawings(filename): # Unchanged, used by indexing if needed elsewhere\n",
    "    file_size = os.path.getsize(filename)\n",
    "    with open(filename, 'rb') as f, tqdm(total=file_size, unit='B', unit_scale=True, desc=f\"Unpacking {os.path.basename(filename)}\", leave=False) as pbar:\n",
    "        while True:\n",
    "            try:\n",
    "                start_pos = f.tell()\n",
    "                if start_pos >= file_size:\n",
    "                    break\n",
    "                yield unpack_drawing(f)\n",
    "                pbar.update(f.tell() - start_pos)\n",
    "            except struct.error:\n",
    "                logger.debug(f\"Struct.error in unpack_drawings, likely end of file or data. File: {filename}\")\n",
    "                break\n",
    "            except EOFError:\n",
    "                logger.debug(f\"EOFError in unpack_drawings. File: {filename}\")\n",
    "                break\n",
    "\n",
    "def precompute_all_indices(root_dir, categories):\n",
    "    \"\"\"\n",
    "    Precompute indices for all categories in the binary dataset.\n",
    "    This function reads each binary file, extracts drawing offsets, and saves them as index files.\n",
    "    \"\"\"\n",
    "    os.makedirs(root_dir, exist_ok=True)\n",
    "\n",
    "    for category in tqdm(categories, desc=\"Precomputing indices\"):\n",
    "        # Convert category name for filename\n",
    "        category_file = category.replace(' ', '_')\n",
    "        filepath = os.path.join(root_dir, f\"full_binary_{category_file}.bin\")\n",
    "        index_path = os.path.join(root_dir, f\"full_binary_{category_file}.idx\")\n",
    "\n",
    "        if os.path.exists(index_path):\n",
    "            logger.info(f\"Index for {category} already exists at {index_path}\")\n",
    "            continue\n",
    "\n",
    "        if not os.path.exists(filepath):\n",
    "            logger.warning(f\"Binary file for {category} not found at {filepath}, skipping index creation\")\n",
    "            continue\n",
    "\n",
    "        logger.info(f\"Creating index for {category}...\")\n",
    "        drawing_offsets = []\n",
    "\n",
    "        file_size = os.path.getsize(filepath)\n",
    "        with open(filepath, 'rb') as f:\n",
    "            with tqdm(total=file_size, unit='B', unit_scale=True, desc=f\"Indexing {os.path.basename(filepath)}\") as pbar:\n",
    "                while True:\n",
    "                    current_pos = f.tell()\n",
    "                    if current_pos >= file_size:\n",
    "                        break\n",
    "                    try:\n",
    "                        # Record the current position\n",
    "                        drawing_offsets.append(current_pos)\n",
    "                        # Read one drawing to advance the pointer\n",
    "                        _ = unpack_drawing(f)\n",
    "                        pbar.update(f.tell() - current_pos)\n",
    "                    except struct.error:\n",
    "                        logger.debug(f\"Finished indexing or encountered struct.error at offset {current_pos}\")\n",
    "                        break\n",
    "                    except EOFError:\n",
    "                        logger.debug(f\"EOFError encountered while indexing at offset {current_pos}\")\n",
    "                        break\n",
    "                    except Exception as e:\n",
    "                        logger.error(f\"Unexpected error during indexing at offset {current_pos}: {e}\")\n",
    "                        break\n",
    "\n",
    "        # Save to disk\n",
    "        with open(index_path, 'wb') as f:\n",
    "            pickle.dump(drawing_offsets, f)\n",
    "\n",
    "        logger.info(f\"Saved index with {len(drawing_offsets)} entries to {index_path}\")\n",
    "\n",
    "    logger.info(f\"Precomputed indices for {len(categories)} categories\")\n",
    "    return True\n",
    "\n",
    "# --- Custom QuickDraw Dataset from Local Binary Files (REFACTORED) ---\n",
    "class QuickDrawBinaryDataset(Dataset):\n",
    "    IMAGE_SIZE = (256, 256)\n",
    "    LINE_WIDTH = 2\n",
    "    # Static dictionary to store cached indices for each file path\n",
    "    _cached_drawing_offsets = {}\n",
    "\n",
    "    def __init__(self, root, category, transform=None, cache_size=QUICKDRAW_CACHE_SIZE):\n",
    "        self.root = root\n",
    "        # Sanitize category name for filename (replace spaces with underscores)\n",
    "        self.category = category.replace(' ', '_')\n",
    "        self.transform = transform\n",
    "        self.filepath = os.path.join(self.root, f\"full_binary_{self.category}.bin\")\n",
    "        self.index_path = os.path.join(self.root, f\"full_binary_{self.category}.idx\")\n",
    "\n",
    "        self.cache_size = cache_size\n",
    "        self.worker_caches = {}  # Dictionary to store worker-specific caches\n",
    "\n",
    "        if not os.path.exists(self.filepath):\n",
    "            raise FileNotFoundError(\n",
    "                f\"Dataset binary file not found: {self.filepath}. Please ensure it exists.\"\n",
    "            )\n",
    "\n",
    "        # Load or create the index for this file path\n",
    "        self.drawing_offsets = self._get_or_create_index()\n",
    "\n",
    "        if not self.drawing_offsets:\n",
    "            logger.warning(f\"No drawings were indexed for category {self.category} from {self.filepath}.\")\n",
    "        else:\n",
    "            logger.info(f\"Successfully loaded or indexed {len(self.drawing_offsets)} drawings for {self.category}. Cache capacity: {self.cache_size} items.\")\n",
    "\n",
    "    def _get_or_create_index(self):\n",
    "        # First check in-memory cache\n",
    "        if self.filepath in self._cached_drawing_offsets:\n",
    "            logger.debug(f\"Using in-memory cached index for {self.filepath}\")\n",
    "            return self._cached_drawing_offsets[self.filepath]\n",
    "\n",
    "        # Then check for pre-computed index file\n",
    "        if os.path.exists(self.index_path):\n",
    "            try:\n",
    "                logger.info(f\"Loading pre-computed index from {self.index_path}\")\n",
    "                with open(self.index_path, 'rb') as f:\n",
    "                    drawing_offsets = pickle.load(f)\n",
    "                # Store in memory cache\n",
    "                self._cached_drawing_offsets[self.filepath] = drawing_offsets\n",
    "                return drawing_offsets\n",
    "            except Exception as e:\n",
    "                logger.error(f\"Error loading pre-computed index from {self.index_path}: {e}\")\n",
    "                # Fall back to creating index\n",
    "\n",
    "        # If we get here, we need to create the index\n",
    "        logger.info(f\"Indexing drawings from {self.filepath} for category {self.category}...\")\n",
    "        drawing_offsets = []\n",
    "\n",
    "        file_size = os.path.getsize(self.filepath)\n",
    "        idx_file_handle = None\n",
    "        try:\n",
    "            idx_file_handle = open(self.filepath, 'rb')\n",
    "            with tqdm(total=file_size, unit='B', unit_scale=True, desc=f\"Indexing {os.path.basename(self.filepath)}\", leave=False) as pbar:\n",
    "                while True:\n",
    "                    current_pos = idx_file_handle.tell()\n",
    "                    if current_pos >= file_size:\n",
    "                        break\n",
    "                    try:\n",
    "                        # Read one drawing just to advance the pointer and validate structure\n",
    "                        # We use the external unpack_drawing function here\n",
    "                        drawing_offsets.append(current_pos)\n",
    "                        _ = unpack_drawing(idx_file_handle)\n",
    "                        pbar.update(idx_file_handle.tell() - current_pos)\n",
    "                    except struct.error:\n",
    "                        logger.debug(f\"Finished indexing or encountered struct.error at offset {current_pos} in {self.filepath}. Total indexed: {len(drawing_offsets)}\")\n",
    "                        break\n",
    "                    except EOFError:\n",
    "                        logger.debug(f\"EOFError encountered while indexing {self.filepath} at offset {current_pos}. Total indexed: {len(drawing_offsets)}\")\n",
    "                        break\n",
    "                    except Exception as e:\n",
    "                        logger.error(f\"Unexpected error during indexing of {self.filepath} at offset {current_pos}: {e}. Stopping indexing for this file.\")\n",
    "                        break\n",
    "        finally:\n",
    "            if idx_file_handle:\n",
    "                idx_file_handle.close()\n",
    "\n",
    "        # Store the index in the memory cache\n",
    "        self._cached_drawing_offsets[self.filepath] = drawing_offsets\n",
    "\n",
    "        # Also save to disk for future use\n",
    "        try:\n",
    "            with open(self.index_path, 'wb') as f:\n",
    "                pickle.dump(drawing_offsets, f)\n",
    "                logger.info(f\"Saved index with {len(drawing_offsets)} entries to {self.index_path}\")\n",
    "        except Exception as e:\n",
    "            logger.error(f\"Failed to save index to {self.index_path}: {e}\")\n",
    "\n",
    "        return drawing_offsets\n",
    "\n",
    "    def _render_drawing_to_image(self, drawing_strokes):\n",
    "        image = Image.new(\"L\", self.IMAGE_SIZE, \"white\")\n",
    "        draw = ImageDraw.Draw(image)\n",
    "        for stroke_x, stroke_y in drawing_strokes:\n",
    "            if not stroke_x or not stroke_y:\n",
    "                continue\n",
    "            if len(stroke_x) == 1:\n",
    "                draw.point((int(stroke_x[0]), int(stroke_y[0])), fill=\"black\")\n",
    "            else:\n",
    "                points = list(zip(stroke_x, stroke_y))\n",
    "                draw.line(points, fill=\"black\", width=self.LINE_WIDTH)\n",
    "        return image\n",
    "\n",
    "    def __len__(self):\n",
    "        return len(self.drawing_offsets)\n",
    "\n",
    "    def __getitem__(self, idx):\n",
    "        if idx < 0 or idx >= len(self.drawing_offsets):\n",
    "            raise IndexError(f\"Index {idx} out of bounds for {len(self.drawing_offsets)} drawings.\")\n",
    "\n",
    "        # Get worker info for process-specific caching\n",
    "        worker_info = torch.utils.data.get_worker_info()\n",
    "        worker_id = worker_info.id if worker_info else 0\n",
    "\n",
    "        # Create worker-specific cache if it doesn't exist\n",
    "        if worker_id not in self.worker_caches:\n",
    "            self.worker_caches[worker_id] = collections.OrderedDict()\n",
    "\n",
    "        # Use worker-specific cache\n",
    "        worker_cache = self.worker_caches[worker_id]\n",
    "\n",
    "        drawing_data = None\n",
    "        if idx in worker_cache:\n",
    "            drawing_data = worker_cache[idx]\n",
    "            worker_cache.move_to_end(idx)  # Mark as recently used\n",
    "        else:\n",
    "            offset = self.drawing_offsets[idx]\n",
    "            try:\n",
    "                # Open file, seek, read one drawing, then close.\n",
    "                # This is safer for multiprocessing in DataLoader.\n",
    "                with open(self.filepath, 'rb') as f:\n",
    "                    f.seek(offset)\n",
    "                    # Use the external unpack_drawing function here\n",
    "                    drawing_data = unpack_drawing(f)\n",
    "            except Exception as e:\n",
    "                logger.error(f\"Error reading drawing at index {idx}, offset {offset} from {self.filepath}: {e}\")\n",
    "                raise IOError(f\"Failed to load drawing {idx} for {self.category}\") from e\n",
    "\n",
    "            if self.cache_size > 0:\n",
    "                worker_cache[idx] = drawing_data\n",
    "                if len(worker_cache) > self.cache_size:\n",
    "                    worker_cache.popitem(last=False)  # Remove oldest item (LRU)\n",
    "\n",
    "        if drawing_data is None: # Should not happen if logic is correct\n",
    "             raise RuntimeError(f\"Drawing data for index {idx} could not be retrieved.\")\n",
    "\n",
    "        pil_image = self._render_drawing_to_image(drawing_data['image'])\n",
    "\n",
    "        if self.transform:\n",
    "            pil_image = self.transform(pil_image)\n",
    "\n",
    "        return pil_image, self.category"
   ]
  },
  {
   "cell_type": "markdown",
   "metadata": {
    "id": "uzpg1DGB3em4"
   },
   "source": [
    "### Generate CSV of the 51 QuickDraw Categories"
   ]
  },
  {
   "cell_type": "code",
   "execution_count": 8,
   "metadata": {
    "colab": {
     "base_uri": "https://localhost:8080/",
     "height": 676,
     "referenced_widgets": [
      "b2bfe31c71be48d8a6c8410bc817ebab",
      "f466e3b9362a4ab6b1ac62d07493b663",
      "6c999dfdc8504a6c82b2fc9d4027a738",
      "08dcb55a57a34b938f60660071d89881",
      "9013763060044480a1d388512be83939",
      "ca585efbc3c74b2e9fbe27eba446e59e",
      "7b7fcc4cb338462e8bd1820d78e54f90",
      "a689d1da56a64aef8fafaf3994460c49",
      "ccd1ad01f75849168c19e924add544f9",
      "0dfb376fd328478693aa26f2ad9d9c3b",
      "5a6dae2a6d384758b0741df4c4adae4b",
      "a12e423950fb44a689bc34f05c444b7a",
      "08c3ec7322cb4a4a9ce5f8c5484142d3",
      "c23eab864e334f0f8cdd481c6933e4e3",
      "fff3eef01dad473084fe667931b863ed",
      "2c91cdd989764c74ac6b558154437414",
      "a93a281a665a438b90c298bbd720195b",
      "7f21ff9edd8f468392bb102439fa96df",
      "3f92c749b62d427fb51bef4ca2966fbf",
      "765a8167921e49f2864212f900a2233b",
      "abf86e6f1ac341d686e451f19409b8da",
      "92c1da26273c47bc883d761724dc58c7",
      "194222a4932046aa8547272d75809b2b",
      "f44f22a2ed5440b593a90a5da034dfbb",
      "a38d27ce6510435ab498f23c995327bb",
      "8d68dca962c6471eb88a366010ea304c",
      "d7399dbe6efd42da9dfc12733d0a96f6",
      "df4b83f6a8c2444793d167e644eb6fed",
      "03a06d005c494474be1b45f984ef0d0c",
      "0a00a664e57e46e28b8889bc22ac1d43",
      "18cfca02df0440c3b788e6c04447aa36",
      "a6e32fbc60604c4ba94f75e3b825b874",
      "7f008a7132244e089f64c6199bad4272",
      "6445da8912424f37a38f0a6ca0128059",
      "3427a4fabc4b47bea3fa7112cf42865d",
      "13acbd58a8204fe2bfdabe692401ba5b",
      "7836f9d1202346f18ce9f96d16bd6b88",
      "b106d1d5b6d74f658462b6e4dcf0ef4c",
      "f4ec1852b8fa441e8eee284f0a88e1c2",
      "66098a47da2d46d3bbc1ee4b488dc2f8",
      "f2e0d5f6293c43ff97ef95caacba37c9",
      "2e8090de960c439bb4722d0d8fd1a298",
      "4219485c856244c6b51f09c4d8e7a4b2",
      "616470cc6aa44763aa441c7938364fce",
      "8402df8157c54e4686107bdb879d6e8e",
      "ec2ad721a3c8414b84295c0d638cb942",
      "3e79333740464617bfcd360086ec7940",
      "8e24421141a34863af8a5989ffd66ff2",
      "a3a512fe3d7942b2aa2d34f5c8a0ded6",
      "a6521fb16ce84bce89da5092f5cd1e1f",
      "db6389dec98f474899d6eefe2fc1da65",
      "661e9887422a4df6b567013caf807f6e",
      "d56aa40cf1804ff6b16d2a37372fc9be",
      "ab9c9ca41fb3418cb5eaccff660f17a5",
      "e7a307c5bb7b49989d4757e9e0c848fb"
     ]
    },
    "execution": {
     "iopub.execute_input": "2025-09-11T03:53:46.769132Z",
     "iopub.status.busy": "2025-09-11T03:53:46.768744Z",
     "iopub.status.idle": "2025-09-11T03:53:52.514088Z",
     "shell.execute_reply": "2025-09-11T03:53:52.513319Z",
     "shell.execute_reply.started": "2025-09-11T03:53:46.769112Z"
    },
    "id": "n0tOAIdl3em5",
    "outputId": "e8ea72c6-222d-4028-f5dd-6d8aa8da1c17"
   },
   "outputs": [
    {
     "data": {
      "application/vnd.jupyter.widget-view+json": {
       "model_id": "82d1d55e7ae442b98a93441163c93b8a",
       "version_major": 2,
       "version_minor": 0
      },
      "text/plain": [
       "Counting category samples:   0%|          | 0/4 [00:00<?, ?it/s]"
      ]
     },
     "metadata": {},
     "output_type": "display_data"
    },
    {
     "name": "stderr",
     "output_type": "stream",
     "text": [
      "2025-09-11 03:53:46,784 - INFO - 2928541081 - Indexing drawings from ./data/full_binary_The_Eiffel_Tower.bin for category The_Eiffel_Tower...\n"
     ]
    },
    {
     "data": {
      "application/vnd.jupyter.widget-view+json": {
       "model_id": "1cd21861dba647c99fa2071c651a734b",
       "version_major": 2,
       "version_minor": 0
      },
      "text/plain": [
       "Indexing full_binary_The_Eiffel_Tower.bin:   0%|          | 0.00/11.2M [00:00<?, ?B/s]"
      ]
     },
     "metadata": {},
     "output_type": "display_data"
    },
    {
     "name": "stderr",
     "output_type": "stream",
     "text": [
      "2025-09-11 03:53:47,915 - INFO - 2928541081 - Saved index with 134801 entries to ./data/full_binary_The_Eiffel_Tower.idx\n",
      "2025-09-11 03:53:47,916 - INFO - 2928541081 - Successfully loaded or indexed 134801 drawings for The_Eiffel_Tower. Cache capacity: 50000 items.\n",
      "2025-09-11 03:53:47,917 - INFO - 2988690619 - Category: The Eiffel Tower, Total: 134801, Train: 100, Val: 20, Test: 20\n",
      "2025-09-11 03:53:47,918 - INFO - 2928541081 - Indexing drawings from ./data/full_binary_The_Great_Wall_of_China.bin for category The_Great_Wall_of_China...\n"
     ]
    },
    {
     "data": {
      "application/vnd.jupyter.widget-view+json": {
       "model_id": "a326fc498d224f28a1205d3ce918b1fb",
       "version_major": 2,
       "version_minor": 0
      },
      "text/plain": [
       "Indexing full_binary_The_Great_Wall_of_China.bin:   0%|          | 0.00/21.1M [00:00<?, ?B/s]"
      ]
     },
     "metadata": {},
     "output_type": "display_data"
    },
    {
     "name": "stderr",
     "output_type": "stream",
     "text": [
      "2025-09-11 03:53:49,766 - INFO - 2928541081 - Saved index with 193015 entries to ./data/full_binary_The_Great_Wall_of_China.idx\n",
      "2025-09-11 03:53:49,767 - INFO - 2928541081 - Successfully loaded or indexed 193015 drawings for The_Great_Wall_of_China. Cache capacity: 50000 items.\n",
      "2025-09-11 03:53:49,768 - INFO - 2988690619 - Category: The Great Wall of China, Total: 193015, Train: 100, Val: 20, Test: 20\n",
      "2025-09-11 03:53:49,770 - INFO - 2928541081 - Indexing drawings from ./data/full_binary_airplane.bin for category airplane...\n"
     ]
    },
    {
     "data": {
      "application/vnd.jupyter.widget-view+json": {
       "model_id": "617a6e9d5f534fdd81803f1136d1576d",
       "version_major": 2,
       "version_minor": 0
      },
      "text/plain": [
       "Indexing full_binary_airplane.bin:   0%|          | 0.00/15.7M [00:00<?, ?B/s]"
      ]
     },
     "metadata": {},
     "output_type": "display_data"
    },
    {
     "name": "stderr",
     "output_type": "stream",
     "text": [
      "2025-09-11 03:53:51,052 - INFO - 2928541081 - Saved index with 151623 entries to ./data/full_binary_airplane.idx\n",
      "2025-09-11 03:53:51,053 - INFO - 2928541081 - Successfully loaded or indexed 151623 drawings for airplane. Cache capacity: 50000 items.\n",
      "2025-09-11 03:53:51,054 - INFO - 2988690619 - Category: airplane, Total: 151623, Train: 100, Val: 20, Test: 20\n",
      "2025-09-11 03:53:51,056 - INFO - 2928541081 - Indexing drawings from ./data/full_binary_alarm_clock.bin for category alarm_clock...\n"
     ]
    },
    {
     "data": {
      "application/vnd.jupyter.widget-view+json": {
       "model_id": "c1565ee80d654ebc850d8e800418d8ac",
       "version_major": 2,
       "version_minor": 0
      },
      "text/plain": [
       "Indexing full_binary_alarm_clock.bin:   0%|          | 0.00/18.9M [00:00<?, ?B/s]"
      ]
     },
     "metadata": {},
     "output_type": "display_data"
    },
    {
     "name": "stderr",
     "output_type": "stream",
     "text": [
      "2025-09-11 03:53:52,504 - INFO - 2928541081 - Saved index with 123399 entries to ./data/full_binary_alarm_clock.idx\n",
      "2025-09-11 03:53:52,505 - INFO - 2928541081 - Successfully loaded or indexed 123399 drawings for alarm_clock. Cache capacity: 50000 items.\n",
      "2025-09-11 03:53:52,506 - INFO - 2988690619 - Category: alarm clock, Total: 123399, Train: 100, Val: 20, Test: 20\n",
      "2025-09-11 03:53:52,508 - INFO - 2988690619 - Category counts saved to quickdraw_category_counts.csv\n"
     ]
    }
   ],
   "source": [
    "def generate_category_counts_report():\n",
    "    '''\n",
    "    Generates a CSV report of all QuickDraw categories and their sample counts.\n",
    "    Generating category counts report...\")\n",
    "    '''\n",
    "    category_stats = []\n",
    "\n",
    "    for category_name in tqdm(QUICKDRAW_CATEGORIES, desc=\"Counting category samples\"):\n",
    "        try:\n",
    "            # Create dataset for this category\n",
    "            filepath = os.path.join(BINARY_DATA_ROOT, f\"full_binary_{category_name.replace(' ', '_')}.bin\")\n",
    "            if not os.path.exists(filepath):\n",
    "                category_stats.append({\n",
    "                    'Category': category_name,\n",
    "                    'Total Samples': 0,\n",
    "                    'Error': 'File not found'\n",
    "                })\n",
    "                continue\n",
    "\n",
    "            dataset = QuickDrawBinaryDataset(\n",
    "                root=BINARY_DATA_ROOT,\n",
    "                category=category_name,\n",
    "                transform=None,\n",
    "                cache_size=QUICKDRAW_CACHE_SIZE\n",
    "            )\n",
    "\n",
    "            total_count = len(dataset)\n",
    "\n",
    "            # Calculate the actual split sizes based on our splitting logic\n",
    "            actual_train = min(NUM_TRAIN_SAMPLES_PER_CATEGORY, int(total_count * 0.7))\n",
    "            remaining = total_count - actual_train\n",
    "            actual_val = min(int(NUM_TRAIN_SAMPLES_PER_CATEGORY * 0.2), int(remaining * 0.5))\n",
    "            actual_test = min(NUM_TEST_SAMPLES_PER_CATEGORY, remaining - actual_val)\n",
    "\n",
    "            category_stats.append({\n",
    "                'Category': category_name,\n",
    "                'Total Samples': total_count,\n",
    "                'Training Samples': actual_train,\n",
    "                'Validation Samples': actual_val,\n",
    "                'Test Samples': actual_test\n",
    "            })\n",
    "\n",
    "            logger.info(f\"Category: {category_name}, Total: {total_count}, Train: {actual_train}, Val: {actual_val}, Test: {actual_test}\")\n",
    "\n",
    "        except Exception as e:\n",
    "            logger.error(f\"Error counting samples for category {category_name}: {e}\")\n",
    "            category_stats.append({\n",
    "                'Category': category_name,\n",
    "                'Total Samples': 0,\n",
    "                'Error': str(e)\n",
    "            })\n",
    "\n",
    "    # Save to CSV\n",
    "    csv_filename = f\"quickdraw_category_counts.csv\"\n",
    "\n",
    "    try:\n",
    "        with open(csv_filename, 'w', newline='') as csvfile:\n",
    "            # Define fieldnames including all possible columns\n",
    "            fieldnames = ['Category', 'Total Samples', 'Training Samples', 'Validation Samples', 'Test Samples', 'Error']\n",
    "            writer = csv.DictWriter(csvfile, fieldnames=fieldnames)\n",
    "            writer.writeheader()\n",
    "            for stats in category_stats:\n",
    "                writer.writerow(stats)\n",
    "        logger.info(f\"Category counts saved to {csv_filename}\")\n",
    "    except IOError as e:\n",
    "        logger.error(f\"Could not save category counts to CSV: {e}\")\n",
    "\n",
    "    return category_stats\n",
    "\n",
    "# Generate category counts report\n",
    "category_stats = generate_category_counts_report()\n"
   ]
  },
  {
   "cell_type": "markdown",
   "metadata": {
    "id": "zs3aqMyK3em6"
   },
   "source": [
    "##  Data Preparation with Augmentation"
   ]
  },
  {
   "cell_type": "code",
   "execution_count": 9,
   "metadata": {
    "execution": {
     "iopub.execute_input": "2025-09-11T03:53:52.516555Z",
     "iopub.status.busy": "2025-09-11T03:53:52.516272Z",
     "iopub.status.idle": "2025-09-11T03:53:52.532633Z",
     "shell.execute_reply": "2025-09-11T03:53:52.531847Z",
     "shell.execute_reply.started": "2025-09-11T03:53:52.516536Z"
    },
    "id": "vbdGsczjPCi4"
   },
   "outputs": [],
   "source": [
    "# --- Data Preparation with Augmentation ---\n",
    "def get_augmented_quickdraw_data(categories, num_train_per_cat, num_test_per_cat, data_root):\n",
    "    \"\"\"\"\n",
    "    Enhanced version of get_quickdraw_data that creates train/validation/test splits\n",
    "    and applies data augmentation to the training set.\n",
    "    \"\"\"\n",
    "    logger.info(f\"Loading augmented QuickDraw data for {len(categories)} categories...\")\n",
    "\n",
    "    # Create standard transforms\n",
    "    base_transform = T.Compose([\n",
    "        T.Resize((224, 224)), # Resize to 224x224 for ViT compatibility\n",
    "        T.ToTensor(),\n",
    "        T.Normalize(mean=[0.485, 0.456, 0.406], std=[0.229, 0.224, 0.225])\n",
    "    ])\n",
    "\n",
    "    # Augmented transform for training\n",
    "    train_transform = T.Compose([\n",
    "        T.Grayscale(num_output_channels=3),\n",
    "        T.RandomHorizontalFlip(p=0.5),\n",
    "        T.RandomRotation(15),\n",
    "        T.RandomAffine(degrees=10, translate=(0.1, 0.1), scale=(0.9, 1.1)),\n",
    "        T.ColorJitter(brightness=0.2, contrast=0.2),\n",
    "        T.Resize((224, 224)), # Resize to 224x224 for ViT compatibility\n",
    "        base_transform\n",
    "    ])\n",
    "\n",
    "    # Simple transform for validation/testing\n",
    "    test_transform = T.Compose([\n",
    "        T.Grayscale(num_output_channels=3),\n",
    "        T.Resize((224, 224)), # Resize to 224x224 for ViT compatibility\n",
    "        base_transform\n",
    "    ])\n",
    "\n",
    "    all_train_datasets = []\n",
    "    all_val_datasets = []\n",
    "    all_test_datasets = []\n",
    "\n",
    "    for category_idx, category_name in enumerate(categories):\n",
    "        try:\n",
    "            logger.info(f\"Loading QuickDraw category: {category_name} from local binary files...\")\n",
    "            full_category_dataset = QuickDrawBinaryDataset(\n",
    "                root=data_root,\n",
    "                category=category_name,\n",
    "                transform=None,  # No transform yet, will be applied per-split\n",
    "                cache_size=QUICKDRAW_CACHE_SIZE\n",
    "            )\n",
    "\n",
    "            if len(full_category_dataset) == 0:\n",
    "                logger.warning(f\"No data loaded for category {category_name}. Skipping.\")\n",
    "                continue\n",
    "\n",
    "            # Calculate actual samples to use (limited by available data)\n",
    "            actual_num_train = min(num_train_per_cat, int(len(full_category_dataset) * 0.7))\n",
    "            remaining_samples = len(full_category_dataset) - actual_num_train\n",
    "\n",
    "            # Split remaining samples between validation and test\n",
    "            actual_num_val = min(int(num_train_per_cat * VALIDATION_SPLIT), int(remaining_samples * 0.5))\n",
    "            actual_num_test = min(NUM_TEST_SAMPLES_PER_CATEGORY, remaining_samples - actual_num_val)\n",
    "\n",
    "            actual_num_train = int(actual_num_train)\n",
    "            actual_num_val = int(actual_num_val)\n",
    "            actual_num_test = int(actual_num_test)\n",
    "\n",
    "\n",
    "            logger.info(f\"Category {category_name}: {actual_num_train} train, {actual_num_val} val, {actual_num_test} test\")\n",
    "\n",
    "            # Ensure we have enough samples\n",
    "            if actual_num_train == 0 or actual_num_val == 0 or actual_num_test == 0:\n",
    "                logger.warning(f\"Not enough samples in {category_name} for desired splits. Skipping.\")\n",
    "                continue\n",
    "\n",
    "            # Create indices for random splits\n",
    "            indices = list(range(len(full_category_dataset)))\n",
    "            random.shuffle(indices)\n",
    "\n",
    "            train_indices = indices[:actual_num_train]\n",
    "            val_indices = indices[actual_num_train:actual_num_train + actual_num_val]\n",
    "            test_indices = indices[actual_num_train + actual_num_val:actual_num_train + actual_num_val + actual_num_test]\n",
    "\n",
    "            # Create labeled datasets with appropriate transforms\n",
    "            train_subset = TransformedSubset(full_category_dataset, train_indices, train_transform, category_idx)\n",
    "            val_subset = TransformedSubset(full_category_dataset, val_indices, test_transform, category_idx)\n",
    "            test_subset = TransformedSubset(full_category_dataset, test_indices, test_transform, category_idx)\n",
    "\n",
    "            all_train_datasets.append(train_subset)\n",
    "            all_val_datasets.append(val_subset)\n",
    "            all_test_datasets.append(test_subset)\n",
    "\n",
    "        except Exception as e:\n",
    "            logger.error(f\"Error loading category {category_name}: {e}\")\n",
    "            continue\n",
    "\n",
    "    # Ensure we have data for at least some categories\n",
    "    if not all_train_datasets or not all_val_datasets or not all_test_datasets:\n",
    "        if not any(all_train_datasets) and not any(all_val_datasets) and not any(all_test_datasets):\n",
    "            raise RuntimeError(\"No QuickDraw data could be loaded for any category. Aborting.\")\n",
    "        else:\n",
    "            logger.warning(\"Some categories failed to load, proceeding with available data.\")\n",
    "\n",
    "\n",
    "    # Combine datasets across categories\n",
    "    train_dataset = ConcatDataset(all_train_datasets)\n",
    "    val_dataset = ConcatDataset(all_val_datasets)\n",
    "    test_dataset = ConcatDataset(all_test_datasets)\n",
    "\n",
    "\n",
    "    logger.info(f\"Created datasets with {len(train_dataset)} training samples, \"\n",
    "               f\"{len(val_dataset)} validation samples, and {len(test_dataset)} test samples.\")\n",
    "\n",
    "\n",
    "    return train_dataset, val_dataset, test_dataset\n",
    "\n",
    "# Helper class for applying transforms during subset creation\n",
    "class TransformedSubset(Dataset):\n",
    "    \"\"\"\n",
    "    A subset of a dataset with a transform that's applied on-the-fly.\n",
    "    Also assigns a fixed class label for classification tasks.\n",
    "    \"\"\"\n",
    "    def __init__(self, dataset, indices, transform, label):\n",
    "        self.dataset = dataset\n",
    "        self.indices = indices\n",
    "        self.transform = transform\n",
    "        self.label = label\n",
    "\n",
    "    def __getitem__(self, idx):\n",
    "        try:\n",
    "            image, _ = self.dataset[self.indices[idx]]\n",
    "            if self.transform:\n",
    "                image = self.transform(image)\n",
    "            return image, self.label\n",
    "        except Exception as e:\n",
    "            # Fallback to a default/placeholder image or retry\n",
    "            logger.warning(f\"Error loading image at index {idx}: {e}\")\n",
    "            # Create a placeholder image (black square)\n",
    "            placeholder = torch.zeros(3, 224, 224)\n",
    "            return placeholder, self.label\n",
    "\n",
    "\n",
    "    def __len__(self):\n",
    "        return len(self.indices)"
   ]
  },
  {
   "cell_type": "markdown",
   "metadata": {
    "id": "c6XQejUd0Hwi"
   },
   "source": [
    "# Model Classes"
   ]
  },
  {
   "cell_type": "code",
   "execution_count": 10,
   "metadata": {
    "execution": {
     "iopub.execute_input": "2025-09-11T03:53:52.536745Z",
     "iopub.status.busy": "2025-09-11T03:53:52.536527Z",
     "iopub.status.idle": "2025-09-11T03:53:52.561617Z",
     "shell.execute_reply": "2025-09-11T03:53:52.560580Z",
     "shell.execute_reply.started": "2025-09-11T03:53:52.536727Z"
    },
    "id": "N03UqwbV0KpW"
   },
   "outputs": [],
   "source": [
    "# --- Model Wrapper Architecture for Ensemble ---\n",
    "class ModelWrapper(nn.Module):\n",
    "    \"\"\"Base wrapper for models to ensure consistent interface in ensemble\"\"\"\n",
    "    def __init__(self, model=None, num_classes=len(QUICKDRAW_CATEGORIES)):\n",
    "        super().__init__()\n",
    "        self.model = model\n",
    "        self.num_classes = num_classes\n",
    "\n",
    "    def forward(self, x):\n",
    "        return self.model(x)\n",
    "\n",
    "    @classmethod\n",
    "    def load_from_checkpoint(cls, model_path, device=DEVICE):\n",
    "        \"\"\"Load model from checkpoint with proper error handling\"\"\"\n",
    "        try:\n",
    "            instance = cls()\n",
    "            state_dict = torch.load(model_path, map_location=device)\n",
    "            instance.model.load_state_dict(state_dict)\n",
    "            instance.model.to(device)\n",
    "            instance.model.eval()\n",
    "            return instance\n",
    "        except Exception as e:\n",
    "            logger.error(f\"Failed to load model from {model_path}: {e}\")\n",
    "            return None\n",
    "\n",
    "# class ShuffleNetV2Wrapper(ModelWrapper):\n",
    "#     def __init__(self, weights=None, num_classes=len(QUICKDRAW_CATEGORIES)):\n",
    "#         super().__init__(None, num_classes)\n",
    "#         self.model = models.shufflenet_v2_x0_5(weights=weights)\n",
    "#         in_features = self.model.fc.in_features\n",
    "\n",
    "#         # Replace with optimized classifier for better accuracy\n",
    "#         self.model.fc = nn.Sequential(\n",
    "#             nn.Linear(in_features, 1024),\n",
    "#             nn.BatchNorm1d(1024),\n",
    "#             nn.ReLU(inplace=True),\n",
    "#             nn.Dropout(0.4),\n",
    "#             nn.Linear(1024, 512),\n",
    "#             nn.BatchNorm1d(512),\n",
    "#             nn.ReLU(inplace=True),\n",
    "#             nn.Dropout(0.3),\n",
    "#             nn.Linear(512, num_classes)\n",
    "#         )\n",
    "\n",
    "#     @classmethod\n",
    "#     def load_from_checkpoint(cls, model_path, device=DEVICE):\n",
    "#         instance = cls(weights=None)\n",
    "#         try:\n",
    "#             state_dict = torch.load(model_path, map_location=device)\n",
    "#             instance.model.load_state_dict(state_dict)\n",
    "#             instance.model.to(device)\n",
    "#             instance.model.eval()\n",
    "#             return instance\n",
    "#         except Exception as e:\n",
    "#             logger.error(f\"Failed to load ShuffleNetV2 from {model_path}: {e}\")\n",
    "#             return None\n",
    "\n",
    "class MobileNetV3Wrapper(ModelWrapper):\n",
    "    def __init__(self, weights=None, num_classes=len(QUICKDRAW_CATEGORIES)):\n",
    "        super().__init__(None, num_classes)\n",
    "        self.model = models.mobilenet_v3_small(weights=weights)\n",
    "        in_features = self.model.classifier[0].in_features\n",
    "\n",
    "        self.model.classifier = nn.Sequential(\n",
    "            nn.Linear(in_features, 1024),\n",
    "            nn.BatchNorm1d(1024),\n",
    "            nn.ReLU(inplace=True),\n",
    "            nn.Dropout(0.4),\n",
    "            nn.Linear(1024, 512),\n",
    "            nn.BatchNorm1d(512),\n",
    "            nn.ReLU(inplace=True),\n",
    "            nn.Dropout(0.3),\n",
    "            nn.Linear(512, num_classes)\n",
    "        )\n",
    "\n",
    "    @classmethod\n",
    "    def load_from_checkpoint(cls, model_path, device=DEVICE):\n",
    "        instance = cls(weights=None)\n",
    "        try:\n",
    "            state_dict = torch.load(model_path, map_location=device)\n",
    "            instance.model.load_state_dict(state_dict)\n",
    "            instance.model.to(device)\n",
    "            instance.model.eval()\n",
    "            return instance\n",
    "        except Exception as e:\n",
    "            logger.error(f\"Failed to load MobileNetV3 from {model_path}: {e}\")\n",
    "            return None\n",
    "\n",
    "# class SqueezeNetWrapper(ModelWrapper):\n",
    "#     def __init__(self, weights=None, num_classes=len(QUICKDRAW_CATEGORIES)):\n",
    "#         super().__init__(None, num_classes)\n",
    "#         self.model = models.squeezenet1_1(weights=weights)\n",
    "#         in_channels = self.model.classifier[1].in_channels\n",
    "\n",
    "#         # Use the specialized SqueezeNet classifier format\n",
    "#         self.model.classifier = nn.Sequential(\n",
    "#             nn.Dropout(p=0.5),\n",
    "#             nn.Conv2d(in_channels, 512, kernel_size=1),\n",
    "#             nn.ReLU(inplace=True),\n",
    "#             nn.AdaptiveAvgPool2d((1, 1)),\n",
    "#             nn.Conv2d(512, num_classes, kerxnel_size=1)\n",
    "#         )\n",
    "\n",
    "#     @classmethod\n",
    "#     def load_from_checkpoint(cls, model_path, device=DEVICE):\n",
    "#         instance = cls(weights=None)\n",
    "#         try:\n",
    "#             state_dict = torch.load(model_path, map_location=device)\n",
    "#             instance.model.load_state_dict(state_dict)\n",
    "#             instance.model.to(device)\n",
    "#             instance.model.eval()\n",
    "#             return instance\n",
    "#         except Exception as e:\n",
    "#             logger.error(f\"Failed to load SqueezeNet from {model_path}: {e}\")\n",
    "#             return None\n",
    "\n",
    "# # Add a ModelWrapper for Vision Transformer (ViT)\n",
    "# from transformers import AutoModelForImageClassification\n",
    "\n",
    "# class ViTWrapper(ModelWrapper):\n",
    "#     def __init__(self, model_name=\"google/vit-base-patch16-224\", num_classes=len(QUICKDRAW_CATEGORIES)):\n",
    "#         super().__init__(None, num_classes)\n",
    "#         # Load the pre-trained ViT model\n",
    "#         self.model = AutoModelForImageClassification.from_pretrained(model_name)\n",
    "\n",
    "#         # Modify the classifier head for the new number of classes\n",
    "#         # The exact structure might vary depending on the specific ViT model\n",
    "#         # This is a common pattern for many ViT models\n",
    "#         if hasattr(self.model, 'classifier'):\n",
    "#              num_ftrs = self.model.classifier.in_features\n",
    "#              self.model.classifier = nn.Linear(num_ftrs, num_classes)\n",
    "#         elif hasattr(self.model, 'head'):\n",
    "#              num_ftrs = self.model.head.in_features\n",
    "#              self.model.head = nn.Linear(num_ftrs, num_classes)\n",
    "#         else:\n",
    "#              logger.warning(f\"Could not find a standard classifier head in {model_name}. Manual adaptation may be needed.\")\n",
    "\n",
    "\n",
    "#     @classmethod\n",
    "#     def load_from_checkpoint(cls, model_path, device=DEVICE):\n",
    "#         instance = cls(model_name=\"google/vit-base-patch16-224\") # Specify the model name here\n",
    "#         try:\n",
    "#             state_dict = torch.load(model_path, map_location=device)\n",
    "#             instance.model.load_state_dict(state_dict)\n",
    "#             instance.model.to(device)\n",
    "#             instance.model.eval()\n",
    "#             return instance\n",
    "#         except Exception as e:\n",
    "#             logger.error(f\"Failed to load ViT from {model_path}: {e}\")\n",
    "#             return None\n",
    "\n",
    "# # Add a ModelWrapper for MultimodalEmbeddingModel\n",
    "# from google.cloud import aiplatform\n",
    "# from vertexai.vision_models import Image as AiPlatformImage, MultiModalEmbeddingModel\n",
    "\n",
    "# class MultimodalEmbeddingWrapper(ModelWrapper):\n",
    "#     def __init__(self, project_id, location, num_classes=len(QUICKDRAW_CATEGORIES), categories=QUICKDRAW_CATEGORIES):\n",
    "#         super().__init__(None, num_classes)\n",
    "#         self.project_id = project_id\n",
    "#         self.location = location\n",
    "#         self.categories = categories\n",
    "\n",
    "#         # Initialize Vertex AI and load the model\n",
    "#         try:\n",
    "#             aiplatform.init(project=self.project_id, location=self.location)\n",
    "#             self.model = MultiModalEmbeddingModel.from_pretrained(\"multimodalembedding@001\")\n",
    "#             logger.info(\"Successfully initialized Vertex AI and loaded MultimodalEmbeddingModel.\")\n",
    "#         except Exception as e:\n",
    "#             logger.error(f\"Failed to initialize Vertex AI or load MultimodalEmbeddingModel: {e}\")\n",
    "#             self.model = None # Ensure model is None if loading fails\n",
    "\n",
    "#         # Pre-compute text embeddings for categories\n",
    "#         self.category_text_embeddings = self._get_category_text_embeddings()\n",
    "\n",
    "#         # Add a linear layer to classify image embeddings based on text embeddings\n",
    "#         # The MultimodalEmbeddingModel outputs a fixed dimension (1408)\n",
    "#         if self.category_text_embeddings is not None and self.model is not None:\n",
    "#              # Compute the average text embedding to get the dimension\n",
    "#              avg_embedding = np.mean(self.category_text_embeddings, axis=0)\n",
    "#              input_dim = len(avg_embedding) # Should be 1408\n",
    "#              # Use cosine similarity for classification\n",
    "#              # The text embeddings act as the \"weights\" for classification\n",
    "#              # We don't need a separate linear layer for this approach\n",
    "#              self.classifier = None # No traditional classifier needed for this method\n",
    "#              logger.info(f\"Initialized MultimodalEmbeddingWrapper for similarity-based classification.\")\n",
    "#         else:\n",
    "#              self.classifier = None\n",
    "#              logger.warning(\"Could not initialize MultimodalEmbeddingWrapper for similarity-based classification.\")\n",
    "\n",
    "\n",
    "#     def _get_category_text_embeddings(self):\n",
    "#         \"\"\"Generates text embeddings for each category name.\"\"\"\n",
    "#         if not self.model:\n",
    "#             logger.warning(\"MultimodalEmbeddingModel not loaded, cannot get text embeddings.\")\n",
    "#             return None\n",
    "\n",
    "#         text_embeddings = []\n",
    "#         logger.info(\"Generating text embeddings for categories...\")\n",
    "#         try:\n",
    "#             for category in tqdm(self.categories, desc=\"Generating text embeddings\"):\n",
    "#                  # The context_text is optional but can improve quality for ambiguous terms\n",
    "#                  embeddings = self.model.get_embeddings(\n",
    "#                      contextual_text=category,\n",
    "#                      dimension=1408 # A required, fixed dimension size for this model\n",
    "#                  )\n",
    "#                  if embeddings and embeddings.text_embedding:\n",
    "#                      text_embeddings.append(embeddings.text_embedding)\n",
    "#                  else:\n",
    "#                      logger.warning(f\"Could not get text embedding for category: {category}\")\n",
    "\n",
    "#             if not text_embeddings:\n",
    "#                  logger.warning(\"No text embeddings were generated.\")\n",
    "#                  return None\n",
    "\n",
    "#             return np.array(text_embeddings) # Convert to numpy array\n",
    "#         except Exception as e:\n",
    "#              logger.error(f\"Error generating text embeddings: {e}\")\n",
    "#              return None\n",
    "\n",
    "#     def calculate_cosine_similarity(self, vec1, vec2):\n",
    "#         \"\"\"Calculates the cosine similarity between two vectors.\"\"\"\n",
    "#         # Ensure inputs are numpy arrays for dot product and norm\n",
    "#         vec1 = np.asarray(vec1)\n",
    "#         vec2 = np.asarray(vec2)\n",
    "#         # Add a small epsilon to the denominator to avoid division by zero\n",
    "#         return np.dot(vec1, vec2) / (np.linalg.norm(vec1) * np.linalg.norm(vec2) + 1e-8)\n",
    "\n",
    "#     def forward(self, images):\n",
    "#         \"\"\"\n",
    "#         Generates image embeddings and classifies them using cosine similarity\n",
    "#         with pre-computed text embeddings.\n",
    "#         \"\"\"\n",
    "#         if self.model is None or self.category_text_embeddings is None:\n",
    "#             logger.error(\"MultimodalEmbeddingModel or text embeddings not initialized.\")\n",
    "#             # Return dummy output\n",
    "#             return torch.zeros(images.size(0), self.num_classes, device=images.device)\n",
    "\n",
    "#         # The MultimodalEmbeddingModel expects PIL Images or bytes, not tensors\n",
    "#         # Convert torch tensor batch back to list of PIL Images\n",
    "#         # Assuming input images are normalized, denormalize before converting to PIL\n",
    "#         # This denormalization might need adjustment based on the exact input transform\n",
    "#         # A simple approach is to convert back to a format PIL can read (e.g., uint8 numpy array)\n",
    "#         pil_images = []\n",
    "#         for img_tensor in images:\n",
    "#              # Permute dimensions from C, H, W to H, W, C for numpy conversion\n",
    "#              # Convert to numpy array and scale to 0-255\n",
    "#              img_np = (img_tensor.permute(1, 2, 0).cpu().numpy() * 255).astype(np.uint8)\n",
    "#              # Convert numpy array to PIL Image\n",
    "#              pil_images.append(Image.fromarray(img_np))\n",
    "\n",
    "\n",
    "#         # Get image embeddings from the MultimodalEmbeddingModel\n",
    "#         try:\n",
    "#             # Process images in smaller batches if needed to avoid API limits or memory issues\n",
    "#             batch_size = 16 # Example batch size for API calls\n",
    "#             batch_logits = [] # Store logits for the batch\n",
    "\n",
    "#             for i in tqdm(range(0, len(pil_images), batch_size), desc=\"Generating image embeddings and classifying\", leave=False):\n",
    "#                 batch_images = pil_images[i:i+batch_size]\n",
    "#                 # Convert PIL images to AiPlatformImage format\n",
    "#                 ai_platform_images = [AiPlatformImage.from_pil(img) for img in batch_images]\n",
    "\n",
    "#                 embeddings_response = self.model.get_embeddings(\n",
    "#                     image=ai_platform_images,\n",
    "#                     dimension=1408\n",
    "#                 )\n",
    "\n",
    "#                 if not embeddings_response or not embeddings_response.image_embeddings:\n",
    "#                     logger.warning(f\"Could not get image embeddings for batch starting at index {i}. Skipping batch.\")\n",
    "#                     # Append dummy logits for this batch to maintain batch size consistency\n",
    "#                     batch_logits.append(torch.zeros(len(batch_images), self.num_classes))\n",
    "#                     continue\n",
    "\n",
    "\n",
    "#                 batch_image_embeddings = embeddings_response.image_embeddings\n",
    "\n",
    "#                 # Calculate similarity scores for each image in the batch\n",
    "#                 batch_similarity_scores = []\n",
    "#                 for img_embedding in batch_image_embeddings:\n",
    "#                     # Calculate cosine similarity with all text embeddings\n",
    "#                     similarity_scores = [self.calculate_cosine_similarity(img_embedding, text_emb) for text_emb in self.category_text_embeddings]\n",
    "#                     batch_similarity_scores.append(similarity_scores)\n",
    "\n",
    "#                 # Convert similarity scores to logits (higher similarity = higher logit)\n",
    "#                 # A simple approach is to use the raw similarity scores as logits,\n",
    "#                 # or scale/transform them if needed. Using raw scores for now.\n",
    "#                 batch_logits.append(torch.tensor(np.array(batch_similarity_scores), dtype=torch.float32))\n",
    "\n",
    "#             # Concatenate logits from all batches\n",
    "#             logits = torch.cat(batch_logits, dim=0)\n",
    "\n",
    "#             # Move logits to the desired device\n",
    "#             logits = logits.to(images.device)\n",
    "\n",
    "#             return logits\n",
    "\n",
    "#         except Exception as e:\n",
    "#             logger.error(f\"Error generating image embeddings or classifying: {e}\")\n",
    "#             # Return dummy output\n",
    "#             return torch.zeros(images.size(0), self.num_classes, device=images.device)\n",
    "\n",
    "#     # MultimodalEmbeddingModel does not have state_dict in the traditional PyTorch sense\n",
    "#     # Override state_dict and load_state_dict to handle the classifier (which is now None)\n",
    "#     # and text embeddings if we were to save/load them.\n",
    "#     def state_dict(self):\n",
    "#         # We can save the text embeddings if needed, but for this approach, they are\n",
    "#         # re-generated during initialization based on category names.\n",
    "#         # Saving the state_dict isn't really applicable for this type of model.\n",
    "#         # Returning an empty dict or raising an error might be appropriate.\n",
    "#         # For compatibility with the existing framework, return a minimal dict.\n",
    "#         return {}\n",
    "\n",
    "#     def load_state_dict(self, state_dict):\n",
    "#         # No state to load for this model using this method.\n",
    "#         logger.warning(\"load_state_dict is not applicable for MultimodalEmbeddingWrapper in similarity mode.\")\n",
    "\n",
    "\n",
    "#     @classmethod\n",
    "#     def load_from_checkpoint(cls, model_path, project_id, location, device=DEVICE):\n",
    "#         \"\"\"Loading from checkpoint is not applicable for this wrapper.\"\"\"\n",
    "#         logger.warning(\"load_from_checkpoint is not applicable for MultimodalEmbeddingWrapper in similarity mode.\")\n",
    "#         # Return a new instance initialized from scratch\n",
    "#         return cls(project_id=project_id, location=location)\n",
    "\n",
    "# # Add a wrapper for the Gemini LLM using the google.generativeai library\n",
    "# import google.generativeai as genai\n",
    "# from google.colab import userdata\n",
    "# from PIL import Image # Ensure PIL is imported\n",
    "\n",
    "# class GeminiLLMWrapper(ModelWrapper):\n",
    "#     def __init__(self, num_classes=len(QUICKDRAW_CATEGORIES), categories=QUICKDRAW_CATEGORIES):\n",
    "#         super().__init__(None, num_classes)\n",
    "#         self.categories = categories\n",
    "#         # Use the specific live preview model name\n",
    "#         self.model_name = \"gemini-2.5-flash\"\n",
    "\n",
    "#         # Configure the generativeai library with the API key\n",
    "#         try:\n",
    "#             # Attempt to get API key from Colab secrets first\n",
    "#             GEMINI_API_KEY = userdata.get('GEMINI_API_KEY')\n",
    "#             if not GEMINI_API_KEY:\n",
    "#                  # Fallback or raise error if key is not found\n",
    "#                  raise ValueError(\"GEMINI_API_KEY not found in Colab secrets.\")\n",
    "\n",
    "#             genai.configure(api_key=GEMINI_API_KEY)\n",
    "#             logger.info(\"Successfully configured google.generativeai with API key.\")\n",
    "#         except Exception as e:\n",
    "#             logger.error(f\"Failed to configure google.generativeai: {e}. Please ensure GOOGLE_API_KEY is set in Colab secrets.\")\n",
    "#             self.model = None\n",
    "#             return # Exit init if API key is not configured\n",
    "\n",
    "#         # Load the Gemini model\n",
    "#         try:\n",
    "#              # Use a valid model name for the API\n",
    "#              # The 'live-preview' model might require specific setup or not be available via standard API\n",
    "#              # For general use with images, 'gemini-pro-vision' (or 'gemini-1.0-pro-vision-latest') is common\n",
    "#              # If you specifically need the capabilities of 'gemini-2.5-flash-live-preview',\n",
    "#              # you might need to check the API documentation for its availability and naming.\n",
    "#              # As a placeholder using a known model:\n",
    "#              self.model = genai.GenerativeModel(self.model_name) # Using a generally available model\n",
    "#              logger.info(f\"Successfully loaded Gemini model: {self.model_name}.\")\n",
    "#              # Update the model_name attribute to reflect the loaded model name\n",
    "\n",
    "#         except Exception as e:\n",
    "#              logger.error(f\"Failed to load Gemini model: {e}\")\n",
    "#              self.model = None # Ensure model is None if loading fails\n",
    "\n",
    "#         # For this wrapper, we will call the API directly in the forward pass\n",
    "#         # and interpret the response. We don't need a separate trained classifier.\n",
    "#         self.classifier = None # No traditional classifier needed\n",
    "\n",
    "#         # Pre-compute a mapping from category name to index\n",
    "#         self.category_to_idx = {category: i for i, category in enumerate(self.categories)}\n",
    "\n",
    "\n",
    "#     def forward(self, images):\n",
    "#         \"\"\"\n",
    "#         Sends images to the Gemini model via API call and processes the response.\n",
    "#         Returns logits based on the model's response.\n",
    "#         \"\"\"\n",
    "#         if self.model is None:\n",
    "#             logger.error(\"Gemini model not initialized in Gemini wrapper.\")\n",
    "#             # Return dummy output\n",
    "#             return torch.zeros(images.size(0), self.num_classes, device=images.device)\n",
    "\n",
    "#         # The Gemini model expects PIL Images or bytes, not tensors\n",
    "#         # Convert torch tensor batch back to list of PIL Images\n",
    "#         pil_images = []\n",
    "#         for img_tensor in images:\n",
    "#             # Denormalize and convert tensor to PIL\n",
    "#             try:\n",
    "#                 # Assuming input images are normalized with mean/std. Reverse this for visualization/API input.\n",
    "#                 # This is a basic reversal; adjust if your normalization is different.\n",
    "#                 # Alternatively, if the API accepts normalized inputs, skip this.\n",
    "#                 # Assuming standard ImageNet normalization for now.\n",
    "#                 # MEAN = [0.485, 0.456, 0.406]\n",
    "#                 # STD = [0.229, 0.224, 0.225]\n",
    "#                 # img_tensor = img_tensor.clone().detach().cpu()\n",
    "#                 # for t, m, s in zip(img_tensor, MEAN, STD):\n",
    "#                 #     t.mul_(s).add_(m)\n",
    "#                 # img_np = (img_tensor.permute(1, 2, 0).numpy() * 255).astype(np.uint8)\n",
    "\n",
    "#                 # Simple conversion to numpy array and then PIL (assuming float 0-1 range after transformations)\n",
    "#                 img_np = (img_tensor.permute(1, 2, 0).cpu().numpy() * 255).astype(np.uint8)\n",
    "#                 pil_images.append(Image.fromarray(img_np))\n",
    "#             except Exception as e:\n",
    "#                 logger.warning(f\"Error converting tensor to PIL image: {e}. Skipping image.\")\n",
    "#                 # Append a placeholder if conversion fails\n",
    "#                 pil_images.append(Image.new(\"RGB\", (224, 224), color = 'white'))\n",
    "\n",
    "\n",
    "#         # Define the system instruction based on the provided JS code\n",
    "#         # The system instruction content in the JS code is designed for the live session API,\n",
    "#         # which has different parameters. For the standard API (like generate_content),\n",
    "#         # the system instruction is typically passed as a direct parameter or within a content part.\n",
    "#         # Let's adapt it for the standard API.\n",
    "#         prompt_text = f\"\"\"Identify the object in this sketch from the following list:\n",
    "# {', '.join(self.categories)}\n",
    "# Return the exact name of the identified object from the list. If the object is not in the list, return 'Unknown'.\"\"\"\n",
    "\n",
    "\n",
    "#         # Make API calls and process responses\n",
    "#         batch_logits = [] # Store logits for the batch\n",
    "#         for pil_image in tqdm(pil_images, desc=\"Getting predictions from Gemini\", leave=False):\n",
    "#             try:\n",
    "#                 # Prepare the content for the API call\n",
    "#                 # The content can be a list of text and image parts\n",
    "#                 content = [\n",
    "#                     prompt_text,\n",
    "#                     pil_image # Pass the PIL image directly\n",
    "#                 ]\n",
    "\n",
    "#                 # Make the API call\n",
    "#                 response = self.model.generate_content(content)\n",
    "\n",
    "#                 # Process the response to extract the predicted category name\n",
    "#                 # The response structure might vary, check the documentation\n",
    "#                 # Assuming the response text contains the predicted category name\n",
    "#                 predicted_category = response.text.strip()\n",
    "#                 logger.debug(f\"Gemini predicted: {predicted_category}\")\n",
    "\n",
    "\n",
    "#                 # Map the predicted category name to the corresponding index\n",
    "#                 predicted_index = self.category_to_idx.get(predicted_category, -1)\n",
    "\n",
    "#                 # Create logits (one-hot encoding of the predicted class, or zeros if 'Unknown')\n",
    "#                 logits = torch.zeros(1, self.num_classes, device=images.device) # Logits for a single image\n",
    "#                 if predicted_index != -1:\n",
    "#                     logits[0, predicted_index] = 1.0 # One-hot encoding for the predicted class\n",
    "#                 # If 'Unknown' is predicted or mapping fails, logits remain all zeros,\n",
    "#                 # which will result in a random or low probability prediction in cross-entropy loss.\n",
    "\n",
    "#                 batch_logits.append(logits)\n",
    "\n",
    "#             except Exception as e:\n",
    "#                 logger.error(f\"Error during Gemini API call for an image: {e}\")\n",
    "#                 # Append dummy logits for this image if API call fails\n",
    "#                 batch_logits.append(torch.zeros(1, self.num_classes, device=images.device))\n",
    "\n",
    "#         # Concatenate logits from all images in the batch\n",
    "#         if batch_logits:\n",
    "#             logits_tensor = torch.cat(batch_logits, dim=0)\n",
    "#         else:\n",
    "#             # Return dummy logits if no images were processed successfully\n",
    "#             logits_tensor = torch.zeros(images.size(0), self.num_classes, device=images.device)\n",
    "\n",
    "\n",
    "#         return logits_tensor\n",
    "\n",
    "#     # state_dict and load_state_dict methods are not applicable for this wrapper\n",
    "#     def state_dict(self):\n",
    "#         return {}\n",
    "\n",
    "#     def load_state_dict(self, state_dict):\n",
    "#         logger.warning(\"load_state_dict is not applicable for GeminiLLMWrapper.\")\n",
    "\n",
    "#     @classmethod\n",
    "#     def load_from_checkpoint(cls, model_path, project_id, location, device=DEVICE):\n",
    "#         logger.warning(\"load_from_checkpoint is not applicable for GeminiLLMWrapper.\")\n",
    "#         # Return a new instance initialized from scratch\n",
    "#         # Note: project_id and location are not used by google.generativeai\n",
    "#         return cls()"
   ]
  },
  {
   "cell_type": "markdown",
   "metadata": {
    "id": "h33sJybb3em7"
   },
   "source": [
    "### Utility: Checkpointing during Training"
   ]
  },
  {
   "cell_type": "code",
   "execution_count": 11,
   "metadata": {
    "execution": {
     "iopub.execute_input": "2025-09-11T03:53:52.576628Z",
     "iopub.status.busy": "2025-09-11T03:53:52.573358Z",
     "iopub.status.idle": "2025-09-11T03:53:52.589049Z",
     "shell.execute_reply": "2025-09-11T03:53:52.588356Z",
     "shell.execute_reply.started": "2025-09-11T03:53:52.576591Z"
    },
    "id": "gmQ_MWu53em7"
   },
   "outputs": [],
   "source": [
    "# --- Checkpoint Utility Functions ---\n",
    "def save_checkpoint(model, optimizer, scheduler, epoch, best_val_accuracy, early_stopping_counter, model_name, is_best=False):\n",
    "    \"\"\"\n",
    "    Save a checkpoint of the model, optimizer, scheduler and training state with git info.\n",
    "    \"\"\"\n",
    "    # Create checkpoint directory if it doesn't exist\n",
    "    checkpoint_dir = os.path.join(MODEL_SAVE_PATH, \"checkpoints\", model_name)\n",
    "    os.makedirs(checkpoint_dir, exist_ok=True)\n",
    "\n",
    "    # Get git info\n",
    "    git_info = get_git_info()\n",
    "\n",
    "    # Prepare checkpoint data\n",
    "    checkpoint = {\n",
    "        'epoch': epoch,\n",
    "        'model_state_dict': model.state_dict(),\n",
    "        'optimizer_state_dict': optimizer.state_dict(),\n",
    "        'scheduler_state_dict': scheduler.state_dict() if scheduler is not None else None,\n",
    "        'best_val_accuracy': best_val_accuracy,\n",
    "        'early_stopping_counter': early_stopping_counter,\n",
    "        'git_info': git_info\n",
    "    }\n",
    "\n",
    "\n",
    "    # Save latest epoch checkpoint (always overwriting previous)\n",
    "    latest_path = os.path.join(checkpoint_dir, f'checkpoint_latest{LATEST_PATH}.pth')\n",
    "    torch.save(checkpoint, latest_path)\n",
    "    logger.info(f\"Latest checkpoint saved at {latest_path}\")\n",
    "\n",
    "    # If this is the best model so far, save it separately\n",
    "    if is_best:\n",
    "        best_path = os.path.join(MODEL_SAVE_PATH, f\"{model_name}_best{LATEST_PATH}.pth\")\n",
    "        torch.save(model.state_dict(), best_path)\n",
    "        logger.info(f\"Best model saved at {best_path}\")\n",
    "\n",
    "        # Also save a complete checkpoint for the best model\n",
    "        best_checkpoint_path = os.path.join(checkpoint_dir, f'checkpoint_best{LATEST_PATH}.pth')\n",
    "        torch.save(checkpoint, best_checkpoint_path)\n",
    "\n",
    "def load_checkpoint(model, optimizer, scheduler, model_name):\n",
    "    \"\"\"\n",
    "    Load the latest checkpoint if it exists.\n",
    "    \"\"\"\n",
    "    checkpoint_dir = os.path.join(MODEL_SAVE_PATH, \"checkpoints\", model_name)\n",
    "\n",
    "\n",
    "    latest_path = os.path.join(checkpoint_dir, f'checkpoint_latest{LATEST_PATH}.pth')\n",
    "\n",
    "    # If the checkpoint file doesn't exist, return initial values\n",
    "    if not os.path.exists(latest_path):\n",
    "        logger.info(f\"No checkpoint found at {latest_path}, starting from scratch.\")\n",
    "        return 0, 0.0, 0\n",
    "\n",
    "    # Load the checkpoint\n",
    "    logger.info(f\"Loading checkpoint from {latest_path}\")\n",
    "    try:\n",
    "        checkpoint = torch.load(latest_path, map_location=DEVICE)\n",
    "\n",
    "        # Load model weights\n",
    "        model.load_state_dict(checkpoint['model_state_dict'])\n",
    "\n",
    "        # Load optimizer state\n",
    "        optimizer.load_state_dict(checkpoint['optimizer_state_dict'])\n",
    "\n",
    "        # Load scheduler state if it exists\n",
    "        if scheduler is not None and checkpoint['scheduler_state_dict'] is not None:\n",
    "            scheduler.load_state_dict(checkpoint['scheduler_state_dict'])\n",
    "\n",
    "        # Extract and return training state\n",
    "        epoch = checkpoint['epoch']\n",
    "        best_val_accuracy = checkpoint['best_val_accuracy']\n",
    "        early_stopping_counter = checkpoint['early_stopping_counter']\n",
    "\n",
    "        logger.info(f\"Resuming from epoch {epoch+1} with best validation accuracy: {best_val_accuracy:.2f}%\")\n",
    "        return epoch + 1, best_val_accuracy, early_stopping_counter\n",
    "\n",
    "    except Exception as e:\n",
    "        logger.error(f\"Error loading checkpoint: {e}\")\n",
    "        return 0, 0.0, 0\n",
    "\n",
    "# Template code for resuming specific model training\n",
    "def resume_specific_model_training(model_name):\n",
    "    # Set up model and optimizer as in the benchmark function\n",
    "    model_config = MODELS_TO_TEST[model_name]\n",
    "    model = model_config[\"model_fn\"](weights=model_config[\"weights\"])\n",
    "\n",
    "    # Set up the classifier based on model type\n",
    "    # ... (same code as in run_finetuning_benchmark)\n",
    "\n",
    "    # Initialize optimizer and scheduler\n",
    "    optimizer = optim.Adam(model.parameters(), lr=FINETUNE_LEARNING_RATE, weight_decay=FINETUNE_WEIGHT_DECAY)\n",
    "    scheduler = optim.lr_scheduler.ReduceLROnPlateau(optimizer, mode='max', factor=0.5, patience=2)\n",
    "\n",
    "    # Load checkpoint\n",
    "    start_epoch, best_val_accuracy, early_stopping_counter = load_checkpoint(\n",
    "        model, optimizer, scheduler, model_name\n",
    "    )\n",
    "\n",
    "    if start_epoch == 0:\n",
    "        logger.info(f\"No checkpoint found for {model_name}. Starting from scratch.\")\n",
    "    else:\n",
    "        logger.info(f\"Resuming training for {model_name} from epoch {start_epoch}\")\n",
    "\n",
    "    # Continue with training loop as in the benchmark function\n",
    "    # ..."
   ]
  },
  {
   "cell_type": "code",
   "execution_count": 12,
   "metadata": {
    "execution": {
     "iopub.execute_input": "2025-09-11T03:53:52.590224Z",
     "iopub.status.busy": "2025-09-11T03:53:52.589916Z",
     "iopub.status.idle": "2025-09-11T03:53:52.597817Z",
     "shell.execute_reply": "2025-09-11T03:53:52.597075Z",
     "shell.execute_reply.started": "2025-09-11T03:53:52.590198Z"
    },
    "id": "WFMaIP1F3em8"
   },
   "outputs": [],
   "source": [
    "def save_benchmark_results(results, benchmark_type='finetuning', base_dir='./results'):\n",
    "    \"\"\"\n",
    "    Saves benchmark results to JSON and CSV files with git commit info and parameters.\n",
    "    \"\"\"\n",
    "    # Create results directory if it doesn't exist\n",
    "    os.makedirs(base_dir, exist_ok=True)\n",
    "\n",
    "\n",
    "\n",
    "    base_filename = f\"{benchmark_type}{LATEST_PATH}\"\n",
    "\n",
    "    # Prepare paths\n",
    "    json_path = os.path.join(base_dir, f\"{base_filename}.json\")\n",
    "    csv_path = os.path.join(base_dir, f\"{base_filename}.csv\")\n",
    "\n",
    "    # Add metadata\n",
    "    metadata = {\n",
    "        \"git_info\": git_info,\n",
    "        \"device\": str(DEVICE),\n",
    "        \"num_categories\": len(QUICKDRAW_CATEGORIES),\n",
    "        \"samples_per_category\": NUM_TRAIN_SAMPLES_PER_CATEGORY,\n",
    "        \"test_samples_per_category\": NUM_TEST_SAMPLES_PER_CATEGORY,\n",
    "        \"finetune_epochs\": NUM_FINETUNE_EPOCHS\n",
    "    }\n",
    "\n",
    "    # Save JSON with metadata\n",
    "    with open(json_path, 'w') as f:\n",
    "        json_data = {\n",
    "            \"metadata\": metadata,\n",
    "            \"results\": results\n",
    "        }\n",
    "        json.dump(json_data, f, indent=2)\n",
    "\n",
    "    # Save CSV\n",
    "    if results and len(results) > 0:\n",
    "        fieldnames = set()\n",
    "        for result in results:\n",
    "            fieldnames.update(result.keys())\n",
    "\n",
    "        with open(csv_path, 'w', newline='') as f:\n",
    "            writer = csv.DictWriter(f, fieldnames=sorted(fieldnames))\n",
    "            writer.writeheader()\n",
    "            writer.writerows(results)\n",
    "\n",
    "    logger.info(f\"Benchmark results saved to {json_path} and {csv_path}\")\n",
    "    return json_path, csv_path"
   ]
  },
  {
   "cell_type": "markdown",
   "metadata": {
    "id": "__Oyr8s80amW"
   },
   "source": [
    "# Benchmarks"
   ]
  },
  {
   "cell_type": "markdown",
   "metadata": {
    "id": "aPcL_IaL0j5V"
   },
   "source": [
    "### Benchmark models\n",
    "\n",
    "---\n",
    "\n"
   ]
  },
  {
   "cell_type": "code",
   "execution_count": 13,
   "metadata": {
    "execution": {
     "iopub.execute_input": "2025-09-11T03:53:52.604937Z",
     "iopub.status.busy": "2025-09-11T03:53:52.604478Z",
     "iopub.status.idle": "2025-09-11T03:53:52.612994Z",
     "shell.execute_reply": "2025-09-11T03:53:52.612092Z",
     "shell.execute_reply.started": "2025-09-11T03:53:52.604906Z"
    },
    "id": "-PGlUqZs57H8"
   },
   "outputs": [],
   "source": [
    "# import time\n",
    "# import pandas as pd\n",
    "\n",
    "# def benchmark_models_on_test_set(models_to_benchmark, test_loader, device=DEVICE):\n",
    "#     \"\"\"\n",
    "#     Benchmarks a dictionary of models on the test dataset.\n",
    "\n",
    "#     Args:\n",
    "#         models_to_benchmark (dict): A dictionary where keys are model names (str)\n",
    "#                                     and values are loaded PyTorch models (nn.Module).\n",
    "#         test_loader (DataLoader): DataLoader for the test dataset.\n",
    "#         device (torch.device): The device to run inference on.\n",
    "\n",
    "#     Returns:\n",
    "#         list: A list of dictionaries, each containing benchmark results for a model.\n",
    "#     \"\"\"\n",
    "#     benchmark_results = []\n",
    "\n",
    "#     logger.info(f\"\\n--- Starting Benchmarking on Test Set ---\")\n",
    "#     logger.info(f\"Using device: {device}\")\n",
    "\n",
    "#     # Calculate number of images per category and total images in the test set\n",
    "#     num_images_per_category = len(test_loader.dataset) // len(QUICKDRAW_CATEGORIES)\n",
    "#     total_test_images = len(test_loader.dataset)\n",
    "#     logger.info(f\"Benchmarking with {total_test_images} total images ({num_images_per_category} images per category).\")\n",
    "\n",
    "\n",
    "#     for model_name, model in tqdm(models_to_benchmark.items(), desc=\"Benchmarking Models\", unit=\"model\"):\n",
    "#         logger.info(f\"Benchmarking: {model_name}\")\n",
    "\n",
    "#         # Ensure model is on the correct device and in evaluation mode\n",
    "#         model.to(device)\n",
    "#         model.eval()\n",
    "\n",
    "#         test_correct = 0\n",
    "#         test_total = 0\n",
    "#         inference_time = 0\n",
    "\n",
    "#         with torch.no_grad():\n",
    "#             start_inference_time = time.time()\n",
    "#             for images, labels in tqdm(test_loader, desc=f\"  Evaluating {model_name}\", leave=False): # Added tqdm here\n",
    "#                 # MultimodalEmbeddingWrapper expects PIL images, others expect tensors\n",
    "#                 if isinstance(model, MultimodalEmbeddingWrapper) or isinstance(model, GeminiLLMWrapper):\n",
    "#                      # These wrappers handle their own data loading/processing internally\n",
    "#                      # We just need to provide the raw images (as tensors) and labels for comparison\n",
    "#                      # The wrapper's forward method will handle the conversion to PIL and API calls\n",
    "#                      images_for_model = images # Pass the tensor batch\n",
    "#                 else:\n",
    "#                     images_for_model, labels = images.to(DEVICE), labels.to(DEVICE)\n",
    "\n",
    "\n",
    "#                 # Forward pass\n",
    "#                 outputs = model(images_for_model)\n",
    "\n",
    "#                 # Access the logits from the model output\n",
    "#                 if hasattr(outputs, 'logits'):\n",
    "#                     logits = outputs.logits.to(DEVICE) # Move logits to device\n",
    "#                 else:\n",
    "#                     # Assume the output is already logits or the final layer output\n",
    "#                     logits = outputs.to(DEVICE) # Move outputs to device\n",
    "\n",
    "#                 _, predicted = torch.max(logits, 1)\n",
    "#                 test_correct += (predicted == labels.to(DEVICE)).sum().item()\n",
    "#                 test_total += labels.size(0)\n",
    "\n",
    "#             inference_time = time.time() - start_inference_time\n",
    "\n",
    "#         # Calculate accuracy and inference speed\n",
    "#         test_accuracy = 100 * test_correct / test_total if test_total > 0 else 0\n",
    "#         inference_speed = test_total / inference_time if inference_time > 0 else float('inf')\n",
    "\n",
    "#         logger.info(f\"  Test Accuracy: {test_accuracy:.2f}%, Inference Time: {inference_time:.4f}s, Inference Speed: {inference_speed:.2f} img/s\")\n",
    "\n",
    "#         benchmark_results.append({\n",
    "#             'Model Name': model_name,\n",
    "#             'Test Accuracy (%)': f\"{test_accuracy:.2f}\",\n",
    "#             'Inference Time (s)': f\"{inference_time:.4f}\",\n",
    "#             'Inference Speed (img/s)': f\"{inference_speed:.2f}\",\n",
    "#             'Images per Category': num_images_per_category,\n",
    "#             'Total Test Images': total_test_images # Added this field\n",
    "#         })\n",
    "\n",
    "#         # Clear GPU memory after each model evaluation\n",
    "#         clear_gpu_memory()\n",
    "\n",
    "#     logger.info(f\"\\n--- Benchmarking Completed ---\")\n",
    "#     return benchmark_results\n",
    "\n",
    "# # Example usage:\n",
    "# # Assuming you have a dictionary of loaded models and a test_loader from data preparation\n",
    "\n",
    "# # Load the test dataset (if not already loaded)\n",
    "# _, _, test_dataset = get_augmented_quickdraw_data(\n",
    "#     QUICKDRAW_CATEGORIES,\n",
    "#     NUM_TRAIN_SAMPLES_PER_CATEGORY,\n",
    "#     NUM_TEST_SAMPLES_PER_CATEGORY,\n",
    "#     BINARY_DATA_ROOT\n",
    "# )\n",
    "\n",
    "# # Create a test DataLoader\n",
    "# # Calculate adaptive batch size based on dataset size (using test samples)\n",
    "# effective_batch_size_test = get_adaptive_batch_size(\n",
    "#     NUM_TEST_SAMPLES_PER_CATEGORY, len(QUICKDRAW_CATEGORIES))\n",
    "# logger.info(f\"Using adaptive batch size of {effective_batch_size_test} for benchmarking\")\n",
    "\n",
    "# test_loader = DataLoader(test_dataset, batch_size=effective_batch_size_test,\n",
    "#                          shuffle=False, num_workers=4, pin_memory=True, prefetch_factor=3)\n",
    "\n",
    "\n",
    "# # Load models to benchmark\n",
    "# benchmarked_models = {}\n",
    "\n",
    "# # Load MobileNetV3-Small\n",
    "# try:\n",
    "#     mobilenet_wrapper = MobileNetV3Wrapper()\n",
    "#     # MODIFIED: Ensure the filename matches the saving format with LATEST_PATH\n",
    "#     mobilenet_path = \"/content/models/MobileNetV3-Small_best__Checkpoint..._samples8000_epochs20_classes51.pth\"\n",
    "#     mobilenet_wrapper.model.load_state_dict(torch.load(mobilenet_path))\n",
    "#     benchmarked_models[\"MobileNetV3-Small\"] = mobilenet_wrapper.model\n",
    "#     logger.info(f\"Loaded MobileNetV3-Small from {mobilenet_path}\")\n",
    "# except Exception as e:\n",
    "#     logger.warning(f\"Could not load MobileNetV3-Small for benchmarking: {e}\")\n",
    "\n",
    "# # # Load ViT directly\n",
    "# # try:\n",
    "# #     from transformers import AutoTokenizer, AutoModelForImageClassification\n",
    "# #     vit_model = AutoModelForImageClassification.from_pretrained(\"google/vit-base-patch16-224\")\n",
    "# #     # Assuming the ViT model needs a classifier head for the number of QuickDraw classes\n",
    "# #     if hasattr(vit_model, 'classifier'):\n",
    "# #          num_ftrs = vit_model.classifier.in_features\n",
    "# #          vit_model.classifier = nn.Linear(num_ftrs, len(QUICKDRAW_CATEGORIES))\n",
    "# #     elif hasattr(vit_model, 'head'):\n",
    "# #          num_ftrs = vit_model.head.in_features\n",
    "# #          vit_model.head = nn.Linear(num_ftrs, len(QUICKDRAW_CATEGORIES))\n",
    "# #     else:\n",
    "# #          logger.warning(f\"Could not find a standard classifier head in ViT model. Manual adaptation may be needed.\")\n",
    "\n",
    "# #     # Try loading a fine-tuned checkpoint if it exists, otherwise use the pre-trained model with modified head\n",
    "# #     try:\n",
    "# #         vit_path = f\"{MODEL_SAVE_PATH}/ViT_best{LATEST_PATH}.pth\"\n",
    "# #         vit_model.load_state_dict(torch.load(vit_path))\n",
    "# #         logger.info(f\"Loaded fine-tuned ViT from {vit_path}\")\n",
    "# #     except Exception as e:\n",
    "# #         logger.warning(f\"Could not load fine-tuned ViT from {vit_path}: {e}. Using pre-trained ViT with modified head.\")\n",
    "\n",
    "# #     benchmarked_models[\"ViT\"] = vit_model\n",
    "# #     logger.info(\"Loaded ViT model for benchmarking.\")\n",
    "# # except Exception as e:\n",
    "# #     logger.warning(f\"Could not load ViT for benchmarking: {e}\")\n",
    "\n",
    "\n",
    "# # # Load ShuffleNetV2_x0_5\n",
    "# # try:\n",
    "# #     shufflenet_wrapper = ShuffleNetV2Wrapper()\n",
    "# #     shufflenet_path = f\"{MODEL_SAVE_PATH}/ShuffleNetV2_x0_5_best{LATEST_PATH}.pth\"\n",
    "# #     shufflenet_wrapper.model.load_state_dict(torch.load(shufflenet_path))\n",
    "# #     benchmarked_models[\"ShuffleNetV2_x0_5\"] = shufflenet_wrapper.model\n",
    "# #     logger.info(f\"Loaded ShuffleNetV2_x0_5 from {shufflenet_path}\")\n",
    "# # except Exception as e:\n",
    "# #     logger.warning(f\"Could not load ShuffleNetV2_x0_5 for benchmarking: {e}\")\n",
    "\n",
    "# # # Load SqueezeNet1_1\n",
    "# # try:\n",
    "# #     squeezenet_wrapper = SqueezeNetWrapper()\n",
    "# #     squeezenet_path = f\"{MODEL_SAVE_PATH}/SqueezeNet1_1_best{LATEST_PATH}.pth\"\n",
    "# #     squeezenet_wrapper.model.load_state_dict(torch.load(squeezenet_path))\n",
    "# #     benchmarked_models[\"SqueezeNet1_1\"] = squeezenet_wrapper.model\n",
    "# #     logger.info(f\"Loaded SqueezeNet1_1 from {squeezenet_path}\")\n",
    "# # except Exception as e:\n",
    "# #     logger.warning(f\"Could not load SqueezeNet1_1 for benchmarking: {e}\")\n",
    "\n",
    "# # # Load MultimodalEmbeddingModel\n",
    "# # try:\n",
    "# #     # Make sure you have authenticated using `google.colab.auth.authenticate_user()`\n",
    "# #     if not PROJECT_ID and not LOCATION:\n",
    "# #          logger.warning(\"PROJECT_ID or LOCATION not defined. Cannot load MultimodalEmbeddingModel.\")\n",
    "# #     else:\n",
    "# #          multimodal_wrapper = MultimodalEmbeddingWrapper(project_id=PROJECT_ID, location=LOCATION, categories=QUICKDRAW_CATEGORIES)\n",
    "# #          # The MultimodalEmbeddingWrapper's classifier needs to be trained or loaded\n",
    "# #          # For benchmarking, we'll assume a classifier has been trained and saved.\n",
    "# #          # Attempt to load a saved classifier state dict\n",
    "# #          try:\n",
    "# #              multimodal_path = f\"{MODEL_SAVE_PATH}/MultimodalEmbeddingWrapper_classifier_best{LATEST_PATH}.pth\"\n",
    "# #              multimodal_wrapper.load_state_dict(torch.load(multimodal_path))\n",
    "# #              logger.info(f\"Loaded MultimodalEmbeddingWrapper classifier from {multimodal_path}\")\n",
    "# #          except Exception as e:\n",
    "# #              logger.warning(f\"Could not load MultimodalEmbeddingWrapper classifier from {multimodal_path}: {e}. Using untrained classifier.\")\n",
    "\n",
    "# #          benchmarked_models[\"MultimodalEmbedding\"] = multimodal_wrapper\n",
    "# #          logger.info(\"Loaded MultimodalEmbedding model for benchmarking.\")\n",
    "\n",
    "# # except Exception as e:\n",
    "# #     logger.warning(f\"Could not load MultimodalEmbeddingModel for benchmarking: {e}\")\n",
    "\n",
    "# # Load Gemini LLM\n",
    "# try:\n",
    "#     # Note: PROJECT_ID and LOCATION are not used by google.generativeai\n",
    "#     gemini_wrapper = GeminiLLMWrapper(num_classes=len(QUICKDRAW_CATEGORIES), categories=QUICKDRAW_CATEGORIES)\n",
    "#     # The Gemini wrapper calls the API directly in forward, no separate state_dict to load\n",
    "#     benchmarked_models[\"GeminiLLM\"] = gemini_wrapper\n",
    "#     logger.info(\"Loaded Gemini LLM model for benchmarking.\")\n",
    "# except Exception as e:\n",
    "#     logger.warning(f\"Could not load Gemini LLM for benchmarking: {e}\")\n",
    "\n",
    "\n",
    "# # Check if any models were loaded\n",
    "# if not benchmarked_models:\n",
    "#     logger.error(\"No models were loaded for benchmarking. Please run the fine-tuning benchmark first.\")\n",
    "# else:\n",
    "#     # Run the benchmarking\n",
    "#     benchmark_results = benchmark_models_on_test_set(benchmarked_models, test_loader)\n",
    "\n",
    "#     # Display results in a table using pandas\n",
    "#     results_df = pd.DataFrame(benchmark_results)\n",
    "#     display(results_df)\n",
    "\n",
    "#     # Save the benchmark results\n",
    "#     save_benchmark_results(benchmark_results, benchmark_type='inference_benchmark')"
   ]
  },
  {
   "cell_type": "markdown",
   "metadata": {
    "id": "1gDmkflV5zsQ"
   },
   "source": [
    "### Finetune and Benchmark"
   ]
  },
  {
   "cell_type": "code",
   "execution_count": 14,
   "metadata": {
    "execution": {
     "iopub.execute_input": "2025-09-11T03:53:52.616264Z",
     "iopub.status.busy": "2025-09-11T03:53:52.615990Z",
     "iopub.status.idle": "2025-09-11T03:53:52.658346Z",
     "shell.execute_reply": "2025-09-11T03:53:52.657521Z",
     "shell.execute_reply.started": "2025-09-11T03:53:52.616237Z"
    },
    "id": "ceoqPoqsANdi"
   },
   "outputs": [],
   "source": [
    "# --- Enhanced Fine-tuning Benchmarking Loop (Part 1) ---\n",
    "import copy\n",
    "import random\n",
    "import torch.optim as optim\n",
    "import torch.nn as nn\n",
    "\n",
    "\n",
    "def run_finetuning_benchmark():\n",
    "    finetuning_results = []\n",
    "\n",
    "    # Get data with augmentation\n",
    "    train_dataset, val_dataset, test_dataset = get_augmented_quickdraw_data(\n",
    "        QUICKDRAW_CATEGORIES,\n",
    "        NUM_TRAIN_SAMPLES_PER_CATEGORY,\n",
    "        NUM_TEST_SAMPLES_PER_CATEGORY,\n",
    "        BINARY_DATA_ROOT\n",
    "    )\n",
    "\n",
    "    # In run_finetuning_benchmark function:\n",
    "    # Calculate adaptive batch size based on dataset size\n",
    "    effective_batch_size = get_adaptive_batch_size(\n",
    "        NUM_TRAIN_SAMPLES_PER_CATEGORY, len(QUICKDRAW_CATEGORIES))\n",
    "    logger.info(\n",
    "        f\"Using adaptive batch size of {effective_batch_size} for feature extraction\")\n",
    "\n",
    "    # Create data loaders\n",
    "    train_loader = DataLoader(train_dataset, batch_size=effective_batch_size,\n",
    "                              shuffle=True, num_workers=4, pin_memory=True, prefetch_factor=3)\n",
    "    val_loader = DataLoader(val_dataset, batch_size=effective_batch_size,\n",
    "                            shuffle=False, num_workers=4, pin_memory=True, prefetch_factor=3)\n",
    "    test_loader = DataLoader(test_dataset, batch_size=effective_batch_size,\n",
    "                             shuffle=False, num_workers=4, pin_memory=True, prefetch_factor=3)\n",
    "\n",
    "    logger.info(f\"\\n--- Starting Enhanced Fine-tuning Benchmark ---\")\n",
    "    logger.info(f\"Using device: {DEVICE}\")\n",
    "    logger.info(\n",
    "        f\"Fine-tuning on QuickDraw categories: {', '.join(QUICKDRAW_CATEGORIES)}\")\n",
    "    logger.info(\n",
    "        f\"Samples per category: {NUM_TRAIN_SAMPLES_PER_CATEGORY} train, {NUM_TEST_SAMPLES_PER_CATEGORY} test.\")\n",
    "    logger.info(\n",
    "        f\"Number of fine-tuning epochs: {NUM_FINETUNE_EPOCHS}, Learning Rate: {FINETUNE_LEARNING_RATE}\")\n",
    "    logger.info(\n",
    "        f\"Weight Decay: {FINETUNE_WEIGHT_DECAY}, Gradual Unfreezing: {USE_GRADUAL_UNFREEZING}\")\n",
    "    logger.info(\n",
    "        f\"Loading QuickDraw data from local directory: {os.path.abspath(BINARY_DATA_ROOT)}\\n\")\n",
    "\n",
    "    num_classes = len(QUICKDRAW_CATEGORIES)\n",
    "\n",
    "    for model_name, config in tqdm(MODELS_TO_TEST.items(), desc=\"Benchmarking Models (Enhanced Fine-tuning)\", unit=\"model\"):\n",
    "        logger.info(f\"--- Enhanced Fine-tuning Model: {model_name} ---\")\n",
    "\n",
    "        # Clear GPU memory before loading a new model\n",
    "        clear_gpu_memory()\n",
    "\n",
    "        current_ft_accuracy = \"Error\"\n",
    "        current_ft_train_time = \"N/A\"\n",
    "        current_ft_inference_time = \"N/A\"\n",
    "        current_ft_inference_speed = \"N/A\"\n",
    "        model_params_ft = \"Error\"\n",
    "        current_model_path = \"Not saved\"\n",
    "        best_val_accuracy = 0.0\n",
    "\n",
    "        try:\n",
    "            weights = config[\"weights\"]\n",
    "            model_to_finetune = config[\"model_fn\"](weights=weights)\n",
    "            model_params_ft = sum(\n",
    "                p.numel() for p in model_to_finetune.parameters() if p.requires_grad) / 1_000_000\n",
    "\n",
    "            # Create custom classifier heads with improved architectures\n",
    "            if model_name == \"MobileNetV3-Small\":\n",
    "                # Save the feature extraction part\n",
    "                features = model_to_finetune.features\n",
    "                avgpool = model_to_finetune.avgpool\n",
    "\n",
    "                # Replace classifier with a better one\n",
    "                in_features = model_to_finetune.classifier[0].in_features\n",
    "                model_to_finetune.classifier = nn.Sequential(\n",
    "                    nn.Linear(in_features, 1024),\n",
    "                    nn.BatchNorm1d(1024),\n",
    "                    nn.ReLU(inplace=True),\n",
    "                    nn.Dropout(0.4),\n",
    "                    nn.Linear(1024, 512),\n",
    "                    nn.BatchNorm1d(512),\n",
    "                    nn.ReLU(inplace=True),\n",
    "                    nn.Dropout(0.3),\n",
    "                    nn.Linear(512, num_classes)\n",
    "                )\n",
    "\n",
    "                # Define the feature layers for gradual unfreezing\n",
    "                feature_layers = [features[0], features[1], features[2], features[3],\n",
    "                                  features[4], features[5], features[6], features[7],\n",
    "                                  features[8], features[9], features[10], features[11],\n",
    "                                  avgpool]\n",
    "\n",
    "            elif model_name == \"SqueezeNet1_1\":\n",
    "                # Get the input channels of the classifier\n",
    "                in_channels = model_to_finetune.classifier[1].in_channels\n",
    "\n",
    "                # More sophisticated conv classifier\n",
    "                model_to_finetune.classifier = nn.Sequential(\n",
    "                    nn.Dropout(p=0.5),\n",
    "                    nn.Conv2d(in_channels, 512, kernel_size=1),\n",
    "                    nn.ReLU(inplace=True),\n",
    "                    nn.AdaptiveAvgPool2d((1, 1)),\n",
    "                    nn.Conv2d(512, num_classes, kernel_size=1)\n",
    "                )\n",
    "\n",
    "                # Define feature layers for gradual unfreezing\n",
    "                feature_layers = [\n",
    "                    model_to_finetune.features[0],  # conv1\n",
    "                    model_to_finetune.features[1],  # maxpool\n",
    "                    model_to_finetune.features[2],  # fire1\n",
    "                    model_to_finetune.features[3],  # fire2\n",
    "                    model_to_finetune.features[4],  # fire3\n",
    "                    model_to_finetune.features[5],  # fire4\n",
    "                    model_to_finetune.features[6],  # maxpool\n",
    "                    model_to_finetune.features[7],  # fire5\n",
    "                    model_to_finetune.features[8],  # fire6\n",
    "                    model_to_finetune.features[9],  # fire7\n",
    "                    model_to_finetune.features[10],  # fire8\n",
    "                    model_to_finetune.features[11],  # maxpool\n",
    "                    model_to_finetune.features[12]  # conv10\n",
    "                ]\n",
    "            elif model_name == \"ShuffleNetV2_x0_5\":\n",
    "                # Get the number of input features for the classifier\n",
    "                in_features = model_to_finetune.fc.in_features\n",
    "\n",
    "                # Replace the classifier with an optimized version for better learning\n",
    "                model_to_finetune.fc = nn.Sequential(\n",
    "                    nn.Linear(in_features, 1024),\n",
    "                    nn.BatchNorm1d(1024),\n",
    "                    nn.ReLU(inplace=True),\n",
    "                    nn.Dropout(0.4),\n",
    "                    nn.Linear(1024, 512),\n",
    "                    nn.BatchNorm1d(512),\n",
    "                    nn.ReLU(inplace=True),\n",
    "                    nn.Dropout(0.3),\n",
    "                    nn.Linear(512, num_classes)\n",
    "                )\n",
    "\n",
    "                # Define feature layers for gradual unfreezing\n",
    "                # This progressive unfreezing helps with learning transfer\n",
    "                feature_layers = [\n",
    "                    model_to_finetune.conv1,\n",
    "                    model_to_finetune.maxpool,\n",
    "                    model_to_finetune.stage2,\n",
    "                    model_to_finetune.stage3,\n",
    "                    model_to_finetune.stage4,\n",
    "                    model_to_finetune.conv5\n",
    "                ]\n",
    "\n",
    "                # Apply a higher initial learning rate for ShuffleNetV2\n",
    "                # This helps overcome the vanishing gradient problem in lightweight models\n",
    "                optimizer = optim.Adam(model_to_finetune.parameters(),\n",
    "                                       lr=FINETUNE_LEARNING_RATE * 1.5,\n",
    "                                       weight_decay=FINETUNE_WEIGHT_DECAY * 0.8)\n",
    "            else:\n",
    "                logger.warning(\n",
    "                    f\"Classifier modification not defined for {model_name}. Skipping fine-tuning.\")\n",
    "                continue\n",
    "\n",
    "            model_to_finetune.to(DEVICE)\n",
    "\n",
    "            # Enable gradient checkpointing if configured\n",
    "            if USE_GRADIENT_CHECKPOINTING and hasattr(model_to_finetune, 'features'):\n",
    "                logger.info(f\"Enabling gradient checkpointing for {model_name}\")\n",
    "                try:\n",
    "                    # Check if the features module has gradient_checkpointing_enable\n",
    "                    if hasattr(model_to_finetune.features, 'gradient_checkpointing_enable'):\n",
    "                        model_to_finetune.features.gradient_checkpointing_enable()\n",
    "                    # For models where features is a Sequential module\n",
    "                    elif isinstance(model_to_finetune.features, nn.Sequential):\n",
    "                        # Skip gradient checkpointing for Sequential modules\n",
    "                        logger.info(f\"Gradient checkpointing not available for {model_name} with Sequential features\")\n",
    "                    else:\n",
    "                        logger.info(f\"Gradient checkpointing not supported for this model architecture\")\n",
    "                except Exception as e:\n",
    "                    logger.warning(f\"Failed to enable gradient checkpointing for {model_name}: {e}\")\n",
    "                    # Continue without gradient checkpointing\n",
    "            # --- Enhanced Fine-tuning Procedure ---\n",
    "            logger.info(f\"Starting fine-tuning for {model_name}...\")\n",
    "            start_time = time.time()\n",
    "\n",
    "            # Initialize optimizer, criterion, and scheduler\n",
    "            optimizer = optim.Adam(model_to_finetune.parameters(\n",
    "            ), lr=FINETUNE_LEARNING_RATE, weight_decay=FINETUNE_WEIGHT_DECAY)\n",
    "            criterion = nn.CrossEntropyLoss()\n",
    "            scheduler = optim.lr_scheduler.ReduceLROnPlateau(\n",
    "                optimizer, mode='max', factor=0.5, patience=2)\n",
    "\n",
    "            # Initialize early stopping variables\n",
    "            early_stopping_patience = 3\n",
    "            early_stopping_counter = 0\n",
    "\n",
    "            # Check for existing checkpoints and resume if available\n",
    "            start_epoch = 0\n",
    "            if RESUME_FROM_CHECKPOINT:\n",
    "                start_epoch, best_val_accuracy, early_stopping_counter = load_checkpoint(\n",
    "                    model_to_finetune, optimizer, scheduler, model_name\n",
    "                )\n",
    "\n",
    "            # If we're starting from a checkpoint, we need to restore the best model weights\n",
    "            if start_epoch > 0:\n",
    "                best_model_wts = copy.deepcopy(model_to_finetune.state_dict())\n",
    "            else:\n",
    "                best_model_wts = copy.deepcopy(model_to_finetune.state_dict())\n",
    "\n",
    "            # Fine-tuning loop\n",
    "            for epoch in range(start_epoch, NUM_FINETUNE_EPOCHS):\n",
    "\n",
    "                # Explicitly flush handlers after a significant phase\n",
    "                for handler in logger.handlers:\n",
    "                    if isinstance(handler, logging.FileHandler):\n",
    "                        handler.flush()\n",
    "\n",
    "                logger.info(f\"Epoch {epoch + 1}/{NUM_FINETUNE_EPOCHS}\")\n",
    "\n",
    "                # Adjust learning rate if using gradual unfreezing\n",
    "                if USE_GRADUAL_UNFREEZING:\n",
    "                    if epoch < 10:\n",
    "                        for param in feature_layers[:epoch + 1]:\n",
    "                            for p in param.parameters():\n",
    "                                p.requires_grad = True\n",
    "                    else:\n",
    "                        for param in feature_layers:\n",
    "                            for p in param.parameters():\n",
    "                                p.requires_grad = True\n",
    "\n",
    "                # Training phase\n",
    "                model_to_finetune.train()\n",
    "                train_loss = 0.0\n",
    "                train_correct = 0\n",
    "                train_total = 0\n",
    "\n",
    "                # Calculate needed gradient accumulation steps based on effective batch size\n",
    "                if effective_batch_size < MAX_BATCH_SIZE:\n",
    "                    gradient_accumulation_steps = max(\n",
    "                        1, MAX_BATCH_SIZE // effective_batch_size)\n",
    "                    logger.info(\n",
    "                        f\"Using gradient accumulation with {gradient_accumulation_steps} steps\")\n",
    "                else:\n",
    "                    gradient_accumulation_steps = 1\n",
    "\n",
    "                # Zero gradients at the beginning of epoch\n",
    "                optimizer.zero_grad()\n",
    "\n",
    "                for batch_idx, (images, labels) in enumerate(tqdm(train_loader, desc=\"Training\", leave=False)):\n",
    "                    images, labels = images.to(DEVICE), labels.to(DEVICE)\n",
    "\n",
    "                    # Forward pass\n",
    "                    outputs = model_to_finetune(images)\n",
    "                    loss = criterion(outputs, labels) / gradient_accumulation_steps  # Normalize loss\n",
    "\n",
    "                    # Backward pass\n",
    "                    loss.backward()\n",
    "\n",
    "                    # Only update weights after accumulating gradients for specified steps\n",
    "                    if (batch_idx + 1) % gradient_accumulation_steps == 0 or (batch_idx + 1) == len(train_loader):\n",
    "                        optimizer.step()\n",
    "                        optimizer.zero_grad()\n",
    "\n",
    "                    train_loss += loss.item() * images.size(0) * gradient_accumulation_steps  # Scale loss back for reporting\n",
    "                    _, predicted = torch.max(outputs, 1)\n",
    "                    train_correct += (predicted == labels).sum().item()\n",
    "                    train_total += labels.size(0)\n",
    "\n",
    "                # Calculate average loss and accuracy for the epoch\n",
    "                epoch_train_loss = train_loss / train_total\n",
    "                epoch_train_accuracy = 100 * train_correct / train_total\n",
    "                logger.info(\n",
    "                    f\"Train Loss: {epoch_train_loss:.4f}, Train Accuracy: {epoch_train_accuracy:.2f}%\")\n",
    "\n",
    "                # Validation phase\n",
    "                model_to_finetune.eval()\n",
    "                val_loss = 0.0\n",
    "                val_correct = 0\n",
    "                val_total = 0\n",
    "\n",
    "                with torch.no_grad():\n",
    "                    for images, labels in tqdm(val_loader, desc=\"Validation\", leave=False):\n",
    "                        images, labels = images.to(DEVICE), labels.to(DEVICE)\n",
    "\n",
    "                        # Forward pass\n",
    "                        outputs = model_to_finetune(images)\n",
    "                        loss = criterion(outputs, labels)\n",
    "\n",
    "                        val_loss += loss.item() * images.size(0)\n",
    "                        _, predicted = torch.max(outputs, 1)\n",
    "                        val_correct += (predicted == labels).sum().item()\n",
    "                        val_total += labels.size(0)\n",
    "\n",
    "                # Calculate average loss and accuracy for the validation set\n",
    "                epoch_val_loss = val_loss / val_total\n",
    "                epoch_val_accuracy = 100 * val_correct / val_total\n",
    "                logger.info(\n",
    "                    f\"Val Loss: {epoch_val_loss:.4f}, Val Accuracy: {epoch_val_accuracy:.2f}%\")\n",
    "\n",
    "                # Clear GPU memory after each epoch\n",
    "                clear_gpu_memory()\n",
    "\n",
    "                # Early stopping logic\n",
    "                is_best = False\n",
    "                if epoch_val_accuracy > best_val_accuracy:\n",
    "                    best_val_accuracy = epoch_val_accuracy\n",
    "                    best_model_wts = copy.deepcopy(\n",
    "                        model_to_finetune.state_dict())\n",
    "                    logger.info(\n",
    "                        f\"New best model found for {model_name}! (Val Accuracy: {best_val_accuracy:.2f}%)\")\n",
    "                    early_stopping_counter = 0\n",
    "                    is_best = True\n",
    "                else:\n",
    "                    early_stopping_counter += 1\n",
    "                    logger.info(\n",
    "                        f\"Validation accuracy didn't improve. Counter: {early_stopping_counter}/{early_stopping_patience}\")\n",
    "\n",
    "                # Save checkpoint at specified intervals or if it's the best model\n",
    "                if (epoch + 1) % CHECKPOINT_INTERVAL == 0 or is_best:\n",
    "                    save_checkpoint(\n",
    "                        model_to_finetune,\n",
    "                        optimizer,\n",
    "                        scheduler,\n",
    "                        epoch,\n",
    "                        best_val_accuracy,\n",
    "                        early_stopping_counter,\n",
    "                        model_name,\n",
    "                        is_best=is_best\n",
    "                    )\n",
    "\n",
    "                # Check if early stopping criteria is met\n",
    "                if early_stopping_counter >= early_stopping_patience:\n",
    "                    logger.info(\n",
    "                        f\"Early stopping triggered after {epoch+1} epochs\")\n",
    "                    break\n",
    "\n",
    "                # Learning rate scheduler\n",
    "                scheduler.step(epoch_val_accuracy)\n",
    "                logger.info(\n",
    "                    f\"Current learning rate: {optimizer.param_groups[0]['lr']:.6f}\")\n",
    "\n",
    "            # Load the best model weights\n",
    "            model_to_finetune.load_state_dict(best_model_wts)\n",
    "\n",
    "            # Now save the final model (end of training)\n",
    "            final_model_path = f\"{MODEL_SAVE_PATH}/{model_name}_final{LATEST_PATH}.pth\"\n",
    "            # Store current state before overwriting\n",
    "            final_model_wts = copy.deepcopy(model_to_finetune.state_dict())\n",
    "            # Save the final state\n",
    "            torch.save(final_model_wts, final_model_path)\n",
    "            logger.info(f\"Final model saved: {final_model_path}\")\n",
    "\n",
    "            # Record total training time\n",
    "            training_time = time.time() - start_time\n",
    "            current_ft_train_time = f\"{training_time:.2f}\"\n",
    "            logger.info(f\"Total training time: {current_ft_train_time}s\")\n",
    "\n",
    "            # Evaluate the model on the test set\n",
    "            test_loss = 0.0\n",
    "            test_correct = 0\n",
    "            test_total = 0\n",
    "\n",
    "            # Track inference time\n",
    "            start_inference_time = time.time()\n",
    "            with torch.no_grad():\n",
    "                for images, labels in tqdm(test_loader, desc=\"Testing\", leave=False):\n",
    "                    images, labels = images.to(DEVICE), labels.to(DEVICE)\n",
    "\n",
    "                    # Forward pass\n",
    "                    outputs = model_to_finetune(images)\n",
    "                    loss = criterion(outputs, labels)\n",
    "\n",
    "                    test_loss += loss.item() * images.size(0)\n",
    "                    _, predicted = torch.max(outputs, 1)\n",
    "                    test_correct += (predicted == labels).sum().item()\n",
    "                    test_total += labels.size(0)\n",
    "\n",
    "            inference_time = time.time() - start_inference_time\n",
    "            current_ft_inference_time = f\"{inference_time:.4f}\"\n",
    "            current_ft_inference_speed = f\"{test_total / inference_time:.2f}\"\n",
    "\n",
    "            # Calculate average loss and accuracy for the test set\n",
    "            test_loss /= test_total\n",
    "            test_accuracy = 100 * test_correct / test_total\n",
    "            logger.info(\n",
    "                f\"Test Loss: {test_loss:.4f}, Test Accuracy: {test_accuracy:.2f}%\")\n",
    "\n",
    "            # Append the results for this model to the overall results\n",
    "            finetuning_results.append({\n",
    "                'model_name': model_name,\n",
    "                'test_loss': test_loss,\n",
    "                'test_accuracy': test_accuracy,\n",
    "                'params': model_params_ft,\n",
    "                'train_time': current_ft_train_time,\n",
    "                'inference_time': current_ft_inference_time,\n",
    "                'inference_speed': current_ft_inference_speed,\n",
    "                'best_val_accuracy': best_val_accuracy\n",
    "            })\n",
    "        except Exception as e:\n",
    "            logger.error(f\"Error occurred while fine-tuning {model_name}: {e}\")\n",
    "            finetuning_results.append({\n",
    "                'model_name': model_name,\n",
    "                'test_loss': float('nan'),\n",
    "                'test_accuracy': 0,\n",
    "                'params': model_params_ft if isinstance(model_params_ft, (int, float)) else float('nan'),\n",
    "                'train_time': 'N/A',\n",
    "                'inference_time': 'N/A',\n",
    "                'inference_speed': 'N/A',\n",
    "                'best_val_accuracy': 0,\n",
    "                'error': str(e)\n",
    "            })\n",
    "\n",
    "    # --- Benchmarking Results ---\n",
    "    logger.info(f\"\\n--- Enhanced Fine-tuning Benchmarking Results ---\")\n",
    "    for result in finetuning_results:\n",
    "        if 'error' in result:\n",
    "            logger.info(\n",
    "                f\"Model: {result['model_name']}, Error: {result['error']}\")\n",
    "        else:\n",
    "            logger.info(f\"Model: {result['model_name']}, Test Loss: {result['test_loss']:.4f}, Test Accuracy: {result['test_accuracy']:.2f}%, Params: {result['params']:.2f}M, Train Time: {result['train_time']}, Inference Time: {result['inference_time']}, Inference Speed: {result['inference_speed']}\")\n",
    "\n",
    "    logger.info(f\"Best model(s) based on test accuracy:\")\n",
    "    best_models = sorted(finetuning_results, key=lambda x: x.get(\n",
    "        'test_accuracy', 0), reverse=True)[:3]\n",
    "    for bm in best_models:\n",
    "        logger.info(f\" - {bm['model_name']}: {bm['test_accuracy']:.2f}%\")\n",
    "\n",
    "    logger.info(f\"Best model(s) based on validation accuracy:\")\n",
    "    best_val_models = sorted(finetuning_results, key=lambda x: x.get(\n",
    "        'best_val_accuracy', 0), reverse=True)[:3]\n",
    "    for bvm in best_val_models:\n",
    "        logger.info(f\" - {bvm['model_name']}: {bvm['best_val_accuracy']:.2f}%\")\n",
    "\n",
    "    logger.info(f\"\\n--- Enhanced Fine-tuning Benchmark Completed ---\")\n",
    "\n",
    "    save_benchmark_results(finetuning_results, benchmark_type='finetuning')\n",
    "    return finetuning_results"
   ]
  },
  {
   "cell_type": "code",
   "execution_count": null,
   "metadata": {
    "colab": {
     "base_uri": "https://localhost:8080/",
     "height": 1000,
     "referenced_widgets": [
      "6d5d1073077a43d2a373b3e9bdb18bdf",
      "77350e683341477580672093aa99bda7",
      "975929e157da449c976ee5e5f4869761",
      "49dead36951c46b3b9ffdd737019fed7",
      "8a05c01bb3a445a7bd29086079caa73e",
      "700adab1d382466594f0e60438f87152",
      "1382438396c645d8a3d19623e19aa12d",
      "9891ebef1763477093a60b5a8fb80361",
      "9cb8583a5b1347ac8e630b1255e4fc28",
      "1a8bc7bbd03c4be79341484c3f02330c",
      "71645034906d4cc2ab762503e5fc32c7",
      "8ad05cd991824e42b77e76daa3703f33",
      "865570209f8141389a8f840fcfd25c26",
      "1708b4363b1f4dd09851840418c7fe17",
      "77e9f2cbf0e84650a7a000835d9fb43f",
      "0f59a4e81cc84744b88b759fd4eded0c",
      "0b6d4b26ea804de395aa3b38ba70207b",
      "a2b1e120a7a948968d15524c0999967b",
      "151ba440087641329a5dadb4438a0486",
      "33304dc8dccb4b24ad13a72487ddab49",
      "ed31e318306d4c9f8a5fcce9524e0af1",
      "f496d2829331435484c9d0761b47657c",
      "d607317fcb9646cb8e8d124c5f616d5c",
      "977f1e3f18ce4c278f40eb93f9a1982f",
      "e0f62ccbc2f44259b10d01927f32b4f1",
      "641e938227cb46e9a73b92a10f319094",
      "f3059d6aa49541da92d7849e8ef2a607",
      "3dba48cec328472cb25cfafb493f4f95",
      "b223e126bf1a47c99ab2ba6b09419538",
      "b16857c786914a8c959eaba05bb9d5eb",
      "731e15db8c644460a6cc5fd9b32e20f3",
      "c275ec14aeac454ebc9ff4372afb1f10",
      "93b7afcad72d4118b78087a8bf747bbc",
      "7ea0f97f1c5b4d22bb650cc1caa9cc59",
      "b90f9b8036e24e89bea8a3b6ea6e926a",
      "9008e6a0ae3f4fdd9f7f81ea78d8551d",
      "bcfe7561323d4557bd8890e62e99c257",
      "35ac80c03fbd4002bded4fda80b7c638",
      "ae57e2da156245a7853e7610ab7fd28f",
      "be7340e192074b9dba4a359051f522c1",
      "2293520d5c2e4a089ee159aa8b3c7b9a",
      "60b63a4296cc4bae8d509b33f40a4d99",
      "47f8eddd638048bb9fc20796d7a5dabd",
      "2a864240fbad4fe693460b3e61815e15",
      "b2c8fb577eaf410f9fc184ac5a4d119a",
      "6a558ddafbd44ca18b513eafb57195a1",
      "8902a823da2042f7a9df50065fefebca",
      "aae3a0e8e6414c5b9eab021b4f2b780b",
      "fac37c1a132f47f7b02120d68f1422e6",
      "ea5f44653fda408691c0827f989eb8c9",
      "579afa8476df4f89994739092a894237",
      "f1c30020b8b34456b7f51466066f0b0c",
      "3ecf14b01472467492e4bac9493fc727",
      "58cffe87f6524afe90d40178d501ed59",
      "b692462527b7490db2351165ff745b01",
      "fd7343789eab47069b41ede00f6d4f59",
      "06a2fb3d003a43e7bb5631203206f1a2",
      "373d629ff11d4a75ad421617e90086a3",
      "9f95e2fdebef4e88b921a5df4fdb6edf",
      "eeb63b1cbbb74a3cb6e18a8645030377",
      "fbb770bb27154738ab93e7b1ba14957d",
      "7e548dd4dbf64f58adb30091ef383baa",
      "83b6cadd36d24ce8b512f88c4e573bc0",
      "231066e8452943dfae6df2bb36853c55",
      "2f2b9b24c99f47a3819933de4b2833fa",
      "d366f2671d1846b7af6e4529f417d30a",
      "9706758d2cd247be807005dbebae7640",
      "e08e98ec35064b7cb966b619edce913a",
      "6310c28a18b84e1f8049ea6101a3d292",
      "ef78864943394abaa3918d661f222495",
      "4a72f8a8c0504280b462a9dce8ff708c",
      "5a6285b434da4841bddfb962330ddf98",
      "e8046078674e4ea88deb6c4a225ace3d",
      "12601abb46384393bb21edf4538b6dd5",
      "2eed3d1b60d84c20bb700ede283c8dbc",
      "a6bb717d1c5b40d2af89da811de0a88e",
      "c20f15b0709a485a90c9f886fa4ab1ae",
      "3a36ce0bff61494387917b58659bf161",
      "65652cadf8174d47a356c891430bedf3",
      "b43f48601738432b839a92f24ceb4fca",
      "b33d70e9598f40fdb2fde77899b95c29",
      "d63a362c98174b8584a017be63dff4d6",
      "fc7978234e824d3fba1f988f202b68a6",
      "ba283d42f27f4e9fb37c08b5ecafca8a",
      "a5dcb1f802c0443d89644bf9551c5590",
      "412af07dafcf4c7b97f25e1137ee5eca",
      "83ff0f69cced4eafb366c1edfbe2def5",
      "119015e1c98c40648ee93c92bf1d52d2",
      "1e5289f0f05045fc92b229f85e5633d1",
      "04cb10645dc6473ea7a741510a5c6c65",
      "ccfe491282bc450f838d458810b59eb6",
      "d3cfd5c4418543f7aea172823680fdc6",
      "0c0badb4dcf8484cb1ec3966c0b98f55",
      "d94c4bd20d404652a191ac1b304b7313",
      "e58f1982a9d54041a5d7ad08f5d30f8b",
      "5201dc10da9347f1acc550e1d59e2cea",
      "065f86eb179141ee98cb0c49641aed19",
      "9cc001df3d974f7f8a41c47f42358994",
      "f00157e7515f4c3988041164d597b731",
      "dc6982aed98f4c5483a510ef088a8612",
      "dfcfc29e2e064358bb8c81d3dd838a07",
      "32151a5969db40288bb91d3ee0bcf20f",
      "ccd4cfa8103e44cb93decde979f837c3",
      "7caed954dbeb41d6ae98f1ed65ce3285",
      "1f14d446a83a46dba2223ea91f93f2a3",
      "0894113001e54bffba9a3f7bc11f3f79",
      "e7825796b5c7464ebbfa4d73e45e86c4",
      "4e840602693f49c7ad44327407fa0e09",
      "0dd462fc51ed40a396b89c0f3416fa2f",
      "682690edba7540fd8a34dc03f5e085a0",
      "8232596a3eee44c093635f6f59d1cf7b",
      "295b8993cac943709ca481c0739d3bb1",
      "4819f7923b1d4d238fffc55a033b34d1",
      "2cbb2411a5d34f40ba9b4954b699bb78",
      "d300dbbc7d6942a09e695c0e9dfb5460",
      "d887adc2e29d4c588e6c12b4a42f5cfc",
      "1be13023f23746e89a77e5dcaf585cdd",
      "4e4fe74007514eadaffce5e92d2da2dc",
      "a4d64d19f8654d5393bea4f3dafe09e1",
      "7ae14622f2094fb3963d1e1136167c7d",
      "55e8e6fc24634b76a2927a33186ca5fc",
      "03e35936562946108e7f0f672d135fd3",
      "3443f0b41abc49fcbf9338b09e9d580c",
      "606cb79db9144ea89eae11ee7020f9a2",
      "59be244459c84eed83ceecc45d38ccbe",
      "197bdb4e24824c31b4f29e0eff967959",
      "d24ecaf0754846afbbfc40ed549cc286",
      "73270247ca4f4f66aef7ececccf5b46a",
      "8e4ddbfcccc946408c0d7e2dc7c72576",
      "4416c622ecf74847b9ebd2a2f4d2c9fb",
      "70b27b52457043e3b26ba4788b6164cd",
      "19c05f05b6824db19dc9d445bbe642de",
      "8b5b578178ab4acc99d466109197da55",
      "73986fba20ec49ea978ac5cd403caa72",
      "da42b09c971942358374cfd6623e7487",
      "9e0838ac51f7440cb3b84243e90cd079",
      "90cc237de9b348b79c2a1b111c1a76b2",
      "a8a2c665d1d64f24b8c655845dac510e",
      "80e2bc4d9d9a40a69533edfdd03e33b0",
      "0516dafa0a86430fb580f28db624523e",
      "31a9699723d544fdb6a37e29b542442b",
      "973ab576496f46c2beb3e509a026bbff",
      "08cc8d18835d4e56b3ffb62b0e32ee1a",
      "aa9d96a008c5491cb40cbdcbd4f96f01",
      "443ab04cba2444d89a61fc99af7bead1",
      "f64f83e2393140d39c1eec8cd33af8a6",
      "d3145b04d22c462880a2b20c8b5836b9",
      "22b68f0a112f45d2ac3976b53023444a",
      "885390198f264015af94bfb14a6e1667",
      "ae01d945087c4f86a451b130c8933a07",
      "914234e4e9b04058b09bcc69c13810b6",
      "09f499c6d9284ab79769b87955900bcd",
      "d478f28cb7b64163b9d0b5b45aea875c",
      "34bb6095330846508f58944652ca2894"
     ]
    },
    "execution": {
     "execution_failed": "2025-09-11T03:54:02.652Z",
     "iopub.execute_input": "2025-09-11T03:53:52.659419Z",
     "iopub.status.busy": "2025-09-11T03:53:52.659200Z"
    },
    "id": "yZqklU3g1Pkn",
    "outputId": "4d119188-b416-414c-b7a7-db2ea4c7826a"
   },
   "outputs": [
    {
     "name": "stderr",
     "output_type": "stream",
     "text": [
      "2025-09-11 03:53:52,662 - INFO - 2401830890 - Loading augmented QuickDraw data for 4 categories...\n",
      "2025-09-11 03:53:52,664 - INFO - 2401830890 - Loading QuickDraw category: The Eiffel Tower from local binary files...\n",
      "2025-09-11 03:53:52,665 - INFO - 2928541081 - Successfully loaded or indexed 134801 drawings for The_Eiffel_Tower. Cache capacity: 50000 items.\n",
      "2025-09-11 03:53:52,666 - INFO - 2401830890 - Category The Eiffel Tower: 100 train, 10 val, 20 test\n",
      "2025-09-11 03:53:52,723 - INFO - 2401830890 - Loading QuickDraw category: The Great Wall of China from local binary files...\n",
      "2025-09-11 03:53:52,723 - INFO - 2928541081 - Successfully loaded or indexed 193015 drawings for The_Great_Wall_of_China. Cache capacity: 50000 items.\n",
      "2025-09-11 03:53:52,724 - INFO - 2401830890 - Category The Great Wall of China: 100 train, 10 val, 20 test\n",
      "2025-09-11 03:53:52,818 - INFO - 2401830890 - Loading QuickDraw category: airplane from local binary files...\n",
      "2025-09-11 03:53:52,819 - INFO - 2928541081 - Successfully loaded or indexed 151623 drawings for airplane. Cache capacity: 50000 items.\n",
      "2025-09-11 03:53:52,819 - INFO - 2401830890 - Category airplane: 100 train, 10 val, 20 test\n",
      "2025-09-11 03:53:52,898 - INFO - 2401830890 - Loading QuickDraw category: alarm clock from local binary files...\n",
      "2025-09-11 03:53:52,899 - INFO - 2928541081 - Successfully loaded or indexed 123399 drawings for alarm_clock. Cache capacity: 50000 items.\n",
      "2025-09-11 03:53:52,899 - INFO - 2401830890 - Category alarm clock: 100 train, 10 val, 20 test\n",
      "2025-09-11 03:53:52,960 - INFO - 2401830890 - Created datasets with 400 training samples, 40 validation samples, and 80 test samples.\n",
      "2025-09-11 03:53:52,965 - INFO - 1219471456 - Using adaptive batch size of 128 for feature extraction\n",
      "2025-09-11 03:53:52,966 - INFO - 1219471456 - \n",
      "--- Starting Enhanced Fine-tuning Benchmark ---\n",
      "2025-09-11 03:53:52,967 - INFO - 1219471456 - Using device: cpu\n",
      "2025-09-11 03:53:52,967 - INFO - 1219471456 - Fine-tuning on QuickDraw categories: The Eiffel Tower, The Great Wall of China, airplane, alarm clock\n",
      "2025-09-11 03:53:52,968 - INFO - 1219471456 - Samples per category: 100 train, 20 test.\n",
      "2025-09-11 03:53:52,968 - INFO - 1219471456 - Number of fine-tuning epochs: 50, Learning Rate: 0.0005\n",
      "2025-09-11 03:53:52,969 - INFO - 1219471456 - Weight Decay: 1e-05, Gradual Unfreezing: True\n",
      "2025-09-11 03:53:52,973 - INFO - 1219471456 - Loading QuickDraw data from local directory: /home/sagemaker-user/Draw-and-Learn-Custom-Model/data\n",
      "\n"
     ]
    },
    {
     "data": {
      "application/vnd.jupyter.widget-view+json": {
       "model_id": "c1186321abcc44289b3a0bc540a83142",
       "version_major": 2,
       "version_minor": 0
      },
      "text/plain": [
       "Benchmarking Models (Enhanced Fine-tuning):   0%|          | 0/1 [00:00<?, ?model/s]"
      ]
     },
     "metadata": {},
     "output_type": "display_data"
    },
    {
     "name": "stderr",
     "output_type": "stream",
     "text": [
      "2025-09-11 03:53:52,985 - INFO - 1219471456 - --- Enhanced Fine-tuning Model: MobileNetV3-Small ---\n",
      "Downloading: \"https://download.pytorch.org/models/mobilenet_v3_small-047dcff4.pth\" to /home/sagemaker-user/.cache/torch/hub/checkpoints/mobilenet_v3_small-047dcff4.pth\n",
      "\n",
      "100%|██████████| 9.83M/9.83M [00:00<00:00, 187MB/s]\n",
      "2025-09-11 03:53:53,192 - INFO - 1219471456 - Enabling gradient checkpointing for MobileNetV3-Small\n",
      "2025-09-11 03:53:53,193 - INFO - 1219471456 - Gradient checkpointing not available for MobileNetV3-Small with Sequential features\n",
      "2025-09-11 03:53:53,195 - INFO - 1219471456 - Starting fine-tuning for MobileNetV3-Small...\n",
      "2025-09-11 03:53:53,197 - INFO - 4066547309 - No checkpoint found at ./models/checkpoints/MobileNetV3-Small/checkpoint_latest__Add_files_..._samples100_epochs50_classes4.pth, starting from scratch.\n",
      "2025-09-11 03:53:53,214 - INFO - 1219471456 - Epoch 1/50\n"
     ]
    },
    {
     "data": {
      "application/vnd.jupyter.widget-view+json": {
       "model_id": "1792dd03bed74134aa3fc0e313c3a69a",
       "version_major": 2,
       "version_minor": 0
      },
      "text/plain": [
       "Training:   0%|          | 0/4 [00:00<?, ?it/s]"
      ]
     },
     "metadata": {},
     "output_type": "display_data"
    }
   ],
   "source": [
    "# Run Benchmark for Fine-tuning\n",
    "run_finetuning_benchmark()"
   ]
  },
  {
   "cell_type": "markdown",
   "metadata": {
    "id": "PHH-m3KS3em-"
   },
   "source": [
    "### Save Models with Classes"
   ]
  },
  {
   "cell_type": "code",
   "execution_count": null,
   "metadata": {
    "execution": {
     "execution_failed": "2025-09-11T03:54:02.654Z"
    },
    "id": "HQaB7qwX3em-"
   },
   "outputs": [],
   "source": [
    "\n",
    "# Create a mapping from indices to class names for inference\n",
    "IDX_TO_CLASS = {i: category for i, category in enumerate(QUICKDRAW_CATEGORIES)}\n",
    "\n",
    "# Inference wrapper that includes class names\n",
    "class ClassNameInferenceWrapper:\n",
    "    def __init__(self, model, idx_to_class=None):\n",
    "        self.model = model\n",
    "        # Include QUICKDRAW_CATEGORIES for completeness\n",
    "        self.QUICKDRAW_CATEGORIES = QUICKDRAW_CATEGORIES\n",
    "        self.idx_to_class = idx_to_class or IDX_TO_CLASS\n",
    "        self.model.eval()  # Set to evaluation mode\n",
    "\n",
    "    def predict(self, inputs):\n",
    "        with torch.no_grad():\n",
    "            outputs = self.model(inputs)\n",
    "            probabilities = torch.nn.functional.softmax(outputs, dim=1)\n",
    "            _, predicted_indices = torch.max(outputs, 1)\n",
    "\n",
    "            # Convert to numpy for easier handling\n",
    "            predicted_indices = predicted_indices.cpu().numpy()\n",
    "            probabilities = probabilities.cpu().numpy()\n",
    "\n",
    "            # Map indices to class names\n",
    "            predicted_names = [self.idx_to_class.get(idx, \"Unknown\") for idx in predicted_indices]\n",
    "\n",
    "            return {\n",
    "                'class_idx': predicted_indices,\n",
    "                'class_name': predicted_names,\n",
    "                'probabilities': probabilities\n",
    "            }\n",
    "\n",
    "    def predict_single(self, input_tensor):\n",
    "        # Add batch dimension if needed\n",
    "        if input_tensor.dim() == 3:\n",
    "            input_tensor = input_tensor.unsqueeze(0)\n",
    "\n",
    "        result = self.predict(input_tensor)\n",
    "\n",
    "        # Return just the first result since it's a single image\n",
    "        return {\n",
    "            'class_idx': result['class_idx'][0],\n",
    "            'class_name': result['class_name'][0],\n",
    "            'probabilities': result['probabilities'][0]\n",
    "        }\n",
    "\n",
    "def save_model_with_classes(model, model_path, class_names):\n",
    "    \"\"\"Save model weights along with class information for portability\"\"\"\n",
    "    # Save model weights\n",
    "    torch.save(model.state_dict(), model_path)\n",
    "\n",
    "    # Save class information\n",
    "    class_info_path = model_path.replace('.pth', '_classes.json')\n",
    "    with open(class_info_path, 'w') as f:\n",
    "        json.dump(class_names, f)\n",
    "\n",
    "    logger.info(f\"Model saved to {model_path}\")\n",
    "    logger.info(f\"Class information saved to {class_info_path}\")\n",
    "\n",
    "    return model_path, class_info_path"
   ]
  },
  {
   "cell_type": "markdown",
   "metadata": {
    "id": "RQrEBaxP3em-"
   },
   "source": [
    "### Class-wise Evaluation Metrics"
   ]
  },
  {
   "cell_type": "code",
   "execution_count": null,
   "metadata": {
    "execution": {
     "execution_failed": "2025-09-11T03:54:02.655Z"
    },
    "id": "ZaOBSy1s3em-"
   },
   "outputs": [],
   "source": [
    "def evaluate_model_by_class(model, test_loader, class_names):\n",
    "    \"\"\"Evaluate model performance for each class separately\"\"\"\n",
    "    model.eval()\n",
    "    class_correct = [0] * len(class_names)\n",
    "    class_total = [0] * len(class_names)\n",
    "\n",
    "    with torch.no_grad():\n",
    "        for images, labels in tqdm(test_loader, desc=\"Evaluating by class\"):\n",
    "            images, labels = images.to(DEVICE), labels.to(DEVICE)\n",
    "            outputs = model(images)\n",
    "            _, predicted = torch.max(outputs, 1)\n",
    "\n",
    "            # Calculate class-wise accuracy\n",
    "            for i in range(len(labels)):\n",
    "                label = labels[i].item()\n",
    "                class_correct[label] += (predicted[i] == label).item()\n",
    "                class_total[label] += 1\n",
    "\n",
    "    # logger.info and return results\n",
    "    logger.info(\"\\nClass-wise Accuracy:\")\n",
    "    class_accuracies = {}\n",
    "    for i in range(len(class_names)):\n",
    "        if class_total[i] > 0:\n",
    "            accuracy = 100 * class_correct[i] / class_total[i]\n",
    "            logger.info(f\"{class_names[i]}: {accuracy:.2f}%\")\n",
    "            class_accuracies[class_names[i]] = accuracy\n",
    "\n",
    "    return class_accuracies"
   ]
  },
  {
   "cell_type": "markdown",
   "metadata": {
    "id": "zhwY4FZD3em-"
   },
   "source": [
    "### Inference"
   ]
  },
  {
   "cell_type": "code",
   "execution_count": null,
   "metadata": {
    "colab": {
     "base_uri": "https://localhost:8080/"
    },
    "execution": {
     "execution_failed": "2025-09-11T03:54:02.656Z"
    },
    "id": "ZxldmFMZ3em_",
    "outputId": "d71e9db9-29c8-4843-a7cb-650fb314eed5"
   },
   "outputs": [],
   "source": [
    "# Load a test image for inference\n",
    "# Let's get a sample from the test dataset\n",
    "_, _, test_dataset = get_augmented_quickdraw_data(\n",
    "    QUICKDRAW_CATEGORIES[:5],  # Using just a few categories for faster loading\n",
    "    10,  # Small number of samples per category\n",
    "    5,\n",
    "    BINARY_DATA_ROOT\n",
    ")\n",
    "\n",
    "# Get a batch of test images\n",
    "test_loader = DataLoader(test_dataset, batch_size=4, shuffle=True)\n",
    "images, labels = next(iter(test_loader))\n",
    "\n",
    "# Use the class name wrapper for inference\n",
    "# Example with a saved model:\n",
    "model = models.mobilenet_v3_small(weights=None)\n",
    "# Set up classifier for the number of classes we have\n",
    "in_features = model.classifier[0].in_features\n",
    "model.classifier = nn.Sequential(\n",
    "    nn.Linear(in_features, 1024),\n",
    "    nn.BatchNorm1d(1024),\n",
    "    nn.ReLU(inplace=True),\n",
    "    nn.Dropout(0.4),\n",
    "    nn.Linear(1024, 512),\n",
    "    nn.BatchNorm1d(512),\n",
    "    nn.ReLU(inplace=True),\n",
    "    nn.Dropout(0.3),\n",
    "    nn.Linear(512, len(QUICKDRAW_CATEGORIES))\n",
    ")\n",
    "\n",
    "# Try to load the model if it exists\n",
    "try:\n",
    "    model.load_state_dict(torch.load(f\"{MODEL_SAVE_PATH}/MobileNetV3-Small_best{LATEST_PATH}.pth\"))\n",
    "    logger.info(f\"Successfully loaded model from {MODEL_SAVE_PATH}/MobileNetV3-Small_best{LATEST_PATH}.pth\")\n",
    "except Exception as e:\n",
    "    logger.info(f\"Could not load model: {e}. Using untrained model for demonstration.\")\n",
    "\n",
    "model.to(DEVICE)\n",
    "\n",
    "# Wrap the model\n",
    "inference_wrapper = ClassNameInferenceWrapper(model)\n",
    "\n",
    "# Move images to device\n",
    "images = images.to(DEVICE)\n",
    "\n",
    "# Make predictions with class names\n",
    "result = inference_wrapper.predict(images)\n",
    "logger.info(f\"Predicted classes: {result['class_name']}\")\n",
    "logger.info(f\"True labels: {[QUICKDRAW_CATEGORIES[label.item()] for label in labels]}\")"
   ]
  },
  {
   "cell_type": "code",
   "execution_count": null,
   "metadata": {
    "execution": {
     "execution_failed": "2025-09-11T03:54:02.657Z"
    },
    "id": "MpNhjdOA3em_"
   },
   "outputs": [],
   "source": [
    "def save_sample_images(images, labels, predictions, class_names, save_dir=\"./sample_images\"):\n",
    "    \"\"\"Save sample images with their true and predicted labels\"\"\"\n",
    "    # Create directory if it doesn't exist\n",
    "    if not os.path.exists(save_dir):\n",
    "        os.makedirs(save_dir)\n",
    "\n",
    "    # Convert tensor images to PIL for saving\n",
    "    for i in range(min(5, len(images))):\n",
    "        # Convert tensor to PIL image\n",
    "        img_tensor = images[i].cpu()\n",
    "        img = T.ToPILImage()(img_tensor)\n",
    "\n",
    "        true_label = class_names[labels[i].item()]\n",
    "        pred_label = predictions['class_name'][i]\n",
    "\n",
    "        # Save image with informative filename\n",
    "        filename = f\"{save_dir}/sample_{i+1}_{true_label}_pred_{pred_label}.png\"\n",
    "        img.save(filename)\n",
    "        logger.info(f\"Saved sample image to {filename}\")"
   ]
  },
  {
   "cell_type": "markdown",
   "metadata": {
    "id": "_9uz7CQW3em_"
   },
   "source": [
    "### Trying Ensemble of Models"
   ]
  },
  {
   "cell_type": "code",
   "execution_count": null,
   "metadata": {
    "execution": {
     "execution_failed": "2025-09-11T03:54:02.658Z"
    },
    "id": "VSFDluWi3em_"
   },
   "outputs": [],
   "source": [
    "# import torch.nn.functional as F\n",
    "\n",
    "# class EnhancedEnsembleModel(nn.Module):\n",
    "#     def __init__(self, models, weights=None, device=DEVICE, method='average'):\n",
    "#         super().__init__()\n",
    "#         self.models = models\n",
    "#         # Initialize with equal weights if none provided\n",
    "#         self.weights = weights if weights is not None else [1.0/len(models)] * len(models)\n",
    "#         self.device = device\n",
    "#         self.method = method  # 'average' or 'stack'\n",
    "\n",
    "#         # Register weights as a parameter so they can be optimized\n",
    "#         self.learned_weights = nn.Parameter(torch.tensor(self.weights, device=device))\n",
    "\n",
    "#         # For stacking method, add a meta-classifier\n",
    "#         if self.method == 'stack':\n",
    "#             # Input size: number of classes * number of models\n",
    "#             # Each model produces probabilities for each class\n",
    "#             input_size = len(QUICKDRAW_CATEGORIES) * len(models)\n",
    "#             self.meta_classifier = nn.Sequential(\n",
    "#                 nn.Linear(input_size, 512),\n",
    "#                 nn.ReLU(),\n",
    "#                 nn.Dropout(0.3),\n",
    "#                 nn.Linear(512, len(QUICKDRAW_CATEGORIES))\n",
    "#             )\n",
    "\n",
    "#     def to(self, device):\n",
    "#         \"\"\"Properly move all components to the specified device\"\"\"\n",
    "#         self.device = device\n",
    "#         for model in self.models:\n",
    "#             model.to(device)\n",
    "#         if hasattr(self, 'meta_classifier'):\n",
    "#             self.meta_classifier.to(device)\n",
    "#         return super().to(device)  # This moves the learned_weights parameter\n",
    "\n",
    "#     def eval(self):\n",
    "#         for model in self.models:\n",
    "#             model.eval()\n",
    "#         super().eval()\n",
    "\n",
    "#     def train(self, mode=True):\n",
    "#         for model in self.models:\n",
    "#             model.train(mode)\n",
    "#         super().train(mode)\n",
    "\n",
    "#     def forward(self, x):\n",
    "#         if self.method == 'average':\n",
    "#             return self._forward_average(x)\n",
    "#         elif self.method == 'stack':\n",
    "#             return self._forward_stack(x)\n",
    "#         else:\n",
    "#             raise ValueError(f\"Unknown ensemble method: {self.method}\")\n",
    "\n",
    "#     def _forward_average(self, x):\n",
    "#         \"\"\"Weighted averaging of model outputs\"\"\"\n",
    "#         # Apply softmax to learned weights\n",
    "#         normalized_weights = F.softmax(self.learned_weights, dim=0)\n",
    "\n",
    "#         # Apply torch.set_grad_enabled based on training mode\n",
    "#         with torch.set_grad_enabled(self.training):\n",
    "#             outputs = []\n",
    "#             for i, model in enumerate(self.models):\n",
    "#                 output = model(x)\n",
    "#                 # Apply softmax to get probabilities\n",
    "#                 probs = F.softmax(output, dim=1)\n",
    "#                 # Apply weight for this model\n",
    "#                 outputs.append(probs * normalized_weights[i])\n",
    "\n",
    "#             # Sum the weighted outputs\n",
    "#             combined = torch.stack(outputs).sum(dim=0)\n",
    "#             # Convert back to logits for compatibility with CrossEntropyLoss\n",
    "#             return torch.log(combined + 1e-8)\n",
    "\n",
    "#     def _forward_stack(self, x):\n",
    "#         \"\"\"Stacking method - use a meta-classifier on concatenated model outputs\"\"\"\n",
    "#         all_probs = []\n",
    "\n",
    "#         # Get predictions from all models\n",
    "#         for model in self.models:\n",
    "#             with torch.set_grad_enabled(self.training):\n",
    "#                 output = model(x)\n",
    "#                 probs = F.softmax(output, dim=1)\n",
    "#                 all_probs.append(probs)\n",
    "\n",
    "#         # Concatenate all probabilities into a single feature vector\n",
    "#         combined = torch.cat(all_probs, dim=1)\n",
    "\n",
    "#         # Ensure combined tensor is on the same device as the meta-classifier\n",
    "#         # This is the key fix for the device mismatch error\n",
    "#         combined = combined.to(self.device)\n",
    "\n",
    "#         # Feed through meta-classifier\n",
    "#         return self.meta_classifier(combined)\n",
    "\n",
    "# def export_ensemble_for_deployment(ensemble, model_path):\n",
    "#     \"\"\"Create a portable ensemble model package with all required components\"\"\"\n",
    "#     # Get git info\n",
    "#     git_info = get_git_info()\n",
    "\n",
    "#     # Create a dictionary containing all necessary information\n",
    "#     export_data = {\n",
    "#         'state_dict': ensemble.state_dict(),\n",
    "#         'model_weights': [m.state_dict() for m in ensemble.models],\n",
    "#         'learned_weights': ensemble.learned_weights.detach().cpu().numpy().tolist(),\n",
    "#         'class_names': QUICKDRAW_CATEGORIES,\n",
    "#         'git_info': git_info,\n",
    "#         'samples_per_category': NUM_TRAIN_SAMPLES_PER_CATEGORY,\n",
    "#         'finetune_epochs': NUM_FINETUNE_EPOCHS\n",
    "#     }\n",
    "#     # Save to file\n",
    "#     torch.save(export_data, model_path)\n",
    "#     logger.info(f\"Portable ensemble saved to {model_path}\")\n",
    "\n",
    "#     return model_path\n",
    "\n"
   ]
  },
  {
   "cell_type": "markdown",
   "metadata": {
    "id": "jBdbcaPw3enA"
   },
   "source": [
    "### Using Model Stack Ensembling Approach"
   ]
  },
  {
   "cell_type": "code",
   "execution_count": null,
   "metadata": {
    "execution": {
     "execution_failed": "2025-09-11T03:54:02.659Z"
    },
    "id": "UulhJ5N53enA"
   },
   "outputs": [],
   "source": [
    "# def train_ensemble_weights(ensemble, epochs=5):\n",
    "#     \"\"\"Train the ensemble weights using a small validation set\"\"\"\n",
    "#     # Load a small validation set\n",
    "#     _, val_dataset, _ = get_augmented_quickdraw_data(\n",
    "#         QUICKDRAW_CATEGORIES,\n",
    "#         NUM_TRAIN_SAMPLES_PER_CATEGORY // 10,  # Use a smaller subset\n",
    "#         NUM_TEST_SAMPLES_PER_CATEGORY // 5,\n",
    "#         BINARY_DATA_ROOT\n",
    "#     )\n",
    "\n",
    "#     val_loader = DataLoader(val_dataset, batch_size=64, shuffle=True, num_workers=2)\n",
    "\n",
    "#     # Only train the ensemble weights, not the individual models\n",
    "#     for model in ensemble.models:\n",
    "#         for param in model.parameters():\n",
    "#             param.requires_grad = False\n",
    "\n",
    "#     # Set ensemble to training mode\n",
    "#     ensemble.train()\n",
    "\n",
    "#     # Use optimizer only for the learned weights\n",
    "#     optimizer = optim.Adam([ensemble.learned_weights], lr=0.01)\n",
    "#     criterion = nn.CrossEntropyLoss()\n",
    "\n",
    "#     logger.info(f\"Training ensemble weights for {epochs} epochs...\")\n",
    "#     for epoch in range(epochs):\n",
    "#         running_loss = 0.0\n",
    "#         correct = 0\n",
    "#         total = 0\n",
    "\n",
    "#         for images, labels in tqdm(val_loader, desc=f\"Epoch {epoch+1}/{epochs}\"):\n",
    "#             images, labels = images.to(DEVICE), labels.to(DEVICE)\n",
    "\n",
    "#             optimizer.zero_grad()\n",
    "#             outputs = ensemble(images)\n",
    "#             loss = criterion(outputs, labels)\n",
    "#             loss.backward()\n",
    "#             optimizer.step()\n",
    "\n",
    "#             running_loss += loss.item() * images.size(0)\n",
    "#             _, predicted = torch.max(outputs, 1)\n",
    "#             correct += (predicted == labels).sum().item()\n",
    "#             total += labels.size(0)\n",
    "\n",
    "#         # logger.info epoch statistics\n",
    "#         epoch_loss = running_loss / total\n",
    "#         epoch_acc = 100 * correct / total\n",
    "#         logger.info(f\"Epoch {epoch+1}/{epochs} - Loss: {epoch_loss:.4f}, Acc: {epoch_acc:.2f}%\")\n",
    "\n",
    "#         # logger.info current weights\n",
    "#         normalized_weights = F.softmax(ensemble.learned_weights, dim=0).cpu().detach().numpy()\n",
    "#         weight_str = \", \".join([f\"{w:.4f}\" for w in normalized_weights])\n",
    "#         logger.info(f\"Current weights: [{weight_str}]\")\n",
    "\n",
    "#     # Switch back to evaluation mode\n",
    "#     ensemble.eval()\n",
    "#     return ensemble"
   ]
  },
  {
   "cell_type": "markdown",
   "metadata": {
    "id": "0KJoCWKq3enA"
   },
   "source": [
    "### Ensemble Evaluation"
   ]
  },
  {
   "cell_type": "code",
   "execution_count": null,
   "metadata": {
    "execution": {
     "execution_failed": "2025-09-11T03:54:02.661Z"
    },
    "id": "FYjvWD373enA"
   },
   "outputs": [],
   "source": [
    "# def load_model_wrapper(wrapper_class, model_name):\n",
    "#     \"\"\"Helper to load a model with proper error handling\"\"\"\n",
    "#     try:\n",
    "#         model_path = f\"{MODEL_SAVE_PATH}/{model_name}_best{LATEST_PATH}.pth\"\n",
    "#         wrapper = wrapper_class()\n",
    "#         wrapper.model.load_state_dict(torch.load(model_path))\n",
    "#         wrapper.model.eval()  # Set to evaluation mode\n",
    "#         logger.info(f\"Successfully loaded {model_name} from {model_path}\")\n",
    "#         return wrapper\n",
    "#     except Exception as e:\n",
    "#         logger.info(f\"Failed to load {model_name}: {e}\")\n",
    "#         return None\n",
    "\n",
    "\n",
    "# def evaluate_ensemble(method='average', test_loader=None):\n",
    "#     logger.info(f\"Evaluating ensemble using {method} method...\")\n",
    "\n",
    "#     # Load the models using the wrappers\n",
    "#     try:\n",
    "\n",
    "#         # Explicitly flush handlers after a significant phase\n",
    "#         for handler in logger.handlers:\n",
    "#             if isinstance(handler, logging.FileHandler):\n",
    "#                 handler.flush()\n",
    "\n",
    "#         # Use the helper function to load models\n",
    "#         mobilenet_wrapper = load_model_wrapper(\n",
    "#             MobileNetV3Wrapper, \"MobileNetV3-Small\")\n",
    "#         squeezenet_wrapper = load_model_wrapper(\n",
    "#             SqueezeNetWrapper, \"SqueezeNet1_1\")\n",
    "#         shufflenet_wrapper = load_model_wrapper(\n",
    "#             ShuffleNetV2Wrapper, \"ShuffleNetV2_x0_5\")\n",
    "\n",
    "#         models = []\n",
    "#         initial_weights = []\n",
    "\n",
    "#         # Add models that were successfully loaded\n",
    "#         if mobilenet_wrapper and squeezenet_wrapper:\n",
    "#             models.extend([mobilenet_wrapper.model, squeezenet_wrapper.model])\n",
    "#             initial_weights.extend([0.4, 0.3])\n",
    "\n",
    "#             # Try to add ShuffleNet if available\n",
    "#             if shufflenet_wrapper:\n",
    "#                 models.append(shufflenet_wrapper.model)\n",
    "#                 initial_weights.append(0.3)\n",
    "#                 logger.info(\n",
    "#                     f\"Using 3-model ensemble ({method} method) with MobileNet, SqueezeNet, ShuffleNet\")\n",
    "#             else:\n",
    "#                 # Rebalance weights for 2-model ensemble\n",
    "#                 initial_weights = [0.6, 0.4]\n",
    "#                 logger.info(\"Using 2-model ensemble (MobileNet, SqueezeNet)\")\n",
    "#         else:\n",
    "#             raise ValueError(\"Could not load enough models for ensemble\")\n",
    "\n",
    "#         # Create enhanced ensemble with the available models\n",
    "#         ensemble = EnhancedEnsembleModel(\n",
    "#             models, weights=initial_weights, method=method)\n",
    "\n",
    "#     except Exception as e:\n",
    "#         logger.info(f\"Could not load models: {e}. Cannot create ensemble.\")\n",
    "#         return None\n",
    "\n",
    "#     # Move ensemble to device\n",
    "#     ensemble.to(DEVICE)\n",
    "#     ensemble.eval()\n",
    "\n",
    "#     # Load test data if not provided\n",
    "#     if test_loader is None:\n",
    "#         _, _, test_dataset = get_augmented_quickdraw_data(\n",
    "#             QUICKDRAW_CATEGORIES,\n",
    "#             NUM_TRAIN_SAMPLES_PER_CATEGORY,\n",
    "#             NUM_TEST_SAMPLES_PER_CATEGORY,\n",
    "#             BINARY_DATA_ROOT\n",
    "#         )\n",
    "\n",
    "#         test_loader = DataLoader(test_dataset, batch_size=64, shuffle=False, num_workers=4, pin_memory=True,\n",
    "#                                  prefetch_factor=3)\n",
    "\n",
    "#     # If using stacking method, train the meta-classifier first\n",
    "#     if method == 'stack':\n",
    "#         logger.info(\"Training meta-classifier for stacking ensemble...\")\n",
    "#         # Create a small dataset for training the meta-classifier\n",
    "#         _, val_dataset, _ = get_augmented_quickdraw_data(\n",
    "#             QUICKDRAW_CATEGORIES,\n",
    "#             NUM_TRAIN_SAMPLES_PER_CATEGORY // 5,  # Use a smaller subset\n",
    "#             NUM_TEST_SAMPLES_PER_CATEGORY // 5,\n",
    "#             BINARY_DATA_ROOT\n",
    "#         )\n",
    "\n",
    "#         val_loader = DataLoader(\n",
    "#             val_dataset, batch_size=64, shuffle=True, num_workers=2,\n",
    "#             prefetch_factor=3)\n",
    "\n",
    "#         # Freeze base models\n",
    "#         for model in ensemble.models:\n",
    "#             for param in model.parameters():\n",
    "#                 param.requires_grad = False\n",
    "\n",
    "#         # Only train meta-classifier\n",
    "#         optimizer = optim.Adam(ensemble.meta_classifier.parameters(), lr=0.001)\n",
    "#         criterion = nn.CrossEntropyLoss()\n",
    "\n",
    "#         # Train for a few epochs\n",
    "#         ensemble.train()\n",
    "#         for epoch in range(5):\n",
    "\n",
    "#             # Explicitly flush handlers after a significant phase\n",
    "#             for handler in logger.handlers:\n",
    "#                 if isinstance(handler, logging.FileHandler):\n",
    "#                     handler.flush()\n",
    "\n",
    "#             running_loss = 0.0\n",
    "#             correct = 0\n",
    "#             total = 0\n",
    "\n",
    "#             for images, labels in tqdm(val_loader, desc=f\"Meta-classifier epoch {epoch+1}/5\"):\n",
    "#                 images, labels = images.to(DEVICE), labels.to(DEVICE)\n",
    "\n",
    "#                 optimizer.zero_grad()\n",
    "#                 outputs = ensemble(images)\n",
    "#                 loss = criterion(outputs, labels)\n",
    "#                 loss.backward()\n",
    "#                 optimizer.step()\n",
    "\n",
    "#                 running_loss += loss.item() * images.size(0)\n",
    "#                 _, predicted = torch.max(outputs, 1)\n",
    "#                 correct += (predicted == labels).sum().item()\n",
    "#                 total += labels.size(0)\n",
    "\n",
    "#             epoch_loss = running_loss / total\n",
    "#             epoch_acc = 100 * correct / total\n",
    "#             logger.info(f\"Meta-classifier Epoch {epoch+1}/5 - Loss: {epoch_loss:.4f}, Acc: {epoch_acc:.2f}%\")\n",
    "\n",
    "#         ensemble.eval()\n",
    "#         clear_gpu_memory()  # Add explicit memory cleanup after training\n",
    "\n",
    "#     # For the averaging method, train the weights\n",
    "#     elif method == 'average':\n",
    "#         logger.info(\"Training ensemble weights for averaging method...\")\n",
    "#         ensemble = train_ensemble_weights(ensemble, epochs=3)\n",
    "#         clear_gpu_memory()  # Add explicit memory cleanup after training\n",
    "\n",
    "#     # Evaluate\n",
    "#     model_correct = {\n",
    "#         \"mobilenet\": 0,\n",
    "#         \"squeezenet\": 0,\n",
    "#         \"shufflenet\": 0 if len(models) > 2 else None,\n",
    "#         \"ensemble\": 0\n",
    "#     }\n",
    "#     total = 0\n",
    "\n",
    "#     logger.info(\"Evaluating ensemble vs individual models...\")\n",
    "#     with torch.no_grad():\n",
    "#         for images, labels in tqdm(test_loader, desc=\"Evaluating models\"):\n",
    "#             images, labels = images.to(DEVICE), labels.to(DEVICE)\n",
    "\n",
    "#             # Get predictions from individual models\n",
    "#             mobilenet_outputs = mobilenet_wrapper.model(images)\n",
    "#             squeezenet_outputs = squeezenet_wrapper.model(images)\n",
    "\n",
    "#             # Get ensemble prediction\n",
    "#             ensemble_outputs = ensemble(images)\n",
    "\n",
    "#             # Calculate accuracy for each model\n",
    "#             _, mobilenet_preds = torch.max(mobilenet_outputs, 1)\n",
    "#             _, squeezenet_preds = torch.max(squeezenet_outputs, 1)\n",
    "#             _, ensemble_preds = torch.max(ensemble_outputs, 1)\n",
    "\n",
    "#             # Update correct counts\n",
    "#             model_correct[\"mobilenet\"] += (mobilenet_preds ==\n",
    "#                                            labels).sum().item()\n",
    "#             model_correct[\"squeezenet\"] += (squeezenet_preds ==\n",
    "#                                             labels).sum().item()\n",
    "\n",
    "#             # Only evaluate ShuffleNet if it's part of the ensemble\n",
    "#             if len(models) > 2 and shufflenet_wrapper:\n",
    "#                 shufflenet_outputs = shufflenet_wrapper.model(images)\n",
    "#                 _, shufflenet_preds = torch.max(shufflenet_outputs, 1)\n",
    "#                 model_correct[\"shufflenet\"] += (shufflenet_preds ==\n",
    "#                                                 labels).sum().item()\n",
    "\n",
    "#             model_correct[\"ensemble\"] += (ensemble_preds ==\n",
    "#                                           labels).sum().item()\n",
    "\n",
    "#             total += labels.size(0)\n",
    "\n",
    "#     # Calculate and logger.info accuracies\n",
    "#     logger.info(f\"\\n--- Model Accuracy Comparison ({method} method) ---\")\n",
    "#     mobilenet_acc = 100 * model_correct[\"mobilenet\"] / total\n",
    "#     logger.info(f\"MobileNetV3:  {mobilenet_acc:.2f}%\")\n",
    "\n",
    "#     squeezenet_acc = 100 * model_correct[\"squeezenet\"] / total\n",
    "#     logger.info(f\"SqueezeNet:   {squeezenet_acc:.2f}%\")\n",
    "\n",
    "#     # Only logger.info ShuffleNet accuracy if it's part of the ensemble\n",
    "#     if model_correct[\"shufflenet\"] is not None:\n",
    "#         shufflenet_acc = 100 * model_correct[\"shufflenet\"] / total\n",
    "#         logger.info(f\"ShuffleNetV2: {shufflenet_acc:.2f}%\")\n",
    "#         best_single = max(mobilenet_acc, squeezenet_acc, shufflenet_acc)\n",
    "#     else:\n",
    "#         best_single = max(mobilenet_acc, squeezenet_acc)\n",
    "\n",
    "#     ensemble_acc = 100 * model_correct[\"ensemble\"] / total\n",
    "#     logger.info(f\"Ensemble ({method}): {ensemble_acc:.2f}%\")\n",
    "\n",
    "#     # Calculate improvement\n",
    "#     improvement = ensemble_acc - best_single\n",
    "#     logger.info(\n",
    "#         f\"\\nEnsemble improves accuracy by {improvement:.2f}% over the best single model\")\n",
    "\n",
    "#     # For averaging method, logger.info the learned weights\n",
    "#     if method == 'average':\n",
    "#         normalized_weights = F.softmax(\n",
    "#             ensemble.learned_weights, dim=0).cpu().detach().numpy()\n",
    "#         logger.info(\"\\nLearned model weights in ensemble:\")\n",
    "#         logger.info(f\"MobileNetV3:  {normalized_weights[0]:.4f}\")\n",
    "#         logger.info(f\"SqueezeNet:   {normalized_weights[1]:.4f}\")\n",
    "#         if len(models) > 2:\n",
    "#             logger.info(f\"ShuffleNetV2: {normalized_weights[2]:.4f}\")\n",
    "\n",
    "#     # Save the ensemble model with error handling\n",
    "#     try:\n",
    "#         ensemble_path = f\"{MODEL_SAVE_PATH}/ensemble_model_{method}{LATEST_PATH}.pth\"\n",
    "\n",
    "#         # Use the export function for a fully portable model with error handling\n",
    "#         try:\n",
    "#             export_path = export_ensemble_for_deployment(ensemble, ensemble_path)\n",
    "#             logger.info(f\"Ensemble model exported to {export_path}\")\n",
    "#         except Exception as e:\n",
    "#             logger.error(f\"Failed to export ensemble: {e}\")\n",
    "#             # Try a simpler export approach\n",
    "#             torch.save(ensemble.state_dict(), ensemble_path)\n",
    "#             logger.info(f\"Saved ensemble state dict to {ensemble_path} (fallback method)\")\n",
    "\n",
    "#         # Also evaluate class-wise performance\n",
    "#         logger.info(\"\\nEvaluating class-wise performance...\")\n",
    "#         class_accuracies = evaluate_model_by_class(\n",
    "#             ensemble, test_loader, QUICKDRAW_CATEGORIES)\n",
    "\n",
    "#         # Save class accuracies with compression\n",
    "#         class_acc_path = f\"{MODEL_SAVE_PATH}/ensemble_{method}_class_accuracies{LATEST_PATH}.json.gz\"\n",
    "#         with gzip.open(class_acc_path, 'wt') as f:\n",
    "#             json.dump(class_accuracies, f, indent=2)\n",
    "#         logger.info(f\"Class accuracies saved to {class_acc_path}\")\n",
    "#     except Exception as e:\n",
    "#         logger.info(f\"Could not save ensemble model: {e}\")\n",
    "\n",
    "#     # Format results for saving\n",
    "#     ensemble_results = [\n",
    "#         {\n",
    "#             'model_name': 'MobileNetV3',\n",
    "#             'accuracy': mobilenet_acc,\n",
    "#             'ensemble_method': method\n",
    "#         },\n",
    "#         {\n",
    "#             'model_name': 'SqueezeNet',\n",
    "#             'accuracy': squeezenet_acc,\n",
    "#             'ensemble_method': method\n",
    "#         },\n",
    "#         {\n",
    "#             'model_name': f'Ensemble ({method})',\n",
    "#             'accuracy': ensemble_acc,\n",
    "#             'improvement_over_best': improvement,\n",
    "#             'ensemble_method': method\n",
    "#         }\n",
    "#     ]\n",
    "\n",
    "#     # Add ShuffleNet if it was used\n",
    "#     if model_correct[\"shufflenet\"] is not None:\n",
    "#         ensemble_results.insert(2, {\n",
    "#             'model_name': 'ShuffleNetV2',\n",
    "#             'accuracy': shufflenet_acc,\n",
    "#             'ensemble_method': method\n",
    "#         })\n",
    "\n",
    "#     # Save results\n",
    "#     save_benchmark_results(ensemble_results, benchmark_type=f'ensemble_{method}')\n",
    "#     # Return ensemble for later use\n",
    "#     return ensemble"
   ]
  },
  {
   "cell_type": "code",
   "execution_count": null,
   "metadata": {
    "colab": {
     "referenced_widgets": [
      "d6cadb164bef4289b85bcef564beb7d9",
      "2b8bcf64631a4c6e8d7934382d3d64a2",
      "15a654e7b17d496fa41be55cf5b8b87d",
      "491e992c5bb7412b85f947147c76c4cb",
      "e3f463c9abc44642b22bf0153cc39693",
      "9674b4e44eaf4dff883495395a989655",
      "1ea9deda72294654b94276d7ae0e3ea0",
      "5194cf675f834dcc8890cd7786909b7d",
      "8a3088b0b3ff46d8b96723dc4b401cbf",
      "da452992e1bf428bba9c16149f5c3889",
      "c840465f85ae4abd92136224c57f9273",
      "b1db9b051b584b119fcc9e33ffadcb8e"
     ]
    },
    "execution": {
     "execution_failed": "2025-09-11T03:54:02.663Z"
    },
    "id": "KP_Eb21Y3enB",
    "outputId": "c08d3aed-08ab-45aa-b743-f0e7aa8b5b3e"
   },
   "outputs": [],
   "source": [
    "# # Run ensemble evaluation with averaging method\n",
    "# logger.info(\"=\"*50)\n",
    "# logger.info(\"EVALUATING ENSEMBLE WITH AVERAGING METHOD\")\n",
    "# logger.info(\"=\"*50)\n",
    "# averaging_ensemble = evaluate_ensemble(method='average')\n",
    "\n",
    "# # Run ensemble evaluation with stacking method\n",
    "# logger.info(\"=\"*50)\n",
    "# logger.info(\"EVALUATING ENSEMBLE WITH STACKING METHOD\")\n",
    "# logger.info(\"=\"*50)\n",
    "# stacking_ensemble = evaluate_ensemble(method='stack')\n",
    "\n",
    "# # Compare the results\n",
    "# logger.info(\"=\"*50)\n",
    "# logger.info(\"ENSEMBLE METHOD COMPARISON\")\n",
    "# logger.info(\"=\"*50)\n",
    "# logger.info(\"If both methods ran successfully, you can compare their performance.\")\n",
    "# logger.info(\"The stacking method usually performs better when there are complementary strengths\")\n",
    "# logger.info(\"in the base models, while averaging is more robust to overfitting.\")\n",
    "\n",
    "# # Save sample inference images\n",
    "# _, _, test_dataset = get_augmented_quickdraw_data(\n",
    "#     QUICKDRAW_CATEGORIES[:10],  # Using just first 10 categories for faster loading\n",
    "#     10,  # Small number of samples per category\n",
    "#     5,\n",
    "#     BINARY_DATA_ROOT\n",
    "# )\n",
    "\n",
    "# # Create a small test loader\n",
    "# test_loader = DataLoader(test_dataset, batch_size=5, shuffle=True)\n",
    "\n",
    "# # Get a batch of test images\n",
    "# try:\n",
    "#     images, labels = next(iter(test_loader))\n",
    "#     images = images.to(DEVICE)\n",
    "\n",
    "#     # Create inference wrapper for the best ensemble\n",
    "#     best_ensemble = averaging_ensemble  # You can change this to stacking_ensemble if it performs better\n",
    "#     if best_ensemble is not None:\n",
    "#         inference_wrapper = ClassNameInferenceWrapper(best_ensemble, IDX_TO_CLASS)\n",
    "\n",
    "#         # Make predictions\n",
    "#         predictions = inference_wrapper.predict(images)\n",
    "\n",
    "#         # Save sample images\n",
    "#         save_sample_images(\n",
    "#             images,\n",
    "#             labels,\n",
    "#             predictions,\n",
    "#             QUICKDRAW_CATEGORIES,\n",
    "#             save_dir=\"./sample_ensemble_predictions\"\n",
    "#         )\n",
    "# except Exception as e:\n",
    "#     logger.info(f\"Error saving sample images: {e}\")\n",
    "\n",
    "\n",
    "# # Explicitly flush handlers after a significant phase\n",
    "# for handler in logger.handlers:\n",
    "#     if isinstance(handler, logging.FileHandler):\n",
    "#         handler.flush()\n"
   ]
  },
  {
   "cell_type": "code",
   "execution_count": null,
   "metadata": {
    "id": "dpQEbXiU3enC"
   },
   "outputs": [],
   "source": []
  }
 ],
 "metadata": {
  "accelerator": "GPU",
  "colab": {
   "gpuType": "T4",
   "provenance": []
  },
  "kernelspec": {
   "display_name": "Python 3 (ipykernel)",
   "language": "python",
   "name": "python3"
  },
  "language_info": {
   "codemirror_mode": {
    "name": "ipython",
    "version": 3
   },
   "file_extension": ".py",
   "mimetype": "text/x-python",
   "name": "python",
   "nbconvert_exporter": "python",
   "pygments_lexer": "ipython3",
   "version": "3.11.11"
  },
  "widgets": {
   "application/vnd.jupyter.widget-state+json": {
    "03a06d005c494474be1b45f984ef0d0c": {
     "model_module": "@jupyter-widgets/controls",
     "model_module_version": "1.5.0",
     "model_name": "DescriptionStyleModel",
     "state": {
      "_model_module": "@jupyter-widgets/controls",
      "_model_module_version": "1.5.0",
      "_model_name": "DescriptionStyleModel",
      "_view_count": null,
      "_view_module": "@jupyter-widgets/base",
      "_view_module_version": "1.2.0",
      "_view_name": "StyleView",
      "description_width": ""
     }
    },
    "03e35936562946108e7f0f672d135fd3": {
     "model_module": "@jupyter-widgets/controls",
     "model_module_version": "1.5.0",
     "model_name": "HBoxModel",
     "state": {
      "_dom_classes": [],
      "_model_module": "@jupyter-widgets/controls",
      "_model_module_version": "1.5.0",
      "_model_name": "HBoxModel",
      "_view_count": null,
      "_view_module": "@jupyter-widgets/controls",
      "_view_module_version": "1.5.0",
      "_view_name": "HBoxView",
      "box_style": "",
      "children": [
       "IPY_MODEL_3443f0b41abc49fcbf9338b09e9d580c",
       "IPY_MODEL_606cb79db9144ea89eae11ee7020f9a2",
       "IPY_MODEL_59be244459c84eed83ceecc45d38ccbe"
      ],
      "layout": "IPY_MODEL_197bdb4e24824c31b4f29e0eff967959"
     }
    },
    "04cb10645dc6473ea7a741510a5c6c65": {
     "model_module": "@jupyter-widgets/controls",
     "model_module_version": "1.5.0",
     "model_name": "HTMLModel",
     "state": {
      "_dom_classes": [],
      "_model_module": "@jupyter-widgets/controls",
      "_model_module_version": "1.5.0",
      "_model_name": "HTMLModel",
      "_view_count": null,
      "_view_module": "@jupyter-widgets/controls",
      "_view_module_version": "1.5.0",
      "_view_name": "HTMLView",
      "description": "",
      "description_tooltip": null,
      "layout": "IPY_MODEL_d94c4bd20d404652a191ac1b304b7313",
      "placeholder": "​",
      "style": "IPY_MODEL_e58f1982a9d54041a5d7ad08f5d30f8b",
      "value": "Validation: 100%"
     }
    },
    "0516dafa0a86430fb580f28db624523e": {
     "model_module": "@jupyter-widgets/base",
     "model_module_version": "1.2.0",
     "model_name": "LayoutModel",
     "state": {
      "_model_module": "@jupyter-widgets/base",
      "_model_module_version": "1.2.0",
      "_model_name": "LayoutModel",
      "_view_count": null,
      "_view_module": "@jupyter-widgets/base",
      "_view_module_version": "1.2.0",
      "_view_name": "LayoutView",
      "align_content": null,
      "align_items": null,
      "align_self": null,
      "border": null,
      "bottom": null,
      "display": null,
      "flex": null,
      "flex_flow": null,
      "grid_area": null,
      "grid_auto_columns": null,
      "grid_auto_flow": null,
      "grid_auto_rows": null,
      "grid_column": null,
      "grid_gap": null,
      "grid_row": null,
      "grid_template_areas": null,
      "grid_template_columns": null,
      "grid_template_rows": null,
      "height": null,
      "justify_content": null,
      "justify_items": null,
      "left": null,
      "margin": null,
      "max_height": null,
      "max_width": null,
      "min_height": null,
      "min_width": null,
      "object_fit": null,
      "object_position": null,
      "order": null,
      "overflow": null,
      "overflow_x": null,
      "overflow_y": null,
      "padding": null,
      "right": null,
      "top": null,
      "visibility": null,
      "width": null
     }
    },
    "064f4f5080c24de0939937074568bd53": {
     "model_module": "@jupyter-widgets/base",
     "model_module_version": "1.2.0",
     "model_name": "LayoutModel",
     "state": {
      "_model_module": "@jupyter-widgets/base",
      "_model_module_version": "1.2.0",
      "_model_name": "LayoutModel",
      "_view_count": null,
      "_view_module": "@jupyter-widgets/base",
      "_view_module_version": "1.2.0",
      "_view_name": "LayoutView",
      "align_content": null,
      "align_items": null,
      "align_self": null,
      "border": null,
      "bottom": null,
      "display": null,
      "flex": null,
      "flex_flow": null,
      "grid_area": null,
      "grid_auto_columns": null,
      "grid_auto_flow": null,
      "grid_auto_rows": null,
      "grid_column": null,
      "grid_gap": null,
      "grid_row": null,
      "grid_template_areas": null,
      "grid_template_columns": null,
      "grid_template_rows": null,
      "height": null,
      "justify_content": null,
      "justify_items": null,
      "left": null,
      "margin": null,
      "max_height": null,
      "max_width": null,
      "min_height": null,
      "min_width": null,
      "object_fit": null,
      "object_position": null,
      "order": null,
      "overflow": null,
      "overflow_x": null,
      "overflow_y": null,
      "padding": null,
      "right": null,
      "top": null,
      "visibility": null,
      "width": null
     }
    },
    "065f86eb179141ee98cb0c49641aed19": {
     "model_module": "@jupyter-widgets/controls",
     "model_module_version": "1.5.0",
     "model_name": "ProgressStyleModel",
     "state": {
      "_model_module": "@jupyter-widgets/controls",
      "_model_module_version": "1.5.0",
      "_model_name": "ProgressStyleModel",
      "_view_count": null,
      "_view_module": "@jupyter-widgets/base",
      "_view_module_version": "1.2.0",
      "_view_name": "StyleView",
      "bar_color": null,
      "description_width": ""
     }
    },
    "06a2fb3d003a43e7bb5631203206f1a2": {
     "model_module": "@jupyter-widgets/controls",
     "model_module_version": "1.5.0",
     "model_name": "HTMLModel",
     "state": {
      "_dom_classes": [],
      "_model_module": "@jupyter-widgets/controls",
      "_model_module_version": "1.5.0",
      "_model_name": "HTMLModel",
      "_view_count": null,
      "_view_module": "@jupyter-widgets/controls",
      "_view_module_version": "1.5.0",
      "_view_name": "HTMLView",
      "description": "",
      "description_tooltip": null,
      "layout": "IPY_MODEL_fbb770bb27154738ab93e7b1ba14957d",
      "placeholder": "​",
      "style": "IPY_MODEL_7e548dd4dbf64f58adb30091ef383baa",
      "value": "Training:  75%"
     }
    },
    "0894113001e54bffba9a3f7bc11f3f79": {
     "model_module": "@jupyter-widgets/controls",
     "model_module_version": "1.5.0",
     "model_name": "DescriptionStyleModel",
     "state": {
      "_model_module": "@jupyter-widgets/controls",
      "_model_module_version": "1.5.0",
      "_model_name": "DescriptionStyleModel",
      "_view_count": null,
      "_view_module": "@jupyter-widgets/base",
      "_view_module_version": "1.2.0",
      "_view_name": "StyleView",
      "description_width": ""
     }
    },
    "08c3ec7322cb4a4a9ce5f8c5484142d3": {
     "model_module": "@jupyter-widgets/controls",
     "model_module_version": "1.5.0",
     "model_name": "HTMLModel",
     "state": {
      "_dom_classes": [],
      "_model_module": "@jupyter-widgets/controls",
      "_model_module_version": "1.5.0",
      "_model_name": "HTMLModel",
      "_view_count": null,
      "_view_module": "@jupyter-widgets/controls",
      "_view_module_version": "1.5.0",
      "_view_name": "HTMLView",
      "description": "",
      "description_tooltip": null,
      "layout": "IPY_MODEL_a93a281a665a438b90c298bbd720195b",
      "placeholder": "​",
      "style": "IPY_MODEL_7f21ff9edd8f468392bb102439fa96df",
      "value": "Indexing full_binary_The_Eiffel_Tower.bin:  98%"
     }
    },
    "08cc8d18835d4e56b3ffb62b0e32ee1a": {
     "model_module": "@jupyter-widgets/controls",
     "model_module_version": "1.5.0",
     "model_name": "DescriptionStyleModel",
     "state": {
      "_model_module": "@jupyter-widgets/controls",
      "_model_module_version": "1.5.0",
      "_model_name": "DescriptionStyleModel",
      "_view_count": null,
      "_view_module": "@jupyter-widgets/base",
      "_view_module_version": "1.2.0",
      "_view_name": "StyleView",
      "description_width": ""
     }
    },
    "08dcb55a57a34b938f60660071d89881": {
     "model_module": "@jupyter-widgets/controls",
     "model_module_version": "1.5.0",
     "model_name": "HTMLModel",
     "state": {
      "_dom_classes": [],
      "_model_module": "@jupyter-widgets/controls",
      "_model_module_version": "1.5.0",
      "_model_name": "HTMLModel",
      "_view_count": null,
      "_view_module": "@jupyter-widgets/controls",
      "_view_module_version": "1.5.0",
      "_view_name": "HTMLView",
      "description": "",
      "description_tooltip": null,
      "layout": "IPY_MODEL_0dfb376fd328478693aa26f2ad9d9c3b",
      "placeholder": "​",
      "style": "IPY_MODEL_5a6dae2a6d384758b0741df4c4adae4b",
      "value": " 4/4 [00:05&lt;00:00,  1.41s/it]"
     }
    },
    "09f499c6d9284ab79769b87955900bcd": {
     "model_module": "@jupyter-widgets/controls",
     "model_module_version": "1.5.0",
     "model_name": "ProgressStyleModel",
     "state": {
      "_model_module": "@jupyter-widgets/controls",
      "_model_module_version": "1.5.0",
      "_model_name": "ProgressStyleModel",
      "_view_count": null,
      "_view_module": "@jupyter-widgets/base",
      "_view_module_version": "1.2.0",
      "_view_name": "StyleView",
      "bar_color": null,
      "description_width": ""
     }
    },
    "0a00a664e57e46e28b8889bc22ac1d43": {
     "model_module": "@jupyter-widgets/base",
     "model_module_version": "1.2.0",
     "model_name": "LayoutModel",
     "state": {
      "_model_module": "@jupyter-widgets/base",
      "_model_module_version": "1.2.0",
      "_model_name": "LayoutModel",
      "_view_count": null,
      "_view_module": "@jupyter-widgets/base",
      "_view_module_version": "1.2.0",
      "_view_name": "LayoutView",
      "align_content": null,
      "align_items": null,
      "align_self": null,
      "border": null,
      "bottom": null,
      "display": null,
      "flex": null,
      "flex_flow": null,
      "grid_area": null,
      "grid_auto_columns": null,
      "grid_auto_flow": null,
      "grid_auto_rows": null,
      "grid_column": null,
      "grid_gap": null,
      "grid_row": null,
      "grid_template_areas": null,
      "grid_template_columns": null,
      "grid_template_rows": null,
      "height": null,
      "justify_content": null,
      "justify_items": null,
      "left": null,
      "margin": null,
      "max_height": null,
      "max_width": null,
      "min_height": null,
      "min_width": null,
      "object_fit": null,
      "object_position": null,
      "order": null,
      "overflow": null,
      "overflow_x": null,
      "overflow_y": null,
      "padding": null,
      "right": null,
      "top": null,
      "visibility": null,
      "width": null
     }
    },
    "0b6d4b26ea804de395aa3b38ba70207b": {
     "model_module": "@jupyter-widgets/base",
     "model_module_version": "1.2.0",
     "model_name": "LayoutModel",
     "state": {
      "_model_module": "@jupyter-widgets/base",
      "_model_module_version": "1.2.0",
      "_model_name": "LayoutModel",
      "_view_count": null,
      "_view_module": "@jupyter-widgets/base",
      "_view_module_version": "1.2.0",
      "_view_name": "LayoutView",
      "align_content": null,
      "align_items": null,
      "align_self": null,
      "border": null,
      "bottom": null,
      "display": null,
      "flex": null,
      "flex_flow": null,
      "grid_area": null,
      "grid_auto_columns": null,
      "grid_auto_flow": null,
      "grid_auto_rows": null,
      "grid_column": null,
      "grid_gap": null,
      "grid_row": null,
      "grid_template_areas": null,
      "grid_template_columns": null,
      "grid_template_rows": null,
      "height": null,
      "justify_content": null,
      "justify_items": null,
      "left": null,
      "margin": null,
      "max_height": null,
      "max_width": null,
      "min_height": null,
      "min_width": null,
      "object_fit": null,
      "object_position": null,
      "order": null,
      "overflow": null,
      "overflow_x": null,
      "overflow_y": null,
      "padding": null,
      "right": null,
      "top": null,
      "visibility": null,
      "width": null
     }
    },
    "0c0badb4dcf8484cb1ec3966c0b98f55": {
     "model_module": "@jupyter-widgets/base",
     "model_module_version": "1.2.0",
     "model_name": "LayoutModel",
     "state": {
      "_model_module": "@jupyter-widgets/base",
      "_model_module_version": "1.2.0",
      "_model_name": "LayoutModel",
      "_view_count": null,
      "_view_module": "@jupyter-widgets/base",
      "_view_module_version": "1.2.0",
      "_view_name": "LayoutView",
      "align_content": null,
      "align_items": null,
      "align_self": null,
      "border": null,
      "bottom": null,
      "display": null,
      "flex": null,
      "flex_flow": null,
      "grid_area": null,
      "grid_auto_columns": null,
      "grid_auto_flow": null,
      "grid_auto_rows": null,
      "grid_column": null,
      "grid_gap": null,
      "grid_row": null,
      "grid_template_areas": null,
      "grid_template_columns": null,
      "grid_template_rows": null,
      "height": null,
      "justify_content": null,
      "justify_items": null,
      "left": null,
      "margin": null,
      "max_height": null,
      "max_width": null,
      "min_height": null,
      "min_width": null,
      "object_fit": null,
      "object_position": null,
      "order": null,
      "overflow": null,
      "overflow_x": null,
      "overflow_y": null,
      "padding": null,
      "right": null,
      "top": null,
      "visibility": "hidden",
      "width": null
     }
    },
    "0d296cc43d0b4c04895f8dc8ee8f7f66": {
     "model_module": "@jupyter-widgets/base",
     "model_module_version": "1.2.0",
     "model_name": "LayoutModel",
     "state": {
      "_model_module": "@jupyter-widgets/base",
      "_model_module_version": "1.2.0",
      "_model_name": "LayoutModel",
      "_view_count": null,
      "_view_module": "@jupyter-widgets/base",
      "_view_module_version": "1.2.0",
      "_view_name": "LayoutView",
      "align_content": null,
      "align_items": null,
      "align_self": null,
      "border": null,
      "bottom": null,
      "display": null,
      "flex": null,
      "flex_flow": null,
      "grid_area": null,
      "grid_auto_columns": null,
      "grid_auto_flow": null,
      "grid_auto_rows": null,
      "grid_column": null,
      "grid_gap": null,
      "grid_row": null,
      "grid_template_areas": null,
      "grid_template_columns": null,
      "grid_template_rows": null,
      "height": null,
      "justify_content": null,
      "justify_items": null,
      "left": null,
      "margin": null,
      "max_height": null,
      "max_width": null,
      "min_height": null,
      "min_width": null,
      "object_fit": null,
      "object_position": null,
      "order": null,
      "overflow": null,
      "overflow_x": null,
      "overflow_y": null,
      "padding": null,
      "right": null,
      "top": null,
      "visibility": null,
      "width": null
     }
    },
    "0dd462fc51ed40a396b89c0f3416fa2f": {
     "model_module": "@jupyter-widgets/base",
     "model_module_version": "1.2.0",
     "model_name": "LayoutModel",
     "state": {
      "_model_module": "@jupyter-widgets/base",
      "_model_module_version": "1.2.0",
      "_model_name": "LayoutModel",
      "_view_count": null,
      "_view_module": "@jupyter-widgets/base",
      "_view_module_version": "1.2.0",
      "_view_name": "LayoutView",
      "align_content": null,
      "align_items": null,
      "align_self": null,
      "border": null,
      "bottom": null,
      "display": null,
      "flex": null,
      "flex_flow": null,
      "grid_area": null,
      "grid_auto_columns": null,
      "grid_auto_flow": null,
      "grid_auto_rows": null,
      "grid_column": null,
      "grid_gap": null,
      "grid_row": null,
      "grid_template_areas": null,
      "grid_template_columns": null,
      "grid_template_rows": null,
      "height": null,
      "justify_content": null,
      "justify_items": null,
      "left": null,
      "margin": null,
      "max_height": null,
      "max_width": null,
      "min_height": null,
      "min_width": null,
      "object_fit": null,
      "object_position": null,
      "order": null,
      "overflow": null,
      "overflow_x": null,
      "overflow_y": null,
      "padding": null,
      "right": null,
      "top": null,
      "visibility": null,
      "width": null
     }
    },
    "0dfb376fd328478693aa26f2ad9d9c3b": {
     "model_module": "@jupyter-widgets/base",
     "model_module_version": "1.2.0",
     "model_name": "LayoutModel",
     "state": {
      "_model_module": "@jupyter-widgets/base",
      "_model_module_version": "1.2.0",
      "_model_name": "LayoutModel",
      "_view_count": null,
      "_view_module": "@jupyter-widgets/base",
      "_view_module_version": "1.2.0",
      "_view_name": "LayoutView",
      "align_content": null,
      "align_items": null,
      "align_self": null,
      "border": null,
      "bottom": null,
      "display": null,
      "flex": null,
      "flex_flow": null,
      "grid_area": null,
      "grid_auto_columns": null,
      "grid_auto_flow": null,
      "grid_auto_rows": null,
      "grid_column": null,
      "grid_gap": null,
      "grid_row": null,
      "grid_template_areas": null,
      "grid_template_columns": null,
      "grid_template_rows": null,
      "height": null,
      "justify_content": null,
      "justify_items": null,
      "left": null,
      "margin": null,
      "max_height": null,
      "max_width": null,
      "min_height": null,
      "min_width": null,
      "object_fit": null,
      "object_position": null,
      "order": null,
      "overflow": null,
      "overflow_x": null,
      "overflow_y": null,
      "padding": null,
      "right": null,
      "top": null,
      "visibility": null,
      "width": null
     }
    },
    "0f59a4e81cc84744b88b759fd4eded0c": {
     "model_module": "@jupyter-widgets/base",
     "model_module_version": "1.2.0",
     "model_name": "LayoutModel",
     "state": {
      "_model_module": "@jupyter-widgets/base",
      "_model_module_version": "1.2.0",
      "_model_name": "LayoutModel",
      "_view_count": null,
      "_view_module": "@jupyter-widgets/base",
      "_view_module_version": "1.2.0",
      "_view_name": "LayoutView",
      "align_content": null,
      "align_items": null,
      "align_self": null,
      "border": null,
      "bottom": null,
      "display": null,
      "flex": null,
      "flex_flow": null,
      "grid_area": null,
      "grid_auto_columns": null,
      "grid_auto_flow": null,
      "grid_auto_rows": null,
      "grid_column": null,
      "grid_gap": null,
      "grid_row": null,
      "grid_template_areas": null,
      "grid_template_columns": null,
      "grid_template_rows": null,
      "height": null,
      "justify_content": null,
      "justify_items": null,
      "left": null,
      "margin": null,
      "max_height": null,
      "max_width": null,
      "min_height": null,
      "min_width": null,
      "object_fit": null,
      "object_position": null,
      "order": null,
      "overflow": null,
      "overflow_x": null,
      "overflow_y": null,
      "padding": null,
      "right": null,
      "top": null,
      "visibility": "hidden",
      "width": null
     }
    },
    "10926a61cb8141a282a64879f6b55804": {
     "model_module": "@jupyter-widgets/controls",
     "model_module_version": "1.5.0",
     "model_name": "HBoxModel",
     "state": {
      "_dom_classes": [],
      "_model_module": "@jupyter-widgets/controls",
      "_model_module_version": "1.5.0",
      "_model_name": "HBoxModel",
      "_view_count": null,
      "_view_module": "@jupyter-widgets/controls",
      "_view_module_version": "1.5.0",
      "_view_name": "HBoxView",
      "box_style": "",
      "children": [
       "IPY_MODEL_b302ebe939b14b86a4530260881ad914",
       "IPY_MODEL_5c901d08e3924eec8a0b76ef6183f511",
       "IPY_MODEL_c469cb560ee74c3bb7a61306ac5185c8"
      ],
      "layout": "IPY_MODEL_d0522324bf8f450d9cfa9dd4af8a0ec9"
     }
    },
    "119015e1c98c40648ee93c92bf1d52d2": {
     "model_module": "@jupyter-widgets/controls",
     "model_module_version": "1.5.0",
     "model_name": "DescriptionStyleModel",
     "state": {
      "_model_module": "@jupyter-widgets/controls",
      "_model_module_version": "1.5.0",
      "_model_name": "DescriptionStyleModel",
      "_view_count": null,
      "_view_module": "@jupyter-widgets/base",
      "_view_module_version": "1.2.0",
      "_view_name": "StyleView",
      "description_width": ""
     }
    },
    "12601abb46384393bb21edf4538b6dd5": {
     "model_module": "@jupyter-widgets/base",
     "model_module_version": "1.2.0",
     "model_name": "LayoutModel",
     "state": {
      "_model_module": "@jupyter-widgets/base",
      "_model_module_version": "1.2.0",
      "_model_name": "LayoutModel",
      "_view_count": null,
      "_view_module": "@jupyter-widgets/base",
      "_view_module_version": "1.2.0",
      "_view_name": "LayoutView",
      "align_content": null,
      "align_items": null,
      "align_self": null,
      "border": null,
      "bottom": null,
      "display": null,
      "flex": null,
      "flex_flow": null,
      "grid_area": null,
      "grid_auto_columns": null,
      "grid_auto_flow": null,
      "grid_auto_rows": null,
      "grid_column": null,
      "grid_gap": null,
      "grid_row": null,
      "grid_template_areas": null,
      "grid_template_columns": null,
      "grid_template_rows": null,
      "height": null,
      "justify_content": null,
      "justify_items": null,
      "left": null,
      "margin": null,
      "max_height": null,
      "max_width": null,
      "min_height": null,
      "min_width": null,
      "object_fit": null,
      "object_position": null,
      "order": null,
      "overflow": null,
      "overflow_x": null,
      "overflow_y": null,
      "padding": null,
      "right": null,
      "top": null,
      "visibility": null,
      "width": null
     }
    },
    "1303f86074c1430084e9af39489b7b6e": {
     "model_module": "@jupyter-widgets/base",
     "model_module_version": "1.2.0",
     "model_name": "LayoutModel",
     "state": {
      "_model_module": "@jupyter-widgets/base",
      "_model_module_version": "1.2.0",
      "_model_name": "LayoutModel",
      "_view_count": null,
      "_view_module": "@jupyter-widgets/base",
      "_view_module_version": "1.2.0",
      "_view_name": "LayoutView",
      "align_content": null,
      "align_items": null,
      "align_self": null,
      "border": null,
      "bottom": null,
      "display": null,
      "flex": null,
      "flex_flow": null,
      "grid_area": null,
      "grid_auto_columns": null,
      "grid_auto_flow": null,
      "grid_auto_rows": null,
      "grid_column": null,
      "grid_gap": null,
      "grid_row": null,
      "grid_template_areas": null,
      "grid_template_columns": null,
      "grid_template_rows": null,
      "height": null,
      "justify_content": null,
      "justify_items": null,
      "left": null,
      "margin": null,
      "max_height": null,
      "max_width": null,
      "min_height": null,
      "min_width": null,
      "object_fit": null,
      "object_position": null,
      "order": null,
      "overflow": null,
      "overflow_x": null,
      "overflow_y": null,
      "padding": null,
      "right": null,
      "top": null,
      "visibility": null,
      "width": null
     }
    },
    "1382438396c645d8a3d19623e19aa12d": {
     "model_module": "@jupyter-widgets/controls",
     "model_module_version": "1.5.0",
     "model_name": "DescriptionStyleModel",
     "state": {
      "_model_module": "@jupyter-widgets/controls",
      "_model_module_version": "1.5.0",
      "_model_name": "DescriptionStyleModel",
      "_view_count": null,
      "_view_module": "@jupyter-widgets/base",
      "_view_module_version": "1.2.0",
      "_view_name": "StyleView",
      "description_width": ""
     }
    },
    "13acbd58a8204fe2bfdabe692401ba5b": {
     "model_module": "@jupyter-widgets/controls",
     "model_module_version": "1.5.0",
     "model_name": "FloatProgressModel",
     "state": {
      "_dom_classes": [],
      "_model_module": "@jupyter-widgets/controls",
      "_model_module_version": "1.5.0",
      "_model_name": "FloatProgressModel",
      "_view_count": null,
      "_view_module": "@jupyter-widgets/controls",
      "_view_module_version": "1.5.0",
      "_view_name": "ProgressView",
      "bar_style": "",
      "description": "",
      "description_tooltip": null,
      "layout": "IPY_MODEL_f2e0d5f6293c43ff97ef95caacba37c9",
      "max": 15724411,
      "min": 0,
      "orientation": "horizontal",
      "style": "IPY_MODEL_2e8090de960c439bb4722d0d8fd1a298",
      "value": 15724411
     }
    },
    "151ba440087641329a5dadb4438a0486": {
     "model_module": "@jupyter-widgets/base",
     "model_module_version": "1.2.0",
     "model_name": "LayoutModel",
     "state": {
      "_model_module": "@jupyter-widgets/base",
      "_model_module_version": "1.2.0",
      "_model_name": "LayoutModel",
      "_view_count": null,
      "_view_module": "@jupyter-widgets/base",
      "_view_module_version": "1.2.0",
      "_view_name": "LayoutView",
      "align_content": null,
      "align_items": null,
      "align_self": null,
      "border": null,
      "bottom": null,
      "display": null,
      "flex": null,
      "flex_flow": null,
      "grid_area": null,
      "grid_auto_columns": null,
      "grid_auto_flow": null,
      "grid_auto_rows": null,
      "grid_column": null,
      "grid_gap": null,
      "grid_row": null,
      "grid_template_areas": null,
      "grid_template_columns": null,
      "grid_template_rows": null,
      "height": null,
      "justify_content": null,
      "justify_items": null,
      "left": null,
      "margin": null,
      "max_height": null,
      "max_width": null,
      "min_height": null,
      "min_width": null,
      "object_fit": null,
      "object_position": null,
      "order": null,
      "overflow": null,
      "overflow_x": null,
      "overflow_y": null,
      "padding": null,
      "right": null,
      "top": null,
      "visibility": null,
      "width": null
     }
    },
    "1708b4363b1f4dd09851840418c7fe17": {
     "model_module": "@jupyter-widgets/controls",
     "model_module_version": "1.5.0",
     "model_name": "FloatProgressModel",
     "state": {
      "_dom_classes": [],
      "_model_module": "@jupyter-widgets/controls",
      "_model_module_version": "1.5.0",
      "_model_name": "FloatProgressModel",
      "_view_count": null,
      "_view_module": "@jupyter-widgets/controls",
      "_view_module_version": "1.5.0",
      "_view_name": "ProgressView",
      "bar_style": "",
      "description": "",
      "description_tooltip": null,
      "layout": "IPY_MODEL_151ba440087641329a5dadb4438a0486",
      "max": 4,
      "min": 0,
      "orientation": "horizontal",
      "style": "IPY_MODEL_33304dc8dccb4b24ad13a72487ddab49",
      "value": 4
     }
    },
    "176a27e1739643f2be8346eb21ba043c": {
     "model_module": "@jupyter-widgets/controls",
     "model_module_version": "1.5.0",
     "model_name": "HBoxModel",
     "state": {
      "_dom_classes": [],
      "_model_module": "@jupyter-widgets/controls",
      "_model_module_version": "1.5.0",
      "_model_name": "HBoxModel",
      "_view_count": null,
      "_view_module": "@jupyter-widgets/controls",
      "_view_module_version": "1.5.0",
      "_view_name": "HBoxView",
      "box_style": "",
      "children": [
       "IPY_MODEL_7c3101e22d8649c387279c8ce5e631f3",
       "IPY_MODEL_5c81373d5230489387fd6dc8df6752ff",
       "IPY_MODEL_f56ffcb81e074bb8ada95655343996a6"
      ],
      "layout": "IPY_MODEL_300b55dd7d234a41b707c05509c4683f"
     }
    },
    "17b9fdeb951d42cb894f37cbe5c4605a": {
     "model_module": "@jupyter-widgets/base",
     "model_module_version": "1.2.0",
     "model_name": "LayoutModel",
     "state": {
      "_model_module": "@jupyter-widgets/base",
      "_model_module_version": "1.2.0",
      "_model_name": "LayoutModel",
      "_view_count": null,
      "_view_module": "@jupyter-widgets/base",
      "_view_module_version": "1.2.0",
      "_view_name": "LayoutView",
      "align_content": null,
      "align_items": null,
      "align_self": null,
      "border": null,
      "bottom": null,
      "display": null,
      "flex": null,
      "flex_flow": null,
      "grid_area": null,
      "grid_auto_columns": null,
      "grid_auto_flow": null,
      "grid_auto_rows": null,
      "grid_column": null,
      "grid_gap": null,
      "grid_row": null,
      "grid_template_areas": null,
      "grid_template_columns": null,
      "grid_template_rows": null,
      "height": null,
      "justify_content": null,
      "justify_items": null,
      "left": null,
      "margin": null,
      "max_height": null,
      "max_width": null,
      "min_height": null,
      "min_width": null,
      "object_fit": null,
      "object_position": null,
      "order": null,
      "overflow": null,
      "overflow_x": null,
      "overflow_y": null,
      "padding": null,
      "right": null,
      "top": null,
      "visibility": null,
      "width": null
     }
    },
    "18cfca02df0440c3b788e6c04447aa36": {
     "model_module": "@jupyter-widgets/controls",
     "model_module_version": "1.5.0",
     "model_name": "ProgressStyleModel",
     "state": {
      "_model_module": "@jupyter-widgets/controls",
      "_model_module_version": "1.5.0",
      "_model_name": "ProgressStyleModel",
      "_view_count": null,
      "_view_module": "@jupyter-widgets/base",
      "_view_module_version": "1.2.0",
      "_view_name": "StyleView",
      "bar_color": null,
      "description_width": ""
     }
    },
    "194222a4932046aa8547272d75809b2b": {
     "model_module": "@jupyter-widgets/controls",
     "model_module_version": "1.5.0",
     "model_name": "HBoxModel",
     "state": {
      "_dom_classes": [],
      "_model_module": "@jupyter-widgets/controls",
      "_model_module_version": "1.5.0",
      "_model_name": "HBoxModel",
      "_view_count": null,
      "_view_module": "@jupyter-widgets/controls",
      "_view_module_version": "1.5.0",
      "_view_name": "HBoxView",
      "box_style": "",
      "children": [
       "IPY_MODEL_f44f22a2ed5440b593a90a5da034dfbb",
       "IPY_MODEL_a38d27ce6510435ab498f23c995327bb",
       "IPY_MODEL_8d68dca962c6471eb88a366010ea304c"
      ],
      "layout": "IPY_MODEL_d7399dbe6efd42da9dfc12733d0a96f6"
     }
    },
    "197bdb4e24824c31b4f29e0eff967959": {
     "model_module": "@jupyter-widgets/base",
     "model_module_version": "1.2.0",
     "model_name": "LayoutModel",
     "state": {
      "_model_module": "@jupyter-widgets/base",
      "_model_module_version": "1.2.0",
      "_model_name": "LayoutModel",
      "_view_count": null,
      "_view_module": "@jupyter-widgets/base",
      "_view_module_version": "1.2.0",
      "_view_name": "LayoutView",
      "align_content": null,
      "align_items": null,
      "align_self": null,
      "border": null,
      "bottom": null,
      "display": null,
      "flex": null,
      "flex_flow": null,
      "grid_area": null,
      "grid_auto_columns": null,
      "grid_auto_flow": null,
      "grid_auto_rows": null,
      "grid_column": null,
      "grid_gap": null,
      "grid_row": null,
      "grid_template_areas": null,
      "grid_template_columns": null,
      "grid_template_rows": null,
      "height": null,
      "justify_content": null,
      "justify_items": null,
      "left": null,
      "margin": null,
      "max_height": null,
      "max_width": null,
      "min_height": null,
      "min_width": null,
      "object_fit": null,
      "object_position": null,
      "order": null,
      "overflow": null,
      "overflow_x": null,
      "overflow_y": null,
      "padding": null,
      "right": null,
      "top": null,
      "visibility": "hidden",
      "width": null
     }
    },
    "19c05f05b6824db19dc9d445bbe642de": {
     "model_module": "@jupyter-widgets/controls",
     "model_module_version": "1.5.0",
     "model_name": "DescriptionStyleModel",
     "state": {
      "_model_module": "@jupyter-widgets/controls",
      "_model_module_version": "1.5.0",
      "_model_name": "DescriptionStyleModel",
      "_view_count": null,
      "_view_module": "@jupyter-widgets/base",
      "_view_module_version": "1.2.0",
      "_view_name": "StyleView",
      "description_width": ""
     }
    },
    "1a8bc7bbd03c4be79341484c3f02330c": {
     "model_module": "@jupyter-widgets/base",
     "model_module_version": "1.2.0",
     "model_name": "LayoutModel",
     "state": {
      "_model_module": "@jupyter-widgets/base",
      "_model_module_version": "1.2.0",
      "_model_name": "LayoutModel",
      "_view_count": null,
      "_view_module": "@jupyter-widgets/base",
      "_view_module_version": "1.2.0",
      "_view_name": "LayoutView",
      "align_content": null,
      "align_items": null,
      "align_self": null,
      "border": null,
      "bottom": null,
      "display": null,
      "flex": null,
      "flex_flow": null,
      "grid_area": null,
      "grid_auto_columns": null,
      "grid_auto_flow": null,
      "grid_auto_rows": null,
      "grid_column": null,
      "grid_gap": null,
      "grid_row": null,
      "grid_template_areas": null,
      "grid_template_columns": null,
      "grid_template_rows": null,
      "height": null,
      "justify_content": null,
      "justify_items": null,
      "left": null,
      "margin": null,
      "max_height": null,
      "max_width": null,
      "min_height": null,
      "min_width": null,
      "object_fit": null,
      "object_position": null,
      "order": null,
      "overflow": null,
      "overflow_x": null,
      "overflow_y": null,
      "padding": null,
      "right": null,
      "top": null,
      "visibility": null,
      "width": null
     }
    },
    "1be13023f23746e89a77e5dcaf585cdd": {
     "model_module": "@jupyter-widgets/controls",
     "model_module_version": "1.5.0",
     "model_name": "DescriptionStyleModel",
     "state": {
      "_model_module": "@jupyter-widgets/controls",
      "_model_module_version": "1.5.0",
      "_model_name": "DescriptionStyleModel",
      "_view_count": null,
      "_view_module": "@jupyter-widgets/base",
      "_view_module_version": "1.2.0",
      "_view_name": "StyleView",
      "description_width": ""
     }
    },
    "1c3976b2bdf54e36a96dc7eedf62b8f5": {
     "model_module": "@jupyter-widgets/controls",
     "model_module_version": "1.5.0",
     "model_name": "HTMLModel",
     "state": {
      "_dom_classes": [],
      "_model_module": "@jupyter-widgets/controls",
      "_model_module_version": "1.5.0",
      "_model_name": "HTMLModel",
      "_view_count": null,
      "_view_module": "@jupyter-widgets/controls",
      "_view_module_version": "1.5.0",
      "_view_name": "HTMLView",
      "description": "",
      "description_tooltip": null,
      "layout": "IPY_MODEL_4ce231ed6e7e409eb540eb0364c398c3",
      "placeholder": "​",
      "style": "IPY_MODEL_2b741319a0fb4f0b85e00d197cc5cb7c",
      "value": " 15.0M/15.0M [00:00&lt;00:00, 28.9MiB/s]"
     }
    },
    "1e5289f0f05045fc92b229f85e5633d1": {
     "model_module": "@jupyter-widgets/controls",
     "model_module_version": "1.5.0",
     "model_name": "HBoxModel",
     "state": {
      "_dom_classes": [],
      "_model_module": "@jupyter-widgets/controls",
      "_model_module_version": "1.5.0",
      "_model_name": "HBoxModel",
      "_view_count": null,
      "_view_module": "@jupyter-widgets/controls",
      "_view_module_version": "1.5.0",
      "_view_name": "HBoxView",
      "box_style": "",
      "children": [
       "IPY_MODEL_04cb10645dc6473ea7a741510a5c6c65",
       "IPY_MODEL_ccfe491282bc450f838d458810b59eb6",
       "IPY_MODEL_d3cfd5c4418543f7aea172823680fdc6"
      ],
      "layout": "IPY_MODEL_0c0badb4dcf8484cb1ec3966c0b98f55"
     }
    },
    "1f14d446a83a46dba2223ea91f93f2a3": {
     "model_module": "@jupyter-widgets/base",
     "model_module_version": "1.2.0",
     "model_name": "LayoutModel",
     "state": {
      "_model_module": "@jupyter-widgets/base",
      "_model_module_version": "1.2.0",
      "_model_name": "LayoutModel",
      "_view_count": null,
      "_view_module": "@jupyter-widgets/base",
      "_view_module_version": "1.2.0",
      "_view_name": "LayoutView",
      "align_content": null,
      "align_items": null,
      "align_self": null,
      "border": null,
      "bottom": null,
      "display": null,
      "flex": null,
      "flex_flow": null,
      "grid_area": null,
      "grid_auto_columns": null,
      "grid_auto_flow": null,
      "grid_auto_rows": null,
      "grid_column": null,
      "grid_gap": null,
      "grid_row": null,
      "grid_template_areas": null,
      "grid_template_columns": null,
      "grid_template_rows": null,
      "height": null,
      "justify_content": null,
      "justify_items": null,
      "left": null,
      "margin": null,
      "max_height": null,
      "max_width": null,
      "min_height": null,
      "min_width": null,
      "object_fit": null,
      "object_position": null,
      "order": null,
      "overflow": null,
      "overflow_x": null,
      "overflow_y": null,
      "padding": null,
      "right": null,
      "top": null,
      "visibility": null,
      "width": null
     }
    },
    "2293520d5c2e4a089ee159aa8b3c7b9a": {
     "model_module": "@jupyter-widgets/base",
     "model_module_version": "1.2.0",
     "model_name": "LayoutModel",
     "state": {
      "_model_module": "@jupyter-widgets/base",
      "_model_module_version": "1.2.0",
      "_model_name": "LayoutModel",
      "_view_count": null,
      "_view_module": "@jupyter-widgets/base",
      "_view_module_version": "1.2.0",
      "_view_name": "LayoutView",
      "align_content": null,
      "align_items": null,
      "align_self": null,
      "border": null,
      "bottom": null,
      "display": null,
      "flex": null,
      "flex_flow": null,
      "grid_area": null,
      "grid_auto_columns": null,
      "grid_auto_flow": null,
      "grid_auto_rows": null,
      "grid_column": null,
      "grid_gap": null,
      "grid_row": null,
      "grid_template_areas": null,
      "grid_template_columns": null,
      "grid_template_rows": null,
      "height": null,
      "justify_content": null,
      "justify_items": null,
      "left": null,
      "margin": null,
      "max_height": null,
      "max_width": null,
      "min_height": null,
      "min_width": null,
      "object_fit": null,
      "object_position": null,
      "order": null,
      "overflow": null,
      "overflow_x": null,
      "overflow_y": null,
      "padding": null,
      "right": null,
      "top": null,
      "visibility": null,
      "width": null
     }
    },
    "22b68f0a112f45d2ac3976b53023444a": {
     "model_module": "@jupyter-widgets/base",
     "model_module_version": "1.2.0",
     "model_name": "LayoutModel",
     "state": {
      "_model_module": "@jupyter-widgets/base",
      "_model_module_version": "1.2.0",
      "_model_name": "LayoutModel",
      "_view_count": null,
      "_view_module": "@jupyter-widgets/base",
      "_view_module_version": "1.2.0",
      "_view_name": "LayoutView",
      "align_content": null,
      "align_items": null,
      "align_self": null,
      "border": null,
      "bottom": null,
      "display": null,
      "flex": null,
      "flex_flow": null,
      "grid_area": null,
      "grid_auto_columns": null,
      "grid_auto_flow": null,
      "grid_auto_rows": null,
      "grid_column": null,
      "grid_gap": null,
      "grid_row": null,
      "grid_template_areas": null,
      "grid_template_columns": null,
      "grid_template_rows": null,
      "height": null,
      "justify_content": null,
      "justify_items": null,
      "left": null,
      "margin": null,
      "max_height": null,
      "max_width": null,
      "min_height": null,
      "min_width": null,
      "object_fit": null,
      "object_position": null,
      "order": null,
      "overflow": null,
      "overflow_x": null,
      "overflow_y": null,
      "padding": null,
      "right": null,
      "top": null,
      "visibility": "hidden",
      "width": null
     }
    },
    "231066e8452943dfae6df2bb36853c55": {
     "model_module": "@jupyter-widgets/controls",
     "model_module_version": "1.5.0",
     "model_name": "ProgressStyleModel",
     "state": {
      "_model_module": "@jupyter-widgets/controls",
      "_model_module_version": "1.5.0",
      "_model_name": "ProgressStyleModel",
      "_view_count": null,
      "_view_module": "@jupyter-widgets/base",
      "_view_module_version": "1.2.0",
      "_view_name": "StyleView",
      "bar_color": null,
      "description_width": ""
     }
    },
    "295b8993cac943709ca481c0739d3bb1": {
     "model_module": "@jupyter-widgets/controls",
     "model_module_version": "1.5.0",
     "model_name": "HTMLModel",
     "state": {
      "_dom_classes": [],
      "_model_module": "@jupyter-widgets/controls",
      "_model_module_version": "1.5.0",
      "_model_name": "HTMLModel",
      "_view_count": null,
      "_view_module": "@jupyter-widgets/controls",
      "_view_module_version": "1.5.0",
      "_view_name": "HTMLView",
      "description": "",
      "description_tooltip": null,
      "layout": "IPY_MODEL_d887adc2e29d4c588e6c12b4a42f5cfc",
      "placeholder": "​",
      "style": "IPY_MODEL_1be13023f23746e89a77e5dcaf585cdd",
      "value": "Validation: 100%"
     }
    },
    "2a864240fbad4fe693460b3e61815e15": {
     "model_module": "@jupyter-widgets/controls",
     "model_module_version": "1.5.0",
     "model_name": "DescriptionStyleModel",
     "state": {
      "_model_module": "@jupyter-widgets/controls",
      "_model_module_version": "1.5.0",
      "_model_name": "DescriptionStyleModel",
      "_view_count": null,
      "_view_module": "@jupyter-widgets/base",
      "_view_module_version": "1.2.0",
      "_view_name": "StyleView",
      "description_width": ""
     }
    },
    "2b741319a0fb4f0b85e00d197cc5cb7c": {
     "model_module": "@jupyter-widgets/controls",
     "model_module_version": "1.5.0",
     "model_name": "DescriptionStyleModel",
     "state": {
      "_model_module": "@jupyter-widgets/controls",
      "_model_module_version": "1.5.0",
      "_model_name": "DescriptionStyleModel",
      "_view_count": null,
      "_view_module": "@jupyter-widgets/base",
      "_view_module_version": "1.2.0",
      "_view_name": "StyleView",
      "description_width": ""
     }
    },
    "2c91cdd989764c74ac6b558154437414": {
     "model_module": "@jupyter-widgets/base",
     "model_module_version": "1.2.0",
     "model_name": "LayoutModel",
     "state": {
      "_model_module": "@jupyter-widgets/base",
      "_model_module_version": "1.2.0",
      "_model_name": "LayoutModel",
      "_view_count": null,
      "_view_module": "@jupyter-widgets/base",
      "_view_module_version": "1.2.0",
      "_view_name": "LayoutView",
      "align_content": null,
      "align_items": null,
      "align_self": null,
      "border": null,
      "bottom": null,
      "display": null,
      "flex": null,
      "flex_flow": null,
      "grid_area": null,
      "grid_auto_columns": null,
      "grid_auto_flow": null,
      "grid_auto_rows": null,
      "grid_column": null,
      "grid_gap": null,
      "grid_row": null,
      "grid_template_areas": null,
      "grid_template_columns": null,
      "grid_template_rows": null,
      "height": null,
      "justify_content": null,
      "justify_items": null,
      "left": null,
      "margin": null,
      "max_height": null,
      "max_width": null,
      "min_height": null,
      "min_width": null,
      "object_fit": null,
      "object_position": null,
      "order": null,
      "overflow": null,
      "overflow_x": null,
      "overflow_y": null,
      "padding": null,
      "right": null,
      "top": null,
      "visibility": "hidden",
      "width": null
     }
    },
    "2cbb2411a5d34f40ba9b4954b699bb78": {
     "model_module": "@jupyter-widgets/controls",
     "model_module_version": "1.5.0",
     "model_name": "HTMLModel",
     "state": {
      "_dom_classes": [],
      "_model_module": "@jupyter-widgets/controls",
      "_model_module_version": "1.5.0",
      "_model_name": "HTMLModel",
      "_view_count": null,
      "_view_module": "@jupyter-widgets/controls",
      "_view_module_version": "1.5.0",
      "_view_name": "HTMLView",
      "description": "",
      "description_tooltip": null,
      "layout": "IPY_MODEL_7ae14622f2094fb3963d1e1136167c7d",
      "placeholder": "​",
      "style": "IPY_MODEL_55e8e6fc24634b76a2927a33186ca5fc",
      "value": " 1/1 [00:00&lt;00:00,  3.85it/s]"
     }
    },
    "2e8090de960c439bb4722d0d8fd1a298": {
     "model_module": "@jupyter-widgets/controls",
     "model_module_version": "1.5.0",
     "model_name": "ProgressStyleModel",
     "state": {
      "_model_module": "@jupyter-widgets/controls",
      "_model_module_version": "1.5.0",
      "_model_name": "ProgressStyleModel",
      "_view_count": null,
      "_view_module": "@jupyter-widgets/base",
      "_view_module_version": "1.2.0",
      "_view_name": "StyleView",
      "bar_color": null,
      "description_width": ""
     }
    },
    "2eed3d1b60d84c20bb700ede283c8dbc": {
     "model_module": "@jupyter-widgets/controls",
     "model_module_version": "1.5.0",
     "model_name": "ProgressStyleModel",
     "state": {
      "_model_module": "@jupyter-widgets/controls",
      "_model_module_version": "1.5.0",
      "_model_name": "ProgressStyleModel",
      "_view_count": null,
      "_view_module": "@jupyter-widgets/base",
      "_view_module_version": "1.2.0",
      "_view_name": "StyleView",
      "bar_color": null,
      "description_width": ""
     }
    },
    "2f2b9b24c99f47a3819933de4b2833fa": {
     "model_module": "@jupyter-widgets/base",
     "model_module_version": "1.2.0",
     "model_name": "LayoutModel",
     "state": {
      "_model_module": "@jupyter-widgets/base",
      "_model_module_version": "1.2.0",
      "_model_name": "LayoutModel",
      "_view_count": null,
      "_view_module": "@jupyter-widgets/base",
      "_view_module_version": "1.2.0",
      "_view_name": "LayoutView",
      "align_content": null,
      "align_items": null,
      "align_self": null,
      "border": null,
      "bottom": null,
      "display": null,
      "flex": null,
      "flex_flow": null,
      "grid_area": null,
      "grid_auto_columns": null,
      "grid_auto_flow": null,
      "grid_auto_rows": null,
      "grid_column": null,
      "grid_gap": null,
      "grid_row": null,
      "grid_template_areas": null,
      "grid_template_columns": null,
      "grid_template_rows": null,
      "height": null,
      "justify_content": null,
      "justify_items": null,
      "left": null,
      "margin": null,
      "max_height": null,
      "max_width": null,
      "min_height": null,
      "min_width": null,
      "object_fit": null,
      "object_position": null,
      "order": null,
      "overflow": null,
      "overflow_x": null,
      "overflow_y": null,
      "padding": null,
      "right": null,
      "top": null,
      "visibility": null,
      "width": null
     }
    },
    "2f5535a9128043c7be9448fbbae01264": {
     "model_module": "@jupyter-widgets/base",
     "model_module_version": "1.2.0",
     "model_name": "LayoutModel",
     "state": {
      "_model_module": "@jupyter-widgets/base",
      "_model_module_version": "1.2.0",
      "_model_name": "LayoutModel",
      "_view_count": null,
      "_view_module": "@jupyter-widgets/base",
      "_view_module_version": "1.2.0",
      "_view_name": "LayoutView",
      "align_content": null,
      "align_items": null,
      "align_self": null,
      "border": null,
      "bottom": null,
      "display": null,
      "flex": null,
      "flex_flow": null,
      "grid_area": null,
      "grid_auto_columns": null,
      "grid_auto_flow": null,
      "grid_auto_rows": null,
      "grid_column": null,
      "grid_gap": null,
      "grid_row": null,
      "grid_template_areas": null,
      "grid_template_columns": null,
      "grid_template_rows": null,
      "height": null,
      "justify_content": null,
      "justify_items": null,
      "left": null,
      "margin": null,
      "max_height": null,
      "max_width": null,
      "min_height": null,
      "min_width": null,
      "object_fit": null,
      "object_position": null,
      "order": null,
      "overflow": null,
      "overflow_x": null,
      "overflow_y": null,
      "padding": null,
      "right": null,
      "top": null,
      "visibility": null,
      "width": null
     }
    },
    "2fb413ed93564c77a556e20605ee508a": {
     "model_module": "@jupyter-widgets/controls",
     "model_module_version": "1.5.0",
     "model_name": "DescriptionStyleModel",
     "state": {
      "_model_module": "@jupyter-widgets/controls",
      "_model_module_version": "1.5.0",
      "_model_name": "DescriptionStyleModel",
      "_view_count": null,
      "_view_module": "@jupyter-widgets/base",
      "_view_module_version": "1.2.0",
      "_view_name": "StyleView",
      "description_width": ""
     }
    },
    "300b55dd7d234a41b707c05509c4683f": {
     "model_module": "@jupyter-widgets/base",
     "model_module_version": "1.2.0",
     "model_name": "LayoutModel",
     "state": {
      "_model_module": "@jupyter-widgets/base",
      "_model_module_version": "1.2.0",
      "_model_name": "LayoutModel",
      "_view_count": null,
      "_view_module": "@jupyter-widgets/base",
      "_view_module_version": "1.2.0",
      "_view_name": "LayoutView",
      "align_content": null,
      "align_items": null,
      "align_self": null,
      "border": null,
      "bottom": null,
      "display": null,
      "flex": null,
      "flex_flow": null,
      "grid_area": null,
      "grid_auto_columns": null,
      "grid_auto_flow": null,
      "grid_auto_rows": null,
      "grid_column": null,
      "grid_gap": null,
      "grid_row": null,
      "grid_template_areas": null,
      "grid_template_columns": null,
      "grid_template_rows": null,
      "height": null,
      "justify_content": null,
      "justify_items": null,
      "left": null,
      "margin": null,
      "max_height": null,
      "max_width": null,
      "min_height": null,
      "min_width": null,
      "object_fit": null,
      "object_position": null,
      "order": null,
      "overflow": null,
      "overflow_x": null,
      "overflow_y": null,
      "padding": null,
      "right": null,
      "top": null,
      "visibility": null,
      "width": null
     }
    },
    "31a9699723d544fdb6a37e29b542442b": {
     "model_module": "@jupyter-widgets/controls",
     "model_module_version": "1.5.0",
     "model_name": "ProgressStyleModel",
     "state": {
      "_model_module": "@jupyter-widgets/controls",
      "_model_module_version": "1.5.0",
      "_model_name": "ProgressStyleModel",
      "_view_count": null,
      "_view_module": "@jupyter-widgets/base",
      "_view_module_version": "1.2.0",
      "_view_name": "StyleView",
      "bar_color": null,
      "description_width": ""
     }
    },
    "32151a5969db40288bb91d3ee0bcf20f": {
     "model_module": "@jupyter-widgets/controls",
     "model_module_version": "1.5.0",
     "model_name": "FloatProgressModel",
     "state": {
      "_dom_classes": [],
      "_model_module": "@jupyter-widgets/controls",
      "_model_module_version": "1.5.0",
      "_model_name": "FloatProgressModel",
      "_view_count": null,
      "_view_module": "@jupyter-widgets/controls",
      "_view_module_version": "1.5.0",
      "_view_name": "ProgressView",
      "bar_style": "",
      "description": "",
      "description_tooltip": null,
      "layout": "IPY_MODEL_e7825796b5c7464ebbfa4d73e45e86c4",
      "max": 4,
      "min": 0,
      "orientation": "horizontal",
      "style": "IPY_MODEL_4e840602693f49c7ad44327407fa0e09",
      "value": 4
     }
    },
    "32cc7bb4c9a44ed5b2b57c3a808ca076": {
     "model_module": "@jupyter-widgets/controls",
     "model_module_version": "1.5.0",
     "model_name": "ProgressStyleModel",
     "state": {
      "_model_module": "@jupyter-widgets/controls",
      "_model_module_version": "1.5.0",
      "_model_name": "ProgressStyleModel",
      "_view_count": null,
      "_view_module": "@jupyter-widgets/base",
      "_view_module_version": "1.2.0",
      "_view_name": "StyleView",
      "bar_color": null,
      "description_width": ""
     }
    },
    "33304dc8dccb4b24ad13a72487ddab49": {
     "model_module": "@jupyter-widgets/controls",
     "model_module_version": "1.5.0",
     "model_name": "ProgressStyleModel",
     "state": {
      "_model_module": "@jupyter-widgets/controls",
      "_model_module_version": "1.5.0",
      "_model_name": "ProgressStyleModel",
      "_view_count": null,
      "_view_module": "@jupyter-widgets/base",
      "_view_module_version": "1.2.0",
      "_view_name": "StyleView",
      "bar_color": null,
      "description_width": ""
     }
    },
    "3427a4fabc4b47bea3fa7112cf42865d": {
     "model_module": "@jupyter-widgets/controls",
     "model_module_version": "1.5.0",
     "model_name": "HTMLModel",
     "state": {
      "_dom_classes": [],
      "_model_module": "@jupyter-widgets/controls",
      "_model_module_version": "1.5.0",
      "_model_name": "HTMLModel",
      "_view_count": null,
      "_view_module": "@jupyter-widgets/controls",
      "_view_module_version": "1.5.0",
      "_view_name": "HTMLView",
      "description": "",
      "description_tooltip": null,
      "layout": "IPY_MODEL_f4ec1852b8fa441e8eee284f0a88e1c2",
      "placeholder": "​",
      "style": "IPY_MODEL_66098a47da2d46d3bbc1ee4b488dc2f8",
      "value": "Indexing full_binary_airplane.bin:  95%"
     }
    },
    "3443f0b41abc49fcbf9338b09e9d580c": {
     "model_module": "@jupyter-widgets/controls",
     "model_module_version": "1.5.0",
     "model_name": "HTMLModel",
     "state": {
      "_dom_classes": [],
      "_model_module": "@jupyter-widgets/controls",
      "_model_module_version": "1.5.0",
      "_model_name": "HTMLModel",
      "_view_count": null,
      "_view_module": "@jupyter-widgets/controls",
      "_view_module_version": "1.5.0",
      "_view_name": "HTMLView",
      "description": "",
      "description_tooltip": null,
      "layout": "IPY_MODEL_d24ecaf0754846afbbfc40ed549cc286",
      "placeholder": "​",
      "style": "IPY_MODEL_73270247ca4f4f66aef7ececccf5b46a",
      "value": "Training:  75%"
     }
    },
    "34bb6095330846508f58944652ca2894": {
     "model_module": "@jupyter-widgets/controls",
     "model_module_version": "1.5.0",
     "model_name": "DescriptionStyleModel",
     "state": {
      "_model_module": "@jupyter-widgets/controls",
      "_model_module_version": "1.5.0",
      "_model_name": "DescriptionStyleModel",
      "_view_count": null,
      "_view_module": "@jupyter-widgets/base",
      "_view_module_version": "1.2.0",
      "_view_name": "StyleView",
      "description_width": ""
     }
    },
    "35ac80c03fbd4002bded4fda80b7c638": {
     "model_module": "@jupyter-widgets/base",
     "model_module_version": "1.2.0",
     "model_name": "LayoutModel",
     "state": {
      "_model_module": "@jupyter-widgets/base",
      "_model_module_version": "1.2.0",
      "_model_name": "LayoutModel",
      "_view_count": null,
      "_view_module": "@jupyter-widgets/base",
      "_view_module_version": "1.2.0",
      "_view_name": "LayoutView",
      "align_content": null,
      "align_items": null,
      "align_self": null,
      "border": null,
      "bottom": null,
      "display": null,
      "flex": null,
      "flex_flow": null,
      "grid_area": null,
      "grid_auto_columns": null,
      "grid_auto_flow": null,
      "grid_auto_rows": null,
      "grid_column": null,
      "grid_gap": null,
      "grid_row": null,
      "grid_template_areas": null,
      "grid_template_columns": null,
      "grid_template_rows": null,
      "height": null,
      "justify_content": null,
      "justify_items": null,
      "left": null,
      "margin": null,
      "max_height": null,
      "max_width": null,
      "min_height": null,
      "min_width": null,
      "object_fit": null,
      "object_position": null,
      "order": null,
      "overflow": null,
      "overflow_x": null,
      "overflow_y": null,
      "padding": null,
      "right": null,
      "top": null,
      "visibility": "hidden",
      "width": null
     }
    },
    "373d629ff11d4a75ad421617e90086a3": {
     "model_module": "@jupyter-widgets/controls",
     "model_module_version": "1.5.0",
     "model_name": "FloatProgressModel",
     "state": {
      "_dom_classes": [],
      "_model_module": "@jupyter-widgets/controls",
      "_model_module_version": "1.5.0",
      "_model_name": "FloatProgressModel",
      "_view_count": null,
      "_view_module": "@jupyter-widgets/controls",
      "_view_module_version": "1.5.0",
      "_view_name": "ProgressView",
      "bar_style": "",
      "description": "",
      "description_tooltip": null,
      "layout": "IPY_MODEL_83b6cadd36d24ce8b512f88c4e573bc0",
      "max": 4,
      "min": 0,
      "orientation": "horizontal",
      "style": "IPY_MODEL_231066e8452943dfae6df2bb36853c55",
      "value": 4
     }
    },
    "38b23a94eded4b77b5769398fb01cb31": {
     "model_module": "@jupyter-widgets/base",
     "model_module_version": "1.2.0",
     "model_name": "LayoutModel",
     "state": {
      "_model_module": "@jupyter-widgets/base",
      "_model_module_version": "1.2.0",
      "_model_name": "LayoutModel",
      "_view_count": null,
      "_view_module": "@jupyter-widgets/base",
      "_view_module_version": "1.2.0",
      "_view_name": "LayoutView",
      "align_content": null,
      "align_items": null,
      "align_self": null,
      "border": null,
      "bottom": null,
      "display": null,
      "flex": null,
      "flex_flow": null,
      "grid_area": null,
      "grid_auto_columns": null,
      "grid_auto_flow": null,
      "grid_auto_rows": null,
      "grid_column": null,
      "grid_gap": null,
      "grid_row": null,
      "grid_template_areas": null,
      "grid_template_columns": null,
      "grid_template_rows": null,
      "height": null,
      "justify_content": null,
      "justify_items": null,
      "left": null,
      "margin": null,
      "max_height": null,
      "max_width": null,
      "min_height": null,
      "min_width": null,
      "object_fit": null,
      "object_position": null,
      "order": null,
      "overflow": null,
      "overflow_x": null,
      "overflow_y": null,
      "padding": null,
      "right": null,
      "top": null,
      "visibility": null,
      "width": null
     }
    },
    "3a36ce0bff61494387917b58659bf161": {
     "model_module": "@jupyter-widgets/controls",
     "model_module_version": "1.5.0",
     "model_name": "HBoxModel",
     "state": {
      "_dom_classes": [],
      "_model_module": "@jupyter-widgets/controls",
      "_model_module_version": "1.5.0",
      "_model_name": "HBoxModel",
      "_view_count": null,
      "_view_module": "@jupyter-widgets/controls",
      "_view_module_version": "1.5.0",
      "_view_name": "HBoxView",
      "box_style": "",
      "children": [
       "IPY_MODEL_65652cadf8174d47a356c891430bedf3",
       "IPY_MODEL_b43f48601738432b839a92f24ceb4fca",
       "IPY_MODEL_b33d70e9598f40fdb2fde77899b95c29"
      ],
      "layout": "IPY_MODEL_d63a362c98174b8584a017be63dff4d6"
     }
    },
    "3c4088491a7d49478dc431ff5526a151": {
     "model_module": "@jupyter-widgets/controls",
     "model_module_version": "1.5.0",
     "model_name": "DescriptionStyleModel",
     "state": {
      "_model_module": "@jupyter-widgets/controls",
      "_model_module_version": "1.5.0",
      "_model_name": "DescriptionStyleModel",
      "_view_count": null,
      "_view_module": "@jupyter-widgets/base",
      "_view_module_version": "1.2.0",
      "_view_name": "StyleView",
      "description_width": ""
     }
    },
    "3da8695d6f46482da08c617dc52623c7": {
     "model_module": "@jupyter-widgets/base",
     "model_module_version": "1.2.0",
     "model_name": "LayoutModel",
     "state": {
      "_model_module": "@jupyter-widgets/base",
      "_model_module_version": "1.2.0",
      "_model_name": "LayoutModel",
      "_view_count": null,
      "_view_module": "@jupyter-widgets/base",
      "_view_module_version": "1.2.0",
      "_view_name": "LayoutView",
      "align_content": null,
      "align_items": null,
      "align_self": null,
      "border": null,
      "bottom": null,
      "display": null,
      "flex": null,
      "flex_flow": null,
      "grid_area": null,
      "grid_auto_columns": null,
      "grid_auto_flow": null,
      "grid_auto_rows": null,
      "grid_column": null,
      "grid_gap": null,
      "grid_row": null,
      "grid_template_areas": null,
      "grid_template_columns": null,
      "grid_template_rows": null,
      "height": null,
      "justify_content": null,
      "justify_items": null,
      "left": null,
      "margin": null,
      "max_height": null,
      "max_width": null,
      "min_height": null,
      "min_width": null,
      "object_fit": null,
      "object_position": null,
      "order": null,
      "overflow": null,
      "overflow_x": null,
      "overflow_y": null,
      "padding": null,
      "right": null,
      "top": null,
      "visibility": null,
      "width": null
     }
    },
    "3dba48cec328472cb25cfafb493f4f95": {
     "model_module": "@jupyter-widgets/base",
     "model_module_version": "1.2.0",
     "model_name": "LayoutModel",
     "state": {
      "_model_module": "@jupyter-widgets/base",
      "_model_module_version": "1.2.0",
      "_model_name": "LayoutModel",
      "_view_count": null,
      "_view_module": "@jupyter-widgets/base",
      "_view_module_version": "1.2.0",
      "_view_name": "LayoutView",
      "align_content": null,
      "align_items": null,
      "align_self": null,
      "border": null,
      "bottom": null,
      "display": null,
      "flex": null,
      "flex_flow": null,
      "grid_area": null,
      "grid_auto_columns": null,
      "grid_auto_flow": null,
      "grid_auto_rows": null,
      "grid_column": null,
      "grid_gap": null,
      "grid_row": null,
      "grid_template_areas": null,
      "grid_template_columns": null,
      "grid_template_rows": null,
      "height": null,
      "justify_content": null,
      "justify_items": null,
      "left": null,
      "margin": null,
      "max_height": null,
      "max_width": null,
      "min_height": null,
      "min_width": null,
      "object_fit": null,
      "object_position": null,
      "order": null,
      "overflow": null,
      "overflow_x": null,
      "overflow_y": null,
      "padding": null,
      "right": null,
      "top": null,
      "visibility": null,
      "width": null
     }
    },
    "3e79333740464617bfcd360086ec7940": {
     "model_module": "@jupyter-widgets/controls",
     "model_module_version": "1.5.0",
     "model_name": "FloatProgressModel",
     "state": {
      "_dom_classes": [],
      "_model_module": "@jupyter-widgets/controls",
      "_model_module_version": "1.5.0",
      "_model_name": "FloatProgressModel",
      "_view_count": null,
      "_view_module": "@jupyter-widgets/controls",
      "_view_module_version": "1.5.0",
      "_view_name": "ProgressView",
      "bar_style": "",
      "description": "",
      "description_tooltip": null,
      "layout": "IPY_MODEL_661e9887422a4df6b567013caf807f6e",
      "max": 18875737,
      "min": 0,
      "orientation": "horizontal",
      "style": "IPY_MODEL_d56aa40cf1804ff6b16d2a37372fc9be",
      "value": 18875737
     }
    },
    "3ecf14b01472467492e4bac9493fc727": {
     "model_module": "@jupyter-widgets/controls",
     "model_module_version": "1.5.0",
     "model_name": "ProgressStyleModel",
     "state": {
      "_model_module": "@jupyter-widgets/controls",
      "_model_module_version": "1.5.0",
      "_model_name": "ProgressStyleModel",
      "_view_count": null,
      "_view_module": "@jupyter-widgets/base",
      "_view_module_version": "1.2.0",
      "_view_name": "StyleView",
      "bar_color": null,
      "description_width": ""
     }
    },
    "3f92c749b62d427fb51bef4ca2966fbf": {
     "model_module": "@jupyter-widgets/base",
     "model_module_version": "1.2.0",
     "model_name": "LayoutModel",
     "state": {
      "_model_module": "@jupyter-widgets/base",
      "_model_module_version": "1.2.0",
      "_model_name": "LayoutModel",
      "_view_count": null,
      "_view_module": "@jupyter-widgets/base",
      "_view_module_version": "1.2.0",
      "_view_name": "LayoutView",
      "align_content": null,
      "align_items": null,
      "align_self": null,
      "border": null,
      "bottom": null,
      "display": null,
      "flex": null,
      "flex_flow": null,
      "grid_area": null,
      "grid_auto_columns": null,
      "grid_auto_flow": null,
      "grid_auto_rows": null,
      "grid_column": null,
      "grid_gap": null,
      "grid_row": null,
      "grid_template_areas": null,
      "grid_template_columns": null,
      "grid_template_rows": null,
      "height": null,
      "justify_content": null,
      "justify_items": null,
      "left": null,
      "margin": null,
      "max_height": null,
      "max_width": null,
      "min_height": null,
      "min_width": null,
      "object_fit": null,
      "object_position": null,
      "order": null,
      "overflow": null,
      "overflow_x": null,
      "overflow_y": null,
      "padding": null,
      "right": null,
      "top": null,
      "visibility": null,
      "width": null
     }
    },
    "412af07dafcf4c7b97f25e1137ee5eca": {
     "model_module": "@jupyter-widgets/controls",
     "model_module_version": "1.5.0",
     "model_name": "ProgressStyleModel",
     "state": {
      "_model_module": "@jupyter-widgets/controls",
      "_model_module_version": "1.5.0",
      "_model_name": "ProgressStyleModel",
      "_view_count": null,
      "_view_module": "@jupyter-widgets/base",
      "_view_module_version": "1.2.0",
      "_view_name": "StyleView",
      "bar_color": null,
      "description_width": ""
     }
    },
    "4219485c856244c6b51f09c4d8e7a4b2": {
     "model_module": "@jupyter-widgets/base",
     "model_module_version": "1.2.0",
     "model_name": "LayoutModel",
     "state": {
      "_model_module": "@jupyter-widgets/base",
      "_model_module_version": "1.2.0",
      "_model_name": "LayoutModel",
      "_view_count": null,
      "_view_module": "@jupyter-widgets/base",
      "_view_module_version": "1.2.0",
      "_view_name": "LayoutView",
      "align_content": null,
      "align_items": null,
      "align_self": null,
      "border": null,
      "bottom": null,
      "display": null,
      "flex": null,
      "flex_flow": null,
      "grid_area": null,
      "grid_auto_columns": null,
      "grid_auto_flow": null,
      "grid_auto_rows": null,
      "grid_column": null,
      "grid_gap": null,
      "grid_row": null,
      "grid_template_areas": null,
      "grid_template_columns": null,
      "grid_template_rows": null,
      "height": null,
      "justify_content": null,
      "justify_items": null,
      "left": null,
      "margin": null,
      "max_height": null,
      "max_width": null,
      "min_height": null,
      "min_width": null,
      "object_fit": null,
      "object_position": null,
      "order": null,
      "overflow": null,
      "overflow_x": null,
      "overflow_y": null,
      "padding": null,
      "right": null,
      "top": null,
      "visibility": null,
      "width": null
     }
    },
    "4416c622ecf74847b9ebd2a2f4d2c9fb": {
     "model_module": "@jupyter-widgets/controls",
     "model_module_version": "1.5.0",
     "model_name": "ProgressStyleModel",
     "state": {
      "_model_module": "@jupyter-widgets/controls",
      "_model_module_version": "1.5.0",
      "_model_name": "ProgressStyleModel",
      "_view_count": null,
      "_view_module": "@jupyter-widgets/base",
      "_view_module_version": "1.2.0",
      "_view_name": "StyleView",
      "bar_color": null,
      "description_width": ""
     }
    },
    "443ab04cba2444d89a61fc99af7bead1": {
     "model_module": "@jupyter-widgets/controls",
     "model_module_version": "1.5.0",
     "model_name": "HTMLModel",
     "state": {
      "_dom_classes": [],
      "_model_module": "@jupyter-widgets/controls",
      "_model_module_version": "1.5.0",
      "_model_name": "HTMLModel",
      "_view_count": null,
      "_view_module": "@jupyter-widgets/controls",
      "_view_module_version": "1.5.0",
      "_view_name": "HTMLView",
      "description": "",
      "description_tooltip": null,
      "layout": "IPY_MODEL_885390198f264015af94bfb14a6e1667",
      "placeholder": "​",
      "style": "IPY_MODEL_ae01d945087c4f86a451b130c8933a07",
      "value": "Testing: 100%"
     }
    },
    "47f8eddd638048bb9fc20796d7a5dabd": {
     "model_module": "@jupyter-widgets/base",
     "model_module_version": "1.2.0",
     "model_name": "LayoutModel",
     "state": {
      "_model_module": "@jupyter-widgets/base",
      "_model_module_version": "1.2.0",
      "_model_name": "LayoutModel",
      "_view_count": null,
      "_view_module": "@jupyter-widgets/base",
      "_view_module_version": "1.2.0",
      "_view_name": "LayoutView",
      "align_content": null,
      "align_items": null,
      "align_self": null,
      "border": null,
      "bottom": null,
      "display": null,
      "flex": null,
      "flex_flow": null,
      "grid_area": null,
      "grid_auto_columns": null,
      "grid_auto_flow": null,
      "grid_auto_rows": null,
      "grid_column": null,
      "grid_gap": null,
      "grid_row": null,
      "grid_template_areas": null,
      "grid_template_columns": null,
      "grid_template_rows": null,
      "height": null,
      "justify_content": null,
      "justify_items": null,
      "left": null,
      "margin": null,
      "max_height": null,
      "max_width": null,
      "min_height": null,
      "min_width": null,
      "object_fit": null,
      "object_position": null,
      "order": null,
      "overflow": null,
      "overflow_x": null,
      "overflow_y": null,
      "padding": null,
      "right": null,
      "top": null,
      "visibility": null,
      "width": null
     }
    },
    "4819f7923b1d4d238fffc55a033b34d1": {
     "model_module": "@jupyter-widgets/controls",
     "model_module_version": "1.5.0",
     "model_name": "FloatProgressModel",
     "state": {
      "_dom_classes": [],
      "_model_module": "@jupyter-widgets/controls",
      "_model_module_version": "1.5.0",
      "_model_name": "FloatProgressModel",
      "_view_count": null,
      "_view_module": "@jupyter-widgets/controls",
      "_view_module_version": "1.5.0",
      "_view_name": "ProgressView",
      "bar_style": "",
      "description": "",
      "description_tooltip": null,
      "layout": "IPY_MODEL_4e4fe74007514eadaffce5e92d2da2dc",
      "max": 1,
      "min": 0,
      "orientation": "horizontal",
      "style": "IPY_MODEL_a4d64d19f8654d5393bea4f3dafe09e1",
      "value": 1
     }
    },
    "49dead36951c46b3b9ffdd737019fed7": {
     "model_module": "@jupyter-widgets/controls",
     "model_module_version": "1.5.0",
     "model_name": "HTMLModel",
     "state": {
      "_dom_classes": [],
      "_model_module": "@jupyter-widgets/controls",
      "_model_module_version": "1.5.0",
      "_model_name": "HTMLModel",
      "_view_count": null,
      "_view_module": "@jupyter-widgets/controls",
      "_view_module_version": "1.5.0",
      "_view_name": "HTMLView",
      "description": "",
      "description_tooltip": null,
      "layout": "IPY_MODEL_1a8bc7bbd03c4be79341484c3f02330c",
      "placeholder": "​",
      "style": "IPY_MODEL_71645034906d4cc2ab762503e5fc32c7",
      "value": " 1/1 [00:19&lt;00:00, 19.83s/model]"
     }
    },
    "4a72f8a8c0504280b462a9dce8ff708c": {
     "model_module": "@jupyter-widgets/base",
     "model_module_version": "1.2.0",
     "model_name": "LayoutModel",
     "state": {
      "_model_module": "@jupyter-widgets/base",
      "_model_module_version": "1.2.0",
      "_model_name": "LayoutModel",
      "_view_count": null,
      "_view_module": "@jupyter-widgets/base",
      "_view_module_version": "1.2.0",
      "_view_name": "LayoutView",
      "align_content": null,
      "align_items": null,
      "align_self": null,
      "border": null,
      "bottom": null,
      "display": null,
      "flex": null,
      "flex_flow": null,
      "grid_area": null,
      "grid_auto_columns": null,
      "grid_auto_flow": null,
      "grid_auto_rows": null,
      "grid_column": null,
      "grid_gap": null,
      "grid_row": null,
      "grid_template_areas": null,
      "grid_template_columns": null,
      "grid_template_rows": null,
      "height": null,
      "justify_content": null,
      "justify_items": null,
      "left": null,
      "margin": null,
      "max_height": null,
      "max_width": null,
      "min_height": null,
      "min_width": null,
      "object_fit": null,
      "object_position": null,
      "order": null,
      "overflow": null,
      "overflow_x": null,
      "overflow_y": null,
      "padding": null,
      "right": null,
      "top": null,
      "visibility": "hidden",
      "width": null
     }
    },
    "4ce231ed6e7e409eb540eb0364c398c3": {
     "model_module": "@jupyter-widgets/base",
     "model_module_version": "1.2.0",
     "model_name": "LayoutModel",
     "state": {
      "_model_module": "@jupyter-widgets/base",
      "_model_module_version": "1.2.0",
      "_model_name": "LayoutModel",
      "_view_count": null,
      "_view_module": "@jupyter-widgets/base",
      "_view_module_version": "1.2.0",
      "_view_name": "LayoutView",
      "align_content": null,
      "align_items": null,
      "align_self": null,
      "border": null,
      "bottom": null,
      "display": null,
      "flex": null,
      "flex_flow": null,
      "grid_area": null,
      "grid_auto_columns": null,
      "grid_auto_flow": null,
      "grid_auto_rows": null,
      "grid_column": null,
      "grid_gap": null,
      "grid_row": null,
      "grid_template_areas": null,
      "grid_template_columns": null,
      "grid_template_rows": null,
      "height": null,
      "justify_content": null,
      "justify_items": null,
      "left": null,
      "margin": null,
      "max_height": null,
      "max_width": null,
      "min_height": null,
      "min_width": null,
      "object_fit": null,
      "object_position": null,
      "order": null,
      "overflow": null,
      "overflow_x": null,
      "overflow_y": null,
      "padding": null,
      "right": null,
      "top": null,
      "visibility": null,
      "width": null
     }
    },
    "4e4fe74007514eadaffce5e92d2da2dc": {
     "model_module": "@jupyter-widgets/base",
     "model_module_version": "1.2.0",
     "model_name": "LayoutModel",
     "state": {
      "_model_module": "@jupyter-widgets/base",
      "_model_module_version": "1.2.0",
      "_model_name": "LayoutModel",
      "_view_count": null,
      "_view_module": "@jupyter-widgets/base",
      "_view_module_version": "1.2.0",
      "_view_name": "LayoutView",
      "align_content": null,
      "align_items": null,
      "align_self": null,
      "border": null,
      "bottom": null,
      "display": null,
      "flex": null,
      "flex_flow": null,
      "grid_area": null,
      "grid_auto_columns": null,
      "grid_auto_flow": null,
      "grid_auto_rows": null,
      "grid_column": null,
      "grid_gap": null,
      "grid_row": null,
      "grid_template_areas": null,
      "grid_template_columns": null,
      "grid_template_rows": null,
      "height": null,
      "justify_content": null,
      "justify_items": null,
      "left": null,
      "margin": null,
      "max_height": null,
      "max_width": null,
      "min_height": null,
      "min_width": null,
      "object_fit": null,
      "object_position": null,
      "order": null,
      "overflow": null,
      "overflow_x": null,
      "overflow_y": null,
      "padding": null,
      "right": null,
      "top": null,
      "visibility": null,
      "width": null
     }
    },
    "4e840602693f49c7ad44327407fa0e09": {
     "model_module": "@jupyter-widgets/controls",
     "model_module_version": "1.5.0",
     "model_name": "ProgressStyleModel",
     "state": {
      "_model_module": "@jupyter-widgets/controls",
      "_model_module_version": "1.5.0",
      "_model_name": "ProgressStyleModel",
      "_view_count": null,
      "_view_module": "@jupyter-widgets/base",
      "_view_module_version": "1.2.0",
      "_view_name": "StyleView",
      "bar_color": null,
      "description_width": ""
     }
    },
    "5201dc10da9347f1acc550e1d59e2cea": {
     "model_module": "@jupyter-widgets/base",
     "model_module_version": "1.2.0",
     "model_name": "LayoutModel",
     "state": {
      "_model_module": "@jupyter-widgets/base",
      "_model_module_version": "1.2.0",
      "_model_name": "LayoutModel",
      "_view_count": null,
      "_view_module": "@jupyter-widgets/base",
      "_view_module_version": "1.2.0",
      "_view_name": "LayoutView",
      "align_content": null,
      "align_items": null,
      "align_self": null,
      "border": null,
      "bottom": null,
      "display": null,
      "flex": null,
      "flex_flow": null,
      "grid_area": null,
      "grid_auto_columns": null,
      "grid_auto_flow": null,
      "grid_auto_rows": null,
      "grid_column": null,
      "grid_gap": null,
      "grid_row": null,
      "grid_template_areas": null,
      "grid_template_columns": null,
      "grid_template_rows": null,
      "height": null,
      "justify_content": null,
      "justify_items": null,
      "left": null,
      "margin": null,
      "max_height": null,
      "max_width": null,
      "min_height": null,
      "min_width": null,
      "object_fit": null,
      "object_position": null,
      "order": null,
      "overflow": null,
      "overflow_x": null,
      "overflow_y": null,
      "padding": null,
      "right": null,
      "top": null,
      "visibility": null,
      "width": null
     }
    },
    "55e8e6fc24634b76a2927a33186ca5fc": {
     "model_module": "@jupyter-widgets/controls",
     "model_module_version": "1.5.0",
     "model_name": "DescriptionStyleModel",
     "state": {
      "_model_module": "@jupyter-widgets/controls",
      "_model_module_version": "1.5.0",
      "_model_name": "DescriptionStyleModel",
      "_view_count": null,
      "_view_module": "@jupyter-widgets/base",
      "_view_module_version": "1.2.0",
      "_view_name": "StyleView",
      "description_width": ""
     }
    },
    "5733c5b4af604bc594287505e5cbb453": {
     "model_module": "@jupyter-widgets/base",
     "model_module_version": "1.2.0",
     "model_name": "LayoutModel",
     "state": {
      "_model_module": "@jupyter-widgets/base",
      "_model_module_version": "1.2.0",
      "_model_name": "LayoutModel",
      "_view_count": null,
      "_view_module": "@jupyter-widgets/base",
      "_view_module_version": "1.2.0",
      "_view_name": "LayoutView",
      "align_content": null,
      "align_items": null,
      "align_self": null,
      "border": null,
      "bottom": null,
      "display": null,
      "flex": null,
      "flex_flow": null,
      "grid_area": null,
      "grid_auto_columns": null,
      "grid_auto_flow": null,
      "grid_auto_rows": null,
      "grid_column": null,
      "grid_gap": null,
      "grid_row": null,
      "grid_template_areas": null,
      "grid_template_columns": null,
      "grid_template_rows": null,
      "height": null,
      "justify_content": null,
      "justify_items": null,
      "left": null,
      "margin": null,
      "max_height": null,
      "max_width": null,
      "min_height": null,
      "min_width": null,
      "object_fit": null,
      "object_position": null,
      "order": null,
      "overflow": null,
      "overflow_x": null,
      "overflow_y": null,
      "padding": null,
      "right": null,
      "top": null,
      "visibility": null,
      "width": null
     }
    },
    "579afa8476df4f89994739092a894237": {
     "model_module": "@jupyter-widgets/controls",
     "model_module_version": "1.5.0",
     "model_name": "DescriptionStyleModel",
     "state": {
      "_model_module": "@jupyter-widgets/controls",
      "_model_module_version": "1.5.0",
      "_model_name": "DescriptionStyleModel",
      "_view_count": null,
      "_view_module": "@jupyter-widgets/base",
      "_view_module_version": "1.2.0",
      "_view_name": "StyleView",
      "description_width": ""
     }
    },
    "58233189cfc847afa26c9371c9064450": {
     "model_module": "@jupyter-widgets/base",
     "model_module_version": "1.2.0",
     "model_name": "LayoutModel",
     "state": {
      "_model_module": "@jupyter-widgets/base",
      "_model_module_version": "1.2.0",
      "_model_name": "LayoutModel",
      "_view_count": null,
      "_view_module": "@jupyter-widgets/base",
      "_view_module_version": "1.2.0",
      "_view_name": "LayoutView",
      "align_content": null,
      "align_items": null,
      "align_self": null,
      "border": null,
      "bottom": null,
      "display": null,
      "flex": null,
      "flex_flow": null,
      "grid_area": null,
      "grid_auto_columns": null,
      "grid_auto_flow": null,
      "grid_auto_rows": null,
      "grid_column": null,
      "grid_gap": null,
      "grid_row": null,
      "grid_template_areas": null,
      "grid_template_columns": null,
      "grid_template_rows": null,
      "height": null,
      "justify_content": null,
      "justify_items": null,
      "left": null,
      "margin": null,
      "max_height": null,
      "max_width": null,
      "min_height": null,
      "min_width": null,
      "object_fit": null,
      "object_position": null,
      "order": null,
      "overflow": null,
      "overflow_x": null,
      "overflow_y": null,
      "padding": null,
      "right": null,
      "top": null,
      "visibility": null,
      "width": null
     }
    },
    "58cffe87f6524afe90d40178d501ed59": {
     "model_module": "@jupyter-widgets/base",
     "model_module_version": "1.2.0",
     "model_name": "LayoutModel",
     "state": {
      "_model_module": "@jupyter-widgets/base",
      "_model_module_version": "1.2.0",
      "_model_name": "LayoutModel",
      "_view_count": null,
      "_view_module": "@jupyter-widgets/base",
      "_view_module_version": "1.2.0",
      "_view_name": "LayoutView",
      "align_content": null,
      "align_items": null,
      "align_self": null,
      "border": null,
      "bottom": null,
      "display": null,
      "flex": null,
      "flex_flow": null,
      "grid_area": null,
      "grid_auto_columns": null,
      "grid_auto_flow": null,
      "grid_auto_rows": null,
      "grid_column": null,
      "grid_gap": null,
      "grid_row": null,
      "grid_template_areas": null,
      "grid_template_columns": null,
      "grid_template_rows": null,
      "height": null,
      "justify_content": null,
      "justify_items": null,
      "left": null,
      "margin": null,
      "max_height": null,
      "max_width": null,
      "min_height": null,
      "min_width": null,
      "object_fit": null,
      "object_position": null,
      "order": null,
      "overflow": null,
      "overflow_x": null,
      "overflow_y": null,
      "padding": null,
      "right": null,
      "top": null,
      "visibility": null,
      "width": null
     }
    },
    "59be244459c84eed83ceecc45d38ccbe": {
     "model_module": "@jupyter-widgets/controls",
     "model_module_version": "1.5.0",
     "model_name": "HTMLModel",
     "state": {
      "_dom_classes": [],
      "_model_module": "@jupyter-widgets/controls",
      "_model_module_version": "1.5.0",
      "_model_name": "HTMLModel",
      "_view_count": null,
      "_view_module": "@jupyter-widgets/controls",
      "_view_module_version": "1.5.0",
      "_view_name": "HTMLView",
      "description": "",
      "description_tooltip": null,
      "layout": "IPY_MODEL_70b27b52457043e3b26ba4788b6164cd",
      "placeholder": "​",
      "style": "IPY_MODEL_19c05f05b6824db19dc9d445bbe642de",
      "value": " 3/4 [00:02&lt;00:00,  1.86it/s]"
     }
    },
    "5a6285b434da4841bddfb962330ddf98": {
     "model_module": "@jupyter-widgets/base",
     "model_module_version": "1.2.0",
     "model_name": "LayoutModel",
     "state": {
      "_model_module": "@jupyter-widgets/base",
      "_model_module_version": "1.2.0",
      "_model_name": "LayoutModel",
      "_view_count": null,
      "_view_module": "@jupyter-widgets/base",
      "_view_module_version": "1.2.0",
      "_view_name": "LayoutView",
      "align_content": null,
      "align_items": null,
      "align_self": null,
      "border": null,
      "bottom": null,
      "display": null,
      "flex": null,
      "flex_flow": null,
      "grid_area": null,
      "grid_auto_columns": null,
      "grid_auto_flow": null,
      "grid_auto_rows": null,
      "grid_column": null,
      "grid_gap": null,
      "grid_row": null,
      "grid_template_areas": null,
      "grid_template_columns": null,
      "grid_template_rows": null,
      "height": null,
      "justify_content": null,
      "justify_items": null,
      "left": null,
      "margin": null,
      "max_height": null,
      "max_width": null,
      "min_height": null,
      "min_width": null,
      "object_fit": null,
      "object_position": null,
      "order": null,
      "overflow": null,
      "overflow_x": null,
      "overflow_y": null,
      "padding": null,
      "right": null,
      "top": null,
      "visibility": null,
      "width": null
     }
    },
    "5a6dae2a6d384758b0741df4c4adae4b": {
     "model_module": "@jupyter-widgets/controls",
     "model_module_version": "1.5.0",
     "model_name": "DescriptionStyleModel",
     "state": {
      "_model_module": "@jupyter-widgets/controls",
      "_model_module_version": "1.5.0",
      "_model_name": "DescriptionStyleModel",
      "_view_count": null,
      "_view_module": "@jupyter-widgets/base",
      "_view_module_version": "1.2.0",
      "_view_name": "StyleView",
      "description_width": ""
     }
    },
    "5c52448afa2c4cb3a82a8a4d79651b89": {
     "model_module": "@jupyter-widgets/controls",
     "model_module_version": "1.5.0",
     "model_name": "ProgressStyleModel",
     "state": {
      "_model_module": "@jupyter-widgets/controls",
      "_model_module_version": "1.5.0",
      "_model_name": "ProgressStyleModel",
      "_view_count": null,
      "_view_module": "@jupyter-widgets/base",
      "_view_module_version": "1.2.0",
      "_view_name": "StyleView",
      "bar_color": null,
      "description_width": ""
     }
    },
    "5c81373d5230489387fd6dc8df6752ff": {
     "model_module": "@jupyter-widgets/controls",
     "model_module_version": "1.5.0",
     "model_name": "FloatProgressModel",
     "state": {
      "_dom_classes": [],
      "_model_module": "@jupyter-widgets/controls",
      "_model_module_version": "1.5.0",
      "_model_name": "FloatProgressModel",
      "_view_count": null,
      "_view_module": "@jupyter-widgets/controls",
      "_view_module_version": "1.5.0",
      "_view_name": "ProgressView",
      "bar_style": "success",
      "description": "",
      "description_tooltip": null,
      "layout": "IPY_MODEL_0d296cc43d0b4c04895f8dc8ee8f7f66",
      "max": 21142497,
      "min": 0,
      "orientation": "horizontal",
      "style": "IPY_MODEL_32cc7bb4c9a44ed5b2b57c3a808ca076",
      "value": 21142497
     }
    },
    "5c901d08e3924eec8a0b76ef6183f511": {
     "model_module": "@jupyter-widgets/controls",
     "model_module_version": "1.5.0",
     "model_name": "FloatProgressModel",
     "state": {
      "_dom_classes": [],
      "_model_module": "@jupyter-widgets/controls",
      "_model_module_version": "1.5.0",
      "_model_name": "FloatProgressModel",
      "_view_count": null,
      "_view_module": "@jupyter-widgets/controls",
      "_view_module_version": "1.5.0",
      "_view_name": "ProgressView",
      "bar_style": "success",
      "description": "",
      "description_tooltip": null,
      "layout": "IPY_MODEL_f222ef43b02d46bda59804aceadd57d5",
      "max": 11243247,
      "min": 0,
      "orientation": "horizontal",
      "style": "IPY_MODEL_5c52448afa2c4cb3a82a8a4d79651b89",
      "value": 11243247
     }
    },
    "5cb503dbc9aa48ad94a4a44f1979d436": {
     "model_module": "@jupyter-widgets/controls",
     "model_module_version": "1.5.0",
     "model_name": "FloatProgressModel",
     "state": {
      "_dom_classes": [],
      "_model_module": "@jupyter-widgets/controls",
      "_model_module_version": "1.5.0",
      "_model_name": "FloatProgressModel",
      "_view_count": null,
      "_view_module": "@jupyter-widgets/controls",
      "_view_module_version": "1.5.0",
      "_view_name": "ProgressView",
      "bar_style": "success",
      "description": "",
      "description_tooltip": null,
      "layout": "IPY_MODEL_1303f86074c1430084e9af39489b7b6e",
      "max": 18875737,
      "min": 0,
      "orientation": "horizontal",
      "style": "IPY_MODEL_c9978377b74240d6923581074a7a3f75",
      "value": 18875737
     }
    },
    "606cb79db9144ea89eae11ee7020f9a2": {
     "model_module": "@jupyter-widgets/controls",
     "model_module_version": "1.5.0",
     "model_name": "FloatProgressModel",
     "state": {
      "_dom_classes": [],
      "_model_module": "@jupyter-widgets/controls",
      "_model_module_version": "1.5.0",
      "_model_name": "FloatProgressModel",
      "_view_count": null,
      "_view_module": "@jupyter-widgets/controls",
      "_view_module_version": "1.5.0",
      "_view_name": "ProgressView",
      "bar_style": "",
      "description": "",
      "description_tooltip": null,
      "layout": "IPY_MODEL_8e4ddbfcccc946408c0d7e2dc7c72576",
      "max": 4,
      "min": 0,
      "orientation": "horizontal",
      "style": "IPY_MODEL_4416c622ecf74847b9ebd2a2f4d2c9fb",
      "value": 4
     }
    },
    "60b63a4296cc4bae8d509b33f40a4d99": {
     "model_module": "@jupyter-widgets/controls",
     "model_module_version": "1.5.0",
     "model_name": "ProgressStyleModel",
     "state": {
      "_model_module": "@jupyter-widgets/controls",
      "_model_module_version": "1.5.0",
      "_model_name": "ProgressStyleModel",
      "_view_count": null,
      "_view_module": "@jupyter-widgets/base",
      "_view_module_version": "1.2.0",
      "_view_name": "StyleView",
      "bar_color": null,
      "description_width": ""
     }
    },
    "616470cc6aa44763aa441c7938364fce": {
     "model_module": "@jupyter-widgets/controls",
     "model_module_version": "1.5.0",
     "model_name": "DescriptionStyleModel",
     "state": {
      "_model_module": "@jupyter-widgets/controls",
      "_model_module_version": "1.5.0",
      "_model_name": "DescriptionStyleModel",
      "_view_count": null,
      "_view_module": "@jupyter-widgets/base",
      "_view_module_version": "1.2.0",
      "_view_name": "StyleView",
      "description_width": ""
     }
    },
    "6310c28a18b84e1f8049ea6101a3d292": {
     "model_module": "@jupyter-widgets/controls",
     "model_module_version": "1.5.0",
     "model_name": "FloatProgressModel",
     "state": {
      "_dom_classes": [],
      "_model_module": "@jupyter-widgets/controls",
      "_model_module_version": "1.5.0",
      "_model_name": "FloatProgressModel",
      "_view_count": null,
      "_view_module": "@jupyter-widgets/controls",
      "_view_module_version": "1.5.0",
      "_view_name": "ProgressView",
      "bar_style": "",
      "description": "",
      "description_tooltip": null,
      "layout": "IPY_MODEL_12601abb46384393bb21edf4538b6dd5",
      "max": 1,
      "min": 0,
      "orientation": "horizontal",
      "style": "IPY_MODEL_2eed3d1b60d84c20bb700ede283c8dbc",
      "value": 1
     }
    },
    "641e938227cb46e9a73b92a10f319094": {
     "model_module": "@jupyter-widgets/controls",
     "model_module_version": "1.5.0",
     "model_name": "HTMLModel",
     "state": {
      "_dom_classes": [],
      "_model_module": "@jupyter-widgets/controls",
      "_model_module_version": "1.5.0",
      "_model_name": "HTMLModel",
      "_view_count": null,
      "_view_module": "@jupyter-widgets/controls",
      "_view_module_version": "1.5.0",
      "_view_name": "HTMLView",
      "description": "",
      "description_tooltip": null,
      "layout": "IPY_MODEL_c275ec14aeac454ebc9ff4372afb1f10",
      "placeholder": "​",
      "style": "IPY_MODEL_93b7afcad72d4118b78087a8bf747bbc",
      "value": " 1/1 [00:00&lt;00:00,  3.36it/s]"
     }
    },
    "6445da8912424f37a38f0a6ca0128059": {
     "model_module": "@jupyter-widgets/controls",
     "model_module_version": "1.5.0",
     "model_name": "HBoxModel",
     "state": {
      "_dom_classes": [],
      "_model_module": "@jupyter-widgets/controls",
      "_model_module_version": "1.5.0",
      "_model_name": "HBoxModel",
      "_view_count": null,
      "_view_module": "@jupyter-widgets/controls",
      "_view_module_version": "1.5.0",
      "_view_name": "HBoxView",
      "box_style": "",
      "children": [
       "IPY_MODEL_3427a4fabc4b47bea3fa7112cf42865d",
       "IPY_MODEL_13acbd58a8204fe2bfdabe692401ba5b",
       "IPY_MODEL_7836f9d1202346f18ce9f96d16bd6b88"
      ],
      "layout": "IPY_MODEL_b106d1d5b6d74f658462b6e4dcf0ef4c"
     }
    },
    "65652cadf8174d47a356c891430bedf3": {
     "model_module": "@jupyter-widgets/controls",
     "model_module_version": "1.5.0",
     "model_name": "HTMLModel",
     "state": {
      "_dom_classes": [],
      "_model_module": "@jupyter-widgets/controls",
      "_model_module_version": "1.5.0",
      "_model_name": "HTMLModel",
      "_view_count": null,
      "_view_module": "@jupyter-widgets/controls",
      "_view_module_version": "1.5.0",
      "_view_name": "HTMLView",
      "description": "",
      "description_tooltip": null,
      "layout": "IPY_MODEL_fc7978234e824d3fba1f988f202b68a6",
      "placeholder": "​",
      "style": "IPY_MODEL_ba283d42f27f4e9fb37c08b5ecafca8a",
      "value": "Training:  75%"
     }
    },
    "66098a47da2d46d3bbc1ee4b488dc2f8": {
     "model_module": "@jupyter-widgets/controls",
     "model_module_version": "1.5.0",
     "model_name": "DescriptionStyleModel",
     "state": {
      "_model_module": "@jupyter-widgets/controls",
      "_model_module_version": "1.5.0",
      "_model_name": "DescriptionStyleModel",
      "_view_count": null,
      "_view_module": "@jupyter-widgets/base",
      "_view_module_version": "1.2.0",
      "_view_name": "StyleView",
      "description_width": ""
     }
    },
    "661e9887422a4df6b567013caf807f6e": {
     "model_module": "@jupyter-widgets/base",
     "model_module_version": "1.2.0",
     "model_name": "LayoutModel",
     "state": {
      "_model_module": "@jupyter-widgets/base",
      "_model_module_version": "1.2.0",
      "_model_name": "LayoutModel",
      "_view_count": null,
      "_view_module": "@jupyter-widgets/base",
      "_view_module_version": "1.2.0",
      "_view_name": "LayoutView",
      "align_content": null,
      "align_items": null,
      "align_self": null,
      "border": null,
      "bottom": null,
      "display": null,
      "flex": null,
      "flex_flow": null,
      "grid_area": null,
      "grid_auto_columns": null,
      "grid_auto_flow": null,
      "grid_auto_rows": null,
      "grid_column": null,
      "grid_gap": null,
      "grid_row": null,
      "grid_template_areas": null,
      "grid_template_columns": null,
      "grid_template_rows": null,
      "height": null,
      "justify_content": null,
      "justify_items": null,
      "left": null,
      "margin": null,
      "max_height": null,
      "max_width": null,
      "min_height": null,
      "min_width": null,
      "object_fit": null,
      "object_position": null,
      "order": null,
      "overflow": null,
      "overflow_x": null,
      "overflow_y": null,
      "padding": null,
      "right": null,
      "top": null,
      "visibility": null,
      "width": null
     }
    },
    "682690edba7540fd8a34dc03f5e085a0": {
     "model_module": "@jupyter-widgets/controls",
     "model_module_version": "1.5.0",
     "model_name": "DescriptionStyleModel",
     "state": {
      "_model_module": "@jupyter-widgets/controls",
      "_model_module_version": "1.5.0",
      "_model_name": "DescriptionStyleModel",
      "_view_count": null,
      "_view_module": "@jupyter-widgets/base",
      "_view_module_version": "1.2.0",
      "_view_name": "StyleView",
      "description_width": ""
     }
    },
    "685b7d1433324b5594a881f941c5a23a": {
     "model_module": "@jupyter-widgets/controls",
     "model_module_version": "1.5.0",
     "model_name": "HTMLModel",
     "state": {
      "_dom_classes": [],
      "_model_module": "@jupyter-widgets/controls",
      "_model_module_version": "1.5.0",
      "_model_name": "HTMLModel",
      "_view_count": null,
      "_view_module": "@jupyter-widgets/controls",
      "_view_module_version": "1.5.0",
      "_view_name": "HTMLView",
      "description": "",
      "description_tooltip": null,
      "layout": "IPY_MODEL_5733c5b4af604bc594287505e5cbb453",
      "placeholder": "​",
      "style": "IPY_MODEL_f2793f0831d64c06a288b4c5bef1e1a6",
      "value": "alarm clock: 100%"
     }
    },
    "6a558ddafbd44ca18b513eafb57195a1": {
     "model_module": "@jupyter-widgets/controls",
     "model_module_version": "1.5.0",
     "model_name": "HTMLModel",
     "state": {
      "_dom_classes": [],
      "_model_module": "@jupyter-widgets/controls",
      "_model_module_version": "1.5.0",
      "_model_name": "HTMLModel",
      "_view_count": null,
      "_view_module": "@jupyter-widgets/controls",
      "_view_module_version": "1.5.0",
      "_view_name": "HTMLView",
      "description": "",
      "description_tooltip": null,
      "layout": "IPY_MODEL_ea5f44653fda408691c0827f989eb8c9",
      "placeholder": "​",
      "style": "IPY_MODEL_579afa8476df4f89994739092a894237",
      "value": "Validation: 100%"
     }
    },
    "6c999dfdc8504a6c82b2fc9d4027a738": {
     "model_module": "@jupyter-widgets/controls",
     "model_module_version": "1.5.0",
     "model_name": "FloatProgressModel",
     "state": {
      "_dom_classes": [],
      "_model_module": "@jupyter-widgets/controls",
      "_model_module_version": "1.5.0",
      "_model_name": "FloatProgressModel",
      "_view_count": null,
      "_view_module": "@jupyter-widgets/controls",
      "_view_module_version": "1.5.0",
      "_view_name": "ProgressView",
      "bar_style": "success",
      "description": "",
      "description_tooltip": null,
      "layout": "IPY_MODEL_a689d1da56a64aef8fafaf3994460c49",
      "max": 4,
      "min": 0,
      "orientation": "horizontal",
      "style": "IPY_MODEL_ccd1ad01f75849168c19e924add544f9",
      "value": 4
     }
    },
    "6d5d1073077a43d2a373b3e9bdb18bdf": {
     "model_module": "@jupyter-widgets/controls",
     "model_module_version": "1.5.0",
     "model_name": "HBoxModel",
     "state": {
      "_dom_classes": [],
      "_model_module": "@jupyter-widgets/controls",
      "_model_module_version": "1.5.0",
      "_model_name": "HBoxModel",
      "_view_count": null,
      "_view_module": "@jupyter-widgets/controls",
      "_view_module_version": "1.5.0",
      "_view_name": "HBoxView",
      "box_style": "",
      "children": [
       "IPY_MODEL_77350e683341477580672093aa99bda7",
       "IPY_MODEL_975929e157da449c976ee5e5f4869761",
       "IPY_MODEL_49dead36951c46b3b9ffdd737019fed7"
      ],
      "layout": "IPY_MODEL_8a05c01bb3a445a7bd29086079caa73e"
     }
    },
    "700adab1d382466594f0e60438f87152": {
     "model_module": "@jupyter-widgets/base",
     "model_module_version": "1.2.0",
     "model_name": "LayoutModel",
     "state": {
      "_model_module": "@jupyter-widgets/base",
      "_model_module_version": "1.2.0",
      "_model_name": "LayoutModel",
      "_view_count": null,
      "_view_module": "@jupyter-widgets/base",
      "_view_module_version": "1.2.0",
      "_view_name": "LayoutView",
      "align_content": null,
      "align_items": null,
      "align_self": null,
      "border": null,
      "bottom": null,
      "display": null,
      "flex": null,
      "flex_flow": null,
      "grid_area": null,
      "grid_auto_columns": null,
      "grid_auto_flow": null,
      "grid_auto_rows": null,
      "grid_column": null,
      "grid_gap": null,
      "grid_row": null,
      "grid_template_areas": null,
      "grid_template_columns": null,
      "grid_template_rows": null,
      "height": null,
      "justify_content": null,
      "justify_items": null,
      "left": null,
      "margin": null,
      "max_height": null,
      "max_width": null,
      "min_height": null,
      "min_width": null,
      "object_fit": null,
      "object_position": null,
      "order": null,
      "overflow": null,
      "overflow_x": null,
      "overflow_y": null,
      "padding": null,
      "right": null,
      "top": null,
      "visibility": null,
      "width": null
     }
    },
    "70b27b52457043e3b26ba4788b6164cd": {
     "model_module": "@jupyter-widgets/base",
     "model_module_version": "1.2.0",
     "model_name": "LayoutModel",
     "state": {
      "_model_module": "@jupyter-widgets/base",
      "_model_module_version": "1.2.0",
      "_model_name": "LayoutModel",
      "_view_count": null,
      "_view_module": "@jupyter-widgets/base",
      "_view_module_version": "1.2.0",
      "_view_name": "LayoutView",
      "align_content": null,
      "align_items": null,
      "align_self": null,
      "border": null,
      "bottom": null,
      "display": null,
      "flex": null,
      "flex_flow": null,
      "grid_area": null,
      "grid_auto_columns": null,
      "grid_auto_flow": null,
      "grid_auto_rows": null,
      "grid_column": null,
      "grid_gap": null,
      "grid_row": null,
      "grid_template_areas": null,
      "grid_template_columns": null,
      "grid_template_rows": null,
      "height": null,
      "justify_content": null,
      "justify_items": null,
      "left": null,
      "margin": null,
      "max_height": null,
      "max_width": null,
      "min_height": null,
      "min_width": null,
      "object_fit": null,
      "object_position": null,
      "order": null,
      "overflow": null,
      "overflow_x": null,
      "overflow_y": null,
      "padding": null,
      "right": null,
      "top": null,
      "visibility": null,
      "width": null
     }
    },
    "71645034906d4cc2ab762503e5fc32c7": {
     "model_module": "@jupyter-widgets/controls",
     "model_module_version": "1.5.0",
     "model_name": "DescriptionStyleModel",
     "state": {
      "_model_module": "@jupyter-widgets/controls",
      "_model_module_version": "1.5.0",
      "_model_name": "DescriptionStyleModel",
      "_view_count": null,
      "_view_module": "@jupyter-widgets/base",
      "_view_module_version": "1.2.0",
      "_view_name": "StyleView",
      "description_width": ""
     }
    },
    "731e15db8c644460a6cc5fd9b32e20f3": {
     "model_module": "@jupyter-widgets/controls",
     "model_module_version": "1.5.0",
     "model_name": "ProgressStyleModel",
     "state": {
      "_model_module": "@jupyter-widgets/controls",
      "_model_module_version": "1.5.0",
      "_model_name": "ProgressStyleModel",
      "_view_count": null,
      "_view_module": "@jupyter-widgets/base",
      "_view_module_version": "1.2.0",
      "_view_name": "StyleView",
      "bar_color": null,
      "description_width": ""
     }
    },
    "73270247ca4f4f66aef7ececccf5b46a": {
     "model_module": "@jupyter-widgets/controls",
     "model_module_version": "1.5.0",
     "model_name": "DescriptionStyleModel",
     "state": {
      "_model_module": "@jupyter-widgets/controls",
      "_model_module_version": "1.5.0",
      "_model_name": "DescriptionStyleModel",
      "_view_count": null,
      "_view_module": "@jupyter-widgets/base",
      "_view_module_version": "1.2.0",
      "_view_name": "StyleView",
      "description_width": ""
     }
    },
    "73986fba20ec49ea978ac5cd403caa72": {
     "model_module": "@jupyter-widgets/controls",
     "model_module_version": "1.5.0",
     "model_name": "HTMLModel",
     "state": {
      "_dom_classes": [],
      "_model_module": "@jupyter-widgets/controls",
      "_model_module_version": "1.5.0",
      "_model_name": "HTMLModel",
      "_view_count": null,
      "_view_module": "@jupyter-widgets/controls",
      "_view_module_version": "1.5.0",
      "_view_name": "HTMLView",
      "description": "",
      "description_tooltip": null,
      "layout": "IPY_MODEL_a8a2c665d1d64f24b8c655845dac510e",
      "placeholder": "​",
      "style": "IPY_MODEL_80e2bc4d9d9a40a69533edfdd03e33b0",
      "value": "Validation: 100%"
     }
    },
    "765a8167921e49f2864212f900a2233b": {
     "model_module": "@jupyter-widgets/controls",
     "model_module_version": "1.5.0",
     "model_name": "ProgressStyleModel",
     "state": {
      "_model_module": "@jupyter-widgets/controls",
      "_model_module_version": "1.5.0",
      "_model_name": "ProgressStyleModel",
      "_view_count": null,
      "_view_module": "@jupyter-widgets/base",
      "_view_module_version": "1.2.0",
      "_view_name": "StyleView",
      "bar_color": null,
      "description_width": ""
     }
    },
    "77350e683341477580672093aa99bda7": {
     "model_module": "@jupyter-widgets/controls",
     "model_module_version": "1.5.0",
     "model_name": "HTMLModel",
     "state": {
      "_dom_classes": [],
      "_model_module": "@jupyter-widgets/controls",
      "_model_module_version": "1.5.0",
      "_model_name": "HTMLModel",
      "_view_count": null,
      "_view_module": "@jupyter-widgets/controls",
      "_view_module_version": "1.5.0",
      "_view_name": "HTMLView",
      "description": "",
      "description_tooltip": null,
      "layout": "IPY_MODEL_700adab1d382466594f0e60438f87152",
      "placeholder": "​",
      "style": "IPY_MODEL_1382438396c645d8a3d19623e19aa12d",
      "value": "Benchmarking Models (Enhanced Fine-tuning): 100%"
     }
    },
    "77e9f2cbf0e84650a7a000835d9fb43f": {
     "model_module": "@jupyter-widgets/controls",
     "model_module_version": "1.5.0",
     "model_name": "HTMLModel",
     "state": {
      "_dom_classes": [],
      "_model_module": "@jupyter-widgets/controls",
      "_model_module_version": "1.5.0",
      "_model_name": "HTMLModel",
      "_view_count": null,
      "_view_module": "@jupyter-widgets/controls",
      "_view_module_version": "1.5.0",
      "_view_name": "HTMLView",
      "description": "",
      "description_tooltip": null,
      "layout": "IPY_MODEL_ed31e318306d4c9f8a5fcce9524e0af1",
      "placeholder": "​",
      "style": "IPY_MODEL_f496d2829331435484c9d0761b47657c",
      "value": " 4/4 [00:03&lt;00:00,  1.68it/s]"
     }
    },
    "7836f9d1202346f18ce9f96d16bd6b88": {
     "model_module": "@jupyter-widgets/controls",
     "model_module_version": "1.5.0",
     "model_name": "HTMLModel",
     "state": {
      "_dom_classes": [],
      "_model_module": "@jupyter-widgets/controls",
      "_model_module_version": "1.5.0",
      "_model_name": "HTMLModel",
      "_view_count": null,
      "_view_module": "@jupyter-widgets/controls",
      "_view_module_version": "1.5.0",
      "_view_name": "HTMLView",
      "description": "",
      "description_tooltip": null,
      "layout": "IPY_MODEL_4219485c856244c6b51f09c4d8e7a4b2",
      "placeholder": "​",
      "style": "IPY_MODEL_616470cc6aa44763aa441c7938364fce",
      "value": " 15.0M/15.7M [00:01&lt;00:00, 15.4MB/s]"
     }
    },
    "79472472e5ca489992fcf224f06b6d74": {
     "model_module": "@jupyter-widgets/controls",
     "model_module_version": "1.5.0",
     "model_name": "FloatProgressModel",
     "state": {
      "_dom_classes": [],
      "_model_module": "@jupyter-widgets/controls",
      "_model_module_version": "1.5.0",
      "_model_name": "FloatProgressModel",
      "_view_count": null,
      "_view_module": "@jupyter-widgets/controls",
      "_view_module_version": "1.5.0",
      "_view_name": "ProgressView",
      "bar_style": "success",
      "description": "",
      "description_tooltip": null,
      "layout": "IPY_MODEL_064f4f5080c24de0939937074568bd53",
      "max": 15724411,
      "min": 0,
      "orientation": "horizontal",
      "style": "IPY_MODEL_8891a91edba54e2eb391e9ac8454c8c5",
      "value": 15724411
     }
    },
    "7a1c0eed94534d70b556dd167e1073f8": {
     "model_module": "@jupyter-widgets/base",
     "model_module_version": "1.2.0",
     "model_name": "LayoutModel",
     "state": {
      "_model_module": "@jupyter-widgets/base",
      "_model_module_version": "1.2.0",
      "_model_name": "LayoutModel",
      "_view_count": null,
      "_view_module": "@jupyter-widgets/base",
      "_view_module_version": "1.2.0",
      "_view_name": "LayoutView",
      "align_content": null,
      "align_items": null,
      "align_self": null,
      "border": null,
      "bottom": null,
      "display": null,
      "flex": null,
      "flex_flow": null,
      "grid_area": null,
      "grid_auto_columns": null,
      "grid_auto_flow": null,
      "grid_auto_rows": null,
      "grid_column": null,
      "grid_gap": null,
      "grid_row": null,
      "grid_template_areas": null,
      "grid_template_columns": null,
      "grid_template_rows": null,
      "height": null,
      "justify_content": null,
      "justify_items": null,
      "left": null,
      "margin": null,
      "max_height": null,
      "max_width": null,
      "min_height": null,
      "min_width": null,
      "object_fit": null,
      "object_position": null,
      "order": null,
      "overflow": null,
      "overflow_x": null,
      "overflow_y": null,
      "padding": null,
      "right": null,
      "top": null,
      "visibility": null,
      "width": null
     }
    },
    "7ae14622f2094fb3963d1e1136167c7d": {
     "model_module": "@jupyter-widgets/base",
     "model_module_version": "1.2.0",
     "model_name": "LayoutModel",
     "state": {
      "_model_module": "@jupyter-widgets/base",
      "_model_module_version": "1.2.0",
      "_model_name": "LayoutModel",
      "_view_count": null,
      "_view_module": "@jupyter-widgets/base",
      "_view_module_version": "1.2.0",
      "_view_name": "LayoutView",
      "align_content": null,
      "align_items": null,
      "align_self": null,
      "border": null,
      "bottom": null,
      "display": null,
      "flex": null,
      "flex_flow": null,
      "grid_area": null,
      "grid_auto_columns": null,
      "grid_auto_flow": null,
      "grid_auto_rows": null,
      "grid_column": null,
      "grid_gap": null,
      "grid_row": null,
      "grid_template_areas": null,
      "grid_template_columns": null,
      "grid_template_rows": null,
      "height": null,
      "justify_content": null,
      "justify_items": null,
      "left": null,
      "margin": null,
      "max_height": null,
      "max_width": null,
      "min_height": null,
      "min_width": null,
      "object_fit": null,
      "object_position": null,
      "order": null,
      "overflow": null,
      "overflow_x": null,
      "overflow_y": null,
      "padding": null,
      "right": null,
      "top": null,
      "visibility": null,
      "width": null
     }
    },
    "7b7fcc4cb338462e8bd1820d78e54f90": {
     "model_module": "@jupyter-widgets/controls",
     "model_module_version": "1.5.0",
     "model_name": "DescriptionStyleModel",
     "state": {
      "_model_module": "@jupyter-widgets/controls",
      "_model_module_version": "1.5.0",
      "_model_name": "DescriptionStyleModel",
      "_view_count": null,
      "_view_module": "@jupyter-widgets/base",
      "_view_module_version": "1.2.0",
      "_view_name": "StyleView",
      "description_width": ""
     }
    },
    "7c3101e22d8649c387279c8ce5e631f3": {
     "model_module": "@jupyter-widgets/controls",
     "model_module_version": "1.5.0",
     "model_name": "HTMLModel",
     "state": {
      "_dom_classes": [],
      "_model_module": "@jupyter-widgets/controls",
      "_model_module_version": "1.5.0",
      "_model_name": "HTMLModel",
      "_view_count": null,
      "_view_module": "@jupyter-widgets/controls",
      "_view_module_version": "1.5.0",
      "_view_name": "HTMLView",
      "description": "",
      "description_tooltip": null,
      "layout": "IPY_MODEL_7a1c0eed94534d70b556dd167e1073f8",
      "placeholder": "​",
      "style": "IPY_MODEL_e222066063d5415aa792ee22043adc52",
      "value": "The Great Wall of China: 100%"
     }
    },
    "7caed954dbeb41d6ae98f1ed65ce3285": {
     "model_module": "@jupyter-widgets/base",
     "model_module_version": "1.2.0",
     "model_name": "LayoutModel",
     "state": {
      "_model_module": "@jupyter-widgets/base",
      "_model_module_version": "1.2.0",
      "_model_name": "LayoutModel",
      "_view_count": null,
      "_view_module": "@jupyter-widgets/base",
      "_view_module_version": "1.2.0",
      "_view_name": "LayoutView",
      "align_content": null,
      "align_items": null,
      "align_self": null,
      "border": null,
      "bottom": null,
      "display": null,
      "flex": null,
      "flex_flow": null,
      "grid_area": null,
      "grid_auto_columns": null,
      "grid_auto_flow": null,
      "grid_auto_rows": null,
      "grid_column": null,
      "grid_gap": null,
      "grid_row": null,
      "grid_template_areas": null,
      "grid_template_columns": null,
      "grid_template_rows": null,
      "height": null,
      "justify_content": null,
      "justify_items": null,
      "left": null,
      "margin": null,
      "max_height": null,
      "max_width": null,
      "min_height": null,
      "min_width": null,
      "object_fit": null,
      "object_position": null,
      "order": null,
      "overflow": null,
      "overflow_x": null,
      "overflow_y": null,
      "padding": null,
      "right": null,
      "top": null,
      "visibility": "hidden",
      "width": null
     }
    },
    "7e548dd4dbf64f58adb30091ef383baa": {
     "model_module": "@jupyter-widgets/controls",
     "model_module_version": "1.5.0",
     "model_name": "DescriptionStyleModel",
     "state": {
      "_model_module": "@jupyter-widgets/controls",
      "_model_module_version": "1.5.0",
      "_model_name": "DescriptionStyleModel",
      "_view_count": null,
      "_view_module": "@jupyter-widgets/base",
      "_view_module_version": "1.2.0",
      "_view_name": "StyleView",
      "description_width": ""
     }
    },
    "7ea0f97f1c5b4d22bb650cc1caa9cc59": {
     "model_module": "@jupyter-widgets/controls",
     "model_module_version": "1.5.0",
     "model_name": "HBoxModel",
     "state": {
      "_dom_classes": [],
      "_model_module": "@jupyter-widgets/controls",
      "_model_module_version": "1.5.0",
      "_model_name": "HBoxModel",
      "_view_count": null,
      "_view_module": "@jupyter-widgets/controls",
      "_view_module_version": "1.5.0",
      "_view_name": "HBoxView",
      "box_style": "",
      "children": [
       "IPY_MODEL_b90f9b8036e24e89bea8a3b6ea6e926a",
       "IPY_MODEL_9008e6a0ae3f4fdd9f7f81ea78d8551d",
       "IPY_MODEL_bcfe7561323d4557bd8890e62e99c257"
      ],
      "layout": "IPY_MODEL_35ac80c03fbd4002bded4fda80b7c638"
     }
    },
    "7f008a7132244e089f64c6199bad4272": {
     "model_module": "@jupyter-widgets/controls",
     "model_module_version": "1.5.0",
     "model_name": "DescriptionStyleModel",
     "state": {
      "_model_module": "@jupyter-widgets/controls",
      "_model_module_version": "1.5.0",
      "_model_name": "DescriptionStyleModel",
      "_view_count": null,
      "_view_module": "@jupyter-widgets/base",
      "_view_module_version": "1.2.0",
      "_view_name": "StyleView",
      "description_width": ""
     }
    },
    "7f21ff9edd8f468392bb102439fa96df": {
     "model_module": "@jupyter-widgets/controls",
     "model_module_version": "1.5.0",
     "model_name": "DescriptionStyleModel",
     "state": {
      "_model_module": "@jupyter-widgets/controls",
      "_model_module_version": "1.5.0",
      "_model_name": "DescriptionStyleModel",
      "_view_count": null,
      "_view_module": "@jupyter-widgets/base",
      "_view_module_version": "1.2.0",
      "_view_name": "StyleView",
      "description_width": ""
     }
    },
    "80e2bc4d9d9a40a69533edfdd03e33b0": {
     "model_module": "@jupyter-widgets/controls",
     "model_module_version": "1.5.0",
     "model_name": "DescriptionStyleModel",
     "state": {
      "_model_module": "@jupyter-widgets/controls",
      "_model_module_version": "1.5.0",
      "_model_name": "DescriptionStyleModel",
      "_view_count": null,
      "_view_module": "@jupyter-widgets/base",
      "_view_module_version": "1.2.0",
      "_view_name": "StyleView",
      "description_width": ""
     }
    },
    "8232596a3eee44c093635f6f59d1cf7b": {
     "model_module": "@jupyter-widgets/controls",
     "model_module_version": "1.5.0",
     "model_name": "HBoxModel",
     "state": {
      "_dom_classes": [],
      "_model_module": "@jupyter-widgets/controls",
      "_model_module_version": "1.5.0",
      "_model_name": "HBoxModel",
      "_view_count": null,
      "_view_module": "@jupyter-widgets/controls",
      "_view_module_version": "1.5.0",
      "_view_name": "HBoxView",
      "box_style": "",
      "children": [
       "IPY_MODEL_295b8993cac943709ca481c0739d3bb1",
       "IPY_MODEL_4819f7923b1d4d238fffc55a033b34d1",
       "IPY_MODEL_2cbb2411a5d34f40ba9b4954b699bb78"
      ],
      "layout": "IPY_MODEL_d300dbbc7d6942a09e695c0e9dfb5460"
     }
    },
    "83b6cadd36d24ce8b512f88c4e573bc0": {
     "model_module": "@jupyter-widgets/base",
     "model_module_version": "1.2.0",
     "model_name": "LayoutModel",
     "state": {
      "_model_module": "@jupyter-widgets/base",
      "_model_module_version": "1.2.0",
      "_model_name": "LayoutModel",
      "_view_count": null,
      "_view_module": "@jupyter-widgets/base",
      "_view_module_version": "1.2.0",
      "_view_name": "LayoutView",
      "align_content": null,
      "align_items": null,
      "align_self": null,
      "border": null,
      "bottom": null,
      "display": null,
      "flex": null,
      "flex_flow": null,
      "grid_area": null,
      "grid_auto_columns": null,
      "grid_auto_flow": null,
      "grid_auto_rows": null,
      "grid_column": null,
      "grid_gap": null,
      "grid_row": null,
      "grid_template_areas": null,
      "grid_template_columns": null,
      "grid_template_rows": null,
      "height": null,
      "justify_content": null,
      "justify_items": null,
      "left": null,
      "margin": null,
      "max_height": null,
      "max_width": null,
      "min_height": null,
      "min_width": null,
      "object_fit": null,
      "object_position": null,
      "order": null,
      "overflow": null,
      "overflow_x": null,
      "overflow_y": null,
      "padding": null,
      "right": null,
      "top": null,
      "visibility": null,
      "width": null
     }
    },
    "83ff0f69cced4eafb366c1edfbe2def5": {
     "model_module": "@jupyter-widgets/base",
     "model_module_version": "1.2.0",
     "model_name": "LayoutModel",
     "state": {
      "_model_module": "@jupyter-widgets/base",
      "_model_module_version": "1.2.0",
      "_model_name": "LayoutModel",
      "_view_count": null,
      "_view_module": "@jupyter-widgets/base",
      "_view_module_version": "1.2.0",
      "_view_name": "LayoutView",
      "align_content": null,
      "align_items": null,
      "align_self": null,
      "border": null,
      "bottom": null,
      "display": null,
      "flex": null,
      "flex_flow": null,
      "grid_area": null,
      "grid_auto_columns": null,
      "grid_auto_flow": null,
      "grid_auto_rows": null,
      "grid_column": null,
      "grid_gap": null,
      "grid_row": null,
      "grid_template_areas": null,
      "grid_template_columns": null,
      "grid_template_rows": null,
      "height": null,
      "justify_content": null,
      "justify_items": null,
      "left": null,
      "margin": null,
      "max_height": null,
      "max_width": null,
      "min_height": null,
      "min_width": null,
      "object_fit": null,
      "object_position": null,
      "order": null,
      "overflow": null,
      "overflow_x": null,
      "overflow_y": null,
      "padding": null,
      "right": null,
      "top": null,
      "visibility": null,
      "width": null
     }
    },
    "8402df8157c54e4686107bdb879d6e8e": {
     "model_module": "@jupyter-widgets/controls",
     "model_module_version": "1.5.0",
     "model_name": "HBoxModel",
     "state": {
      "_dom_classes": [],
      "_model_module": "@jupyter-widgets/controls",
      "_model_module_version": "1.5.0",
      "_model_name": "HBoxModel",
      "_view_count": null,
      "_view_module": "@jupyter-widgets/controls",
      "_view_module_version": "1.5.0",
      "_view_name": "HBoxView",
      "box_style": "",
      "children": [
       "IPY_MODEL_ec2ad721a3c8414b84295c0d638cb942",
       "IPY_MODEL_3e79333740464617bfcd360086ec7940",
       "IPY_MODEL_8e24421141a34863af8a5989ffd66ff2"
      ],
      "layout": "IPY_MODEL_a3a512fe3d7942b2aa2d34f5c8a0ded6"
     }
    },
    "865570209f8141389a8f840fcfd25c26": {
     "model_module": "@jupyter-widgets/controls",
     "model_module_version": "1.5.0",
     "model_name": "HTMLModel",
     "state": {
      "_dom_classes": [],
      "_model_module": "@jupyter-widgets/controls",
      "_model_module_version": "1.5.0",
      "_model_name": "HTMLModel",
      "_view_count": null,
      "_view_module": "@jupyter-widgets/controls",
      "_view_module_version": "1.5.0",
      "_view_name": "HTMLView",
      "description": "",
      "description_tooltip": null,
      "layout": "IPY_MODEL_0b6d4b26ea804de395aa3b38ba70207b",
      "placeholder": "​",
      "style": "IPY_MODEL_a2b1e120a7a948968d15524c0999967b",
      "value": "Training: 100%"
     }
    },
    "885390198f264015af94bfb14a6e1667": {
     "model_module": "@jupyter-widgets/base",
     "model_module_version": "1.2.0",
     "model_name": "LayoutModel",
     "state": {
      "_model_module": "@jupyter-widgets/base",
      "_model_module_version": "1.2.0",
      "_model_name": "LayoutModel",
      "_view_count": null,
      "_view_module": "@jupyter-widgets/base",
      "_view_module_version": "1.2.0",
      "_view_name": "LayoutView",
      "align_content": null,
      "align_items": null,
      "align_self": null,
      "border": null,
      "bottom": null,
      "display": null,
      "flex": null,
      "flex_flow": null,
      "grid_area": null,
      "grid_auto_columns": null,
      "grid_auto_flow": null,
      "grid_auto_rows": null,
      "grid_column": null,
      "grid_gap": null,
      "grid_row": null,
      "grid_template_areas": null,
      "grid_template_columns": null,
      "grid_template_rows": null,
      "height": null,
      "justify_content": null,
      "justify_items": null,
      "left": null,
      "margin": null,
      "max_height": null,
      "max_width": null,
      "min_height": null,
      "min_width": null,
      "object_fit": null,
      "object_position": null,
      "order": null,
      "overflow": null,
      "overflow_x": null,
      "overflow_y": null,
      "padding": null,
      "right": null,
      "top": null,
      "visibility": null,
      "width": null
     }
    },
    "8891a91edba54e2eb391e9ac8454c8c5": {
     "model_module": "@jupyter-widgets/controls",
     "model_module_version": "1.5.0",
     "model_name": "ProgressStyleModel",
     "state": {
      "_model_module": "@jupyter-widgets/controls",
      "_model_module_version": "1.5.0",
      "_model_name": "ProgressStyleModel",
      "_view_count": null,
      "_view_module": "@jupyter-widgets/base",
      "_view_module_version": "1.2.0",
      "_view_name": "StyleView",
      "bar_color": null,
      "description_width": ""
     }
    },
    "8902a823da2042f7a9df50065fefebca": {
     "model_module": "@jupyter-widgets/controls",
     "model_module_version": "1.5.0",
     "model_name": "FloatProgressModel",
     "state": {
      "_dom_classes": [],
      "_model_module": "@jupyter-widgets/controls",
      "_model_module_version": "1.5.0",
      "_model_name": "FloatProgressModel",
      "_view_count": null,
      "_view_module": "@jupyter-widgets/controls",
      "_view_module_version": "1.5.0",
      "_view_name": "ProgressView",
      "bar_style": "",
      "description": "",
      "description_tooltip": null,
      "layout": "IPY_MODEL_f1c30020b8b34456b7f51466066f0b0c",
      "max": 1,
      "min": 0,
      "orientation": "horizontal",
      "style": "IPY_MODEL_3ecf14b01472467492e4bac9493fc727",
      "value": 1
     }
    },
    "8a05c01bb3a445a7bd29086079caa73e": {
     "model_module": "@jupyter-widgets/base",
     "model_module_version": "1.2.0",
     "model_name": "LayoutModel",
     "state": {
      "_model_module": "@jupyter-widgets/base",
      "_model_module_version": "1.2.0",
      "_model_name": "LayoutModel",
      "_view_count": null,
      "_view_module": "@jupyter-widgets/base",
      "_view_module_version": "1.2.0",
      "_view_name": "LayoutView",
      "align_content": null,
      "align_items": null,
      "align_self": null,
      "border": null,
      "bottom": null,
      "display": null,
      "flex": null,
      "flex_flow": null,
      "grid_area": null,
      "grid_auto_columns": null,
      "grid_auto_flow": null,
      "grid_auto_rows": null,
      "grid_column": null,
      "grid_gap": null,
      "grid_row": null,
      "grid_template_areas": null,
      "grid_template_columns": null,
      "grid_template_rows": null,
      "height": null,
      "justify_content": null,
      "justify_items": null,
      "left": null,
      "margin": null,
      "max_height": null,
      "max_width": null,
      "min_height": null,
      "min_width": null,
      "object_fit": null,
      "object_position": null,
      "order": null,
      "overflow": null,
      "overflow_x": null,
      "overflow_y": null,
      "padding": null,
      "right": null,
      "top": null,
      "visibility": null,
      "width": null
     }
    },
    "8ad05cd991824e42b77e76daa3703f33": {
     "model_module": "@jupyter-widgets/controls",
     "model_module_version": "1.5.0",
     "model_name": "HBoxModel",
     "state": {
      "_dom_classes": [],
      "_model_module": "@jupyter-widgets/controls",
      "_model_module_version": "1.5.0",
      "_model_name": "HBoxModel",
      "_view_count": null,
      "_view_module": "@jupyter-widgets/controls",
      "_view_module_version": "1.5.0",
      "_view_name": "HBoxView",
      "box_style": "",
      "children": [
       "IPY_MODEL_865570209f8141389a8f840fcfd25c26",
       "IPY_MODEL_1708b4363b1f4dd09851840418c7fe17",
       "IPY_MODEL_77e9f2cbf0e84650a7a000835d9fb43f"
      ],
      "layout": "IPY_MODEL_0f59a4e81cc84744b88b759fd4eded0c"
     }
    },
    "8b5b578178ab4acc99d466109197da55": {
     "model_module": "@jupyter-widgets/controls",
     "model_module_version": "1.5.0",
     "model_name": "HBoxModel",
     "state": {
      "_dom_classes": [],
      "_model_module": "@jupyter-widgets/controls",
      "_model_module_version": "1.5.0",
      "_model_name": "HBoxModel",
      "_view_count": null,
      "_view_module": "@jupyter-widgets/controls",
      "_view_module_version": "1.5.0",
      "_view_name": "HBoxView",
      "box_style": "",
      "children": [
       "IPY_MODEL_73986fba20ec49ea978ac5cd403caa72",
       "IPY_MODEL_da42b09c971942358374cfd6623e7487",
       "IPY_MODEL_9e0838ac51f7440cb3b84243e90cd079"
      ],
      "layout": "IPY_MODEL_90cc237de9b348b79c2a1b111c1a76b2"
     }
    },
    "8d68dca962c6471eb88a366010ea304c": {
     "model_module": "@jupyter-widgets/controls",
     "model_module_version": "1.5.0",
     "model_name": "HTMLModel",
     "state": {
      "_dom_classes": [],
      "_model_module": "@jupyter-widgets/controls",
      "_model_module_version": "1.5.0",
      "_model_name": "HTMLModel",
      "_view_count": null,
      "_view_module": "@jupyter-widgets/controls",
      "_view_module_version": "1.5.0",
      "_view_name": "HTMLView",
      "description": "",
      "description_tooltip": null,
      "layout": "IPY_MODEL_a6e32fbc60604c4ba94f75e3b825b874",
      "placeholder": "​",
      "style": "IPY_MODEL_7f008a7132244e089f64c6199bad4272",
      "value": " 21.0M/21.1M [00:02&lt;00:00, 8.10MB/s]"
     }
    },
    "8e24421141a34863af8a5989ffd66ff2": {
     "model_module": "@jupyter-widgets/controls",
     "model_module_version": "1.5.0",
     "model_name": "HTMLModel",
     "state": {
      "_dom_classes": [],
      "_model_module": "@jupyter-widgets/controls",
      "_model_module_version": "1.5.0",
      "_model_name": "HTMLModel",
      "_view_count": null,
      "_view_module": "@jupyter-widgets/controls",
      "_view_module_version": "1.5.0",
      "_view_name": "HTMLView",
      "description": "",
      "description_tooltip": null,
      "layout": "IPY_MODEL_ab9c9ca41fb3418cb5eaccff660f17a5",
      "placeholder": "​",
      "style": "IPY_MODEL_e7a307c5bb7b49989d4757e9e0c848fb",
      "value": " 17.3M/18.9M [00:01&lt;00:00, 16.0MB/s]"
     }
    },
    "8e4ddbfcccc946408c0d7e2dc7c72576": {
     "model_module": "@jupyter-widgets/base",
     "model_module_version": "1.2.0",
     "model_name": "LayoutModel",
     "state": {
      "_model_module": "@jupyter-widgets/base",
      "_model_module_version": "1.2.0",
      "_model_name": "LayoutModel",
      "_view_count": null,
      "_view_module": "@jupyter-widgets/base",
      "_view_module_version": "1.2.0",
      "_view_name": "LayoutView",
      "align_content": null,
      "align_items": null,
      "align_self": null,
      "border": null,
      "bottom": null,
      "display": null,
      "flex": null,
      "flex_flow": null,
      "grid_area": null,
      "grid_auto_columns": null,
      "grid_auto_flow": null,
      "grid_auto_rows": null,
      "grid_column": null,
      "grid_gap": null,
      "grid_row": null,
      "grid_template_areas": null,
      "grid_template_columns": null,
      "grid_template_rows": null,
      "height": null,
      "justify_content": null,
      "justify_items": null,
      "left": null,
      "margin": null,
      "max_height": null,
      "max_width": null,
      "min_height": null,
      "min_width": null,
      "object_fit": null,
      "object_position": null,
      "order": null,
      "overflow": null,
      "overflow_x": null,
      "overflow_y": null,
      "padding": null,
      "right": null,
      "top": null,
      "visibility": null,
      "width": null
     }
    },
    "9008e6a0ae3f4fdd9f7f81ea78d8551d": {
     "model_module": "@jupyter-widgets/controls",
     "model_module_version": "1.5.0",
     "model_name": "FloatProgressModel",
     "state": {
      "_dom_classes": [],
      "_model_module": "@jupyter-widgets/controls",
      "_model_module_version": "1.5.0",
      "_model_name": "FloatProgressModel",
      "_view_count": null,
      "_view_module": "@jupyter-widgets/controls",
      "_view_module_version": "1.5.0",
      "_view_name": "ProgressView",
      "bar_style": "",
      "description": "",
      "description_tooltip": null,
      "layout": "IPY_MODEL_2293520d5c2e4a089ee159aa8b3c7b9a",
      "max": 4,
      "min": 0,
      "orientation": "horizontal",
      "style": "IPY_MODEL_60b63a4296cc4bae8d509b33f40a4d99",
      "value": 4
     }
    },
    "9013763060044480a1d388512be83939": {
     "model_module": "@jupyter-widgets/base",
     "model_module_version": "1.2.0",
     "model_name": "LayoutModel",
     "state": {
      "_model_module": "@jupyter-widgets/base",
      "_model_module_version": "1.2.0",
      "_model_name": "LayoutModel",
      "_view_count": null,
      "_view_module": "@jupyter-widgets/base",
      "_view_module_version": "1.2.0",
      "_view_name": "LayoutView",
      "align_content": null,
      "align_items": null,
      "align_self": null,
      "border": null,
      "bottom": null,
      "display": null,
      "flex": null,
      "flex_flow": null,
      "grid_area": null,
      "grid_auto_columns": null,
      "grid_auto_flow": null,
      "grid_auto_rows": null,
      "grid_column": null,
      "grid_gap": null,
      "grid_row": null,
      "grid_template_areas": null,
      "grid_template_columns": null,
      "grid_template_rows": null,
      "height": null,
      "justify_content": null,
      "justify_items": null,
      "left": null,
      "margin": null,
      "max_height": null,
      "max_width": null,
      "min_height": null,
      "min_width": null,
      "object_fit": null,
      "object_position": null,
      "order": null,
      "overflow": null,
      "overflow_x": null,
      "overflow_y": null,
      "padding": null,
      "right": null,
      "top": null,
      "visibility": null,
      "width": null
     }
    },
    "90cc237de9b348b79c2a1b111c1a76b2": {
     "model_module": "@jupyter-widgets/base",
     "model_module_version": "1.2.0",
     "model_name": "LayoutModel",
     "state": {
      "_model_module": "@jupyter-widgets/base",
      "_model_module_version": "1.2.0",
      "_model_name": "LayoutModel",
      "_view_count": null,
      "_view_module": "@jupyter-widgets/base",
      "_view_module_version": "1.2.0",
      "_view_name": "LayoutView",
      "align_content": null,
      "align_items": null,
      "align_self": null,
      "border": null,
      "bottom": null,
      "display": null,
      "flex": null,
      "flex_flow": null,
      "grid_area": null,
      "grid_auto_columns": null,
      "grid_auto_flow": null,
      "grid_auto_rows": null,
      "grid_column": null,
      "grid_gap": null,
      "grid_row": null,
      "grid_template_areas": null,
      "grid_template_columns": null,
      "grid_template_rows": null,
      "height": null,
      "justify_content": null,
      "justify_items": null,
      "left": null,
      "margin": null,
      "max_height": null,
      "max_width": null,
      "min_height": null,
      "min_width": null,
      "object_fit": null,
      "object_position": null,
      "order": null,
      "overflow": null,
      "overflow_x": null,
      "overflow_y": null,
      "padding": null,
      "right": null,
      "top": null,
      "visibility": "hidden",
      "width": null
     }
    },
    "914234e4e9b04058b09bcc69c13810b6": {
     "model_module": "@jupyter-widgets/base",
     "model_module_version": "1.2.0",
     "model_name": "LayoutModel",
     "state": {
      "_model_module": "@jupyter-widgets/base",
      "_model_module_version": "1.2.0",
      "_model_name": "LayoutModel",
      "_view_count": null,
      "_view_module": "@jupyter-widgets/base",
      "_view_module_version": "1.2.0",
      "_view_name": "LayoutView",
      "align_content": null,
      "align_items": null,
      "align_self": null,
      "border": null,
      "bottom": null,
      "display": null,
      "flex": null,
      "flex_flow": null,
      "grid_area": null,
      "grid_auto_columns": null,
      "grid_auto_flow": null,
      "grid_auto_rows": null,
      "grid_column": null,
      "grid_gap": null,
      "grid_row": null,
      "grid_template_areas": null,
      "grid_template_columns": null,
      "grid_template_rows": null,
      "height": null,
      "justify_content": null,
      "justify_items": null,
      "left": null,
      "margin": null,
      "max_height": null,
      "max_width": null,
      "min_height": null,
      "min_width": null,
      "object_fit": null,
      "object_position": null,
      "order": null,
      "overflow": null,
      "overflow_x": null,
      "overflow_y": null,
      "padding": null,
      "right": null,
      "top": null,
      "visibility": null,
      "width": null
     }
    },
    "92c1da26273c47bc883d761724dc58c7": {
     "model_module": "@jupyter-widgets/controls",
     "model_module_version": "1.5.0",
     "model_name": "DescriptionStyleModel",
     "state": {
      "_model_module": "@jupyter-widgets/controls",
      "_model_module_version": "1.5.0",
      "_model_name": "DescriptionStyleModel",
      "_view_count": null,
      "_view_module": "@jupyter-widgets/base",
      "_view_module_version": "1.2.0",
      "_view_name": "StyleView",
      "description_width": ""
     }
    },
    "93b7afcad72d4118b78087a8bf747bbc": {
     "model_module": "@jupyter-widgets/controls",
     "model_module_version": "1.5.0",
     "model_name": "DescriptionStyleModel",
     "state": {
      "_model_module": "@jupyter-widgets/controls",
      "_model_module_version": "1.5.0",
      "_model_name": "DescriptionStyleModel",
      "_view_count": null,
      "_view_module": "@jupyter-widgets/base",
      "_view_module_version": "1.2.0",
      "_view_name": "StyleView",
      "description_width": ""
     }
    },
    "96ffdf9476ed478a9cd32b78e8b34ccf": {
     "model_module": "@jupyter-widgets/controls",
     "model_module_version": "1.5.0",
     "model_name": "DescriptionStyleModel",
     "state": {
      "_model_module": "@jupyter-widgets/controls",
      "_model_module_version": "1.5.0",
      "_model_name": "DescriptionStyleModel",
      "_view_count": null,
      "_view_module": "@jupyter-widgets/base",
      "_view_module_version": "1.2.0",
      "_view_name": "StyleView",
      "description_width": ""
     }
    },
    "9706758d2cd247be807005dbebae7640": {
     "model_module": "@jupyter-widgets/controls",
     "model_module_version": "1.5.0",
     "model_name": "HBoxModel",
     "state": {
      "_dom_classes": [],
      "_model_module": "@jupyter-widgets/controls",
      "_model_module_version": "1.5.0",
      "_model_name": "HBoxModel",
      "_view_count": null,
      "_view_module": "@jupyter-widgets/controls",
      "_view_module_version": "1.5.0",
      "_view_name": "HBoxView",
      "box_style": "",
      "children": [
       "IPY_MODEL_e08e98ec35064b7cb966b619edce913a",
       "IPY_MODEL_6310c28a18b84e1f8049ea6101a3d292",
       "IPY_MODEL_ef78864943394abaa3918d661f222495"
      ],
      "layout": "IPY_MODEL_4a72f8a8c0504280b462a9dce8ff708c"
     }
    },
    "973ab576496f46c2beb3e509a026bbff": {
     "model_module": "@jupyter-widgets/base",
     "model_module_version": "1.2.0",
     "model_name": "LayoutModel",
     "state": {
      "_model_module": "@jupyter-widgets/base",
      "_model_module_version": "1.2.0",
      "_model_name": "LayoutModel",
      "_view_count": null,
      "_view_module": "@jupyter-widgets/base",
      "_view_module_version": "1.2.0",
      "_view_name": "LayoutView",
      "align_content": null,
      "align_items": null,
      "align_self": null,
      "border": null,
      "bottom": null,
      "display": null,
      "flex": null,
      "flex_flow": null,
      "grid_area": null,
      "grid_auto_columns": null,
      "grid_auto_flow": null,
      "grid_auto_rows": null,
      "grid_column": null,
      "grid_gap": null,
      "grid_row": null,
      "grid_template_areas": null,
      "grid_template_columns": null,
      "grid_template_rows": null,
      "height": null,
      "justify_content": null,
      "justify_items": null,
      "left": null,
      "margin": null,
      "max_height": null,
      "max_width": null,
      "min_height": null,
      "min_width": null,
      "object_fit": null,
      "object_position": null,
      "order": null,
      "overflow": null,
      "overflow_x": null,
      "overflow_y": null,
      "padding": null,
      "right": null,
      "top": null,
      "visibility": null,
      "width": null
     }
    },
    "975929e157da449c976ee5e5f4869761": {
     "model_module": "@jupyter-widgets/controls",
     "model_module_version": "1.5.0",
     "model_name": "FloatProgressModel",
     "state": {
      "_dom_classes": [],
      "_model_module": "@jupyter-widgets/controls",
      "_model_module_version": "1.5.0",
      "_model_name": "FloatProgressModel",
      "_view_count": null,
      "_view_module": "@jupyter-widgets/controls",
      "_view_module_version": "1.5.0",
      "_view_name": "ProgressView",
      "bar_style": "success",
      "description": "",
      "description_tooltip": null,
      "layout": "IPY_MODEL_9891ebef1763477093a60b5a8fb80361",
      "max": 1,
      "min": 0,
      "orientation": "horizontal",
      "style": "IPY_MODEL_9cb8583a5b1347ac8e630b1255e4fc28",
      "value": 1
     }
    },
    "977f1e3f18ce4c278f40eb93f9a1982f": {
     "model_module": "@jupyter-widgets/controls",
     "model_module_version": "1.5.0",
     "model_name": "HTMLModel",
     "state": {
      "_dom_classes": [],
      "_model_module": "@jupyter-widgets/controls",
      "_model_module_version": "1.5.0",
      "_model_name": "HTMLModel",
      "_view_count": null,
      "_view_module": "@jupyter-widgets/controls",
      "_view_module_version": "1.5.0",
      "_view_name": "HTMLView",
      "description": "",
      "description_tooltip": null,
      "layout": "IPY_MODEL_3dba48cec328472cb25cfafb493f4f95",
      "placeholder": "​",
      "style": "IPY_MODEL_b223e126bf1a47c99ab2ba6b09419538",
      "value": "Validation: 100%"
     }
    },
    "9891ebef1763477093a60b5a8fb80361": {
     "model_module": "@jupyter-widgets/base",
     "model_module_version": "1.2.0",
     "model_name": "LayoutModel",
     "state": {
      "_model_module": "@jupyter-widgets/base",
      "_model_module_version": "1.2.0",
      "_model_name": "LayoutModel",
      "_view_count": null,
      "_view_module": "@jupyter-widgets/base",
      "_view_module_version": "1.2.0",
      "_view_name": "LayoutView",
      "align_content": null,
      "align_items": null,
      "align_self": null,
      "border": null,
      "bottom": null,
      "display": null,
      "flex": null,
      "flex_flow": null,
      "grid_area": null,
      "grid_auto_columns": null,
      "grid_auto_flow": null,
      "grid_auto_rows": null,
      "grid_column": null,
      "grid_gap": null,
      "grid_row": null,
      "grid_template_areas": null,
      "grid_template_columns": null,
      "grid_template_rows": null,
      "height": null,
      "justify_content": null,
      "justify_items": null,
      "left": null,
      "margin": null,
      "max_height": null,
      "max_width": null,
      "min_height": null,
      "min_width": null,
      "object_fit": null,
      "object_position": null,
      "order": null,
      "overflow": null,
      "overflow_x": null,
      "overflow_y": null,
      "padding": null,
      "right": null,
      "top": null,
      "visibility": null,
      "width": null
     }
    },
    "9cb8583a5b1347ac8e630b1255e4fc28": {
     "model_module": "@jupyter-widgets/controls",
     "model_module_version": "1.5.0",
     "model_name": "ProgressStyleModel",
     "state": {
      "_model_module": "@jupyter-widgets/controls",
      "_model_module_version": "1.5.0",
      "_model_name": "ProgressStyleModel",
      "_view_count": null,
      "_view_module": "@jupyter-widgets/base",
      "_view_module_version": "1.2.0",
      "_view_name": "StyleView",
      "bar_color": null,
      "description_width": ""
     }
    },
    "9cc001df3d974f7f8a41c47f42358994": {
     "model_module": "@jupyter-widgets/base",
     "model_module_version": "1.2.0",
     "model_name": "LayoutModel",
     "state": {
      "_model_module": "@jupyter-widgets/base",
      "_model_module_version": "1.2.0",
      "_model_name": "LayoutModel",
      "_view_count": null,
      "_view_module": "@jupyter-widgets/base",
      "_view_module_version": "1.2.0",
      "_view_name": "LayoutView",
      "align_content": null,
      "align_items": null,
      "align_self": null,
      "border": null,
      "bottom": null,
      "display": null,
      "flex": null,
      "flex_flow": null,
      "grid_area": null,
      "grid_auto_columns": null,
      "grid_auto_flow": null,
      "grid_auto_rows": null,
      "grid_column": null,
      "grid_gap": null,
      "grid_row": null,
      "grid_template_areas": null,
      "grid_template_columns": null,
      "grid_template_rows": null,
      "height": null,
      "justify_content": null,
      "justify_items": null,
      "left": null,
      "margin": null,
      "max_height": null,
      "max_width": null,
      "min_height": null,
      "min_width": null,
      "object_fit": null,
      "object_position": null,
      "order": null,
      "overflow": null,
      "overflow_x": null,
      "overflow_y": null,
      "padding": null,
      "right": null,
      "top": null,
      "visibility": null,
      "width": null
     }
    },
    "9ce4b93cdcaf4147a44d559b705bda3d": {
     "model_module": "@jupyter-widgets/controls",
     "model_module_version": "1.5.0",
     "model_name": "DescriptionStyleModel",
     "state": {
      "_model_module": "@jupyter-widgets/controls",
      "_model_module_version": "1.5.0",
      "_model_name": "DescriptionStyleModel",
      "_view_count": null,
      "_view_module": "@jupyter-widgets/base",
      "_view_module_version": "1.2.0",
      "_view_name": "StyleView",
      "description_width": ""
     }
    },
    "9e0838ac51f7440cb3b84243e90cd079": {
     "model_module": "@jupyter-widgets/controls",
     "model_module_version": "1.5.0",
     "model_name": "HTMLModel",
     "state": {
      "_dom_classes": [],
      "_model_module": "@jupyter-widgets/controls",
      "_model_module_version": "1.5.0",
      "_model_name": "HTMLModel",
      "_view_count": null,
      "_view_module": "@jupyter-widgets/controls",
      "_view_module_version": "1.5.0",
      "_view_name": "HTMLView",
      "description": "",
      "description_tooltip": null,
      "layout": "IPY_MODEL_973ab576496f46c2beb3e509a026bbff",
      "placeholder": "​",
      "style": "IPY_MODEL_08cc8d18835d4e56b3ffb62b0e32ee1a",
      "value": " 1/1 [00:00&lt;00:00,  4.19it/s]"
     }
    },
    "9f95e2fdebef4e88b921a5df4fdb6edf": {
     "model_module": "@jupyter-widgets/controls",
     "model_module_version": "1.5.0",
     "model_name": "HTMLModel",
     "state": {
      "_dom_classes": [],
      "_model_module": "@jupyter-widgets/controls",
      "_model_module_version": "1.5.0",
      "_model_name": "HTMLModel",
      "_view_count": null,
      "_view_module": "@jupyter-widgets/controls",
      "_view_module_version": "1.5.0",
      "_view_name": "HTMLView",
      "description": "",
      "description_tooltip": null,
      "layout": "IPY_MODEL_2f2b9b24c99f47a3819933de4b2833fa",
      "placeholder": "​",
      "style": "IPY_MODEL_d366f2671d1846b7af6e4529f417d30a",
      "value": " 3/4 [00:02&lt;00:00,  1.74it/s]"
     }
    },
    "a12e423950fb44a689bc34f05c444b7a": {
     "model_module": "@jupyter-widgets/controls",
     "model_module_version": "1.5.0",
     "model_name": "HBoxModel",
     "state": {
      "_dom_classes": [],
      "_model_module": "@jupyter-widgets/controls",
      "_model_module_version": "1.5.0",
      "_model_name": "HBoxModel",
      "_view_count": null,
      "_view_module": "@jupyter-widgets/controls",
      "_view_module_version": "1.5.0",
      "_view_name": "HBoxView",
      "box_style": "",
      "children": [
       "IPY_MODEL_08c3ec7322cb4a4a9ce5f8c5484142d3",
       "IPY_MODEL_c23eab864e334f0f8cdd481c6933e4e3",
       "IPY_MODEL_fff3eef01dad473084fe667931b863ed"
      ],
      "layout": "IPY_MODEL_2c91cdd989764c74ac6b558154437414"
     }
    },
    "a2b1e120a7a948968d15524c0999967b": {
     "model_module": "@jupyter-widgets/controls",
     "model_module_version": "1.5.0",
     "model_name": "DescriptionStyleModel",
     "state": {
      "_model_module": "@jupyter-widgets/controls",
      "_model_module_version": "1.5.0",
      "_model_name": "DescriptionStyleModel",
      "_view_count": null,
      "_view_module": "@jupyter-widgets/base",
      "_view_module_version": "1.2.0",
      "_view_name": "StyleView",
      "description_width": ""
     }
    },
    "a38d27ce6510435ab498f23c995327bb": {
     "model_module": "@jupyter-widgets/controls",
     "model_module_version": "1.5.0",
     "model_name": "FloatProgressModel",
     "state": {
      "_dom_classes": [],
      "_model_module": "@jupyter-widgets/controls",
      "_model_module_version": "1.5.0",
      "_model_name": "FloatProgressModel",
      "_view_count": null,
      "_view_module": "@jupyter-widgets/controls",
      "_view_module_version": "1.5.0",
      "_view_name": "ProgressView",
      "bar_style": "",
      "description": "",
      "description_tooltip": null,
      "layout": "IPY_MODEL_0a00a664e57e46e28b8889bc22ac1d43",
      "max": 21142497,
      "min": 0,
      "orientation": "horizontal",
      "style": "IPY_MODEL_18cfca02df0440c3b788e6c04447aa36",
      "value": 21142497
     }
    },
    "a3a512fe3d7942b2aa2d34f5c8a0ded6": {
     "model_module": "@jupyter-widgets/base",
     "model_module_version": "1.2.0",
     "model_name": "LayoutModel",
     "state": {
      "_model_module": "@jupyter-widgets/base",
      "_model_module_version": "1.2.0",
      "_model_name": "LayoutModel",
      "_view_count": null,
      "_view_module": "@jupyter-widgets/base",
      "_view_module_version": "1.2.0",
      "_view_name": "LayoutView",
      "align_content": null,
      "align_items": null,
      "align_self": null,
      "border": null,
      "bottom": null,
      "display": null,
      "flex": null,
      "flex_flow": null,
      "grid_area": null,
      "grid_auto_columns": null,
      "grid_auto_flow": null,
      "grid_auto_rows": null,
      "grid_column": null,
      "grid_gap": null,
      "grid_row": null,
      "grid_template_areas": null,
      "grid_template_columns": null,
      "grid_template_rows": null,
      "height": null,
      "justify_content": null,
      "justify_items": null,
      "left": null,
      "margin": null,
      "max_height": null,
      "max_width": null,
      "min_height": null,
      "min_width": null,
      "object_fit": null,
      "object_position": null,
      "order": null,
      "overflow": null,
      "overflow_x": null,
      "overflow_y": null,
      "padding": null,
      "right": null,
      "top": null,
      "visibility": "hidden",
      "width": null
     }
    },
    "a4d64d19f8654d5393bea4f3dafe09e1": {
     "model_module": "@jupyter-widgets/controls",
     "model_module_version": "1.5.0",
     "model_name": "ProgressStyleModel",
     "state": {
      "_model_module": "@jupyter-widgets/controls",
      "_model_module_version": "1.5.0",
      "_model_name": "ProgressStyleModel",
      "_view_count": null,
      "_view_module": "@jupyter-widgets/base",
      "_view_module_version": "1.2.0",
      "_view_name": "StyleView",
      "bar_color": null,
      "description_width": ""
     }
    },
    "a5dcb1f802c0443d89644bf9551c5590": {
     "model_module": "@jupyter-widgets/base",
     "model_module_version": "1.2.0",
     "model_name": "LayoutModel",
     "state": {
      "_model_module": "@jupyter-widgets/base",
      "_model_module_version": "1.2.0",
      "_model_name": "LayoutModel",
      "_view_count": null,
      "_view_module": "@jupyter-widgets/base",
      "_view_module_version": "1.2.0",
      "_view_name": "LayoutView",
      "align_content": null,
      "align_items": null,
      "align_self": null,
      "border": null,
      "bottom": null,
      "display": null,
      "flex": null,
      "flex_flow": null,
      "grid_area": null,
      "grid_auto_columns": null,
      "grid_auto_flow": null,
      "grid_auto_rows": null,
      "grid_column": null,
      "grid_gap": null,
      "grid_row": null,
      "grid_template_areas": null,
      "grid_template_columns": null,
      "grid_template_rows": null,
      "height": null,
      "justify_content": null,
      "justify_items": null,
      "left": null,
      "margin": null,
      "max_height": null,
      "max_width": null,
      "min_height": null,
      "min_width": null,
      "object_fit": null,
      "object_position": null,
      "order": null,
      "overflow": null,
      "overflow_x": null,
      "overflow_y": null,
      "padding": null,
      "right": null,
      "top": null,
      "visibility": null,
      "width": null
     }
    },
    "a64e1243864c416baa3fe1aca24a20d1": {
     "model_module": "@jupyter-widgets/base",
     "model_module_version": "1.2.0",
     "model_name": "LayoutModel",
     "state": {
      "_model_module": "@jupyter-widgets/base",
      "_model_module_version": "1.2.0",
      "_model_name": "LayoutModel",
      "_view_count": null,
      "_view_module": "@jupyter-widgets/base",
      "_view_module_version": "1.2.0",
      "_view_name": "LayoutView",
      "align_content": null,
      "align_items": null,
      "align_self": null,
      "border": null,
      "bottom": null,
      "display": null,
      "flex": null,
      "flex_flow": null,
      "grid_area": null,
      "grid_auto_columns": null,
      "grid_auto_flow": null,
      "grid_auto_rows": null,
      "grid_column": null,
      "grid_gap": null,
      "grid_row": null,
      "grid_template_areas": null,
      "grid_template_columns": null,
      "grid_template_rows": null,
      "height": null,
      "justify_content": null,
      "justify_items": null,
      "left": null,
      "margin": null,
      "max_height": null,
      "max_width": null,
      "min_height": null,
      "min_width": null,
      "object_fit": null,
      "object_position": null,
      "order": null,
      "overflow": null,
      "overflow_x": null,
      "overflow_y": null,
      "padding": null,
      "right": null,
      "top": null,
      "visibility": null,
      "width": null
     }
    },
    "a6521fb16ce84bce89da5092f5cd1e1f": {
     "model_module": "@jupyter-widgets/base",
     "model_module_version": "1.2.0",
     "model_name": "LayoutModel",
     "state": {
      "_model_module": "@jupyter-widgets/base",
      "_model_module_version": "1.2.0",
      "_model_name": "LayoutModel",
      "_view_count": null,
      "_view_module": "@jupyter-widgets/base",
      "_view_module_version": "1.2.0",
      "_view_name": "LayoutView",
      "align_content": null,
      "align_items": null,
      "align_self": null,
      "border": null,
      "bottom": null,
      "display": null,
      "flex": null,
      "flex_flow": null,
      "grid_area": null,
      "grid_auto_columns": null,
      "grid_auto_flow": null,
      "grid_auto_rows": null,
      "grid_column": null,
      "grid_gap": null,
      "grid_row": null,
      "grid_template_areas": null,
      "grid_template_columns": null,
      "grid_template_rows": null,
      "height": null,
      "justify_content": null,
      "justify_items": null,
      "left": null,
      "margin": null,
      "max_height": null,
      "max_width": null,
      "min_height": null,
      "min_width": null,
      "object_fit": null,
      "object_position": null,
      "order": null,
      "overflow": null,
      "overflow_x": null,
      "overflow_y": null,
      "padding": null,
      "right": null,
      "top": null,
      "visibility": null,
      "width": null
     }
    },
    "a689d1da56a64aef8fafaf3994460c49": {
     "model_module": "@jupyter-widgets/base",
     "model_module_version": "1.2.0",
     "model_name": "LayoutModel",
     "state": {
      "_model_module": "@jupyter-widgets/base",
      "_model_module_version": "1.2.0",
      "_model_name": "LayoutModel",
      "_view_count": null,
      "_view_module": "@jupyter-widgets/base",
      "_view_module_version": "1.2.0",
      "_view_name": "LayoutView",
      "align_content": null,
      "align_items": null,
      "align_self": null,
      "border": null,
      "bottom": null,
      "display": null,
      "flex": null,
      "flex_flow": null,
      "grid_area": null,
      "grid_auto_columns": null,
      "grid_auto_flow": null,
      "grid_auto_rows": null,
      "grid_column": null,
      "grid_gap": null,
      "grid_row": null,
      "grid_template_areas": null,
      "grid_template_columns": null,
      "grid_template_rows": null,
      "height": null,
      "justify_content": null,
      "justify_items": null,
      "left": null,
      "margin": null,
      "max_height": null,
      "max_width": null,
      "min_height": null,
      "min_width": null,
      "object_fit": null,
      "object_position": null,
      "order": null,
      "overflow": null,
      "overflow_x": null,
      "overflow_y": null,
      "padding": null,
      "right": null,
      "top": null,
      "visibility": null,
      "width": null
     }
    },
    "a6bb717d1c5b40d2af89da811de0a88e": {
     "model_module": "@jupyter-widgets/base",
     "model_module_version": "1.2.0",
     "model_name": "LayoutModel",
     "state": {
      "_model_module": "@jupyter-widgets/base",
      "_model_module_version": "1.2.0",
      "_model_name": "LayoutModel",
      "_view_count": null,
      "_view_module": "@jupyter-widgets/base",
      "_view_module_version": "1.2.0",
      "_view_name": "LayoutView",
      "align_content": null,
      "align_items": null,
      "align_self": null,
      "border": null,
      "bottom": null,
      "display": null,
      "flex": null,
      "flex_flow": null,
      "grid_area": null,
      "grid_auto_columns": null,
      "grid_auto_flow": null,
      "grid_auto_rows": null,
      "grid_column": null,
      "grid_gap": null,
      "grid_row": null,
      "grid_template_areas": null,
      "grid_template_columns": null,
      "grid_template_rows": null,
      "height": null,
      "justify_content": null,
      "justify_items": null,
      "left": null,
      "margin": null,
      "max_height": null,
      "max_width": null,
      "min_height": null,
      "min_width": null,
      "object_fit": null,
      "object_position": null,
      "order": null,
      "overflow": null,
      "overflow_x": null,
      "overflow_y": null,
      "padding": null,
      "right": null,
      "top": null,
      "visibility": null,
      "width": null
     }
    },
    "a6e32fbc60604c4ba94f75e3b825b874": {
     "model_module": "@jupyter-widgets/base",
     "model_module_version": "1.2.0",
     "model_name": "LayoutModel",
     "state": {
      "_model_module": "@jupyter-widgets/base",
      "_model_module_version": "1.2.0",
      "_model_name": "LayoutModel",
      "_view_count": null,
      "_view_module": "@jupyter-widgets/base",
      "_view_module_version": "1.2.0",
      "_view_name": "LayoutView",
      "align_content": null,
      "align_items": null,
      "align_self": null,
      "border": null,
      "bottom": null,
      "display": null,
      "flex": null,
      "flex_flow": null,
      "grid_area": null,
      "grid_auto_columns": null,
      "grid_auto_flow": null,
      "grid_auto_rows": null,
      "grid_column": null,
      "grid_gap": null,
      "grid_row": null,
      "grid_template_areas": null,
      "grid_template_columns": null,
      "grid_template_rows": null,
      "height": null,
      "justify_content": null,
      "justify_items": null,
      "left": null,
      "margin": null,
      "max_height": null,
      "max_width": null,
      "min_height": null,
      "min_width": null,
      "object_fit": null,
      "object_position": null,
      "order": null,
      "overflow": null,
      "overflow_x": null,
      "overflow_y": null,
      "padding": null,
      "right": null,
      "top": null,
      "visibility": null,
      "width": null
     }
    },
    "a8a2c665d1d64f24b8c655845dac510e": {
     "model_module": "@jupyter-widgets/base",
     "model_module_version": "1.2.0",
     "model_name": "LayoutModel",
     "state": {
      "_model_module": "@jupyter-widgets/base",
      "_model_module_version": "1.2.0",
      "_model_name": "LayoutModel",
      "_view_count": null,
      "_view_module": "@jupyter-widgets/base",
      "_view_module_version": "1.2.0",
      "_view_name": "LayoutView",
      "align_content": null,
      "align_items": null,
      "align_self": null,
      "border": null,
      "bottom": null,
      "display": null,
      "flex": null,
      "flex_flow": null,
      "grid_area": null,
      "grid_auto_columns": null,
      "grid_auto_flow": null,
      "grid_auto_rows": null,
      "grid_column": null,
      "grid_gap": null,
      "grid_row": null,
      "grid_template_areas": null,
      "grid_template_columns": null,
      "grid_template_rows": null,
      "height": null,
      "justify_content": null,
      "justify_items": null,
      "left": null,
      "margin": null,
      "max_height": null,
      "max_width": null,
      "min_height": null,
      "min_width": null,
      "object_fit": null,
      "object_position": null,
      "order": null,
      "overflow": null,
      "overflow_x": null,
      "overflow_y": null,
      "padding": null,
      "right": null,
      "top": null,
      "visibility": null,
      "width": null
     }
    },
    "a93a281a665a438b90c298bbd720195b": {
     "model_module": "@jupyter-widgets/base",
     "model_module_version": "1.2.0",
     "model_name": "LayoutModel",
     "state": {
      "_model_module": "@jupyter-widgets/base",
      "_model_module_version": "1.2.0",
      "_model_name": "LayoutModel",
      "_view_count": null,
      "_view_module": "@jupyter-widgets/base",
      "_view_module_version": "1.2.0",
      "_view_name": "LayoutView",
      "align_content": null,
      "align_items": null,
      "align_self": null,
      "border": null,
      "bottom": null,
      "display": null,
      "flex": null,
      "flex_flow": null,
      "grid_area": null,
      "grid_auto_columns": null,
      "grid_auto_flow": null,
      "grid_auto_rows": null,
      "grid_column": null,
      "grid_gap": null,
      "grid_row": null,
      "grid_template_areas": null,
      "grid_template_columns": null,
      "grid_template_rows": null,
      "height": null,
      "justify_content": null,
      "justify_items": null,
      "left": null,
      "margin": null,
      "max_height": null,
      "max_width": null,
      "min_height": null,
      "min_width": null,
      "object_fit": null,
      "object_position": null,
      "order": null,
      "overflow": null,
      "overflow_x": null,
      "overflow_y": null,
      "padding": null,
      "right": null,
      "top": null,
      "visibility": null,
      "width": null
     }
    },
    "aa9d96a008c5491cb40cbdcbd4f96f01": {
     "model_module": "@jupyter-widgets/controls",
     "model_module_version": "1.5.0",
     "model_name": "HBoxModel",
     "state": {
      "_dom_classes": [],
      "_model_module": "@jupyter-widgets/controls",
      "_model_module_version": "1.5.0",
      "_model_name": "HBoxModel",
      "_view_count": null,
      "_view_module": "@jupyter-widgets/controls",
      "_view_module_version": "1.5.0",
      "_view_name": "HBoxView",
      "box_style": "",
      "children": [
       "IPY_MODEL_443ab04cba2444d89a61fc99af7bead1",
       "IPY_MODEL_f64f83e2393140d39c1eec8cd33af8a6",
       "IPY_MODEL_d3145b04d22c462880a2b20c8b5836b9"
      ],
      "layout": "IPY_MODEL_22b68f0a112f45d2ac3976b53023444a"
     }
    },
    "aae3a0e8e6414c5b9eab021b4f2b780b": {
     "model_module": "@jupyter-widgets/controls",
     "model_module_version": "1.5.0",
     "model_name": "HTMLModel",
     "state": {
      "_dom_classes": [],
      "_model_module": "@jupyter-widgets/controls",
      "_model_module_version": "1.5.0",
      "_model_name": "HTMLModel",
      "_view_count": null,
      "_view_module": "@jupyter-widgets/controls",
      "_view_module_version": "1.5.0",
      "_view_name": "HTMLView",
      "description": "",
      "description_tooltip": null,
      "layout": "IPY_MODEL_58cffe87f6524afe90d40178d501ed59",
      "placeholder": "​",
      "style": "IPY_MODEL_b692462527b7490db2351165ff745b01",
      "value": " 1/1 [00:00&lt;00:00,  3.65it/s]"
     }
    },
    "ab9c9ca41fb3418cb5eaccff660f17a5": {
     "model_module": "@jupyter-widgets/base",
     "model_module_version": "1.2.0",
     "model_name": "LayoutModel",
     "state": {
      "_model_module": "@jupyter-widgets/base",
      "_model_module_version": "1.2.0",
      "_model_name": "LayoutModel",
      "_view_count": null,
      "_view_module": "@jupyter-widgets/base",
      "_view_module_version": "1.2.0",
      "_view_name": "LayoutView",
      "align_content": null,
      "align_items": null,
      "align_self": null,
      "border": null,
      "bottom": null,
      "display": null,
      "flex": null,
      "flex_flow": null,
      "grid_area": null,
      "grid_auto_columns": null,
      "grid_auto_flow": null,
      "grid_auto_rows": null,
      "grid_column": null,
      "grid_gap": null,
      "grid_row": null,
      "grid_template_areas": null,
      "grid_template_columns": null,
      "grid_template_rows": null,
      "height": null,
      "justify_content": null,
      "justify_items": null,
      "left": null,
      "margin": null,
      "max_height": null,
      "max_width": null,
      "min_height": null,
      "min_width": null,
      "object_fit": null,
      "object_position": null,
      "order": null,
      "overflow": null,
      "overflow_x": null,
      "overflow_y": null,
      "padding": null,
      "right": null,
      "top": null,
      "visibility": null,
      "width": null
     }
    },
    "abf86e6f1ac341d686e451f19409b8da": {
     "model_module": "@jupyter-widgets/base",
     "model_module_version": "1.2.0",
     "model_name": "LayoutModel",
     "state": {
      "_model_module": "@jupyter-widgets/base",
      "_model_module_version": "1.2.0",
      "_model_name": "LayoutModel",
      "_view_count": null,
      "_view_module": "@jupyter-widgets/base",
      "_view_module_version": "1.2.0",
      "_view_name": "LayoutView",
      "align_content": null,
      "align_items": null,
      "align_self": null,
      "border": null,
      "bottom": null,
      "display": null,
      "flex": null,
      "flex_flow": null,
      "grid_area": null,
      "grid_auto_columns": null,
      "grid_auto_flow": null,
      "grid_auto_rows": null,
      "grid_column": null,
      "grid_gap": null,
      "grid_row": null,
      "grid_template_areas": null,
      "grid_template_columns": null,
      "grid_template_rows": null,
      "height": null,
      "justify_content": null,
      "justify_items": null,
      "left": null,
      "margin": null,
      "max_height": null,
      "max_width": null,
      "min_height": null,
      "min_width": null,
      "object_fit": null,
      "object_position": null,
      "order": null,
      "overflow": null,
      "overflow_x": null,
      "overflow_y": null,
      "padding": null,
      "right": null,
      "top": null,
      "visibility": null,
      "width": null
     }
    },
    "ae01d945087c4f86a451b130c8933a07": {
     "model_module": "@jupyter-widgets/controls",
     "model_module_version": "1.5.0",
     "model_name": "DescriptionStyleModel",
     "state": {
      "_model_module": "@jupyter-widgets/controls",
      "_model_module_version": "1.5.0",
      "_model_name": "DescriptionStyleModel",
      "_view_count": null,
      "_view_module": "@jupyter-widgets/base",
      "_view_module_version": "1.2.0",
      "_view_name": "StyleView",
      "description_width": ""
     }
    },
    "ae57e2da156245a7853e7610ab7fd28f": {
     "model_module": "@jupyter-widgets/base",
     "model_module_version": "1.2.0",
     "model_name": "LayoutModel",
     "state": {
      "_model_module": "@jupyter-widgets/base",
      "_model_module_version": "1.2.0",
      "_model_name": "LayoutModel",
      "_view_count": null,
      "_view_module": "@jupyter-widgets/base",
      "_view_module_version": "1.2.0",
      "_view_name": "LayoutView",
      "align_content": null,
      "align_items": null,
      "align_self": null,
      "border": null,
      "bottom": null,
      "display": null,
      "flex": null,
      "flex_flow": null,
      "grid_area": null,
      "grid_auto_columns": null,
      "grid_auto_flow": null,
      "grid_auto_rows": null,
      "grid_column": null,
      "grid_gap": null,
      "grid_row": null,
      "grid_template_areas": null,
      "grid_template_columns": null,
      "grid_template_rows": null,
      "height": null,
      "justify_content": null,
      "justify_items": null,
      "left": null,
      "margin": null,
      "max_height": null,
      "max_width": null,
      "min_height": null,
      "min_width": null,
      "object_fit": null,
      "object_position": null,
      "order": null,
      "overflow": null,
      "overflow_x": null,
      "overflow_y": null,
      "padding": null,
      "right": null,
      "top": null,
      "visibility": null,
      "width": null
     }
    },
    "afb77946767443deb252d71eb08bdf04": {
     "model_module": "@jupyter-widgets/controls",
     "model_module_version": "1.5.0",
     "model_name": "HBoxModel",
     "state": {
      "_dom_classes": [],
      "_model_module": "@jupyter-widgets/controls",
      "_model_module_version": "1.5.0",
      "_model_name": "HBoxModel",
      "_view_count": null,
      "_view_module": "@jupyter-widgets/controls",
      "_view_module_version": "1.5.0",
      "_view_name": "HBoxView",
      "box_style": "",
      "children": [
       "IPY_MODEL_685b7d1433324b5594a881f941c5a23a",
       "IPY_MODEL_5cb503dbc9aa48ad94a4a44f1979d436",
       "IPY_MODEL_d26a556829db4ffc91ff869bf41cf6fa"
      ],
      "layout": "IPY_MODEL_2f5535a9128043c7be9448fbbae01264"
     }
    },
    "b106d1d5b6d74f658462b6e4dcf0ef4c": {
     "model_module": "@jupyter-widgets/base",
     "model_module_version": "1.2.0",
     "model_name": "LayoutModel",
     "state": {
      "_model_module": "@jupyter-widgets/base",
      "_model_module_version": "1.2.0",
      "_model_name": "LayoutModel",
      "_view_count": null,
      "_view_module": "@jupyter-widgets/base",
      "_view_module_version": "1.2.0",
      "_view_name": "LayoutView",
      "align_content": null,
      "align_items": null,
      "align_self": null,
      "border": null,
      "bottom": null,
      "display": null,
      "flex": null,
      "flex_flow": null,
      "grid_area": null,
      "grid_auto_columns": null,
      "grid_auto_flow": null,
      "grid_auto_rows": null,
      "grid_column": null,
      "grid_gap": null,
      "grid_row": null,
      "grid_template_areas": null,
      "grid_template_columns": null,
      "grid_template_rows": null,
      "height": null,
      "justify_content": null,
      "justify_items": null,
      "left": null,
      "margin": null,
      "max_height": null,
      "max_width": null,
      "min_height": null,
      "min_width": null,
      "object_fit": null,
      "object_position": null,
      "order": null,
      "overflow": null,
      "overflow_x": null,
      "overflow_y": null,
      "padding": null,
      "right": null,
      "top": null,
      "visibility": "hidden",
      "width": null
     }
    },
    "b16857c786914a8c959eaba05bb9d5eb": {
     "model_module": "@jupyter-widgets/base",
     "model_module_version": "1.2.0",
     "model_name": "LayoutModel",
     "state": {
      "_model_module": "@jupyter-widgets/base",
      "_model_module_version": "1.2.0",
      "_model_name": "LayoutModel",
      "_view_count": null,
      "_view_module": "@jupyter-widgets/base",
      "_view_module_version": "1.2.0",
      "_view_name": "LayoutView",
      "align_content": null,
      "align_items": null,
      "align_self": null,
      "border": null,
      "bottom": null,
      "display": null,
      "flex": null,
      "flex_flow": null,
      "grid_area": null,
      "grid_auto_columns": null,
      "grid_auto_flow": null,
      "grid_auto_rows": null,
      "grid_column": null,
      "grid_gap": null,
      "grid_row": null,
      "grid_template_areas": null,
      "grid_template_columns": null,
      "grid_template_rows": null,
      "height": null,
      "justify_content": null,
      "justify_items": null,
      "left": null,
      "margin": null,
      "max_height": null,
      "max_width": null,
      "min_height": null,
      "min_width": null,
      "object_fit": null,
      "object_position": null,
      "order": null,
      "overflow": null,
      "overflow_x": null,
      "overflow_y": null,
      "padding": null,
      "right": null,
      "top": null,
      "visibility": null,
      "width": null
     }
    },
    "b223e126bf1a47c99ab2ba6b09419538": {
     "model_module": "@jupyter-widgets/controls",
     "model_module_version": "1.5.0",
     "model_name": "DescriptionStyleModel",
     "state": {
      "_model_module": "@jupyter-widgets/controls",
      "_model_module_version": "1.5.0",
      "_model_name": "DescriptionStyleModel",
      "_view_count": null,
      "_view_module": "@jupyter-widgets/base",
      "_view_module_version": "1.2.0",
      "_view_name": "StyleView",
      "description_width": ""
     }
    },
    "b2bfe31c71be48d8a6c8410bc817ebab": {
     "model_module": "@jupyter-widgets/controls",
     "model_module_version": "1.5.0",
     "model_name": "HBoxModel",
     "state": {
      "_dom_classes": [],
      "_model_module": "@jupyter-widgets/controls",
      "_model_module_version": "1.5.0",
      "_model_name": "HBoxModel",
      "_view_count": null,
      "_view_module": "@jupyter-widgets/controls",
      "_view_module_version": "1.5.0",
      "_view_name": "HBoxView",
      "box_style": "",
      "children": [
       "IPY_MODEL_f466e3b9362a4ab6b1ac62d07493b663",
       "IPY_MODEL_6c999dfdc8504a6c82b2fc9d4027a738",
       "IPY_MODEL_08dcb55a57a34b938f60660071d89881"
      ],
      "layout": "IPY_MODEL_9013763060044480a1d388512be83939"
     }
    },
    "b2c8fb577eaf410f9fc184ac5a4d119a": {
     "model_module": "@jupyter-widgets/controls",
     "model_module_version": "1.5.0",
     "model_name": "HBoxModel",
     "state": {
      "_dom_classes": [],
      "_model_module": "@jupyter-widgets/controls",
      "_model_module_version": "1.5.0",
      "_model_name": "HBoxModel",
      "_view_count": null,
      "_view_module": "@jupyter-widgets/controls",
      "_view_module_version": "1.5.0",
      "_view_name": "HBoxView",
      "box_style": "",
      "children": [
       "IPY_MODEL_6a558ddafbd44ca18b513eafb57195a1",
       "IPY_MODEL_8902a823da2042f7a9df50065fefebca",
       "IPY_MODEL_aae3a0e8e6414c5b9eab021b4f2b780b"
      ],
      "layout": "IPY_MODEL_fac37c1a132f47f7b02120d68f1422e6"
     }
    },
    "b302ebe939b14b86a4530260881ad914": {
     "model_module": "@jupyter-widgets/controls",
     "model_module_version": "1.5.0",
     "model_name": "HTMLModel",
     "state": {
      "_dom_classes": [],
      "_model_module": "@jupyter-widgets/controls",
      "_model_module_version": "1.5.0",
      "_model_name": "HTMLModel",
      "_view_count": null,
      "_view_module": "@jupyter-widgets/controls",
      "_view_module_version": "1.5.0",
      "_view_name": "HTMLView",
      "description": "",
      "description_tooltip": null,
      "layout": "IPY_MODEL_3da8695d6f46482da08c617dc52623c7",
      "placeholder": "​",
      "style": "IPY_MODEL_96ffdf9476ed478a9cd32b78e8b34ccf",
      "value": "The Eiffel Tower: 100%"
     }
    },
    "b33d70e9598f40fdb2fde77899b95c29": {
     "model_module": "@jupyter-widgets/controls",
     "model_module_version": "1.5.0",
     "model_name": "HTMLModel",
     "state": {
      "_dom_classes": [],
      "_model_module": "@jupyter-widgets/controls",
      "_model_module_version": "1.5.0",
      "_model_name": "HTMLModel",
      "_view_count": null,
      "_view_module": "@jupyter-widgets/controls",
      "_view_module_version": "1.5.0",
      "_view_name": "HTMLView",
      "description": "",
      "description_tooltip": null,
      "layout": "IPY_MODEL_83ff0f69cced4eafb366c1edfbe2def5",
      "placeholder": "​",
      "style": "IPY_MODEL_119015e1c98c40648ee93c92bf1d52d2",
      "value": " 3/4 [00:02&lt;00:00,  1.79it/s]"
     }
    },
    "b43f48601738432b839a92f24ceb4fca": {
     "model_module": "@jupyter-widgets/controls",
     "model_module_version": "1.5.0",
     "model_name": "FloatProgressModel",
     "state": {
      "_dom_classes": [],
      "_model_module": "@jupyter-widgets/controls",
      "_model_module_version": "1.5.0",
      "_model_name": "FloatProgressModel",
      "_view_count": null,
      "_view_module": "@jupyter-widgets/controls",
      "_view_module_version": "1.5.0",
      "_view_name": "ProgressView",
      "bar_style": "",
      "description": "",
      "description_tooltip": null,
      "layout": "IPY_MODEL_a5dcb1f802c0443d89644bf9551c5590",
      "max": 4,
      "min": 0,
      "orientation": "horizontal",
      "style": "IPY_MODEL_412af07dafcf4c7b97f25e1137ee5eca",
      "value": 4
     }
    },
    "b692462527b7490db2351165ff745b01": {
     "model_module": "@jupyter-widgets/controls",
     "model_module_version": "1.5.0",
     "model_name": "DescriptionStyleModel",
     "state": {
      "_model_module": "@jupyter-widgets/controls",
      "_model_module_version": "1.5.0",
      "_model_name": "DescriptionStyleModel",
      "_view_count": null,
      "_view_module": "@jupyter-widgets/base",
      "_view_module_version": "1.2.0",
      "_view_name": "StyleView",
      "description_width": ""
     }
    },
    "b90f9b8036e24e89bea8a3b6ea6e926a": {
     "model_module": "@jupyter-widgets/controls",
     "model_module_version": "1.5.0",
     "model_name": "HTMLModel",
     "state": {
      "_dom_classes": [],
      "_model_module": "@jupyter-widgets/controls",
      "_model_module_version": "1.5.0",
      "_model_name": "HTMLModel",
      "_view_count": null,
      "_view_module": "@jupyter-widgets/controls",
      "_view_module_version": "1.5.0",
      "_view_name": "HTMLView",
      "description": "",
      "description_tooltip": null,
      "layout": "IPY_MODEL_ae57e2da156245a7853e7610ab7fd28f",
      "placeholder": "​",
      "style": "IPY_MODEL_be7340e192074b9dba4a359051f522c1",
      "value": "Training:  75%"
     }
    },
    "b94ef9ff695b4653af36ee17a42aef53": {
     "model_module": "@jupyter-widgets/controls",
     "model_module_version": "1.5.0",
     "model_name": "HTMLModel",
     "state": {
      "_dom_classes": [],
      "_model_module": "@jupyter-widgets/controls",
      "_model_module_version": "1.5.0",
      "_model_name": "HTMLModel",
      "_view_count": null,
      "_view_module": "@jupyter-widgets/controls",
      "_view_module_version": "1.5.0",
      "_view_name": "HTMLView",
      "description": "",
      "description_tooltip": null,
      "layout": "IPY_MODEL_a64e1243864c416baa3fe1aca24a20d1",
      "placeholder": "​",
      "style": "IPY_MODEL_d440091446e14fd4bd053e06ec3ced7c",
      "value": "airplane: 100%"
     }
    },
    "ba283d42f27f4e9fb37c08b5ecafca8a": {
     "model_module": "@jupyter-widgets/controls",
     "model_module_version": "1.5.0",
     "model_name": "DescriptionStyleModel",
     "state": {
      "_model_module": "@jupyter-widgets/controls",
      "_model_module_version": "1.5.0",
      "_model_name": "DescriptionStyleModel",
      "_view_count": null,
      "_view_module": "@jupyter-widgets/base",
      "_view_module_version": "1.2.0",
      "_view_name": "StyleView",
      "description_width": ""
     }
    },
    "bcfe7561323d4557bd8890e62e99c257": {
     "model_module": "@jupyter-widgets/controls",
     "model_module_version": "1.5.0",
     "model_name": "HTMLModel",
     "state": {
      "_dom_classes": [],
      "_model_module": "@jupyter-widgets/controls",
      "_model_module_version": "1.5.0",
      "_model_name": "HTMLModel",
      "_view_count": null,
      "_view_module": "@jupyter-widgets/controls",
      "_view_module_version": "1.5.0",
      "_view_name": "HTMLView",
      "description": "",
      "description_tooltip": null,
      "layout": "IPY_MODEL_47f8eddd638048bb9fc20796d7a5dabd",
      "placeholder": "​",
      "style": "IPY_MODEL_2a864240fbad4fe693460b3e61815e15",
      "value": " 3/4 [00:02&lt;00:00,  1.89it/s]"
     }
    },
    "be7340e192074b9dba4a359051f522c1": {
     "model_module": "@jupyter-widgets/controls",
     "model_module_version": "1.5.0",
     "model_name": "DescriptionStyleModel",
     "state": {
      "_model_module": "@jupyter-widgets/controls",
      "_model_module_version": "1.5.0",
      "_model_name": "DescriptionStyleModel",
      "_view_count": null,
      "_view_module": "@jupyter-widgets/base",
      "_view_module_version": "1.2.0",
      "_view_name": "StyleView",
      "description_width": ""
     }
    },
    "c20f15b0709a485a90c9f886fa4ab1ae": {
     "model_module": "@jupyter-widgets/controls",
     "model_module_version": "1.5.0",
     "model_name": "DescriptionStyleModel",
     "state": {
      "_model_module": "@jupyter-widgets/controls",
      "_model_module_version": "1.5.0",
      "_model_name": "DescriptionStyleModel",
      "_view_count": null,
      "_view_module": "@jupyter-widgets/base",
      "_view_module_version": "1.2.0",
      "_view_name": "StyleView",
      "description_width": ""
     }
    },
    "c23eab864e334f0f8cdd481c6933e4e3": {
     "model_module": "@jupyter-widgets/controls",
     "model_module_version": "1.5.0",
     "model_name": "FloatProgressModel",
     "state": {
      "_dom_classes": [],
      "_model_module": "@jupyter-widgets/controls",
      "_model_module_version": "1.5.0",
      "_model_name": "FloatProgressModel",
      "_view_count": null,
      "_view_module": "@jupyter-widgets/controls",
      "_view_module_version": "1.5.0",
      "_view_name": "ProgressView",
      "bar_style": "",
      "description": "",
      "description_tooltip": null,
      "layout": "IPY_MODEL_3f92c749b62d427fb51bef4ca2966fbf",
      "max": 11243247,
      "min": 0,
      "orientation": "horizontal",
      "style": "IPY_MODEL_765a8167921e49f2864212f900a2233b",
      "value": 11243247
     }
    },
    "c275ec14aeac454ebc9ff4372afb1f10": {
     "model_module": "@jupyter-widgets/base",
     "model_module_version": "1.2.0",
     "model_name": "LayoutModel",
     "state": {
      "_model_module": "@jupyter-widgets/base",
      "_model_module_version": "1.2.0",
      "_model_name": "LayoutModel",
      "_view_count": null,
      "_view_module": "@jupyter-widgets/base",
      "_view_module_version": "1.2.0",
      "_view_name": "LayoutView",
      "align_content": null,
      "align_items": null,
      "align_self": null,
      "border": null,
      "bottom": null,
      "display": null,
      "flex": null,
      "flex_flow": null,
      "grid_area": null,
      "grid_auto_columns": null,
      "grid_auto_flow": null,
      "grid_auto_rows": null,
      "grid_column": null,
      "grid_gap": null,
      "grid_row": null,
      "grid_template_areas": null,
      "grid_template_columns": null,
      "grid_template_rows": null,
      "height": null,
      "justify_content": null,
      "justify_items": null,
      "left": null,
      "margin": null,
      "max_height": null,
      "max_width": null,
      "min_height": null,
      "min_width": null,
      "object_fit": null,
      "object_position": null,
      "order": null,
      "overflow": null,
      "overflow_x": null,
      "overflow_y": null,
      "padding": null,
      "right": null,
      "top": null,
      "visibility": null,
      "width": null
     }
    },
    "c469cb560ee74c3bb7a61306ac5185c8": {
     "model_module": "@jupyter-widgets/controls",
     "model_module_version": "1.5.0",
     "model_name": "HTMLModel",
     "state": {
      "_dom_classes": [],
      "_model_module": "@jupyter-widgets/controls",
      "_model_module_version": "1.5.0",
      "_model_name": "HTMLModel",
      "_view_count": null,
      "_view_module": "@jupyter-widgets/controls",
      "_view_module_version": "1.5.0",
      "_view_name": "HTMLView",
      "description": "",
      "description_tooltip": null,
      "layout": "IPY_MODEL_cc69a7c41b9748a5b829b1a3b88db45c",
      "placeholder": "​",
      "style": "IPY_MODEL_2fb413ed93564c77a556e20605ee508a",
      "value": " 10.7M/10.7M [00:00&lt;00:00, 48.9MiB/s]"
     }
    },
    "c9978377b74240d6923581074a7a3f75": {
     "model_module": "@jupyter-widgets/controls",
     "model_module_version": "1.5.0",
     "model_name": "ProgressStyleModel",
     "state": {
      "_model_module": "@jupyter-widgets/controls",
      "_model_module_version": "1.5.0",
      "_model_name": "ProgressStyleModel",
      "_view_count": null,
      "_view_module": "@jupyter-widgets/base",
      "_view_module_version": "1.2.0",
      "_view_name": "StyleView",
      "bar_color": null,
      "description_width": ""
     }
    },
    "c9a011e71ab644a792e6b5f568db6ee7": {
     "model_module": "@jupyter-widgets/controls",
     "model_module_version": "1.5.0",
     "model_name": "HBoxModel",
     "state": {
      "_dom_classes": [],
      "_model_module": "@jupyter-widgets/controls",
      "_model_module_version": "1.5.0",
      "_model_name": "HBoxModel",
      "_view_count": null,
      "_view_module": "@jupyter-widgets/controls",
      "_view_module_version": "1.5.0",
      "_view_name": "HBoxView",
      "box_style": "",
      "children": [
       "IPY_MODEL_b94ef9ff695b4653af36ee17a42aef53",
       "IPY_MODEL_79472472e5ca489992fcf224f06b6d74",
       "IPY_MODEL_1c3976b2bdf54e36a96dc7eedf62b8f5"
      ],
      "layout": "IPY_MODEL_58233189cfc847afa26c9371c9064450"
     }
    },
    "ca585efbc3c74b2e9fbe27eba446e59e": {
     "model_module": "@jupyter-widgets/base",
     "model_module_version": "1.2.0",
     "model_name": "LayoutModel",
     "state": {
      "_model_module": "@jupyter-widgets/base",
      "_model_module_version": "1.2.0",
      "_model_name": "LayoutModel",
      "_view_count": null,
      "_view_module": "@jupyter-widgets/base",
      "_view_module_version": "1.2.0",
      "_view_name": "LayoutView",
      "align_content": null,
      "align_items": null,
      "align_self": null,
      "border": null,
      "bottom": null,
      "display": null,
      "flex": null,
      "flex_flow": null,
      "grid_area": null,
      "grid_auto_columns": null,
      "grid_auto_flow": null,
      "grid_auto_rows": null,
      "grid_column": null,
      "grid_gap": null,
      "grid_row": null,
      "grid_template_areas": null,
      "grid_template_columns": null,
      "grid_template_rows": null,
      "height": null,
      "justify_content": null,
      "justify_items": null,
      "left": null,
      "margin": null,
      "max_height": null,
      "max_width": null,
      "min_height": null,
      "min_width": null,
      "object_fit": null,
      "object_position": null,
      "order": null,
      "overflow": null,
      "overflow_x": null,
      "overflow_y": null,
      "padding": null,
      "right": null,
      "top": null,
      "visibility": null,
      "width": null
     }
    },
    "cc69a7c41b9748a5b829b1a3b88db45c": {
     "model_module": "@jupyter-widgets/base",
     "model_module_version": "1.2.0",
     "model_name": "LayoutModel",
     "state": {
      "_model_module": "@jupyter-widgets/base",
      "_model_module_version": "1.2.0",
      "_model_name": "LayoutModel",
      "_view_count": null,
      "_view_module": "@jupyter-widgets/base",
      "_view_module_version": "1.2.0",
      "_view_name": "LayoutView",
      "align_content": null,
      "align_items": null,
      "align_self": null,
      "border": null,
      "bottom": null,
      "display": null,
      "flex": null,
      "flex_flow": null,
      "grid_area": null,
      "grid_auto_columns": null,
      "grid_auto_flow": null,
      "grid_auto_rows": null,
      "grid_column": null,
      "grid_gap": null,
      "grid_row": null,
      "grid_template_areas": null,
      "grid_template_columns": null,
      "grid_template_rows": null,
      "height": null,
      "justify_content": null,
      "justify_items": null,
      "left": null,
      "margin": null,
      "max_height": null,
      "max_width": null,
      "min_height": null,
      "min_width": null,
      "object_fit": null,
      "object_position": null,
      "order": null,
      "overflow": null,
      "overflow_x": null,
      "overflow_y": null,
      "padding": null,
      "right": null,
      "top": null,
      "visibility": null,
      "width": null
     }
    },
    "ccd1ad01f75849168c19e924add544f9": {
     "model_module": "@jupyter-widgets/controls",
     "model_module_version": "1.5.0",
     "model_name": "ProgressStyleModel",
     "state": {
      "_model_module": "@jupyter-widgets/controls",
      "_model_module_version": "1.5.0",
      "_model_name": "ProgressStyleModel",
      "_view_count": null,
      "_view_module": "@jupyter-widgets/base",
      "_view_module_version": "1.2.0",
      "_view_name": "StyleView",
      "bar_color": null,
      "description_width": ""
     }
    },
    "ccd4cfa8103e44cb93decde979f837c3": {
     "model_module": "@jupyter-widgets/controls",
     "model_module_version": "1.5.0",
     "model_name": "HTMLModel",
     "state": {
      "_dom_classes": [],
      "_model_module": "@jupyter-widgets/controls",
      "_model_module_version": "1.5.0",
      "_model_name": "HTMLModel",
      "_view_count": null,
      "_view_module": "@jupyter-widgets/controls",
      "_view_module_version": "1.5.0",
      "_view_name": "HTMLView",
      "description": "",
      "description_tooltip": null,
      "layout": "IPY_MODEL_0dd462fc51ed40a396b89c0f3416fa2f",
      "placeholder": "​",
      "style": "IPY_MODEL_682690edba7540fd8a34dc03f5e085a0",
      "value": " 3/4 [00:02&lt;00:00,  1.89it/s]"
     }
    },
    "ccfe491282bc450f838d458810b59eb6": {
     "model_module": "@jupyter-widgets/controls",
     "model_module_version": "1.5.0",
     "model_name": "FloatProgressModel",
     "state": {
      "_dom_classes": [],
      "_model_module": "@jupyter-widgets/controls",
      "_model_module_version": "1.5.0",
      "_model_name": "FloatProgressModel",
      "_view_count": null,
      "_view_module": "@jupyter-widgets/controls",
      "_view_module_version": "1.5.0",
      "_view_name": "ProgressView",
      "bar_style": "",
      "description": "",
      "description_tooltip": null,
      "layout": "IPY_MODEL_5201dc10da9347f1acc550e1d59e2cea",
      "max": 1,
      "min": 0,
      "orientation": "horizontal",
      "style": "IPY_MODEL_065f86eb179141ee98cb0c49641aed19",
      "value": 1
     }
    },
    "d0522324bf8f450d9cfa9dd4af8a0ec9": {
     "model_module": "@jupyter-widgets/base",
     "model_module_version": "1.2.0",
     "model_name": "LayoutModel",
     "state": {
      "_model_module": "@jupyter-widgets/base",
      "_model_module_version": "1.2.0",
      "_model_name": "LayoutModel",
      "_view_count": null,
      "_view_module": "@jupyter-widgets/base",
      "_view_module_version": "1.2.0",
      "_view_name": "LayoutView",
      "align_content": null,
      "align_items": null,
      "align_self": null,
      "border": null,
      "bottom": null,
      "display": null,
      "flex": null,
      "flex_flow": null,
      "grid_area": null,
      "grid_auto_columns": null,
      "grid_auto_flow": null,
      "grid_auto_rows": null,
      "grid_column": null,
      "grid_gap": null,
      "grid_row": null,
      "grid_template_areas": null,
      "grid_template_columns": null,
      "grid_template_rows": null,
      "height": null,
      "justify_content": null,
      "justify_items": null,
      "left": null,
      "margin": null,
      "max_height": null,
      "max_width": null,
      "min_height": null,
      "min_width": null,
      "object_fit": null,
      "object_position": null,
      "order": null,
      "overflow": null,
      "overflow_x": null,
      "overflow_y": null,
      "padding": null,
      "right": null,
      "top": null,
      "visibility": null,
      "width": null
     }
    },
    "d24ecaf0754846afbbfc40ed549cc286": {
     "model_module": "@jupyter-widgets/base",
     "model_module_version": "1.2.0",
     "model_name": "LayoutModel",
     "state": {
      "_model_module": "@jupyter-widgets/base",
      "_model_module_version": "1.2.0",
      "_model_name": "LayoutModel",
      "_view_count": null,
      "_view_module": "@jupyter-widgets/base",
      "_view_module_version": "1.2.0",
      "_view_name": "LayoutView",
      "align_content": null,
      "align_items": null,
      "align_self": null,
      "border": null,
      "bottom": null,
      "display": null,
      "flex": null,
      "flex_flow": null,
      "grid_area": null,
      "grid_auto_columns": null,
      "grid_auto_flow": null,
      "grid_auto_rows": null,
      "grid_column": null,
      "grid_gap": null,
      "grid_row": null,
      "grid_template_areas": null,
      "grid_template_columns": null,
      "grid_template_rows": null,
      "height": null,
      "justify_content": null,
      "justify_items": null,
      "left": null,
      "margin": null,
      "max_height": null,
      "max_width": null,
      "min_height": null,
      "min_width": null,
      "object_fit": null,
      "object_position": null,
      "order": null,
      "overflow": null,
      "overflow_x": null,
      "overflow_y": null,
      "padding": null,
      "right": null,
      "top": null,
      "visibility": null,
      "width": null
     }
    },
    "d26a556829db4ffc91ff869bf41cf6fa": {
     "model_module": "@jupyter-widgets/controls",
     "model_module_version": "1.5.0",
     "model_name": "HTMLModel",
     "state": {
      "_dom_classes": [],
      "_model_module": "@jupyter-widgets/controls",
      "_model_module_version": "1.5.0",
      "_model_name": "HTMLModel",
      "_view_count": null,
      "_view_module": "@jupyter-widgets/controls",
      "_view_module_version": "1.5.0",
      "_view_name": "HTMLView",
      "description": "",
      "description_tooltip": null,
      "layout": "IPY_MODEL_38b23a94eded4b77b5769398fb01cb31",
      "placeholder": "​",
      "style": "IPY_MODEL_3c4088491a7d49478dc431ff5526a151",
      "value": " 18.0M/18.0M [00:00&lt;00:00, 34.6MiB/s]"
     }
    },
    "d300dbbc7d6942a09e695c0e9dfb5460": {
     "model_module": "@jupyter-widgets/base",
     "model_module_version": "1.2.0",
     "model_name": "LayoutModel",
     "state": {
      "_model_module": "@jupyter-widgets/base",
      "_model_module_version": "1.2.0",
      "_model_name": "LayoutModel",
      "_view_count": null,
      "_view_module": "@jupyter-widgets/base",
      "_view_module_version": "1.2.0",
      "_view_name": "LayoutView",
      "align_content": null,
      "align_items": null,
      "align_self": null,
      "border": null,
      "bottom": null,
      "display": null,
      "flex": null,
      "flex_flow": null,
      "grid_area": null,
      "grid_auto_columns": null,
      "grid_auto_flow": null,
      "grid_auto_rows": null,
      "grid_column": null,
      "grid_gap": null,
      "grid_row": null,
      "grid_template_areas": null,
      "grid_template_columns": null,
      "grid_template_rows": null,
      "height": null,
      "justify_content": null,
      "justify_items": null,
      "left": null,
      "margin": null,
      "max_height": null,
      "max_width": null,
      "min_height": null,
      "min_width": null,
      "object_fit": null,
      "object_position": null,
      "order": null,
      "overflow": null,
      "overflow_x": null,
      "overflow_y": null,
      "padding": null,
      "right": null,
      "top": null,
      "visibility": "hidden",
      "width": null
     }
    },
    "d3145b04d22c462880a2b20c8b5836b9": {
     "model_module": "@jupyter-widgets/controls",
     "model_module_version": "1.5.0",
     "model_name": "HTMLModel",
     "state": {
      "_dom_classes": [],
      "_model_module": "@jupyter-widgets/controls",
      "_model_module_version": "1.5.0",
      "_model_name": "HTMLModel",
      "_view_count": null,
      "_view_module": "@jupyter-widgets/controls",
      "_view_module_version": "1.5.0",
      "_view_name": "HTMLView",
      "description": "",
      "description_tooltip": null,
      "layout": "IPY_MODEL_d478f28cb7b64163b9d0b5b45aea875c",
      "placeholder": "​",
      "style": "IPY_MODEL_34bb6095330846508f58944652ca2894",
      "value": " 1/1 [00:00&lt;00:00,  2.38it/s]"
     }
    },
    "d366f2671d1846b7af6e4529f417d30a": {
     "model_module": "@jupyter-widgets/controls",
     "model_module_version": "1.5.0",
     "model_name": "DescriptionStyleModel",
     "state": {
      "_model_module": "@jupyter-widgets/controls",
      "_model_module_version": "1.5.0",
      "_model_name": "DescriptionStyleModel",
      "_view_count": null,
      "_view_module": "@jupyter-widgets/base",
      "_view_module_version": "1.2.0",
      "_view_name": "StyleView",
      "description_width": ""
     }
    },
    "d3cfd5c4418543f7aea172823680fdc6": {
     "model_module": "@jupyter-widgets/controls",
     "model_module_version": "1.5.0",
     "model_name": "HTMLModel",
     "state": {
      "_dom_classes": [],
      "_model_module": "@jupyter-widgets/controls",
      "_model_module_version": "1.5.0",
      "_model_name": "HTMLModel",
      "_view_count": null,
      "_view_module": "@jupyter-widgets/controls",
      "_view_module_version": "1.5.0",
      "_view_name": "HTMLView",
      "description": "",
      "description_tooltip": null,
      "layout": "IPY_MODEL_9cc001df3d974f7f8a41c47f42358994",
      "placeholder": "​",
      "style": "IPY_MODEL_f00157e7515f4c3988041164d597b731",
      "value": " 1/1 [00:00&lt;00:00,  3.85it/s]"
     }
    },
    "d440091446e14fd4bd053e06ec3ced7c": {
     "model_module": "@jupyter-widgets/controls",
     "model_module_version": "1.5.0",
     "model_name": "DescriptionStyleModel",
     "state": {
      "_model_module": "@jupyter-widgets/controls",
      "_model_module_version": "1.5.0",
      "_model_name": "DescriptionStyleModel",
      "_view_count": null,
      "_view_module": "@jupyter-widgets/base",
      "_view_module_version": "1.2.0",
      "_view_name": "StyleView",
      "description_width": ""
     }
    },
    "d478f28cb7b64163b9d0b5b45aea875c": {
     "model_module": "@jupyter-widgets/base",
     "model_module_version": "1.2.0",
     "model_name": "LayoutModel",
     "state": {
      "_model_module": "@jupyter-widgets/base",
      "_model_module_version": "1.2.0",
      "_model_name": "LayoutModel",
      "_view_count": null,
      "_view_module": "@jupyter-widgets/base",
      "_view_module_version": "1.2.0",
      "_view_name": "LayoutView",
      "align_content": null,
      "align_items": null,
      "align_self": null,
      "border": null,
      "bottom": null,
      "display": null,
      "flex": null,
      "flex_flow": null,
      "grid_area": null,
      "grid_auto_columns": null,
      "grid_auto_flow": null,
      "grid_auto_rows": null,
      "grid_column": null,
      "grid_gap": null,
      "grid_row": null,
      "grid_template_areas": null,
      "grid_template_columns": null,
      "grid_template_rows": null,
      "height": null,
      "justify_content": null,
      "justify_items": null,
      "left": null,
      "margin": null,
      "max_height": null,
      "max_width": null,
      "min_height": null,
      "min_width": null,
      "object_fit": null,
      "object_position": null,
      "order": null,
      "overflow": null,
      "overflow_x": null,
      "overflow_y": null,
      "padding": null,
      "right": null,
      "top": null,
      "visibility": null,
      "width": null
     }
    },
    "d56aa40cf1804ff6b16d2a37372fc9be": {
     "model_module": "@jupyter-widgets/controls",
     "model_module_version": "1.5.0",
     "model_name": "ProgressStyleModel",
     "state": {
      "_model_module": "@jupyter-widgets/controls",
      "_model_module_version": "1.5.0",
      "_model_name": "ProgressStyleModel",
      "_view_count": null,
      "_view_module": "@jupyter-widgets/base",
      "_view_module_version": "1.2.0",
      "_view_name": "StyleView",
      "bar_color": null,
      "description_width": ""
     }
    },
    "d607317fcb9646cb8e8d124c5f616d5c": {
     "model_module": "@jupyter-widgets/controls",
     "model_module_version": "1.5.0",
     "model_name": "HBoxModel",
     "state": {
      "_dom_classes": [],
      "_model_module": "@jupyter-widgets/controls",
      "_model_module_version": "1.5.0",
      "_model_name": "HBoxModel",
      "_view_count": null,
      "_view_module": "@jupyter-widgets/controls",
      "_view_module_version": "1.5.0",
      "_view_name": "HBoxView",
      "box_style": "",
      "children": [
       "IPY_MODEL_977f1e3f18ce4c278f40eb93f9a1982f",
       "IPY_MODEL_e0f62ccbc2f44259b10d01927f32b4f1",
       "IPY_MODEL_641e938227cb46e9a73b92a10f319094"
      ],
      "layout": "IPY_MODEL_f3059d6aa49541da92d7849e8ef2a607"
     }
    },
    "d63a362c98174b8584a017be63dff4d6": {
     "model_module": "@jupyter-widgets/base",
     "model_module_version": "1.2.0",
     "model_name": "LayoutModel",
     "state": {
      "_model_module": "@jupyter-widgets/base",
      "_model_module_version": "1.2.0",
      "_model_name": "LayoutModel",
      "_view_count": null,
      "_view_module": "@jupyter-widgets/base",
      "_view_module_version": "1.2.0",
      "_view_name": "LayoutView",
      "align_content": null,
      "align_items": null,
      "align_self": null,
      "border": null,
      "bottom": null,
      "display": null,
      "flex": null,
      "flex_flow": null,
      "grid_area": null,
      "grid_auto_columns": null,
      "grid_auto_flow": null,
      "grid_auto_rows": null,
      "grid_column": null,
      "grid_gap": null,
      "grid_row": null,
      "grid_template_areas": null,
      "grid_template_columns": null,
      "grid_template_rows": null,
      "height": null,
      "justify_content": null,
      "justify_items": null,
      "left": null,
      "margin": null,
      "max_height": null,
      "max_width": null,
      "min_height": null,
      "min_width": null,
      "object_fit": null,
      "object_position": null,
      "order": null,
      "overflow": null,
      "overflow_x": null,
      "overflow_y": null,
      "padding": null,
      "right": null,
      "top": null,
      "visibility": "hidden",
      "width": null
     }
    },
    "d7399dbe6efd42da9dfc12733d0a96f6": {
     "model_module": "@jupyter-widgets/base",
     "model_module_version": "1.2.0",
     "model_name": "LayoutModel",
     "state": {
      "_model_module": "@jupyter-widgets/base",
      "_model_module_version": "1.2.0",
      "_model_name": "LayoutModel",
      "_view_count": null,
      "_view_module": "@jupyter-widgets/base",
      "_view_module_version": "1.2.0",
      "_view_name": "LayoutView",
      "align_content": null,
      "align_items": null,
      "align_self": null,
      "border": null,
      "bottom": null,
      "display": null,
      "flex": null,
      "flex_flow": null,
      "grid_area": null,
      "grid_auto_columns": null,
      "grid_auto_flow": null,
      "grid_auto_rows": null,
      "grid_column": null,
      "grid_gap": null,
      "grid_row": null,
      "grid_template_areas": null,
      "grid_template_columns": null,
      "grid_template_rows": null,
      "height": null,
      "justify_content": null,
      "justify_items": null,
      "left": null,
      "margin": null,
      "max_height": null,
      "max_width": null,
      "min_height": null,
      "min_width": null,
      "object_fit": null,
      "object_position": null,
      "order": null,
      "overflow": null,
      "overflow_x": null,
      "overflow_y": null,
      "padding": null,
      "right": null,
      "top": null,
      "visibility": "hidden",
      "width": null
     }
    },
    "d887adc2e29d4c588e6c12b4a42f5cfc": {
     "model_module": "@jupyter-widgets/base",
     "model_module_version": "1.2.0",
     "model_name": "LayoutModel",
     "state": {
      "_model_module": "@jupyter-widgets/base",
      "_model_module_version": "1.2.0",
      "_model_name": "LayoutModel",
      "_view_count": null,
      "_view_module": "@jupyter-widgets/base",
      "_view_module_version": "1.2.0",
      "_view_name": "LayoutView",
      "align_content": null,
      "align_items": null,
      "align_self": null,
      "border": null,
      "bottom": null,
      "display": null,
      "flex": null,
      "flex_flow": null,
      "grid_area": null,
      "grid_auto_columns": null,
      "grid_auto_flow": null,
      "grid_auto_rows": null,
      "grid_column": null,
      "grid_gap": null,
      "grid_row": null,
      "grid_template_areas": null,
      "grid_template_columns": null,
      "grid_template_rows": null,
      "height": null,
      "justify_content": null,
      "justify_items": null,
      "left": null,
      "margin": null,
      "max_height": null,
      "max_width": null,
      "min_height": null,
      "min_width": null,
      "object_fit": null,
      "object_position": null,
      "order": null,
      "overflow": null,
      "overflow_x": null,
      "overflow_y": null,
      "padding": null,
      "right": null,
      "top": null,
      "visibility": null,
      "width": null
     }
    },
    "d94c4bd20d404652a191ac1b304b7313": {
     "model_module": "@jupyter-widgets/base",
     "model_module_version": "1.2.0",
     "model_name": "LayoutModel",
     "state": {
      "_model_module": "@jupyter-widgets/base",
      "_model_module_version": "1.2.0",
      "_model_name": "LayoutModel",
      "_view_count": null,
      "_view_module": "@jupyter-widgets/base",
      "_view_module_version": "1.2.0",
      "_view_name": "LayoutView",
      "align_content": null,
      "align_items": null,
      "align_self": null,
      "border": null,
      "bottom": null,
      "display": null,
      "flex": null,
      "flex_flow": null,
      "grid_area": null,
      "grid_auto_columns": null,
      "grid_auto_flow": null,
      "grid_auto_rows": null,
      "grid_column": null,
      "grid_gap": null,
      "grid_row": null,
      "grid_template_areas": null,
      "grid_template_columns": null,
      "grid_template_rows": null,
      "height": null,
      "justify_content": null,
      "justify_items": null,
      "left": null,
      "margin": null,
      "max_height": null,
      "max_width": null,
      "min_height": null,
      "min_width": null,
      "object_fit": null,
      "object_position": null,
      "order": null,
      "overflow": null,
      "overflow_x": null,
      "overflow_y": null,
      "padding": null,
      "right": null,
      "top": null,
      "visibility": null,
      "width": null
     }
    },
    "da42b09c971942358374cfd6623e7487": {
     "model_module": "@jupyter-widgets/controls",
     "model_module_version": "1.5.0",
     "model_name": "FloatProgressModel",
     "state": {
      "_dom_classes": [],
      "_model_module": "@jupyter-widgets/controls",
      "_model_module_version": "1.5.0",
      "_model_name": "FloatProgressModel",
      "_view_count": null,
      "_view_module": "@jupyter-widgets/controls",
      "_view_module_version": "1.5.0",
      "_view_name": "ProgressView",
      "bar_style": "",
      "description": "",
      "description_tooltip": null,
      "layout": "IPY_MODEL_0516dafa0a86430fb580f28db624523e",
      "max": 1,
      "min": 0,
      "orientation": "horizontal",
      "style": "IPY_MODEL_31a9699723d544fdb6a37e29b542442b",
      "value": 1
     }
    },
    "db6389dec98f474899d6eefe2fc1da65": {
     "model_module": "@jupyter-widgets/controls",
     "model_module_version": "1.5.0",
     "model_name": "DescriptionStyleModel",
     "state": {
      "_model_module": "@jupyter-widgets/controls",
      "_model_module_version": "1.5.0",
      "_model_name": "DescriptionStyleModel",
      "_view_count": null,
      "_view_module": "@jupyter-widgets/base",
      "_view_module_version": "1.2.0",
      "_view_name": "StyleView",
      "description_width": ""
     }
    },
    "dc6982aed98f4c5483a510ef088a8612": {
     "model_module": "@jupyter-widgets/controls",
     "model_module_version": "1.5.0",
     "model_name": "HBoxModel",
     "state": {
      "_dom_classes": [],
      "_model_module": "@jupyter-widgets/controls",
      "_model_module_version": "1.5.0",
      "_model_name": "HBoxModel",
      "_view_count": null,
      "_view_module": "@jupyter-widgets/controls",
      "_view_module_version": "1.5.0",
      "_view_name": "HBoxView",
      "box_style": "",
      "children": [
       "IPY_MODEL_dfcfc29e2e064358bb8c81d3dd838a07",
       "IPY_MODEL_32151a5969db40288bb91d3ee0bcf20f",
       "IPY_MODEL_ccd4cfa8103e44cb93decde979f837c3"
      ],
      "layout": "IPY_MODEL_7caed954dbeb41d6ae98f1ed65ce3285"
     }
    },
    "df4b83f6a8c2444793d167e644eb6fed": {
     "model_module": "@jupyter-widgets/base",
     "model_module_version": "1.2.0",
     "model_name": "LayoutModel",
     "state": {
      "_model_module": "@jupyter-widgets/base",
      "_model_module_version": "1.2.0",
      "_model_name": "LayoutModel",
      "_view_count": null,
      "_view_module": "@jupyter-widgets/base",
      "_view_module_version": "1.2.0",
      "_view_name": "LayoutView",
      "align_content": null,
      "align_items": null,
      "align_self": null,
      "border": null,
      "bottom": null,
      "display": null,
      "flex": null,
      "flex_flow": null,
      "grid_area": null,
      "grid_auto_columns": null,
      "grid_auto_flow": null,
      "grid_auto_rows": null,
      "grid_column": null,
      "grid_gap": null,
      "grid_row": null,
      "grid_template_areas": null,
      "grid_template_columns": null,
      "grid_template_rows": null,
      "height": null,
      "justify_content": null,
      "justify_items": null,
      "left": null,
      "margin": null,
      "max_height": null,
      "max_width": null,
      "min_height": null,
      "min_width": null,
      "object_fit": null,
      "object_position": null,
      "order": null,
      "overflow": null,
      "overflow_x": null,
      "overflow_y": null,
      "padding": null,
      "right": null,
      "top": null,
      "visibility": null,
      "width": null
     }
    },
    "dfcfc29e2e064358bb8c81d3dd838a07": {
     "model_module": "@jupyter-widgets/controls",
     "model_module_version": "1.5.0",
     "model_name": "HTMLModel",
     "state": {
      "_dom_classes": [],
      "_model_module": "@jupyter-widgets/controls",
      "_model_module_version": "1.5.0",
      "_model_name": "HTMLModel",
      "_view_count": null,
      "_view_module": "@jupyter-widgets/controls",
      "_view_module_version": "1.5.0",
      "_view_name": "HTMLView",
      "description": "",
      "description_tooltip": null,
      "layout": "IPY_MODEL_1f14d446a83a46dba2223ea91f93f2a3",
      "placeholder": "​",
      "style": "IPY_MODEL_0894113001e54bffba9a3f7bc11f3f79",
      "value": "Training:  75%"
     }
    },
    "e08e98ec35064b7cb966b619edce913a": {
     "model_module": "@jupyter-widgets/controls",
     "model_module_version": "1.5.0",
     "model_name": "HTMLModel",
     "state": {
      "_dom_classes": [],
      "_model_module": "@jupyter-widgets/controls",
      "_model_module_version": "1.5.0",
      "_model_name": "HTMLModel",
      "_view_count": null,
      "_view_module": "@jupyter-widgets/controls",
      "_view_module_version": "1.5.0",
      "_view_name": "HTMLView",
      "description": "",
      "description_tooltip": null,
      "layout": "IPY_MODEL_5a6285b434da4841bddfb962330ddf98",
      "placeholder": "​",
      "style": "IPY_MODEL_e8046078674e4ea88deb6c4a225ace3d",
      "value": "Validation: 100%"
     }
    },
    "e0f62ccbc2f44259b10d01927f32b4f1": {
     "model_module": "@jupyter-widgets/controls",
     "model_module_version": "1.5.0",
     "model_name": "FloatProgressModel",
     "state": {
      "_dom_classes": [],
      "_model_module": "@jupyter-widgets/controls",
      "_model_module_version": "1.5.0",
      "_model_name": "FloatProgressModel",
      "_view_count": null,
      "_view_module": "@jupyter-widgets/controls",
      "_view_module_version": "1.5.0",
      "_view_name": "ProgressView",
      "bar_style": "",
      "description": "",
      "description_tooltip": null,
      "layout": "IPY_MODEL_b16857c786914a8c959eaba05bb9d5eb",
      "max": 1,
      "min": 0,
      "orientation": "horizontal",
      "style": "IPY_MODEL_731e15db8c644460a6cc5fd9b32e20f3",
      "value": 1
     }
    },
    "e222066063d5415aa792ee22043adc52": {
     "model_module": "@jupyter-widgets/controls",
     "model_module_version": "1.5.0",
     "model_name": "DescriptionStyleModel",
     "state": {
      "_model_module": "@jupyter-widgets/controls",
      "_model_module_version": "1.5.0",
      "_model_name": "DescriptionStyleModel",
      "_view_count": null,
      "_view_module": "@jupyter-widgets/base",
      "_view_module_version": "1.2.0",
      "_view_name": "StyleView",
      "description_width": ""
     }
    },
    "e58f1982a9d54041a5d7ad08f5d30f8b": {
     "model_module": "@jupyter-widgets/controls",
     "model_module_version": "1.5.0",
     "model_name": "DescriptionStyleModel",
     "state": {
      "_model_module": "@jupyter-widgets/controls",
      "_model_module_version": "1.5.0",
      "_model_name": "DescriptionStyleModel",
      "_view_count": null,
      "_view_module": "@jupyter-widgets/base",
      "_view_module_version": "1.2.0",
      "_view_name": "StyleView",
      "description_width": ""
     }
    },
    "e7825796b5c7464ebbfa4d73e45e86c4": {
     "model_module": "@jupyter-widgets/base",
     "model_module_version": "1.2.0",
     "model_name": "LayoutModel",
     "state": {
      "_model_module": "@jupyter-widgets/base",
      "_model_module_version": "1.2.0",
      "_model_name": "LayoutModel",
      "_view_count": null,
      "_view_module": "@jupyter-widgets/base",
      "_view_module_version": "1.2.0",
      "_view_name": "LayoutView",
      "align_content": null,
      "align_items": null,
      "align_self": null,
      "border": null,
      "bottom": null,
      "display": null,
      "flex": null,
      "flex_flow": null,
      "grid_area": null,
      "grid_auto_columns": null,
      "grid_auto_flow": null,
      "grid_auto_rows": null,
      "grid_column": null,
      "grid_gap": null,
      "grid_row": null,
      "grid_template_areas": null,
      "grid_template_columns": null,
      "grid_template_rows": null,
      "height": null,
      "justify_content": null,
      "justify_items": null,
      "left": null,
      "margin": null,
      "max_height": null,
      "max_width": null,
      "min_height": null,
      "min_width": null,
      "object_fit": null,
      "object_position": null,
      "order": null,
      "overflow": null,
      "overflow_x": null,
      "overflow_y": null,
      "padding": null,
      "right": null,
      "top": null,
      "visibility": null,
      "width": null
     }
    },
    "e7a307c5bb7b49989d4757e9e0c848fb": {
     "model_module": "@jupyter-widgets/controls",
     "model_module_version": "1.5.0",
     "model_name": "DescriptionStyleModel",
     "state": {
      "_model_module": "@jupyter-widgets/controls",
      "_model_module_version": "1.5.0",
      "_model_name": "DescriptionStyleModel",
      "_view_count": null,
      "_view_module": "@jupyter-widgets/base",
      "_view_module_version": "1.2.0",
      "_view_name": "StyleView",
      "description_width": ""
     }
    },
    "e8046078674e4ea88deb6c4a225ace3d": {
     "model_module": "@jupyter-widgets/controls",
     "model_module_version": "1.5.0",
     "model_name": "DescriptionStyleModel",
     "state": {
      "_model_module": "@jupyter-widgets/controls",
      "_model_module_version": "1.5.0",
      "_model_name": "DescriptionStyleModel",
      "_view_count": null,
      "_view_module": "@jupyter-widgets/base",
      "_view_module_version": "1.2.0",
      "_view_name": "StyleView",
      "description_width": ""
     }
    },
    "ea5f44653fda408691c0827f989eb8c9": {
     "model_module": "@jupyter-widgets/base",
     "model_module_version": "1.2.0",
     "model_name": "LayoutModel",
     "state": {
      "_model_module": "@jupyter-widgets/base",
      "_model_module_version": "1.2.0",
      "_model_name": "LayoutModel",
      "_view_count": null,
      "_view_module": "@jupyter-widgets/base",
      "_view_module_version": "1.2.0",
      "_view_name": "LayoutView",
      "align_content": null,
      "align_items": null,
      "align_self": null,
      "border": null,
      "bottom": null,
      "display": null,
      "flex": null,
      "flex_flow": null,
      "grid_area": null,
      "grid_auto_columns": null,
      "grid_auto_flow": null,
      "grid_auto_rows": null,
      "grid_column": null,
      "grid_gap": null,
      "grid_row": null,
      "grid_template_areas": null,
      "grid_template_columns": null,
      "grid_template_rows": null,
      "height": null,
      "justify_content": null,
      "justify_items": null,
      "left": null,
      "margin": null,
      "max_height": null,
      "max_width": null,
      "min_height": null,
      "min_width": null,
      "object_fit": null,
      "object_position": null,
      "order": null,
      "overflow": null,
      "overflow_x": null,
      "overflow_y": null,
      "padding": null,
      "right": null,
      "top": null,
      "visibility": null,
      "width": null
     }
    },
    "ec2ad721a3c8414b84295c0d638cb942": {
     "model_module": "@jupyter-widgets/controls",
     "model_module_version": "1.5.0",
     "model_name": "HTMLModel",
     "state": {
      "_dom_classes": [],
      "_model_module": "@jupyter-widgets/controls",
      "_model_module_version": "1.5.0",
      "_model_name": "HTMLModel",
      "_view_count": null,
      "_view_module": "@jupyter-widgets/controls",
      "_view_module_version": "1.5.0",
      "_view_name": "HTMLView",
      "description": "",
      "description_tooltip": null,
      "layout": "IPY_MODEL_a6521fb16ce84bce89da5092f5cd1e1f",
      "placeholder": "​",
      "style": "IPY_MODEL_db6389dec98f474899d6eefe2fc1da65",
      "value": "Indexing full_binary_alarm_clock.bin:  92%"
     }
    },
    "ed31e318306d4c9f8a5fcce9524e0af1": {
     "model_module": "@jupyter-widgets/base",
     "model_module_version": "1.2.0",
     "model_name": "LayoutModel",
     "state": {
      "_model_module": "@jupyter-widgets/base",
      "_model_module_version": "1.2.0",
      "_model_name": "LayoutModel",
      "_view_count": null,
      "_view_module": "@jupyter-widgets/base",
      "_view_module_version": "1.2.0",
      "_view_name": "LayoutView",
      "align_content": null,
      "align_items": null,
      "align_self": null,
      "border": null,
      "bottom": null,
      "display": null,
      "flex": null,
      "flex_flow": null,
      "grid_area": null,
      "grid_auto_columns": null,
      "grid_auto_flow": null,
      "grid_auto_rows": null,
      "grid_column": null,
      "grid_gap": null,
      "grid_row": null,
      "grid_template_areas": null,
      "grid_template_columns": null,
      "grid_template_rows": null,
      "height": null,
      "justify_content": null,
      "justify_items": null,
      "left": null,
      "margin": null,
      "max_height": null,
      "max_width": null,
      "min_height": null,
      "min_width": null,
      "object_fit": null,
      "object_position": null,
      "order": null,
      "overflow": null,
      "overflow_x": null,
      "overflow_y": null,
      "padding": null,
      "right": null,
      "top": null,
      "visibility": null,
      "width": null
     }
    },
    "eeb63b1cbbb74a3cb6e18a8645030377": {
     "model_module": "@jupyter-widgets/base",
     "model_module_version": "1.2.0",
     "model_name": "LayoutModel",
     "state": {
      "_model_module": "@jupyter-widgets/base",
      "_model_module_version": "1.2.0",
      "_model_name": "LayoutModel",
      "_view_count": null,
      "_view_module": "@jupyter-widgets/base",
      "_view_module_version": "1.2.0",
      "_view_name": "LayoutView",
      "align_content": null,
      "align_items": null,
      "align_self": null,
      "border": null,
      "bottom": null,
      "display": null,
      "flex": null,
      "flex_flow": null,
      "grid_area": null,
      "grid_auto_columns": null,
      "grid_auto_flow": null,
      "grid_auto_rows": null,
      "grid_column": null,
      "grid_gap": null,
      "grid_row": null,
      "grid_template_areas": null,
      "grid_template_columns": null,
      "grid_template_rows": null,
      "height": null,
      "justify_content": null,
      "justify_items": null,
      "left": null,
      "margin": null,
      "max_height": null,
      "max_width": null,
      "min_height": null,
      "min_width": null,
      "object_fit": null,
      "object_position": null,
      "order": null,
      "overflow": null,
      "overflow_x": null,
      "overflow_y": null,
      "padding": null,
      "right": null,
      "top": null,
      "visibility": "hidden",
      "width": null
     }
    },
    "ef78864943394abaa3918d661f222495": {
     "model_module": "@jupyter-widgets/controls",
     "model_module_version": "1.5.0",
     "model_name": "HTMLModel",
     "state": {
      "_dom_classes": [],
      "_model_module": "@jupyter-widgets/controls",
      "_model_module_version": "1.5.0",
      "_model_name": "HTMLModel",
      "_view_count": null,
      "_view_module": "@jupyter-widgets/controls",
      "_view_module_version": "1.5.0",
      "_view_name": "HTMLView",
      "description": "",
      "description_tooltip": null,
      "layout": "IPY_MODEL_a6bb717d1c5b40d2af89da811de0a88e",
      "placeholder": "​",
      "style": "IPY_MODEL_c20f15b0709a485a90c9f886fa4ab1ae",
      "value": " 1/1 [00:00&lt;00:00,  2.87it/s]"
     }
    },
    "f00157e7515f4c3988041164d597b731": {
     "model_module": "@jupyter-widgets/controls",
     "model_module_version": "1.5.0",
     "model_name": "DescriptionStyleModel",
     "state": {
      "_model_module": "@jupyter-widgets/controls",
      "_model_module_version": "1.5.0",
      "_model_name": "DescriptionStyleModel",
      "_view_count": null,
      "_view_module": "@jupyter-widgets/base",
      "_view_module_version": "1.2.0",
      "_view_name": "StyleView",
      "description_width": ""
     }
    },
    "f1c30020b8b34456b7f51466066f0b0c": {
     "model_module": "@jupyter-widgets/base",
     "model_module_version": "1.2.0",
     "model_name": "LayoutModel",
     "state": {
      "_model_module": "@jupyter-widgets/base",
      "_model_module_version": "1.2.0",
      "_model_name": "LayoutModel",
      "_view_count": null,
      "_view_module": "@jupyter-widgets/base",
      "_view_module_version": "1.2.0",
      "_view_name": "LayoutView",
      "align_content": null,
      "align_items": null,
      "align_self": null,
      "border": null,
      "bottom": null,
      "display": null,
      "flex": null,
      "flex_flow": null,
      "grid_area": null,
      "grid_auto_columns": null,
      "grid_auto_flow": null,
      "grid_auto_rows": null,
      "grid_column": null,
      "grid_gap": null,
      "grid_row": null,
      "grid_template_areas": null,
      "grid_template_columns": null,
      "grid_template_rows": null,
      "height": null,
      "justify_content": null,
      "justify_items": null,
      "left": null,
      "margin": null,
      "max_height": null,
      "max_width": null,
      "min_height": null,
      "min_width": null,
      "object_fit": null,
      "object_position": null,
      "order": null,
      "overflow": null,
      "overflow_x": null,
      "overflow_y": null,
      "padding": null,
      "right": null,
      "top": null,
      "visibility": null,
      "width": null
     }
    },
    "f222ef43b02d46bda59804aceadd57d5": {
     "model_module": "@jupyter-widgets/base",
     "model_module_version": "1.2.0",
     "model_name": "LayoutModel",
     "state": {
      "_model_module": "@jupyter-widgets/base",
      "_model_module_version": "1.2.0",
      "_model_name": "LayoutModel",
      "_view_count": null,
      "_view_module": "@jupyter-widgets/base",
      "_view_module_version": "1.2.0",
      "_view_name": "LayoutView",
      "align_content": null,
      "align_items": null,
      "align_self": null,
      "border": null,
      "bottom": null,
      "display": null,
      "flex": null,
      "flex_flow": null,
      "grid_area": null,
      "grid_auto_columns": null,
      "grid_auto_flow": null,
      "grid_auto_rows": null,
      "grid_column": null,
      "grid_gap": null,
      "grid_row": null,
      "grid_template_areas": null,
      "grid_template_columns": null,
      "grid_template_rows": null,
      "height": null,
      "justify_content": null,
      "justify_items": null,
      "left": null,
      "margin": null,
      "max_height": null,
      "max_width": null,
      "min_height": null,
      "min_width": null,
      "object_fit": null,
      "object_position": null,
      "order": null,
      "overflow": null,
      "overflow_x": null,
      "overflow_y": null,
      "padding": null,
      "right": null,
      "top": null,
      "visibility": null,
      "width": null
     }
    },
    "f2793f0831d64c06a288b4c5bef1e1a6": {
     "model_module": "@jupyter-widgets/controls",
     "model_module_version": "1.5.0",
     "model_name": "DescriptionStyleModel",
     "state": {
      "_model_module": "@jupyter-widgets/controls",
      "_model_module_version": "1.5.0",
      "_model_name": "DescriptionStyleModel",
      "_view_count": null,
      "_view_module": "@jupyter-widgets/base",
      "_view_module_version": "1.2.0",
      "_view_name": "StyleView",
      "description_width": ""
     }
    },
    "f2e0d5f6293c43ff97ef95caacba37c9": {
     "model_module": "@jupyter-widgets/base",
     "model_module_version": "1.2.0",
     "model_name": "LayoutModel",
     "state": {
      "_model_module": "@jupyter-widgets/base",
      "_model_module_version": "1.2.0",
      "_model_name": "LayoutModel",
      "_view_count": null,
      "_view_module": "@jupyter-widgets/base",
      "_view_module_version": "1.2.0",
      "_view_name": "LayoutView",
      "align_content": null,
      "align_items": null,
      "align_self": null,
      "border": null,
      "bottom": null,
      "display": null,
      "flex": null,
      "flex_flow": null,
      "grid_area": null,
      "grid_auto_columns": null,
      "grid_auto_flow": null,
      "grid_auto_rows": null,
      "grid_column": null,
      "grid_gap": null,
      "grid_row": null,
      "grid_template_areas": null,
      "grid_template_columns": null,
      "grid_template_rows": null,
      "height": null,
      "justify_content": null,
      "justify_items": null,
      "left": null,
      "margin": null,
      "max_height": null,
      "max_width": null,
      "min_height": null,
      "min_width": null,
      "object_fit": null,
      "object_position": null,
      "order": null,
      "overflow": null,
      "overflow_x": null,
      "overflow_y": null,
      "padding": null,
      "right": null,
      "top": null,
      "visibility": null,
      "width": null
     }
    },
    "f3059d6aa49541da92d7849e8ef2a607": {
     "model_module": "@jupyter-widgets/base",
     "model_module_version": "1.2.0",
     "model_name": "LayoutModel",
     "state": {
      "_model_module": "@jupyter-widgets/base",
      "_model_module_version": "1.2.0",
      "_model_name": "LayoutModel",
      "_view_count": null,
      "_view_module": "@jupyter-widgets/base",
      "_view_module_version": "1.2.0",
      "_view_name": "LayoutView",
      "align_content": null,
      "align_items": null,
      "align_self": null,
      "border": null,
      "bottom": null,
      "display": null,
      "flex": null,
      "flex_flow": null,
      "grid_area": null,
      "grid_auto_columns": null,
      "grid_auto_flow": null,
      "grid_auto_rows": null,
      "grid_column": null,
      "grid_gap": null,
      "grid_row": null,
      "grid_template_areas": null,
      "grid_template_columns": null,
      "grid_template_rows": null,
      "height": null,
      "justify_content": null,
      "justify_items": null,
      "left": null,
      "margin": null,
      "max_height": null,
      "max_width": null,
      "min_height": null,
      "min_width": null,
      "object_fit": null,
      "object_position": null,
      "order": null,
      "overflow": null,
      "overflow_x": null,
      "overflow_y": null,
      "padding": null,
      "right": null,
      "top": null,
      "visibility": "hidden",
      "width": null
     }
    },
    "f44f22a2ed5440b593a90a5da034dfbb": {
     "model_module": "@jupyter-widgets/controls",
     "model_module_version": "1.5.0",
     "model_name": "HTMLModel",
     "state": {
      "_dom_classes": [],
      "_model_module": "@jupyter-widgets/controls",
      "_model_module_version": "1.5.0",
      "_model_name": "HTMLModel",
      "_view_count": null,
      "_view_module": "@jupyter-widgets/controls",
      "_view_module_version": "1.5.0",
      "_view_name": "HTMLView",
      "description": "",
      "description_tooltip": null,
      "layout": "IPY_MODEL_df4b83f6a8c2444793d167e644eb6fed",
      "placeholder": "​",
      "style": "IPY_MODEL_03a06d005c494474be1b45f984ef0d0c",
      "value": "Indexing full_binary_The_Great_Wall_of_China.bin:  99%"
     }
    },
    "f466e3b9362a4ab6b1ac62d07493b663": {
     "model_module": "@jupyter-widgets/controls",
     "model_module_version": "1.5.0",
     "model_name": "HTMLModel",
     "state": {
      "_dom_classes": [],
      "_model_module": "@jupyter-widgets/controls",
      "_model_module_version": "1.5.0",
      "_model_name": "HTMLModel",
      "_view_count": null,
      "_view_module": "@jupyter-widgets/controls",
      "_view_module_version": "1.5.0",
      "_view_name": "HTMLView",
      "description": "",
      "description_tooltip": null,
      "layout": "IPY_MODEL_ca585efbc3c74b2e9fbe27eba446e59e",
      "placeholder": "​",
      "style": "IPY_MODEL_7b7fcc4cb338462e8bd1820d78e54f90",
      "value": "Counting category samples: 100%"
     }
    },
    "f496d2829331435484c9d0761b47657c": {
     "model_module": "@jupyter-widgets/controls",
     "model_module_version": "1.5.0",
     "model_name": "DescriptionStyleModel",
     "state": {
      "_model_module": "@jupyter-widgets/controls",
      "_model_module_version": "1.5.0",
      "_model_name": "DescriptionStyleModel",
      "_view_count": null,
      "_view_module": "@jupyter-widgets/base",
      "_view_module_version": "1.2.0",
      "_view_name": "StyleView",
      "description_width": ""
     }
    },
    "f4ec1852b8fa441e8eee284f0a88e1c2": {
     "model_module": "@jupyter-widgets/base",
     "model_module_version": "1.2.0",
     "model_name": "LayoutModel",
     "state": {
      "_model_module": "@jupyter-widgets/base",
      "_model_module_version": "1.2.0",
      "_model_name": "LayoutModel",
      "_view_count": null,
      "_view_module": "@jupyter-widgets/base",
      "_view_module_version": "1.2.0",
      "_view_name": "LayoutView",
      "align_content": null,
      "align_items": null,
      "align_self": null,
      "border": null,
      "bottom": null,
      "display": null,
      "flex": null,
      "flex_flow": null,
      "grid_area": null,
      "grid_auto_columns": null,
      "grid_auto_flow": null,
      "grid_auto_rows": null,
      "grid_column": null,
      "grid_gap": null,
      "grid_row": null,
      "grid_template_areas": null,
      "grid_template_columns": null,
      "grid_template_rows": null,
      "height": null,
      "justify_content": null,
      "justify_items": null,
      "left": null,
      "margin": null,
      "max_height": null,
      "max_width": null,
      "min_height": null,
      "min_width": null,
      "object_fit": null,
      "object_position": null,
      "order": null,
      "overflow": null,
      "overflow_x": null,
      "overflow_y": null,
      "padding": null,
      "right": null,
      "top": null,
      "visibility": null,
      "width": null
     }
    },
    "f56ffcb81e074bb8ada95655343996a6": {
     "model_module": "@jupyter-widgets/controls",
     "model_module_version": "1.5.0",
     "model_name": "HTMLModel",
     "state": {
      "_dom_classes": [],
      "_model_module": "@jupyter-widgets/controls",
      "_model_module_version": "1.5.0",
      "_model_name": "HTMLModel",
      "_view_count": null,
      "_view_module": "@jupyter-widgets/controls",
      "_view_module_version": "1.5.0",
      "_view_name": "HTMLView",
      "description": "",
      "description_tooltip": null,
      "layout": "IPY_MODEL_17b9fdeb951d42cb894f37cbe5c4605a",
      "placeholder": "​",
      "style": "IPY_MODEL_9ce4b93cdcaf4147a44d559b705bda3d",
      "value": " 20.2M/20.2M [00:00&lt;00:00, 49.5MiB/s]"
     }
    },
    "f64f83e2393140d39c1eec8cd33af8a6": {
     "model_module": "@jupyter-widgets/controls",
     "model_module_version": "1.5.0",
     "model_name": "FloatProgressModel",
     "state": {
      "_dom_classes": [],
      "_model_module": "@jupyter-widgets/controls",
      "_model_module_version": "1.5.0",
      "_model_name": "FloatProgressModel",
      "_view_count": null,
      "_view_module": "@jupyter-widgets/controls",
      "_view_module_version": "1.5.0",
      "_view_name": "ProgressView",
      "bar_style": "",
      "description": "",
      "description_tooltip": null,
      "layout": "IPY_MODEL_914234e4e9b04058b09bcc69c13810b6",
      "max": 1,
      "min": 0,
      "orientation": "horizontal",
      "style": "IPY_MODEL_09f499c6d9284ab79769b87955900bcd",
      "value": 1
     }
    },
    "fac37c1a132f47f7b02120d68f1422e6": {
     "model_module": "@jupyter-widgets/base",
     "model_module_version": "1.2.0",
     "model_name": "LayoutModel",
     "state": {
      "_model_module": "@jupyter-widgets/base",
      "_model_module_version": "1.2.0",
      "_model_name": "LayoutModel",
      "_view_count": null,
      "_view_module": "@jupyter-widgets/base",
      "_view_module_version": "1.2.0",
      "_view_name": "LayoutView",
      "align_content": null,
      "align_items": null,
      "align_self": null,
      "border": null,
      "bottom": null,
      "display": null,
      "flex": null,
      "flex_flow": null,
      "grid_area": null,
      "grid_auto_columns": null,
      "grid_auto_flow": null,
      "grid_auto_rows": null,
      "grid_column": null,
      "grid_gap": null,
      "grid_row": null,
      "grid_template_areas": null,
      "grid_template_columns": null,
      "grid_template_rows": null,
      "height": null,
      "justify_content": null,
      "justify_items": null,
      "left": null,
      "margin": null,
      "max_height": null,
      "max_width": null,
      "min_height": null,
      "min_width": null,
      "object_fit": null,
      "object_position": null,
      "order": null,
      "overflow": null,
      "overflow_x": null,
      "overflow_y": null,
      "padding": null,
      "right": null,
      "top": null,
      "visibility": "hidden",
      "width": null
     }
    },
    "fbb770bb27154738ab93e7b1ba14957d": {
     "model_module": "@jupyter-widgets/base",
     "model_module_version": "1.2.0",
     "model_name": "LayoutModel",
     "state": {
      "_model_module": "@jupyter-widgets/base",
      "_model_module_version": "1.2.0",
      "_model_name": "LayoutModel",
      "_view_count": null,
      "_view_module": "@jupyter-widgets/base",
      "_view_module_version": "1.2.0",
      "_view_name": "LayoutView",
      "align_content": null,
      "align_items": null,
      "align_self": null,
      "border": null,
      "bottom": null,
      "display": null,
      "flex": null,
      "flex_flow": null,
      "grid_area": null,
      "grid_auto_columns": null,
      "grid_auto_flow": null,
      "grid_auto_rows": null,
      "grid_column": null,
      "grid_gap": null,
      "grid_row": null,
      "grid_template_areas": null,
      "grid_template_columns": null,
      "grid_template_rows": null,
      "height": null,
      "justify_content": null,
      "justify_items": null,
      "left": null,
      "margin": null,
      "max_height": null,
      "max_width": null,
      "min_height": null,
      "min_width": null,
      "object_fit": null,
      "object_position": null,
      "order": null,
      "overflow": null,
      "overflow_x": null,
      "overflow_y": null,
      "padding": null,
      "right": null,
      "top": null,
      "visibility": null,
      "width": null
     }
    },
    "fc7978234e824d3fba1f988f202b68a6": {
     "model_module": "@jupyter-widgets/base",
     "model_module_version": "1.2.0",
     "model_name": "LayoutModel",
     "state": {
      "_model_module": "@jupyter-widgets/base",
      "_model_module_version": "1.2.0",
      "_model_name": "LayoutModel",
      "_view_count": null,
      "_view_module": "@jupyter-widgets/base",
      "_view_module_version": "1.2.0",
      "_view_name": "LayoutView",
      "align_content": null,
      "align_items": null,
      "align_self": null,
      "border": null,
      "bottom": null,
      "display": null,
      "flex": null,
      "flex_flow": null,
      "grid_area": null,
      "grid_auto_columns": null,
      "grid_auto_flow": null,
      "grid_auto_rows": null,
      "grid_column": null,
      "grid_gap": null,
      "grid_row": null,
      "grid_template_areas": null,
      "grid_template_columns": null,
      "grid_template_rows": null,
      "height": null,
      "justify_content": null,
      "justify_items": null,
      "left": null,
      "margin": null,
      "max_height": null,
      "max_width": null,
      "min_height": null,
      "min_width": null,
      "object_fit": null,
      "object_position": null,
      "order": null,
      "overflow": null,
      "overflow_x": null,
      "overflow_y": null,
      "padding": null,
      "right": null,
      "top": null,
      "visibility": null,
      "width": null
     }
    },
    "fd7343789eab47069b41ede00f6d4f59": {
     "model_module": "@jupyter-widgets/controls",
     "model_module_version": "1.5.0",
     "model_name": "HBoxModel",
     "state": {
      "_dom_classes": [],
      "_model_module": "@jupyter-widgets/controls",
      "_model_module_version": "1.5.0",
      "_model_name": "HBoxModel",
      "_view_count": null,
      "_view_module": "@jupyter-widgets/controls",
      "_view_module_version": "1.5.0",
      "_view_name": "HBoxView",
      "box_style": "",
      "children": [
       "IPY_MODEL_06a2fb3d003a43e7bb5631203206f1a2",
       "IPY_MODEL_373d629ff11d4a75ad421617e90086a3",
       "IPY_MODEL_9f95e2fdebef4e88b921a5df4fdb6edf"
      ],
      "layout": "IPY_MODEL_eeb63b1cbbb74a3cb6e18a8645030377"
     }
    },
    "fff3eef01dad473084fe667931b863ed": {
     "model_module": "@jupyter-widgets/controls",
     "model_module_version": "1.5.0",
     "model_name": "HTMLModel",
     "state": {
      "_dom_classes": [],
      "_model_module": "@jupyter-widgets/controls",
      "_model_module_version": "1.5.0",
      "_model_name": "HTMLModel",
      "_view_count": null,
      "_view_module": "@jupyter-widgets/controls",
      "_view_module_version": "1.5.0",
      "_view_name": "HTMLView",
      "description": "",
      "description_tooltip": null,
      "layout": "IPY_MODEL_abf86e6f1ac341d686e451f19409b8da",
      "placeholder": "​",
      "style": "IPY_MODEL_92c1da26273c47bc883d761724dc58c7",
      "value": " 11.0M/11.2M [00:00&lt;00:00, 12.1MB/s]"
     }
    }
   }
  }
 },
 "nbformat": 4,
 "nbformat_minor": 4
}
